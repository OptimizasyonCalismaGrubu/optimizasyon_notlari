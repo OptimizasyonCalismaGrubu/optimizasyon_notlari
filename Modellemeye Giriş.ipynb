{
 "cells": [
  {
   "cell_type": "markdown",
   "metadata": {},
   "source": [
    "# Modellemeye Giriş"
   ]
  },
  {
   "cell_type": "markdown",
   "metadata": {},
   "source": [
    "#### <em>İA<em/>"
   ]
  },
  {
   "cell_type": "markdown",
   "metadata": {},
   "source": [
    "Matematiksel modellerin amacı temel olarak gerçek dünyayı açıklamaktır."
   ]
  },
  {
   "cell_type": "markdown",
   "metadata": {},
   "source": [
    "### Tanımlayıcı Modeller/Optimizasyon Modelleri"
   ]
  },
  {
   "cell_type": "markdown",
   "metadata": {},
   "source": [
    "Tanımlayıcı modeller, bir organizasyonun amacı/amaçlarıyla buluşabilmesi için davranışlarını \"tanımlayan\" modellerdir"
   ]
  },
  {
   "cell_type": "markdown",
   "metadata": {},
   "source": [
    "Descriptive (Açıklayıcı) Modellerde sistemin yapısını anlamak için genellikle İstatistik alanından yararlanılır fakat sistemin anlaşılmasında çok faydalı olmaz. "
   ]
  },
  {
   "cell_type": "markdown",
   "metadata": {},
   "source": [
    " Predictive modellerde ise geleceğin tahmin edilebilmesi bakımından Machine Learning'e başvurulur. Contraints'ler (kısıtlarımız) belli olmadığında verileri belirlemekte yardımcı olabilir."
   ]
  },
  {
   "cell_type": "markdown",
   "metadata": {},
   "source": [
    "Prescriptive (Tanımlayıcı) Modeller ise optimizasyon modelleridir. Sistemin amacı doğrultusunda kısıtları kullanır."
   ]
  },
  {
   "cell_type": "markdown",
   "metadata": {},
   "source": [
    "### Amaç Fonksiyonu"
   ]
  },
  {
   "cell_type": "markdown",
   "metadata": {},
   "source": [
    "Feasible Region (Fizibil Bölge), elimizdeki kısıtları ele aldığımızda bu kısıtları karşılayan bölgedir. Optimal nokta ise bu bölgede amaç fonksiyonunu maksimize edecek noktadır."
   ]
  },
  {
   "cell_type": "markdown",
   "metadata": {},
   "source": [
    "### 1.1 Örnek Model (Daisy Firması Wozac Ürünü)"
   ]
  },
  {
   "cell_type": "code",
   "execution_count": null,
   "metadata": {},
   "outputs": [],
   "source": [
    "\"\"\"\n",
    "T-Temperature\n",
    "P-Pressure\n",
    "V-Volume\n",
    "A,B,C-Mixtures\n",
    "\n",
    "\"\"\""
   ]
  },
  {
   "cell_type": "code",
   "execution_count": 17,
   "metadata": {},
   "outputs": [],
   "source": [
    "def objfunc1(V,T,P,A,B,C):\n",
    "    return 300+0.8*V+0.01*P+0.06*T+0.001*T*P-0.01*T*T-0.001*P*P+11.7*A+9.4*B+16.4*C+19*A*B+11.4*A*C-9.6*B*C"
   ]
  },
  {
   "cell_type": "code",
   "execution_count": 23,
   "metadata": {},
   "outputs": [],
   "source": [
    "def checkFeasible(V,T,P,A,B,C):\n",
    "    meets_constraints = (\n",
    "                         V <= 5 and \n",
    "                         V>=1 and \n",
    "                         P<=400 and \n",
    "                         P>=200 and \n",
    "                         T<=200 and \n",
    "                         T>=100 and \n",
    "                         A>=0 and \n",
    "                         B>=0 and \n",
    "                         C>=0 and \n",
    "                         (A+B+C == 1) and \n",
    "                         A<=5\n",
    "                        )\n",
    "    \n",
    "    return meets_constraints"
   ]
  },
  {
   "cell_type": "code",
   "execution_count": 19,
   "metadata": {},
   "outputs": [
    {
     "name": "stdout",
     "output_type": "stream",
     "text": [
      "Fizibil : True\n"
     ]
    }
   ],
   "source": [
    "print(\"Fizibil :\",checkFeasible(5,100,200,0.294,0,0.706))"
   ]
  },
  {
   "cell_type": "code",
   "execution_count": 20,
   "metadata": {},
   "outputs": [
    {
     "name": "stdout",
     "output_type": "stream",
     "text": [
      "Amaç Fonksiyonu =  209.38442959999998\n"
     ]
    }
   ],
   "source": [
    "print(\"Amaç Fonksiyonu = \",objfunc1(5,100,200,0.294,0,0.706))"
   ]
  },
  {
   "cell_type": "markdown",
   "metadata": {},
   "source": [
    "### Statik ve Dinamik Modeller"
   ]
  },
  {
   "cell_type": "markdown",
   "metadata": {},
   "source": [
    "Statik modeller belirli periyodlarda karar verilmesini gerektirmez, bir kez model çözüldüyse tekrar çözülmesine genellikle gerek olmaz"
   ]
  },
  {
   "cell_type": "markdown",
   "metadata": {},
   "source": [
    "### Lineer ve Lineer Olmayan Modeller"
   ]
  },
  {
   "cell_type": "markdown",
   "metadata": {},
   "source": [
    "Karar değişkenleri kendi aralarında veya sabit katsayılarla çarpıldığında <u>Lineer Modeller</u> elde edilir. Lineer olmayan modellerde türev ve integralden yararlanılır, iki ve ikiden fazla dereceye sahip denklemlerdir."
   ]
  },
  {
   "cell_type": "markdown",
   "metadata": {},
   "source": [
    "### Tam Sayı ve Tam Sayı Olmayan Modeller"
   ]
  },
  {
   "cell_type": "markdown",
   "metadata": {},
   "source": [
    "Tam sayı olan modeller tam sayı olmayan modellere göre çözülmesi daha zordur. Çünkü kısıt sayısı daha fazladır."
   ]
  },
  {
   "cell_type": "markdown",
   "metadata": {},
   "source": [
    "<u>Çözülmesi zor modeller</u> : Dinamik, lineer olmayan ve tam sayı modeller"
   ]
  },
  {
   "cell_type": "markdown",
   "metadata": {},
   "source": [
    "### Örnek 1.2"
   ]
  },
  {
   "cell_type": "markdown",
   "metadata": {},
   "source": [
    "Starbucks'ta sabah 08.00 ile akşam 18.00 arasında kaç kişinin çalışması gerektiğini Beşiktaş şubesi için hesaplarsak, oluşturacağımız modeli nasıl sınıflandırırız?"
   ]
  },
  {
   "cell_type": "markdown",
   "metadata": {},
   "source": [
    "#### Çalışan Sayısını Etkileyebilecek Faktörler (Değişkenler)\n",
    "1.Çalışılan alanın büyüklüğü<br>\n",
    "2.Müşterilerin içeride geçirdikleri süre<br>\n",
    "3.Çalışanlara yapılacak olan ödeme miktarı<br>\n",
    "4.Çalışanların part-time/full-time çalışması<br>\n",
    "5.Müşteri Sayısı"
   ]
  },
  {
   "cell_type": "markdown",
   "metadata": {},
   "source": [
    "<u><i>Sistem, değişkenleri düzenli olarak değiştiği için Dinamik Model sınıfına girer</i></u>"
   ]
  },
  {
   "cell_type": "markdown",
   "metadata": {},
   "source": [
    "<strong>Amaçlar :  </strong><br>A) Çalışan sayısını minimize etmek<br>B) Satış miktarını maksimize etmek<br><br>\n",
    "<strong>Amaç <i>(MAKS)</i> = </strong> - Ödeme * Çalışan Sayısı + kar * müşteri\n",
    "\n",
    "<u><i>Amaç fonksiyonunun bu şekilde olduğunu varsayarsak modelin lineer olduğunu söyleyebiliriz </i></u>"
   ]
  },
  {
   "cell_type": "markdown",
   "metadata": {},
   "source": [
    "#### İlişkiler:\n",
    "1.Müşteri sayısı arttıkça çalışan sayısı artar.\n",
    "\n",
    "Örneğin, \n",
    "(çalışan sayısı) - (müşteri sayısı) * kar = 0\n",
    "\n",
    "\n",
    "\n"
   ]
  },
  {
   "cell_type": "markdown",
   "metadata": {},
   "source": [
    "<i><u>Müşteri sayısı kontrol edilemeyen bir değişkendir. Bu yüzden kullanacağımız model predictive (öngörülebilen) bir modeldir.</u></i>"
   ]
  },
  {
   "cell_type": "markdown",
   "metadata": {},
   "source": [
    "<i><u>Müşteri sayısı sabitse deterministik, bir dağılıma sahipse stokastik bir modeldir.</u><i>"
   ]
  },
  {
   "cell_type": "markdown",
   "metadata": {},
   "source": [
    "<u><i>Müşteri sayısı ve çalışan sayısı tam sayı cinsinden elde edildiğinden tam sayı modelidir.</i></u>"
   ]
  },
  {
   "cell_type": "markdown",
   "metadata": {},
   "source": [
    "#### Modellemenin 7 Adımı\n"
   ]
  },
  {
   "cell_type": "markdown",
   "metadata": {},
   "source": [
    "1. Problemin Formülasyonu\n",
    "2. Sistemin Gözlemlenmesi\n",
    "3. Problemin Matematiksel Model olarak Formülasyonu\n",
    "4. Modelin Doğrulanması ve Tahmin Amaçlı Kullanımı\n",
    "5. Uygun Alternatifin Seçimi\n",
    "6. Sonuçların Sunulması ve Organizasyon Çalışmasının Sonucu\n",
    "7. Yerleştirme ve Önerilerin Değerlendirilmesi"
   ]
  },
  {
   "cell_type": "code",
   "execution_count": null,
   "metadata": {},
   "outputs": [],
   "source": []
  }
 ],
 "metadata": {
  "kernelspec": {
   "display_name": "Python 3",
   "language": "python",
   "name": "python3"
  },
  "language_info": {
   "codemirror_mode": {
    "name": "ipython",
    "version": 3
   },
   "file_extension": ".py",
   "mimetype": "text/x-python",
   "name": "python",
   "nbconvert_exporter": "python",
   "pygments_lexer": "ipython3",
   "version": "3.7.4"
  },
  "toc": {
   "base_numbering": 1,
   "nav_menu": {},
   "number_sections": true,
   "sideBar": true,
   "skip_h1_title": false,
   "title_cell": "Table of Contents",
   "title_sidebar": "Contents",
   "toc_cell": false,
   "toc_position": {},
   "toc_section_display": true,
   "toc_window_display": false
  },
  "varInspector": {
   "cols": {
    "lenName": 16,
    "lenType": 16,
    "lenVar": 40
   },
   "kernels_config": {
    "python": {
     "delete_cmd_postfix": "",
     "delete_cmd_prefix": "del ",
     "library": "var_list.py",
     "varRefreshCmd": "print(var_dic_list())"
    },
    "r": {
     "delete_cmd_postfix": ") ",
     "delete_cmd_prefix": "rm(",
     "library": "var_list.r",
     "varRefreshCmd": "cat(var_dic_list()) "
    }
   },
   "types_to_exclude": [
    "module",
    "function",
    "builtin_function_or_method",
    "instance",
    "_Feature"
   ],
   "window_display": false
  }
 },
 "nbformat": 4,
 "nbformat_minor": 2
}
