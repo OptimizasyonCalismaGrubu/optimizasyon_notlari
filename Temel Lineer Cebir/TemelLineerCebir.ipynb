{
 "cells": [
  {
   "cell_type": "markdown",
   "metadata": {},
   "source": [
    "<h1>Temel Lineer Cebir</h1>"
   ]
  },
  {
   "cell_type": "markdown",
   "metadata": {},
   "source": [
    "<u><strong>01.02.2020</strong></u>"
   ]
  },
  {
   "cell_type": "code",
   "execution_count": 3,
   "metadata": {},
   "outputs": [],
   "source": [
    "import pandas as pd\n",
    "import numpy as np"
   ]
  },
  {
   "cell_type": "code",
   "execution_count": 6,
   "metadata": {},
   "outputs": [],
   "source": [
    "A = np.array([[1,1,2],[2,1,3]])\n",
    "B = np.array([[1,1],[2,3],[1,2]])"
   ]
  },
  {
   "cell_type": "code",
   "execution_count": 12,
   "metadata": {},
   "outputs": [
    {
     "name": "stdout",
     "output_type": "stream",
     "text": [
      "C = AB\n",
      "= [[ 5  8]\n",
      " [ 7 11]]\n"
     ]
    }
   ],
   "source": [
    "print(\"C = AB\\n=\",np.dot(A,B))"
   ]
  },
  {
   "cell_type": "code",
   "execution_count": 45,
   "metadata": {},
   "outputs": [],
   "source": [
    "def VektorelCarpim(A,B):\n",
    "    try:\n",
    "        return np.dot(A,B)\n",
    "    except:\n",
    "        print(\"Vektorel Carpim Yapilamiyor!..(Boyut Uyuşmazlığı)\")"
   ]
  },
  {
   "cell_type": "code",
   "execution_count": 46,
   "metadata": {},
   "outputs": [
    {
     "name": "stdout",
     "output_type": "stream",
     "text": [
      "Vektorel Carpim Sonucu (AB) = \n",
      " [[3 6]\n",
      " [4 8]]\n"
     ]
    }
   ],
   "source": [
    "print(\"Vektorel Carpim Sonucu (AB) = \\n\",VektorelCarpim(np.array([[3],[4]]),np.array([[1,2]])))"
   ]
  },
  {
   "cell_type": "code",
   "execution_count": 47,
   "metadata": {},
   "outputs": [
    {
     "name": "stdout",
     "output_type": "stream",
     "text": [
      "Vektorel Carpim Sonucu (BA) = \n",
      " [11]\n"
     ]
    }
   ],
   "source": [
    "print(\"Vektorel Carpim Sonucu (BA) = \\n\",VektorelCarpim(np.array([1,2]),np.array([[3],[4]])))"
   ]
  },
  {
   "cell_type": "code",
   "execution_count": 48,
   "metadata": {},
   "outputs": [
    {
     "name": "stdout",
     "output_type": "stream",
     "text": [
      "Vektorel Carpim Yapilamiyor!..(Boyut Uyuşmazlığı)\n"
     ]
    }
   ],
   "source": [
    "A = np.array([[1,2],[3,4]])\n",
    "B = np.array([[1,1],[0,1],[1,2]])\n",
    "VektorelCarpim(A,B)\n"
   ]
  },
  {
   "cell_type": "markdown",
   "metadata": {},
   "source": [
    "<h3>Örnek 1.1</h3>"
   ]
  },
  {
   "cell_type": "code",
   "execution_count": 54,
   "metadata": {},
   "outputs": [],
   "source": [
    "c1 = np.array([3/4,2/3,1/4]) #Ham Petrol 1\n",
    "c2 = np.array([1/4,1/3,3/4]) #Ham Petrol 2\n",
    "c = np.array([c1,c2]) #Gerekli Ham Petroller"
   ]
  },
  {
   "cell_type": "code",
   "execution_count": 57,
   "metadata": {},
   "outputs": [
    {
     "data": {
      "text/plain": [
       "array([[10],\n",
       "       [ 6],\n",
       "       [ 5]])"
      ]
     },
     "execution_count": 57,
     "metadata": {},
     "output_type": "execute_result"
    }
   ],
   "source": [
    "pu = 10\n",
    "ru = 6\n",
    "rl =5\n",
    "arr = np.array([[pu],[ru],[rl]])\n",
    "arr\n",
    "\n"
   ]
  },
  {
   "cell_type": "code",
   "execution_count": 59,
   "metadata": {},
   "outputs": [
    {
     "name": "stdout",
     "output_type": "stream",
     "text": [
      "Gallons Required = \n",
      " [[12.75]\n",
      " [ 8.25]]\n"
     ]
    }
   ],
   "source": [
    "print(\"Gallons Required = \\n\",VektorelCarpim(c,arr))"
   ]
  },
  {
   "cell_type": "code",
   "execution_count": 62,
   "metadata": {
    "scrolled": true
   },
   "outputs": [
    {
     "data": {
      "text/html": [
       "<div>\n",
       "<style scoped>\n",
       "    .dataframe tbody tr th:only-of-type {\n",
       "        vertical-align: middle;\n",
       "    }\n",
       "\n",
       "    .dataframe tbody tr th {\n",
       "        vertical-align: top;\n",
       "    }\n",
       "\n",
       "    .dataframe thead th {\n",
       "        text-align: right;\n",
       "    }\n",
       "</style>\n",
       "<table border=\"1\" class=\"dataframe\">\n",
       "  <thead>\n",
       "    <tr style=\"text-align: right;\">\n",
       "      <th></th>\n",
       "      <th>Crude 1</th>\n",
       "      <th>Crude 2</th>\n",
       "    </tr>\n",
       "  </thead>\n",
       "  <tbody>\n",
       "    <tr>\n",
       "      <th>0</th>\n",
       "      <td>0.750000</td>\n",
       "      <td>0.250000</td>\n",
       "    </tr>\n",
       "    <tr>\n",
       "      <th>1</th>\n",
       "      <td>0.666667</td>\n",
       "      <td>0.333333</td>\n",
       "    </tr>\n",
       "    <tr>\n",
       "      <th>2</th>\n",
       "      <td>0.250000</td>\n",
       "      <td>0.750000</td>\n",
       "    </tr>\n",
       "  </tbody>\n",
       "</table>\n",
       "</div>"
      ],
      "text/plain": [
       "    Crude 1   Crude 2\n",
       "0  0.750000  0.250000\n",
       "1  0.666667  0.333333\n",
       "2  0.250000  0.750000"
      ]
     },
     "execution_count": 62,
     "metadata": {},
     "output_type": "execute_result"
    }
   ],
   "source": [
    "df = pd.DataFrame({\n",
    "    \"Crude 1\" : c1,\n",
    "    \"Crude 2\" : c2,\n",
    "})\n",
    "df"
   ]
  },
  {
   "cell_type": "markdown",
   "metadata": {},
   "source": [
    "<h2>Matris Çarpımının Özellikleri</h2>"
   ]
  },
  {
   "cell_type": "markdown",
   "metadata": {},
   "source": [
    "<strong><u>Kural 1 :</u></strong> 1.Matrisin 1.Satırı x 2.Matris = (1.Matris x 2.Matris) sonucunun 1. Satırı"
   ]
  },
  {
   "cell_type": "code",
   "execution_count": 68,
   "metadata": {},
   "outputs": [],
   "source": [
    "A = np.array([[1,1,2],[2,1,3]])\n",
    "B = np.array([[1,1],[2,3],[1,2]])\n"
   ]
  },
  {
   "cell_type": "code",
   "execution_count": 71,
   "metadata": {},
   "outputs": [],
   "source": [
    "arg1 = VektorelCarpim(A[0],B)"
   ]
  },
  {
   "cell_type": "code",
   "execution_count": 72,
   "metadata": {},
   "outputs": [],
   "source": [
    "arg2 = (VektorelCarpim(A,B))[0]"
   ]
  },
  {
   "cell_type": "code",
   "execution_count": 73,
   "metadata": {},
   "outputs": [
    {
     "data": {
      "text/plain": [
       "array([ True,  True])"
      ]
     },
     "execution_count": 73,
     "metadata": {},
     "output_type": "execute_result"
    }
   ],
   "source": [
    "arg1 == arg2"
   ]
  },
  {
   "cell_type": "markdown",
   "metadata": {},
   "source": [
    "<strong><u>Kural 2 :</u></strong> 1.Matris x 2.Matrisin 1.Sütunu = (1.Matris x 2.Matris) sonucunun 1. Sütununu verir"
   ]
  },
  {
   "cell_type": "code",
   "execution_count": 88,
   "metadata": {},
   "outputs": [],
   "source": [
    "arg3 = VektorelCarpim(A,B[:,0])\n",
    "arg4 = (VektorelCarpim(A,B))[:,0]"
   ]
  },
  {
   "cell_type": "code",
   "execution_count": 90,
   "metadata": {},
   "outputs": [
    {
     "data": {
      "text/plain": [
       "array([ True,  True])"
      ]
     },
     "execution_count": 90,
     "metadata": {},
     "output_type": "execute_result"
    }
   ],
   "source": [
    "arg3 == arg4"
   ]
  },
  {
   "cell_type": "markdown",
   "metadata": {},
   "source": [
    "<strong><u>3. Kural :</u></strong> A(BC) = (AB)C"
   ]
  },
  {
   "cell_type": "code",
   "execution_count": 93,
   "metadata": {},
   "outputs": [],
   "source": [
    "A = [1,2]\n",
    "B = [[2,3],[4,5]]\n",
    "C = [[2],[1]]"
   ]
  },
  {
   "cell_type": "code",
   "execution_count": 94,
   "metadata": {},
   "outputs": [],
   "source": [
    "arg5 = VektorelCarpim(A,VektorelCarpim(B,C))\n",
    "arg6 = VektorelCarpim(VektorelCarpim(A,B),C)"
   ]
  },
  {
   "cell_type": "code",
   "execution_count": 96,
   "metadata": {},
   "outputs": [
    {
     "data": {
      "text/plain": [
       "array([ True])"
      ]
     },
     "execution_count": 96,
     "metadata": {},
     "output_type": "execute_result"
    }
   ],
   "source": [
    "arg5 == arg6"
   ]
  },
  {
   "cell_type": "code",
   "execution_count": null,
   "metadata": {},
   "outputs": [],
   "source": []
  }
 ],
 "metadata": {
  "kernelspec": {
   "display_name": "Python 3",
   "language": "python",
   "name": "python3"
  },
  "language_info": {
   "codemirror_mode": {
    "name": "ipython",
    "version": 3
   },
   "file_extension": ".py",
   "mimetype": "text/x-python",
   "name": "python",
   "nbconvert_exporter": "python",
   "pygments_lexer": "ipython3",
   "version": "3.7.1"
  }
 },
 "nbformat": 4,
 "nbformat_minor": 2
}
