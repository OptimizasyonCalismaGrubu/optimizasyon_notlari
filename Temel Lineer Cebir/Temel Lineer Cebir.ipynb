{
 "cells": [
  {
   "cell_type": "code",
   "execution_count": 1,
   "metadata": {
    "ExecuteTime": {
     "end_time": "2020-05-23T13:09:54.693208Z",
     "start_time": "2020-05-23T13:09:54.680173Z"
    }
   },
   "outputs": [
    {
     "data": {
      "text/html": [
       "<style>.container { width:100% !important; }</style>"
      ],
      "text/plain": [
       "<IPython.core.display.HTML object>"
      ]
     },
     "metadata": {},
     "output_type": "display_data"
    }
   ],
   "source": [
    "from IPython.core.display import display, HTML\n",
    "display(HTML(\"<style>.container { width:100% !important; }</style>\"))"
   ]
  },
  {
   "cell_type": "code",
   "execution_count": 3,
   "metadata": {
    "ExecuteTime": {
     "end_time": "2020-05-23T13:12:54.769228Z",
     "start_time": "2020-05-23T13:12:52.773924Z"
    },
    "pycharm": {
     "is_executing": false
    }
   },
   "outputs": [],
   "source": [
    "import pandas as pd\n",
    "import numpy as np\n",
    "import matplotlib.pyplot as plt"
   ]
  },
  {
   "cell_type": "code",
   "execution_count": 92,
   "metadata": {
    "ExecuteTime": {
     "end_time": "2020-02-15T14:26:37.063017Z",
     "start_time": "2020-02-15T14:26:37.053993Z"
    },
    "pycharm": {
     "is_executing": false
    }
   },
   "outputs": [],
   "source": [
    "v1=[1,3]"
   ]
  },
  {
   "cell_type": "code",
   "execution_count": 93,
   "metadata": {
    "ExecuteTime": {
     "end_time": "2020-02-15T14:26:37.075083Z",
     "start_time": "2020-02-15T14:26:37.064020Z"
    },
    "pycharm": {
     "is_executing": false
    }
   },
   "outputs": [],
   "source": [
    "v2=[2,4]"
   ]
  },
  {
   "cell_type": "code",
   "execution_count": 94,
   "metadata": {
    "ExecuteTime": {
     "end_time": "2020-02-15T14:26:37.087114Z",
     "start_time": "2020-02-15T14:26:37.076051Z"
    },
    "pycharm": {
     "is_executing": false
    }
   },
   "outputs": [],
   "source": [
    "matrix=[v1,v2]"
   ]
  },
  {
   "cell_type": "code",
   "execution_count": 95,
   "metadata": {
    "ExecuteTime": {
     "end_time": "2020-02-15T14:26:37.102190Z",
     "start_time": "2020-02-15T14:26:37.088082Z"
    },
    "pycharm": {
     "is_executing": false
    }
   },
   "outputs": [
    {
     "data": {
      "text/plain": [
       "[[1, 3], [2, 4]]"
      ]
     },
     "execution_count": 95,
     "metadata": {},
     "output_type": "execute_result"
    }
   ],
   "source": [
    "matrix"
   ]
  },
  {
   "cell_type": "code",
   "execution_count": 96,
   "metadata": {
    "ExecuteTime": {
     "end_time": "2020-02-15T14:26:37.115260Z",
     "start_time": "2020-02-15T14:26:37.103670Z"
    },
    "pycharm": {
     "is_executing": false
    }
   },
   "outputs": [
    {
     "data": {
      "text/plain": [
       "(2, 2)"
      ]
     },
     "execution_count": 96,
     "metadata": {},
     "output_type": "execute_result"
    }
   ],
   "source": [
    "np.array(matrix).shape"
   ]
  },
  {
   "cell_type": "code",
   "execution_count": 97,
   "metadata": {
    "ExecuteTime": {
     "end_time": "2020-02-15T14:26:37.128262Z",
     "start_time": "2020-02-15T14:26:37.116228Z"
    },
    "lines_to_next_cell": 2,
    "pycharm": {
     "is_executing": false
    }
   },
   "outputs": [
    {
     "data": {
      "text/html": [
       "<div>\n",
       "<style scoped>\n",
       "    .dataframe tbody tr th:only-of-type {\n",
       "        vertical-align: middle;\n",
       "    }\n",
       "\n",
       "    .dataframe tbody tr th {\n",
       "        vertical-align: top;\n",
       "    }\n",
       "\n",
       "    .dataframe thead th {\n",
       "        text-align: right;\n",
       "    }\n",
       "</style>\n",
       "<table border=\"1\" class=\"dataframe\">\n",
       "  <thead>\n",
       "    <tr style=\"text-align: right;\">\n",
       "      <th></th>\n",
       "      <th>0</th>\n",
       "      <th>1</th>\n",
       "    </tr>\n",
       "  </thead>\n",
       "  <tbody>\n",
       "    <tr>\n",
       "      <th>0</th>\n",
       "      <td>1</td>\n",
       "      <td>3</td>\n",
       "    </tr>\n",
       "    <tr>\n",
       "      <th>1</th>\n",
       "      <td>2</td>\n",
       "      <td>4</td>\n",
       "    </tr>\n",
       "  </tbody>\n",
       "</table>\n",
       "</div>"
      ],
      "text/plain": [
       "   0  1\n",
       "0  1  3\n",
       "1  2  4"
      ]
     },
     "execution_count": 97,
     "metadata": {},
     "output_type": "execute_result"
    }
   ],
   "source": [
    "pd.DataFrame(np.array(matrix) )"
   ]
  },
  {
   "cell_type": "markdown",
   "metadata": {},
   "source": [
    "#  Matris ve Vektör\n"
   ]
  },
  {
   "cell_type": "code",
   "execution_count": 98,
   "metadata": {
    "ExecuteTime": {
     "end_time": "2020-02-15T14:26:37.138289Z",
     "start_time": "2020-02-15T14:26:37.130265Z"
    },
    "pycharm": {
     "is_executing": false
    }
   },
   "outputs": [
    {
     "data": {
      "text/plain": [
       "1"
      ]
     },
     "execution_count": 98,
     "metadata": {},
     "output_type": "execute_result"
    }
   ],
   "source": [
    "1 #Scalar"
   ]
  },
  {
   "cell_type": "code",
   "execution_count": 99,
   "metadata": {
    "ExecuteTime": {
     "end_time": "2020-02-15T14:26:37.148313Z",
     "start_time": "2020-02-15T14:26:37.140293Z"
    },
    "pycharm": {
     "is_executing": false
    }
   },
   "outputs": [
    {
     "data": {
      "text/plain": [
       "[1]"
      ]
     },
     "execution_count": 99,
     "metadata": {},
     "output_type": "execute_result"
    }
   ],
   "source": [
    "[1] # Vektör"
   ]
  },
  {
   "cell_type": "code",
   "execution_count": 100,
   "metadata": {
    "ExecuteTime": {
     "end_time": "2020-02-15T14:26:37.158341Z",
     "start_time": "2020-02-15T14:26:37.149315Z"
    },
    "pycharm": {
     "is_executing": false
    }
   },
   "outputs": [
    {
     "data": {
      "text/plain": [
       "[1, 1]"
      ]
     },
     "execution_count": 100,
     "metadata": {},
     "output_type": "execute_result"
    }
   ],
   "source": [
    "[1,1] # Vektör 1,2"
   ]
  },
  {
   "cell_type": "code",
   "execution_count": 101,
   "metadata": {
    "ExecuteTime": {
     "end_time": "2020-02-15T14:26:37.168367Z",
     "start_time": "2020-02-15T14:26:37.159343Z"
    },
    "pycharm": {
     "is_executing": false
    }
   },
   "outputs": [
    {
     "data": {
      "text/plain": [
       "[[1, 1], [1, 1]]"
      ]
     },
     "execution_count": 101,
     "metadata": {},
     "output_type": "execute_result"
    }
   ],
   "source": [
    "[[1,1],[1,1]] # Matris 2,2"
   ]
  },
  {
   "cell_type": "code",
   "execution_count": 102,
   "metadata": {
    "ExecuteTime": {
     "end_time": "2020-02-15T14:26:37.176388Z",
     "start_time": "2020-02-15T14:26:37.169369Z"
    },
    "lines_to_next_cell": 2,
    "pycharm": {
     "is_executing": false
    }
   },
   "outputs": [],
   "source": [
    "a00=1;a01=0;a10=7;a11=3;a20=7;a21=3"
   ]
  },
  {
   "cell_type": "code",
   "execution_count": 103,
   "metadata": {
    "ExecuteTime": {
     "end_time": "2020-02-15T14:26:37.187441Z",
     "start_time": "2020-02-15T14:26:37.177389Z"
    },
    "pycharm": {
     "is_executing": false
    }
   },
   "outputs": [],
   "source": [
    "A=np.array([[a00,a01],[a10,a11],[a20,a21]])"
   ]
  },
  {
   "cell_type": "code",
   "execution_count": 104,
   "metadata": {
    "ExecuteTime": {
     "end_time": "2020-02-15T14:26:37.199977Z",
     "start_time": "2020-02-15T14:26:37.188419Z"
    },
    "pycharm": {
     "is_executing": false
    }
   },
   "outputs": [
    {
     "data": {
      "text/html": [
       "<div>\n",
       "<style scoped>\n",
       "    .dataframe tbody tr th:only-of-type {\n",
       "        vertical-align: middle;\n",
       "    }\n",
       "\n",
       "    .dataframe tbody tr th {\n",
       "        vertical-align: top;\n",
       "    }\n",
       "\n",
       "    .dataframe thead th {\n",
       "        text-align: right;\n",
       "    }\n",
       "</style>\n",
       "<table border=\"1\" class=\"dataframe\">\n",
       "  <thead>\n",
       "    <tr style=\"text-align: right;\">\n",
       "      <th></th>\n",
       "      <th>0</th>\n",
       "      <th>1</th>\n",
       "    </tr>\n",
       "  </thead>\n",
       "  <tbody>\n",
       "    <tr>\n",
       "      <th>0</th>\n",
       "      <td>1</td>\n",
       "      <td>0</td>\n",
       "    </tr>\n",
       "    <tr>\n",
       "      <th>1</th>\n",
       "      <td>7</td>\n",
       "      <td>3</td>\n",
       "    </tr>\n",
       "    <tr>\n",
       "      <th>2</th>\n",
       "      <td>7</td>\n",
       "      <td>3</td>\n",
       "    </tr>\n",
       "  </tbody>\n",
       "</table>\n",
       "</div>"
      ],
      "text/plain": [
       "   0  1\n",
       "0  1  0\n",
       "1  7  3\n",
       "2  7  3"
      ]
     },
     "execution_count": 104,
     "metadata": {},
     "output_type": "execute_result"
    }
   ],
   "source": [
    "pd.DataFrame(A)"
   ]
  },
  {
   "cell_type": "code",
   "execution_count": 105,
   "metadata": {
    "ExecuteTime": {
     "end_time": "2020-02-15T14:26:37.209504Z",
     "start_time": "2020-02-15T14:26:37.200979Z"
    },
    "pycharm": {
     "is_executing": false
    }
   },
   "outputs": [
    {
     "data": {
      "text/plain": [
       "2"
      ]
     },
     "execution_count": 105,
     "metadata": {},
     "output_type": "execute_result"
    }
   ],
   "source": [
    "A.shape[1]"
   ]
  },
  {
   "cell_type": "code",
   "execution_count": 106,
   "metadata": {
    "ExecuteTime": {
     "end_time": "2020-02-15T14:26:37.218528Z",
     "start_time": "2020-02-15T14:26:37.210506Z"
    },
    "pycharm": {
     "is_executing": false
    }
   },
   "outputs": [
    {
     "data": {
      "text/plain": [
       "3"
      ]
     },
     "execution_count": 106,
     "metadata": {},
     "output_type": "execute_result"
    }
   ],
   "source": [
    "A[1][1]"
   ]
  },
  {
   "cell_type": "code",
   "execution_count": 107,
   "metadata": {
    "ExecuteTime": {
     "end_time": "2020-02-15T14:26:37.227552Z",
     "start_time": "2020-02-15T14:26:37.219530Z"
    },
    "pycharm": {
     "is_executing": false
    }
   },
   "outputs": [],
   "source": [
    "A=np.array([1,2])"
   ]
  },
  {
   "cell_type": "code",
   "execution_count": 108,
   "metadata": {
    "ExecuteTime": {
     "end_time": "2020-02-15T14:26:37.238583Z",
     "start_time": "2020-02-15T14:26:37.228554Z"
    },
    "pycharm": {
     "is_executing": false
    }
   },
   "outputs": [
    {
     "data": {
      "text/plain": [
       "array([1, 2])"
      ]
     },
     "execution_count": 108,
     "metadata": {},
     "output_type": "execute_result"
    }
   ],
   "source": [
    "A"
   ]
  },
  {
   "cell_type": "code",
   "execution_count": 109,
   "metadata": {
    "ExecuteTime": {
     "end_time": "2020-02-15T14:26:37.248609Z",
     "start_time": "2020-02-15T14:26:37.239583Z"
    },
    "pycharm": {
     "is_executing": false
    }
   },
   "outputs": [
    {
     "data": {
      "text/plain": [
       "(2,)"
      ]
     },
     "execution_count": 109,
     "metadata": {},
     "output_type": "execute_result"
    }
   ],
   "source": [
    "A.shape"
   ]
  },
  {
   "cell_type": "code",
   "execution_count": 110,
   "metadata": {
    "ExecuteTime": {
     "end_time": "2020-02-15T14:26:37.256628Z",
     "start_time": "2020-02-15T14:26:37.249610Z"
    },
    "pycharm": {
     "is_executing": false
    }
   },
   "outputs": [],
   "source": [
    "Satır_Vektor=np.array([1,2,3,34,2])"
   ]
  },
  {
   "cell_type": "code",
   "execution_count": 111,
   "metadata": {
    "ExecuteTime": {
     "end_time": "2020-02-15T14:26:37.265652Z",
     "start_time": "2020-02-15T14:26:37.257630Z"
    },
    "lines_to_next_cell": 2,
    "pycharm": {
     "is_executing": false
    }
   },
   "outputs": [],
   "source": [
    "u=np.array([1,2]);v=np.array([1,-3])\n",
    "w=np.array([-1,-2])"
   ]
  },
  {
   "cell_type": "code",
   "execution_count": 112,
   "metadata": {
    "ExecuteTime": {
     "end_time": "2020-02-15T14:26:37.274675Z",
     "start_time": "2020-02-15T14:26:37.266654Z"
    },
    "pycharm": {
     "is_executing": false
    }
   },
   "outputs": [],
   "source": [
    "u =np.array( [1, 2, 3] )"
   ]
  },
  {
   "cell_type": "code",
   "execution_count": 113,
   "metadata": {
    "ExecuteTime": {
     "end_time": "2020-02-15T14:26:37.284702Z",
     "start_time": "2020-02-15T14:26:37.276681Z"
    },
    "pycharm": {
     "is_executing": false
    }
   },
   "outputs": [],
   "source": [
    "v=  np.array( [2,1,2] )"
   ]
  },
  {
   "cell_type": "code",
   "execution_count": 114,
   "metadata": {
    "ExecuteTime": {
     "end_time": "2020-02-15T14:26:37.294757Z",
     "start_time": "2020-02-15T14:26:37.285704Z"
    },
    "pycharm": {
     "is_executing": false
    }
   },
   "outputs": [
    {
     "data": {
      "text/plain": [
       "10"
      ]
     },
     "execution_count": 114,
     "metadata": {},
     "output_type": "execute_result"
    }
   ],
   "source": [
    "u.dot(v)"
   ]
  },
  {
   "cell_type": "code",
   "execution_count": 115,
   "metadata": {
    "ExecuteTime": {
     "end_time": "2020-02-15T14:26:37.304258Z",
     "start_time": "2020-02-15T14:26:37.295734Z"
    },
    "pycharm": {
     "is_executing": false
    }
   },
   "outputs": [
    {
     "data": {
      "text/plain": [
       "<function ndarray.view>"
      ]
     },
     "execution_count": 115,
     "metadata": {},
     "output_type": "execute_result"
    }
   ],
   "source": [
    "u.view"
   ]
  },
  {
   "cell_type": "code",
   "execution_count": 116,
   "metadata": {
    "ExecuteTime": {
     "end_time": "2020-02-15T14:26:37.313785Z",
     "start_time": "2020-02-15T14:26:37.305259Z"
    },
    "pycharm": {
     "is_executing": false
    }
   },
   "outputs": [
    {
     "data": {
      "text/plain": [
       "array([3, 3, 5])"
      ]
     },
     "execution_count": 116,
     "metadata": {},
     "output_type": "execute_result"
    }
   ],
   "source": [
    "u+v #matris toplama"
   ]
  },
  {
   "cell_type": "code",
   "execution_count": 117,
   "metadata": {
    "ExecuteTime": {
     "end_time": "2020-02-15T14:26:37.322808Z",
     "start_time": "2020-02-15T14:26:37.314788Z"
    },
    "pycharm": {
     "is_executing": false
    }
   },
   "outputs": [
    {
     "data": {
      "text/plain": [
       "array([3, 3])"
      ]
     },
     "execution_count": 117,
     "metadata": {},
     "output_type": "execute_result"
    }
   ],
   "source": [
    "u=np.array([1,2]);v=np.array([2,1])\n",
    "w=u+v;w"
   ]
  },
  {
   "cell_type": "code",
   "execution_count": 117,
   "metadata": {
    "lines_to_next_cell": 2,
    "pycharm": {
     "is_executing": false
    }
   },
   "outputs": [],
   "source": []
  },
  {
   "cell_type": "code",
   "execution_count": 118,
   "metadata": {
    "ExecuteTime": {
     "end_time": "2020-02-15T14:26:37.330829Z",
     "start_time": "2020-02-15T14:26:37.323837Z"
    },
    "pycharm": {
     "is_executing": false
    }
   },
   "outputs": [],
   "source": [
    "def doğru_parçası(c,u,v):\n",
    "       return c*u + (1 - c)*v"
   ]
  },
  {
   "cell_type": "code",
   "execution_count": 119,
   "metadata": {
    "ExecuteTime": {
     "end_time": "2020-02-15T14:26:37.341859Z",
     "start_time": "2020-02-15T14:26:37.331831Z"
    },
    "lines_to_next_cell": 2,
    "pycharm": {
     "is_executing": false
    }
   },
   "outputs": [
    {
     "data": {
      "text/plain": [
       "array([2, 1])"
      ]
     },
     "execution_count": 119,
     "metadata": {},
     "output_type": "execute_result"
    }
   ],
   "source": [
    "c=0\n",
    "doğru_parçası(c,u,v)"
   ]
  },
  {
   "cell_type": "code",
   "execution_count": 120,
   "metadata": {
    "ExecuteTime": {
     "end_time": "2020-02-15T14:26:37.350882Z",
     "start_time": "2020-02-15T14:26:37.342860Z"
    },
    "lines_to_next_cell": 2,
    "pycharm": {
     "is_executing": false
    }
   },
   "outputs": [
    {
     "data": {
      "text/plain": [
       "array([1, 2])"
      ]
     },
     "execution_count": 120,
     "metadata": {},
     "output_type": "execute_result"
    }
   ],
   "source": [
    "c=1\n",
    "doğru_parçası(c,u,v)"
   ]
  },
  {
   "cell_type": "code",
   "execution_count": 121,
   "metadata": {
    "ExecuteTime": {
     "end_time": "2020-02-15T14:26:37.367928Z",
     "start_time": "2020-02-15T14:26:37.351886Z"
    },
    "pycharm": {
     "is_executing": false
    }
   },
   "outputs": [
    {
     "data": {
      "text/plain": [
       "array([1.5, 1.5])"
      ]
     },
     "execution_count": 121,
     "metadata": {},
     "output_type": "execute_result"
    }
   ],
   "source": [
    "c=0.5\n",
    "doğru_parçası(c,u,v)"
   ]
  },
  {
   "cell_type": "code",
   "execution_count": 122,
   "metadata": {
    "ExecuteTime": {
     "end_time": "2020-02-15T14:26:37.374971Z",
     "start_time": "2020-02-15T14:26:37.368929Z"
    },
    "pycharm": {
     "is_executing": false
    }
   },
   "outputs": [],
   "source": [
    "# Tranpozu, Devrik"
   ]
  },
  {
   "cell_type": "code",
   "execution_count": 123,
   "metadata": {
    "ExecuteTime": {
     "end_time": "2020-02-15T14:26:37.386002Z",
     "start_time": "2020-02-15T14:26:37.375975Z"
    },
    "pycharm": {
     "is_executing": false
    }
   },
   "outputs": [],
   "source": [
    "A=np.array([[a00,a01],[a10,a11],[a20,a21]])"
   ]
  },
  {
   "cell_type": "code",
   "execution_count": 124,
   "metadata": {
    "ExecuteTime": {
     "end_time": "2020-02-15T14:26:37.395001Z",
     "start_time": "2020-02-15T14:26:37.386976Z"
    },
    "pycharm": {
     "is_executing": false
    }
   },
   "outputs": [
    {
     "data": {
      "text/plain": [
       "array([[1, 0],\n",
       "       [7, 3],\n",
       "       [7, 3]])"
      ]
     },
     "execution_count": 124,
     "metadata": {},
     "output_type": "execute_result"
    }
   ],
   "source": [
    "A"
   ]
  },
  {
   "cell_type": "code",
   "execution_count": 125,
   "metadata": {
    "ExecuteTime": {
     "end_time": "2020-02-15T14:26:37.403525Z",
     "start_time": "2020-02-15T14:26:37.396003Z"
    },
    "pycharm": {
     "is_executing": false
    }
   },
   "outputs": [
    {
     "data": {
      "text/plain": [
       "array([[1, 7, 7],\n",
       "       [0, 3, 3]])"
      ]
     },
     "execution_count": 125,
     "metadata": {},
     "output_type": "execute_result"
    }
   ],
   "source": [
    "A.T"
   ]
  },
  {
   "cell_type": "code",
   "execution_count": 126,
   "metadata": {
    "ExecuteTime": {
     "end_time": "2020-02-15T14:26:37.413611Z",
     "start_time": "2020-02-15T14:26:37.404526Z"
    },
    "pycharm": {
     "is_executing": false
    }
   },
   "outputs": [
    {
     "data": {
      "text/plain": [
       "(2, 3)"
      ]
     },
     "execution_count": 126,
     "metadata": {},
     "output_type": "execute_result"
    }
   ],
   "source": [
    "A.transpose().shape"
   ]
  },
  {
   "cell_type": "code",
   "execution_count": 127,
   "metadata": {
    "ExecuteTime": {
     "end_time": "2020-02-15T14:26:37.423635Z",
     "start_time": "2020-02-15T14:26:37.414611Z"
    },
    "pycharm": {
     "is_executing": false
    }
   },
   "outputs": [
    {
     "data": {
      "text/plain": [
       "(3, 2)"
      ]
     },
     "execution_count": 127,
     "metadata": {},
     "output_type": "execute_result"
    }
   ],
   "source": [
    "A.shape"
   ]
  },
  {
   "cell_type": "code",
   "execution_count": 128,
   "metadata": {
    "ExecuteTime": {
     "end_time": "2020-02-15T14:26:37.442684Z",
     "start_time": "2020-02-15T14:26:37.424638Z"
    },
    "pycharm": {
     "is_executing": false
    }
   },
   "outputs": [
    {
     "data": {
      "text/plain": [
       "array([[1, 0],\n",
       "       [7, 3],\n",
       "       [7, 3]])"
      ]
     },
     "execution_count": 128,
     "metadata": {},
     "output_type": "execute_result"
    }
   ],
   "source": [
    "A.T.T"
   ]
  },
  {
   "cell_type": "code",
   "execution_count": 129,
   "metadata": {
    "ExecuteTime": {
     "end_time": "2020-02-15T14:26:37.453741Z",
     "start_time": "2020-02-15T14:26:37.443687Z"
    },
    "pycharm": {
     "is_executing": false
    }
   },
   "outputs": [
    {
     "data": {
      "text/plain": [
       "array([[ 5,  8],\n",
       "       [ 7, 11]])"
      ]
     },
     "execution_count": 129,
     "metadata": {},
     "output_type": "execute_result"
    }
   ],
   "source": [
    "A=np.array([[1,1,2],[2,1,3]])\n",
    "B=np.array([[1,1],[2,3],[1,2]])\n",
    "A.dot(B)"
   ]
  },
  {
   "cell_type": "code",
   "execution_count": 130,
   "metadata": {
    "ExecuteTime": {
     "end_time": "2020-02-15T14:26:37.461762Z",
     "start_time": "2020-02-15T14:26:37.454716Z"
    },
    "pycharm": {
     "is_executing": false
    }
   },
   "outputs": [],
   "source": [
    "def vektörel_çarpım(A,B):\n",
    "    return A.dot(B)"
   ]
  },
  {
   "cell_type": "code",
   "execution_count": 131,
   "metadata": {
    "ExecuteTime": {
     "end_time": "2020-02-15T14:26:37.472796Z",
     "start_time": "2020-02-15T14:26:37.462737Z"
    },
    "pycharm": {
     "is_executing": false
    }
   },
   "outputs": [],
   "source": [
    "A=np.array([[3],[4]]);B=np.array([[1, 2]]);"
   ]
  },
  {
   "cell_type": "code",
   "execution_count": 132,
   "metadata": {
    "ExecuteTime": {
     "end_time": "2020-02-15T14:26:37.482824Z",
     "start_time": "2020-02-15T14:26:37.473766Z"
    },
    "pycharm": {
     "is_executing": false
    }
   },
   "outputs": [
    {
     "data": {
      "text/plain": [
       "array([[3, 6],\n",
       "       [4, 8]])"
      ]
     },
     "execution_count": 132,
     "metadata": {},
     "output_type": "execute_result"
    }
   ],
   "source": [
    "vektörel_çarpım(A,B)"
   ]
  },
  {
   "cell_type": "code",
   "execution_count": 133,
   "metadata": {
    "ExecuteTime": {
     "end_time": "2020-02-15T14:26:37.491814Z",
     "start_time": "2020-02-15T14:26:37.483792Z"
    },
    "pycharm": {
     "is_executing": false
    }
   },
   "outputs": [
    {
     "data": {
      "text/plain": [
       "array([[11]])"
      ]
     },
     "execution_count": 133,
     "metadata": {},
     "output_type": "execute_result"
    }
   ],
   "source": [
    "vektörel_çarpım(B,A)\n",
    "\n",
    " # LEBG"
   ]
  },
  {
   "cell_type": "markdown",
   "metadata": {},
   "source": [
    "![image.png](attachment:image.png)"
   ]
  },
  {
   "cell_type": "raw",
   "metadata": {
    "ExecuteTime": {
     "end_time": "2020-02-01T11:59:35.119751Z",
     "start_time": "2020-02-01T11:59:35.116742Z"
    }
   },
   "source": [
    "class insan(a,b):\n",
    "    adı=a\n",
    "    def gökhanfonksiyonu(c):\n",
    "        def gökhanfonksiyonu2(q):\n",
    "            return a+b\n",
    "    \n",
    "    "
   ]
  },
  {
   "cell_type": "raw",
   "metadata": {
    "ExecuteTime": {
     "end_time": "2020-02-01T12:02:07.818311Z",
     "start_time": "2020-02-01T12:02:07.815303Z"
    }
   },
   "source": [
    "sum()"
   ]
  },
  {
   "cell_type": "raw",
   "metadata": {
    "ExecuteTime": {
     "end_time": "2020-02-01T12:02:27.723020Z",
     "start_time": "2020-02-01T12:02:27.720998Z"
    }
   },
   "source": [
    "sum=\"akaka\""
   ]
  },
  {
   "cell_type": "raw",
   "metadata": {
    "ExecuteTime": {
     "end_time": "2020-02-01T12:02:40.084287Z",
     "start_time": "2020-02-01T12:02:40.076200Z"
    }
   },
   "source": [
    "sum([1,2,34])"
   ]
  },
  {
   "cell_type": "code",
   "execution_count": 134,
   "metadata": {
    "ExecuteTime": {
     "end_time": "2020-02-15T14:26:37.499873Z",
     "start_time": "2020-02-15T14:26:37.494350Z"
    },
    "pycharm": {
     "is_executing": false
    }
   },
   "outputs": [],
   "source": [
    "A=np.array([[1,2],[3,4]]);B=np.array([[1,1],[0,1],[1,2]]);"
   ]
  },
  {
   "cell_type": "code",
   "execution_count": 135,
   "metadata": {
    "ExecuteTime": {
     "end_time": "2020-02-15T14:26:50.789122Z",
     "start_time": "2020-02-15T14:26:50.780064Z"
    },
    "pycharm": {
     "is_executing": false
    }
   },
   "outputs": [
    {
     "ename": "ValueError",
     "evalue": "shapes (2,2) and (3,2) not aligned: 2 (dim 1) != 3 (dim 0)",
     "output_type": "error",
     "traceback": [
      "\u001b[1;31m---------------------------------------------------------------------------\u001b[0m",
      "\u001b[1;31mValueError\u001b[0m                                Traceback (most recent call last)",
      "\u001b[1;32m<ipython-input-135-e9f13f085b41>\u001b[0m in \u001b[0;36m<module>\u001b[1;34m\u001b[0m\n\u001b[1;32m----> 1\u001b[1;33m \u001b[0mvektörel_çarpım\u001b[0m\u001b[1;33m(\u001b[0m\u001b[0mA\u001b[0m\u001b[1;33m,\u001b[0m\u001b[0mB\u001b[0m\u001b[1;33m)\u001b[0m \u001b[1;31m# Vektörel çarpımda ilk matrisin sütün sayısı ile ikinci matrisin satır sayısı aynı olmalı\u001b[0m\u001b[1;33m\u001b[0m\u001b[1;33m\u001b[0m\u001b[0m\n\u001b[0m\u001b[0;32m      2\u001b[0m \u001b[1;33m\u001b[0m\u001b[0m\n",
      "\u001b[1;32m<ipython-input-130-a3bf5581a736>\u001b[0m in \u001b[0;36mvektörel_çarpım\u001b[1;34m(A, B)\u001b[0m\n\u001b[0;32m      1\u001b[0m \u001b[1;32mdef\u001b[0m \u001b[0mvektörel_çarpım\u001b[0m\u001b[1;33m(\u001b[0m\u001b[0mA\u001b[0m\u001b[1;33m,\u001b[0m\u001b[0mB\u001b[0m\u001b[1;33m)\u001b[0m\u001b[1;33m:\u001b[0m\u001b[1;33m\u001b[0m\u001b[1;33m\u001b[0m\u001b[0m\n\u001b[1;32m----> 2\u001b[1;33m     \u001b[1;32mreturn\u001b[0m \u001b[0mA\u001b[0m\u001b[1;33m.\u001b[0m\u001b[0mdot\u001b[0m\u001b[1;33m(\u001b[0m\u001b[0mB\u001b[0m\u001b[1;33m)\u001b[0m\u001b[1;33m\u001b[0m\u001b[1;33m\u001b[0m\u001b[0m\n\u001b[0m\u001b[0;32m      3\u001b[0m \u001b[1;33m\u001b[0m\u001b[0m\n",
      "\u001b[1;31mValueError\u001b[0m: shapes (2,2) and (3,2) not aligned: 2 (dim 1) != 3 (dim 0)"
     ]
    }
   ],
   "source": [
    "vektörel_çarpım(A,B) # Vektörel çarpımda ilk matrisin sütün sayısı ile ikinci matrisin satır sayısı aynı olmalı"
   ]
  },
  {
   "cell_type": "code",
   "execution_count": null,
   "metadata": {
    "ExecuteTime": {
     "end_time": "2020-02-15T14:27:05.720438Z",
     "start_time": "2020-02-15T14:27:05.716412Z"
    },
    "pycharm": {
     "is_executing": false
    }
   },
   "outputs": [],
   "source": [
    "vektörel_çarpım(B,A)"
   ]
  },
  {
   "cell_type": "code",
   "execution_count": null,
   "metadata": {
    "ExecuteTime": {
     "end_time": "2020-02-15T14:27:06.754890Z",
     "start_time": "2020-02-15T14:27:06.750879Z"
    },
    "pycharm": {
     "is_executing": false
    }
   },
   "outputs": [],
   "source": [
    "PremiumUnleaded=np.array([3/4,1/4])\n",
    "RegularUnleaded=np.array([2/3,1/3])\n",
    "RegularLeaded=np.array([1/4,3/4])"
   ]
  },
  {
   "cell_type": "code",
   "execution_count": null,
   "metadata": {
    "ExecuteTime": {
     "end_time": "2020-02-15T14:27:07.140559Z",
     "start_time": "2020-02-15T14:27:07.137529Z"
    },
    "pycharm": {
     "is_executing": false
    }
   },
   "outputs": [],
   "source": [
    "mainTable=np.array([PremiumUnleaded,RegularUnleaded,RegularLeaded])"
   ]
  },
  {
   "cell_type": "code",
   "execution_count": null,
   "metadata": {
    "ExecuteTime": {
     "end_time": "2020-02-15T14:27:07.583337Z",
     "start_time": "2020-02-15T14:27:07.580363Z"
    },
    "pycharm": {
     "is_executing": false
    }
   },
   "outputs": [],
   "source": [
    "mainDataFrame=pd.DataFrame(mainTable,columns=(\"crude1\",\"crude2\"))"
   ]
  },
  {
   "cell_type": "code",
   "execution_count": null,
   "metadata": {
    "ExecuteTime": {
     "end_time": "2020-02-15T14:27:07.982907Z",
     "start_time": "2020-02-15T14:27:07.979898Z"
    },
    "pycharm": {
     "is_executing": false
    }
   },
   "outputs": [],
   "source": [
    "mainDataFrame.index=[\"PremiumUnleaded\",\"RegularUnleaded\",\"RegularLeaded\"]"
   ]
  },
  {
   "cell_type": "code",
   "execution_count": null,
   "metadata": {
    "ExecuteTime": {
     "end_time": "2020-02-15T14:27:08.758559Z",
     "start_time": "2020-02-15T14:27:08.752576Z"
    },
    "pycharm": {
     "is_executing": false
    }
   },
   "outputs": [],
   "source": [
    "mainDataFrame"
   ]
  },
  {
   "cell_type": "code",
   "execution_count": null,
   "metadata": {
    "ExecuteTime": {
     "end_time": "2020-02-15T14:27:09.101869Z",
     "start_time": "2020-02-15T14:27:09.098901Z"
    },
    "pycharm": {
     "is_executing": false
    }
   },
   "outputs": [],
   "source": [
    "Stock=np.array([10,6,5])"
   ]
  },
  {
   "cell_type": "code",
   "execution_count": null,
   "metadata": {
    "ExecuteTime": {
     "end_time": "2020-02-15T14:27:09.444662Z",
     "start_time": "2020-02-15T14:27:09.440686Z"
    },
    "pycharm": {
     "is_executing": false
    }
   },
   "outputs": [],
   "source": [
    "vektörel_çarpım(Stock,mainDataFrame)"
   ]
  },
  {
   "cell_type": "code",
   "execution_count": null,
   "metadata": {
    "ExecuteTime": {
     "end_time": "2020-02-15T14:27:09.691360Z",
     "start_time": "2020-02-15T14:27:09.688353Z"
    },
    "pycharm": {
     "is_executing": false
    }
   },
   "outputs": [],
   "source": [
    "# Kural 1 Satır"
   ]
  },
  {
   "cell_type": "code",
   "execution_count": null,
   "metadata": {
    "ExecuteTime": {
     "end_time": "2020-02-15T14:27:09.857091Z",
     "start_time": "2020-02-15T14:27:09.854115Z"
    },
    "pycharm": {
     "is_executing": false
    }
   },
   "outputs": [],
   "source": [
    "A=np.array([[1,1,2],[2,1,3]]);B=np.array([[1,1],[2,3],[1,2]])"
   ]
  },
  {
   "cell_type": "code",
   "execution_count": null,
   "metadata": {
    "ExecuteTime": {
     "end_time": "2020-02-15T14:27:10.041687Z",
     "start_time": "2020-02-15T14:27:10.037677Z"
    },
    "pycharm": {
     "is_executing": false
    }
   },
   "outputs": [],
   "source": [
    "A[1]"
   ]
  },
  {
   "cell_type": "code",
   "execution_count": null,
   "metadata": {
    "ExecuteTime": {
     "end_time": "2020-02-15T14:27:10.203212Z",
     "start_time": "2020-02-15T14:27:10.199233Z"
    },
    "pycharm": {
     "is_executing": false
    }
   },
   "outputs": [],
   "source": [
    "vektörel_çarpım(A,B)"
   ]
  },
  {
   "cell_type": "code",
   "execution_count": null,
   "metadata": {
    "ExecuteTime": {
     "end_time": "2020-02-15T14:27:10.382855Z",
     "start_time": "2020-02-15T14:27:10.378820Z"
    },
    "pycharm": {
     "is_executing": false
    }
   },
   "outputs": [],
   "source": [
    "vektörel_çarpım(A,B)[0]"
   ]
  },
  {
   "cell_type": "code",
   "execution_count": null,
   "metadata": {
    "ExecuteTime": {
     "end_time": "2020-02-15T14:27:10.548473Z",
     "start_time": "2020-02-15T14:27:10.545465Z"
    },
    "pycharm": {
     "is_executing": false
    },
    "scrolled": true
   },
   "outputs": [],
   "source": [
    "vektörel_çarpım(A[0],B)"
   ]
  },
  {
   "cell_type": "code",
   "execution_count": null,
   "metadata": {
    "ExecuteTime": {
     "end_time": "2020-02-15T14:27:10.704545Z",
     "start_time": "2020-02-15T14:27:10.702539Z"
    },
    "pycharm": {
     "is_executing": false
    }
   },
   "outputs": [],
   "source": [
    "# Kural 2 Sütün"
   ]
  },
  {
   "cell_type": "code",
   "execution_count": null,
   "metadata": {
    "ExecuteTime": {
     "end_time": "2020-02-15T14:27:10.863277Z",
     "start_time": "2020-02-15T14:27:10.860293Z"
    },
    "pycharm": {
     "is_executing": false
    }
   },
   "outputs": [],
   "source": [
    "vektörel_çarpım(A,B[:,0])"
   ]
  },
  {
   "cell_type": "code",
   "execution_count": null,
   "metadata": {
    "ExecuteTime": {
     "end_time": "2020-02-15T14:27:10.967100Z",
     "start_time": "2020-02-15T14:27:10.963088Z"
    },
    "pycharm": {
     "is_executing": false
    }
   },
   "outputs": [],
   "source": [
    "vektörel_çarpım(A,B)[:,0]"
   ]
  },
  {
   "cell_type": "code",
   "execution_count": null,
   "metadata": {
    "ExecuteTime": {
     "end_time": "2020-02-15T14:27:11.230696Z",
     "start_time": "2020-02-15T14:27:11.227688Z"
    },
    "pycharm": {
     "is_executing": false
    }
   },
   "outputs": [],
   "source": [
    "# Geçişkenlik Kuralı"
   ]
  },
  {
   "cell_type": "code",
   "execution_count": null,
   "metadata": {
    "ExecuteTime": {
     "end_time": "2020-02-15T14:27:11.440883Z",
     "start_time": "2020-02-15T14:27:11.437875Z"
    },
    "pycharm": {
     "is_executing": false
    }
   },
   "outputs": [],
   "source": [
    "A=np.array([1,2]) ; B=np.array([[2,3],[4,5]]);C=np.array([[2],[1]])"
   ]
  },
  {
   "cell_type": "code",
   "execution_count": null,
   "metadata": {
    "ExecuteTime": {
     "end_time": "2020-02-15T14:27:11.781090Z",
     "start_time": "2020-02-15T14:27:11.777613Z"
    },
    "pycharm": {
     "is_executing": false
    }
   },
   "outputs": [],
   "source": [
    "A"
   ]
  },
  {
   "cell_type": "code",
   "execution_count": null,
   "metadata": {
    "ExecuteTime": {
     "end_time": "2020-02-15T14:27:11.922436Z",
     "start_time": "2020-02-15T14:27:11.918459Z"
    },
    "pycharm": {
     "is_executing": false
    }
   },
   "outputs": [],
   "source": [
    "B"
   ]
  },
  {
   "cell_type": "code",
   "execution_count": null,
   "metadata": {
    "ExecuteTime": {
     "end_time": "2020-02-15T14:27:12.096671Z",
     "start_time": "2020-02-15T14:27:12.092661Z"
    },
    "pycharm": {
     "is_executing": false
    }
   },
   "outputs": [],
   "source": [
    "C"
   ]
  },
  {
   "cell_type": "code",
   "execution_count": null,
   "metadata": {
    "ExecuteTime": {
     "end_time": "2020-02-15T14:27:12.284735Z",
     "start_time": "2020-02-15T14:27:12.281258Z"
    },
    "pycharm": {
     "is_executing": false
    }
   },
   "outputs": [],
   "source": [
    "vektörel_çarpım(vektörel_çarpım(A,B),C)"
   ]
  },
  {
   "cell_type": "code",
   "execution_count": null,
   "metadata": {
    "ExecuteTime": {
     "end_time": "2020-02-15T14:27:12.473065Z",
     "start_time": "2020-02-15T14:27:12.470062Z"
    },
    "pycharm": {
     "is_executing": false
    }
   },
   "outputs": [],
   "source": [
    "vektörel_çarpım(A,vektörel_çarpım(B,C))"
   ]
  },
  {
   "cell_type": "code",
   "execution_count": null,
   "metadata": {
    "ExecuteTime": {
     "end_time": "2020-02-15T14:27:12.668776Z",
     "start_time": "2020-02-15T14:27:12.664790Z"
    },
    "pycharm": {
     "is_executing": false
    }
   },
   "outputs": [],
   "source": [
    "vektörel_çarpım(vektörel_çarpım(A,B),C)==vektörel_çarpım(A,vektörel_çarpım(B,C))"
   ]
  },
  {
   "cell_type": "markdown",
   "metadata": {},
   "source": [
    "## Problemler\n"
   ]
  },
  {
   "cell_type": "markdown",
   "metadata": {
    "ExecuteTime": {
     "end_time": "2020-02-15T14:18:39.696960Z",
     "start_time": "2020-02-15T14:18:39.694955Z"
    }
   },
   "source": [
    "\n",
    "### 1. Problem"
   ]
  },
  {
   "cell_type": "code",
   "execution_count": null,
   "metadata": {
    "ExecuteTime": {
     "end_time": "2020-02-15T14:27:13.222675Z",
     "start_time": "2020-02-15T14:27:13.219658Z"
    },
    "pycharm": {
     "is_executing": false
    }
   },
   "outputs": [],
   "source": [
    "\n",
    "A=np.array([[1,2,3],[4,5,6],[7,8,9]]);B=np.array([[1,2],[0,-1],[1,2]])"
   ]
  },
  {
   "cell_type": "code",
   "execution_count": null,
   "metadata": {
    "ExecuteTime": {
     "end_time": "2020-02-15T14:31:58.281961Z",
     "start_time": "2020-02-15T14:31:58.278986Z"
    },
    "lines_to_next_cell": 2,
    "pycharm": {
     "is_executing": false
    }
   },
   "outputs": [],
   "source": [
    "\n",
    "print(\"A :\\n\", A,\"\\n\")\n"
   ]
  },
  {
   "cell_type": "code",
   "execution_count": null,
   "metadata": {
    "ExecuteTime": {
     "end_time": "2020-02-15T14:32:01.850900Z",
     "start_time": "2020-02-15T14:32:01.847892Z"
    },
    "lines_to_next_cell": 2,
    "pycharm": {
     "is_executing": false
    }
   },
   "outputs": [],
   "source": [
    "print(\"B :\\n\", B,\"\\n\")"
   ]
  },
  {
   "cell_type": "code",
   "execution_count": null,
   "metadata": {
    "ExecuteTime": {
     "end_time": "2020-02-15T14:32:05.297063Z",
     "start_time": "2020-02-15T14:32:05.294092Z"
    },
    "lines_to_next_cell": 2,
    "pycharm": {
     "is_executing": false
    }
   },
   "outputs": [],
   "source": [
    " \n",
    "print(\"-A :\\n\", A*-1,\"\\n\")\n"
   ]
  },
  {
   "cell_type": "code",
   "execution_count": null,
   "metadata": {
    "ExecuteTime": {
     "end_time": "2020-02-15T14:32:09.162104Z",
     "start_time": "2020-02-15T14:32:09.157092Z"
    },
    "lines_to_next_cell": 2,
    "pycharm": {
     "is_executing": false
    }
   },
   "outputs": [],
   "source": [
    "print(\"3A :\\n\", A*3,\"\\n\")"
   ]
  },
  {
   "cell_type": "code",
   "execution_count": null,
   "metadata": {
    "ExecuteTime": {
     "end_time": "2020-02-15T14:35:02.251530Z",
     "start_time": "2020-02-15T14:35:02.244525Z"
    },
    "lines_to_next_cell": 2,
    "pycharm": {
     "is_executing": false
    }
   },
   "outputs": [],
   "source": [
    "\n",
    "print(\"A+2B : \\n\",A+2*B)"
   ]
  },
  {
   "cell_type": "code",
   "execution_count": null,
   "metadata": {
    "ExecuteTime": {
     "end_time": "2020-02-15T14:32:15.397780Z",
     "start_time": "2020-02-15T14:32:15.394773Z"
    },
    "lines_to_next_cell": 2,
    "pycharm": {
     "is_executing": false
    }
   },
   "outputs": [],
   "source": [
    "\n",
    "print(\"A transpose : \\n\" , A.T  )"
   ]
  },
  {
   "cell_type": "code",
   "execution_count": null,
   "metadata": {
    "ExecuteTime": {
     "end_time": "2020-02-15T14:32:21.085452Z",
     "start_time": "2020-02-15T14:32:21.081408Z"
    },
    "pycharm": {
     "is_executing": false
    }
   },
   "outputs": [],
   "source": [
    "      \n",
    "print(\"B transpose : \\n\" , B.T  )"
   ]
  },
  {
   "cell_type": "code",
   "execution_count": null,
   "metadata": {
    "ExecuteTime": {
     "end_time": "2020-02-15T14:32:45.185103Z",
     "start_time": "2020-02-15T14:32:45.181092Z"
    },
    "pycharm": {
     "is_executing": false
    }
   },
   "outputs": [],
   "source": [
    "print(\"AB transpose : \\n\" , A.dot(B)  )"
   ]
  },
  {
   "cell_type": "code",
   "execution_count": null,
   "metadata": {
    "ExecuteTime": {
     "end_time": "2020-02-15T14:33:01.365672Z",
     "start_time": "2020-02-15T14:33:01.359122Z"
    },
    "pycharm": {
     "is_executing": false
    }
   },
   "outputs": [],
   "source": [
    "print(\"BA transpose : \\n\" , B.dot(A)  )"
   ]
  },
  {
   "cell_type": "markdown",
   "metadata": {
    "ExecuteTime": {
     "end_time": "2020-02-15T14:35:25.960280Z",
     "start_time": "2020-02-15T14:35:25.957272Z"
    }
   },
   "source": [
    "### 2. Problem"
   ]
  },
  {
   "cell_type": "code",
   "execution_count": null,
   "metadata": {
    "ExecuteTime": {
     "end_time": "2020-02-15T14:41:10.829840Z",
     "start_time": "2020-02-15T14:41:10.826830Z"
    },
    "pycharm": {
     "is_executing": false
    }
   },
   "outputs": [],
   "source": [
    "Bira1=[.5,.3,.2]\n",
    "Bira2=[0,.7,.3]\n",
    "Bira3=[.1,.3,.6]\n",
    "Bira_dict={\"Bira1\":Bira1\n",
    "          ,\"Bira2\":Bira2,\n",
    "          \"Bira3\":Bira3}"
   ]
  },
  {
   "cell_type": "code",
   "execution_count": null,
   "metadata": {
    "ExecuteTime": {
     "end_time": "2020-02-15T14:41:11.115296Z",
     "start_time": "2020-02-15T14:41:11.112315Z"
    },
    "pycharm": {
     "is_executing": false
    }
   },
   "outputs": [],
   "source": [
    "Bira_df=pd.DataFrame(Bira_dict,index=[\"Bira1\",\"Bira2\",\"Bira3\"])"
   ]
  },
  {
   "cell_type": "code",
   "execution_count": null,
   "metadata": {
    "ExecuteTime": {
     "end_time": "2020-02-15T14:41:11.485019Z",
     "start_time": "2020-02-15T14:41:11.477990Z"
    },
    "pycharm": {
     "is_executing": false
    }
   },
   "outputs": [],
   "source": [
    "Bira_df"
   ]
  },
  {
   "cell_type": "code",
   "execution_count": null,
   "metadata": {
    "ExecuteTime": {
     "end_time": "2020-02-15T14:41:13.902530Z",
     "start_time": "2020-02-15T14:41:13.898550Z"
    },
    "pycharm": {
     "is_executing": false
    }
   },
   "outputs": [],
   "source": [
    "x1=pd.DataFrame({\"t1\":[0,10,90]},index=[\"Bira1\",\"Bira2\",\"Bira3\"])"
   ]
  },
  {
   "cell_type": "code",
   "execution_count": null,
   "metadata": {
    "ExecuteTime": {
     "end_time": "2020-02-15T14:41:14.155279Z",
     "start_time": "2020-02-15T14:41:14.149731Z"
    },
    "pycharm": {
     "is_executing": false
    }
   },
   "outputs": [],
   "source": [
    "x1"
   ]
  },
  {
   "cell_type": "code",
   "execution_count": null,
   "metadata": {
    "ExecuteTime": {
     "end_time": "2020-02-15T14:41:55.005021Z",
     "start_time": "2020-02-15T14:41:55.002012Z"
    },
    "pycharm": {
     "is_executing": false
    }
   },
   "outputs": [],
   "source": [
    "Bira_df.shape"
   ]
  },
  {
   "cell_type": "code",
   "execution_count": null,
   "metadata": {
    "ExecuteTime": {
     "end_time": "2020-02-15T14:41:46.838258Z",
     "start_time": "2020-02-15T14:41:46.835227Z"
    },
    "pycharm": {
     "is_executing": false
    }
   },
   "outputs": [],
   "source": [
    "x1.shape"
   ]
  },
  {
   "cell_type": "code",
   "execution_count": null,
   "metadata": {
    "ExecuteTime": {
     "end_time": "2020-02-15T14:41:24.199069Z",
     "start_time": "2020-02-15T14:41:24.196078Z"
    },
    "pycharm": {
     "is_executing": false
    }
   },
   "outputs": [],
   "source": [
    "y1=Bira_df.dot(x1)"
   ]
  },
  {
   "cell_type": "code",
   "execution_count": null,
   "metadata": {
    "ExecuteTime": {
     "end_time": "2020-02-15T14:41:26.429387Z",
     "start_time": "2020-02-15T14:41:26.423333Z"
    },
    "pycharm": {
     "is_executing": false
    }
   },
   "outputs": [],
   "source": [
    "y1"
   ]
  },
  {
   "cell_type": "markdown",
   "metadata": {},
   "source": [
    "### 3.Problem"
   ]
  },
  {
   "cell_type": "code",
   "execution_count": null,
   "metadata": {
    "ExecuteTime": {
     "end_time": "2020-02-15T14:49:17.744997Z",
     "start_time": "2020-02-15T14:49:17.740022Z"
    },
    "pycharm": {
     "is_executing": false
    }
   },
   "outputs": [],
   "source": [
    "A=np.array([1,2]) ; B=np.array([[2,3],[4,5]]);C=np.array([[2],[1]])\n",
    "vektörel_çarpım(vektörel_çarpım(A,B),C)==vektörel_çarpım(A,vektörel_çarpım(B,C))"
   ]
  },
  {
   "cell_type": "markdown",
   "metadata": {},
   "source": [
    "### 4.Problem"
   ]
  },
  {
   "cell_type": "code",
   "execution_count": null,
   "metadata": {
    "ExecuteTime": {
     "end_time": "2020-02-15T14:51:04.199305Z",
     "start_time": "2020-02-15T14:51:04.192785Z"
    },
    "pycharm": {
     "is_executing": false
    }
   },
   "outputs": [],
   "source": [
    "A=np.array([1,2]) ; B=np.array([[2,3],[4,5]])\n",
    "print(\" (AB)T :\\n\", vektörel_çarpım(A,B).T)\n",
    "print(\" BT*AT :\\n\",vektörel_çarpım(B.T,A.T))\n",
    "vektörel_çarpım(A,B).T==vektörel_çarpım(B.T,A.T)"
   ]
  },
  {
   "cell_type": "markdown",
   "metadata": {},
   "source": [
    "### 5.Problem"
   ]
  },
  {
   "cell_type": "code",
   "execution_count": null,
   "metadata": {
    "ExecuteTime": {
     "end_time": "2020-02-15T14:53:17.855384Z",
     "start_time": "2020-02-15T14:53:17.851356Z"
    },
    "pycharm": {
     "is_executing": false
    }
   },
   "outputs": [],
   "source": [
    "A=np.array([[1,2],[2,1]]);\n",
    "print(\" A : \\n\",A)\n",
    "print(\" A.T : \\n\",A.T)\n",
    "\n",
    "print(\" A==A.T : \\n\",A==A.T  )"
   ]
  },
  {
   "cell_type": "code",
   "execution_count": null,
   "metadata": {
    "ExecuteTime": {
     "end_time": "2020-02-15T14:54:07.819760Z",
     "start_time": "2020-02-15T14:54:07.816780Z"
    },
    "pycharm": {
     "is_executing": false
    }
   },
   "outputs": [],
   "source": [
    "# a \n",
    "print(\"A*A.T simetrik \\n\" , A.dot(A.T)==A.dot(A.T).T)"
   ]
  },
  {
   "cell_type": "code",
   "execution_count": null,
   "metadata": {
    "ExecuteTime": {
     "end_time": "2020-02-15T14:55:06.570650Z",
     "start_time": "2020-02-15T14:55:06.566639Z"
    },
    "pycharm": {
     "is_executing": false
    }
   },
   "outputs": [],
   "source": [
    "# b \n",
    "print(\"A+A.T simetrik \\n\" , (A+A.T)==(A+A.T).T)"
   ]
  },
  {
   "cell_type": "markdown",
   "metadata": {},
   "source": [
    "### 6.Problem"
   ]
  },
  {
   "cell_type": "code",
   "execution_count": null,
   "metadata": {
    "ExecuteTime": {
     "end_time": "2020-02-15T14:55:47.301322Z",
     "start_time": "2020-02-15T14:55:47.298306Z"
    },
    "pycharm": {
     "is_executing": false
    }
   },
   "outputs": [],
   "source": [
    "A=np.array([[1,1],[1,1]]);\n",
    "B=np.array([[2,1],[1,2]]);"
   ]
  },
  {
   "cell_type": "code",
   "execution_count": null,
   "metadata": {
    "ExecuteTime": {
     "end_time": "2020-02-15T14:56:04.309245Z",
     "start_time": "2020-02-15T14:56:04.305234Z"
    },
    "pycharm": {
     "is_executing": false
    }
   },
   "outputs": [],
   "source": [
    "A.shape"
   ]
  },
  {
   "cell_type": "code",
   "execution_count": null,
   "metadata": {
    "ExecuteTime": {
     "end_time": "2020-02-15T14:56:08.100956Z",
     "start_time": "2020-02-15T14:56:08.096944Z"
    },
    "pycharm": {
     "is_executing": false
    }
   },
   "outputs": [],
   "source": [
    "B.shape"
   ]
  },
  {
   "cell_type": "code",
   "execution_count": null,
   "metadata": {
    "ExecuteTime": {
     "end_time": "2020-02-15T14:57:09.697148Z",
     "start_time": "2020-02-15T14:57:09.694140Z"
    },
    "pycharm": {
     "is_executing": false
    }
   },
   "outputs": [],
   "source": [
    "n=A.shape[0]"
   ]
  },
  {
   "cell_type": "code",
   "execution_count": null,
   "metadata": {
    "ExecuteTime": {
     "end_time": "2020-02-15T14:57:12.196252Z",
     "start_time": "2020-02-15T14:57:12.193242Z"
    },
    "pycharm": {
     "is_executing": false
    }
   },
   "outputs": [],
   "source": [
    "n**3 # Gereken çarpma sayısı"
   ]
  },
  {
   "cell_type": "code",
   "execution_count": null,
   "metadata": {
    "ExecuteTime": {
     "end_time": "2020-02-15T14:57:17.100982Z",
     "start_time": "2020-02-15T14:57:17.097005Z"
    },
    "pycharm": {
     "is_executing": false
    }
   },
   "outputs": [],
   "source": [
    "n**3-n**2 # Gereken toplama sayısı"
   ]
  },
  {
   "cell_type": "markdown",
   "metadata": {},
   "source": [
    "### 7.Problem"
   ]
  },
  {
   "cell_type": "code",
   "execution_count": null,
   "metadata": {
    "ExecuteTime": {
     "end_time": "2020-02-15T15:04:42.269674Z",
     "start_time": "2020-02-15T15:04:42.265697Z"
    },
    "pycharm": {
     "is_executing": false
    }
   },
   "outputs": [],
   "source": [
    "def matriks_izi(A):\n",
    "    return np.array([A[i][i] for i in range(len(A))])"
   ]
  },
  {
   "cell_type": "code",
   "execution_count": null,
   "metadata": {
    "ExecuteTime": {
     "end_time": "2020-02-15T15:04:43.671631Z",
     "start_time": "2020-02-15T15:04:43.666610Z"
    },
    "pycharm": {
     "is_executing": false
    }
   },
   "outputs": [],
   "source": [
    "# a\n",
    "matriks_izi(A+B)==(matriks_izi(A)+matriks_izi(B))"
   ]
  },
  {
   "cell_type": "code",
   "execution_count": null,
   "metadata": {
    "ExecuteTime": {
     "end_time": "2020-02-15T15:05:41.867142Z",
     "start_time": "2020-02-15T15:05:41.863162Z"
    },
    "pycharm": {
     "is_executing": false
    }
   },
   "outputs": [],
   "source": [
    "# b\n",
    "matriks_izi(vektörel_çarpım(A,B))  == matriks_izi(vektörel_çarpım(B,A))"
   ]
  },
  {
   "cell_type": "markdown",
   "metadata": {},
   "source": [
    "# Lineer Denklemlerin Matrisleri"
   ]
  },
  {
   "cell_type": "code",
   "execution_count": null,
   "metadata": {
    "ExecuteTime": {
     "end_time": "2020-02-15T15:10:37.280515Z",
     "start_time": "2020-02-15T15:10:37.277533Z"
    },
    "lines_to_next_cell": 2,
    "pycharm": {
     "is_executing": false
    }
   },
   "outputs": [],
   "source": [
    "a11=None;a12=None;a13=None;a21=None;a22=None;a23=None; a31=None;a32=None;a33=None;\n",
    "\n",
    "A=np.array([[a11,a12,a13],\n",
    "[a21,a22,a23],\n",
    "[a31,a32,a33]])"
   ]
  },
  {
   "cell_type": "code",
   "execution_count": null,
   "metadata": {
    "ExecuteTime": {
     "end_time": "2020-02-15T15:10:37.667746Z",
     "start_time": "2020-02-15T15:10:37.663735Z"
    },
    "pycharm": {
     "is_executing": false
    }
   },
   "outputs": [],
   "source": [
    "A"
   ]
  },
  {
   "cell_type": "code",
   "execution_count": null,
   "metadata": {
    "ExecuteTime": {
     "end_time": "2020-02-15T15:10:46.922197Z",
     "start_time": "2020-02-15T15:10:46.919223Z"
    },
    "pycharm": {
     "is_executing": false
    }
   },
   "outputs": [],
   "source": [
    "x11=None;x12=None;x13=None;x21=None;x22=None;x23=None; x31=None;x32=None;x33=None;\n",
    "\n",
    "X=np.array([[x11,x12,x13],\n",
    "[x21,x22,x23],\n",
    "[x31,x32,x33]])"
   ]
  },
  {
   "cell_type": "code",
   "execution_count": null,
   "metadata": {
    "ExecuteTime": {
     "end_time": "2020-02-15T15:11:16.168058Z",
     "start_time": "2020-02-15T15:11:16.165050Z"
    },
    "pycharm": {
     "is_executing": false
    }
   },
   "outputs": [],
   "source": [
    "b1=None;b2=None;b3=None;\n",
    "B=np.array([b1,b2,b3])"
   ]
  },
  {
   "cell_type": "code",
   "execution_count": null,
   "metadata": {
    "ExecuteTime": {
     "end_time": "2020-02-15T15:11:17.582189Z",
     "start_time": "2020-02-15T15:11:17.578180Z"
    },
    "pycharm": {
     "is_executing": false
    }
   },
   "outputs": [],
   "source": [
    "B"
   ]
  },
  {
   "cell_type": "code",
   "execution_count": null,
   "metadata": {
    "ExecuteTime": {
     "end_time": "2020-02-15T15:11:34.737134Z",
     "start_time": "2020-02-15T15:11:34.730149Z"
    },
    "pycharm": {
     "is_executing": false
    }
   },
   "outputs": [],
   "source": [
    "A.dot(X)==B"
   ]
  },
  {
   "cell_type": "markdown",
   "metadata": {
    "ExecuteTime": {
     "end_time": "2020-02-15T15:12:20.015593Z",
     "start_time": "2020-02-15T15:12:20.013588Z"
    }
   },
   "source": [
    "<b><i> X değişken , A ve B sabittir. A*X=B </b></i> "
   ]
  },
  {
   "cell_type": "markdown",
   "metadata": {},
   "source": [
    "<b> Örnek Olarak : </b>  "
   ]
  },
  {
   "cell_type": "code",
   "execution_count": 2,
   "metadata": {
    "ExecuteTime": {
     "end_time": "2020-02-22T07:50:25.459974Z",
     "start_time": "2020-02-22T07:50:25.444347Z"
    },
    "pycharm": {
     "is_executing": false
    }
   },
   "outputs": [],
   "source": [
    "A=np.array([[1,2],[2,-1]])\n",
    "B=np.array([[5],[0]])"
   ]
  },
  {
   "cell_type": "code",
   "execution_count": 3,
   "metadata": {
    "ExecuteTime": {
     "end_time": "2020-02-22T07:50:26.291110Z",
     "start_time": "2020-02-22T07:50:26.283098Z"
    },
    "pycharm": {
     "is_executing": false
    }
   },
   "outputs": [
    {
     "data": {
      "text/plain": [
       "array([[ 1,  2],\n",
       "       [ 2, -1]])"
      ]
     },
     "execution_count": 3,
     "metadata": {},
     "output_type": "execute_result"
    }
   ],
   "source": [
    "A"
   ]
  },
  {
   "cell_type": "code",
   "execution_count": 4,
   "metadata": {
    "ExecuteTime": {
     "end_time": "2020-02-22T07:50:32.383062Z",
     "start_time": "2020-02-22T07:50:32.378075Z"
    },
    "pycharm": {
     "is_executing": false
    }
   },
   "outputs": [
    {
     "data": {
      "text/plain": [
       "array([[5],\n",
       "       [0]])"
      ]
     },
     "execution_count": 4,
     "metadata": {},
     "output_type": "execute_result"
    }
   ],
   "source": [
    "B"
   ]
  },
  {
   "cell_type": "code",
   "execution_count": 5,
   "metadata": {
    "ExecuteTime": {
     "end_time": "2020-02-22T07:50:37.176245Z",
     "start_time": "2020-02-22T07:50:37.172735Z"
    },
    "pycharm": {
     "is_executing": false
    }
   },
   "outputs": [],
   "source": [
    "X=np.array([[1],[2]])"
   ]
  },
  {
   "cell_type": "code",
   "execution_count": 6,
   "metadata": {
    "ExecuteTime": {
     "end_time": "2020-02-22T07:50:49.095813Z",
     "start_time": "2020-02-22T07:50:49.080554Z"
    },
    "pycharm": {
     "is_executing": false
    }
   },
   "outputs": [
    {
     "data": {
      "text/plain": [
       "array([[ True],\n",
       "       [ True]])"
      ]
     },
     "execution_count": 6,
     "metadata": {},
     "output_type": "execute_result"
    }
   ],
   "source": [
    "A.dot(X)==B"
   ]
  },
  {
   "cell_type": "code",
   "execution_count": 7,
   "metadata": {
    "ExecuteTime": {
     "end_time": "2020-02-22T07:50:53.415107Z",
     "start_time": "2020-02-22T07:50:53.411285Z"
    },
    "pycharm": {
     "is_executing": false
    }
   },
   "outputs": [
    {
     "data": {
      "text/plain": [
       "array([[ 1,  2],\n",
       "       [ 2, -1]])"
      ]
     },
     "execution_count": 7,
     "metadata": {},
     "output_type": "execute_result"
    }
   ],
   "source": [
    "A"
   ]
  },
  {
   "cell_type": "code",
   "execution_count": null,
   "metadata": {
    "ExecuteTime": {
     "end_time": "2020-02-15T15:29:11.100576Z",
     "start_time": "2020-02-15T15:29:11.097604Z"
    },
    "pycharm": {
     "is_executing": false
    }
   },
   "outputs": [],
   "source": [
    "B"
   ]
  },
  {
   "cell_type": "code",
   "execution_count": 8,
   "metadata": {
    "ExecuteTime": {
     "end_time": "2020-02-22T07:51:27.719006Z",
     "start_time": "2020-02-22T07:51:27.713972Z"
    },
    "pycharm": {
     "is_executing": false
    }
   },
   "outputs": [
    {
     "data": {
      "text/plain": [
       "array([[ 1,  2,  5],\n",
       "       [ 2, -1,  0]])"
      ]
     },
     "execution_count": 8,
     "metadata": {},
     "output_type": "execute_result"
    }
   ],
   "source": [
    "# A|b\n",
    "np.concatenate((A,B), axis=1)"
   ]
  },
  {
   "cell_type": "code",
   "execution_count": 9,
   "metadata": {
    "ExecuteTime": {
     "end_time": "2020-02-22T07:51:28.577755Z",
     "start_time": "2020-02-22T07:51:28.572742Z"
    },
    "pycharm": {
     "is_executing": false
    }
   },
   "outputs": [
    {
     "data": {
      "text/plain": [
       "array([[ 1, -1,  4],\n",
       "       [ 2,  1,  6],\n",
       "       [ 1,  3,  8]])"
      ]
     },
     "execution_count": 9,
     "metadata": {},
     "output_type": "execute_result"
    }
   ],
   "source": [
    "# Problem \n",
    "\n",
    "A=np.array([[1,-1],[2,1],[1,3]])\n",
    "B=np.array([[4],[6],[8]])\n",
    "\n",
    "np.concatenate((A,B), axis=1)"
   ]
  },
  {
   "cell_type": "markdown",
   "metadata": {},
   "source": [
    "# Gauss-Jordan Metodu ile Lineer Denklem Çözümü"
   ]
  },
  {
   "cell_type": "code",
   "execution_count": null,
   "metadata": {
    "ExecuteTime": {
     "end_time": "2020-02-15T15:34:23.873456Z",
     "start_time": "2020-02-15T15:34:23.870493Z"
    },
    "pycharm": {
     "is_executing": false
    }
   },
   "outputs": [],
   "source": [
    "# Durum 1 : Sistemin çözümü yoktur.\n",
    "# Durum 2 : Sistemin tek bir çözümü vardır.\n",
    "# Durum 3 : Sistemin sonsuz çözümü vardır."
   ]
  },
  {
   "cell_type": "markdown",
   "metadata": {},
   "source": [
    "## Satır Operasyonları (ERO)"
   ]
  },
  {
   "cell_type": "code",
   "execution_count": 137,
   "metadata": {
    "ExecuteTime": {
     "end_time": "2020-02-15T15:37:08.219379Z",
     "start_time": "2020-02-15T15:37:08.216906Z"
    },
    "pycharm": {
     "is_executing": false
    }
   },
   "outputs": [],
   "source": [
    "# ERO 1  : herhangi bir satırı bir sabit ile çarpmak \n",
    "A=np.array([[11,-1],[12,1],[1,37]])"
   ]
  },
  {
   "cell_type": "code",
   "execution_count": 138,
   "metadata": {
    "ExecuteTime": {
     "end_time": "2020-02-15T15:37:11.289471Z",
     "start_time": "2020-02-15T15:37:11.286436Z"
    },
    "pycharm": {
     "is_executing": false
    }
   },
   "outputs": [
    {
     "data": {
      "text/plain": [
       "array([[11, -1],\n",
       "       [12,  1],\n",
       "       [ 1, 37]])"
      ]
     },
     "execution_count": 138,
     "metadata": {},
     "output_type": "execute_result"
    }
   ],
   "source": [
    "A"
   ]
  },
  {
   "cell_type": "code",
   "execution_count": 139,
   "metadata": {
    "ExecuteTime": {
     "end_time": "2020-02-15T15:37:13.388500Z",
     "start_time": "2020-02-15T15:37:13.385497Z"
    },
    "pycharm": {
     "is_executing": false
    }
   },
   "outputs": [],
   "source": [
    "A[0]=A[0]*33"
   ]
  },
  {
   "cell_type": "code",
   "execution_count": 140,
   "metadata": {
    "ExecuteTime": {
     "end_time": "2020-02-15T15:37:14.029403Z",
     "start_time": "2020-02-15T15:37:14.025391Z"
    },
    "pycharm": {
     "is_executing": false
    }
   },
   "outputs": [
    {
     "data": {
      "text/plain": [
       "array([[363, -33],\n",
       "       [ 12,   1],\n",
       "       [  1,  37]])"
      ]
     },
     "execution_count": 140,
     "metadata": {},
     "output_type": "execute_result"
    }
   ],
   "source": [
    "A"
   ]
  },
  {
   "cell_type": "code",
   "execution_count": 151,
   "metadata": {
    "pycharm": {
     "is_executing": false,
     "name": "#%%\n"
    }
   },
   "outputs": [
    {
     "data": {
      "text/plain": [
       "array([[11, -1],\n",
       "       [12,  1],\n",
       "       [56, 32]])"
      ]
     },
     "execution_count": 151,
     "metadata": {},
     "output_type": "execute_result"
    }
   ],
   "source": [
    "# ERO 2  : herhangi  diğer satıra eklemek\n",
    "A=np.array([[11,-1],[12,1],[1,37]])\n",
    "A[2]=A[2]+A[0]*5\n",
    "A"
   ]
  },
  {
   "cell_type": "code",
   "execution_count": 153,
   "metadata": {
    "lines_to_next_cell": 2,
    "pycharm": {
     "is_executing": false,
     "name": "#%%\n"
    }
   },
   "outputs": [
    {
     "data": {
      "text/plain": [
       "array([[ 1, 37],\n",
       "       [12,  1],\n",
       "       [11, -1]])"
      ]
     },
     "execution_count": 153,
     "metadata": {},
     "output_type": "execute_result"
    }
   ],
   "source": [
    "# ERO 3 : İki satırın yerlerini değiştirmek \n",
    "A=np.array([[11,-1],[12,1],[1,37]])\n",
    "Geçici_Değişken=A[0].copy() # .copy() yapmazsak aynı yere kaydediyor.\n",
    "A[0]=A[2]\n",
    "A[2]=Geçici_Değişken\n",
    "A\n"
   ]
  },
  {
   "cell_type": "code",
   "execution_count": 10,
   "metadata": {
    "ExecuteTime": {
     "end_time": "2020-02-22T07:59:26.665437Z",
     "start_time": "2020-02-22T07:59:26.660425Z"
    }
   },
   "outputs": [
    {
     "data": {
      "text/plain": [
       "array([[ 1, 37],\n",
       "       [12,  1],\n",
       "       [ 1, 37]])"
      ]
     },
     "execution_count": 10,
     "metadata": {},
     "output_type": "execute_result"
    }
   ],
   "source": [
    "A=np.array([[11,-1],[12,1],[1,37]])\n",
    "Geçici_Değişken=A[0] # .copy() yapmazsak aynı yere kaydediyor.\n",
    "A[0]=A[2]\n",
    "A[2]=Geçici_Değişken\n",
    "A"
   ]
  },
  {
   "cell_type": "code",
   "execution_count": null,
   "metadata": {},
   "outputs": [],
   "source": []
  },
  {
   "cell_type": "code",
   "execution_count": null,
   "metadata": {},
   "outputs": [],
   "source": []
  },
  {
   "cell_type": "code",
   "execution_count": 175,
   "metadata": {
    "lines_to_next_cell": 2,
    "pycharm": {
     "is_executing": false,
     "name": "#%%\n"
    }
   },
   "outputs": [
    {
     "data": {
      "text/plain": [
       "array([[1., 1., 2.],\n",
       "       [2., 4., 7.]])"
      ]
     },
     "execution_count": 175,
     "metadata": {},
     "output_type": "execute_result"
    }
   ],
   "source": [
    "# x1+x2 = 2  ve 2x1 + 4x2 =7 denklemini bu öğrendiklerimiz ile çözelim.\n",
    "\n",
    "A=np.array([[1,1,2],[2,4,7.0]],float)\n",
    "A\n",
    "\n"
   ]
  },
  {
   "cell_type": "code",
   "execution_count": 176,
   "metadata": {
    "pycharm": {
     "is_executing": false,
     "name": "#%%\n"
    }
   },
   "outputs": [
    {
     "data": {
      "text/plain": [
       "array([[1. , 1. , 2. ],\n",
       "       [1. , 2. , 3.5]])"
      ]
     },
     "execution_count": 176,
     "metadata": {},
     "output_type": "execute_result"
    }
   ],
   "source": [
    "A[1]=A[1]/2  # ERO1\n",
    "A"
   ]
  },
  {
   "cell_type": "code",
   "execution_count": 177,
   "metadata": {
    "lines_to_next_cell": 2,
    "pycharm": {
     "is_executing": false,
     "name": "#%%\n"
    }
   },
   "outputs": [
    {
     "data": {
      "text/plain": [
       "array([[1. , 1. , 2. ],\n",
       "       [0. , 1. , 1.5]])"
      ]
     },
     "execution_count": 177,
     "metadata": {},
     "output_type": "execute_result"
    }
   ],
   "source": [
    "A[1]=A[1]-A[0]  # ERO2\n",
    "A\n"
   ]
  },
  {
   "cell_type": "code",
   "execution_count": 178,
   "metadata": {
    "lines_to_next_cell": 2,
    "pycharm": {
     "is_executing": false,
     "name": "#%%\n"
    }
   },
   "outputs": [
    {
     "data": {
      "text/plain": [
       "array([[1. , 0. , 0.5],\n",
       "       [0. , 1. , 1.5]])"
      ]
     },
     "execution_count": 178,
     "metadata": {},
     "output_type": "execute_result"
    }
   ],
   "source": [
    "A[0]=A[0]-A[1]  # ERO2\n",
    "A"
   ]
  },
  {
   "cell_type": "code",
   "execution_count": 182,
   "metadata": {
    "pycharm": {
     "is_executing": false,
     "name": "#%%\n"
    }
   },
   "outputs": [
    {
     "name": "stdout",
     "output_type": "stream",
     "text": [
      "x1 : 0.5 ve x2: 1.5\n"
     ]
    }
   ],
   "source": [
    "[x1,x2]=A[:,2]\n",
    "print(\"x1 : {x1} ve x2: {x2}\".format(x1=x1,x2=x2))\n",
    "\n",
    "\n"
   ]
  },
  {
   "cell_type": "markdown",
   "metadata": {},
   "source": [
    "## Gauss Jordan İle Çözüm "
   ]
  },
  {
   "cell_type": "code",
   "execution_count": 11,
   "metadata": {
    "ExecuteTime": {
     "end_time": "2020-02-22T08:07:16.481070Z",
     "start_time": "2020-02-22T08:07:16.476031Z"
    },
    "lines_to_next_cell": 2,
    "pycharm": {
     "is_executing": false,
     "name": "#%%\n"
    }
   },
   "outputs": [
    {
     "data": {
      "text/plain": [
       "array([[ 2.,  2.,  1.,  9.],\n",
       "       [ 2., -1.,  2.,  6.],\n",
       "       [ 1., -1.,  2.,  5.]])"
      ]
     },
     "execution_count": 11,
     "metadata": {},
     "output_type": "execute_result"
    }
   ],
   "source": [
    "A=np.array([[2,2,1],[2,-1,2],[1,-1,2]],float) # Katsayı\n",
    "b=np.array([[9],[6],[5]],float) # y \n",
    "\n",
    "Ab=np.concatenate((A,b),axis=1) # matrisleri birleştirdik\n",
    "\n",
    "Ab \n"
   ]
  },
  {
   "cell_type": "code",
   "execution_count": 12,
   "metadata": {
    "ExecuteTime": {
     "end_time": "2020-02-22T08:07:19.303960Z",
     "start_time": "2020-02-22T08:07:19.297933Z"
    },
    "lines_to_next_cell": 2
   },
   "outputs": [
    {
     "data": {
      "text/plain": [
       "array([[ 1. ,  1. ,  0.5,  4.5],\n",
       "       [ 2. , -1. ,  2. ,  6. ],\n",
       "       [ 1. , -1. ,  2. ,  5. ]])"
      ]
     },
     "execution_count": 12,
     "metadata": {},
     "output_type": "execute_result"
    }
   ],
   "source": [
    "Ab1=Ab.copy() # ilk işlem olarak birinci satırın ilk elemanı 1 olacak şekilde ERO işlemi yaptık\n",
    "Ab1[0]=Ab1[0]/2\n",
    "Ab1"
   ]
  },
  {
   "cell_type": "code",
   "execution_count": 16,
   "metadata": {
    "ExecuteTime": {
     "end_time": "2020-02-22T08:12:13.909088Z",
     "start_time": "2020-02-22T08:12:13.904575Z"
    },
    "pycharm": {
     "is_executing": false,
     "name": "#%%\n"
    }
   },
   "outputs": [
    {
     "data": {
      "text/plain": [
       "array([[ 1. ,  1. ,  0.5,  4.5],\n",
       "       [ 0. , -3. ,  1. , -3. ],\n",
       "       [ 1. , -1. ,  2. ,  5. ]])"
      ]
     },
     "execution_count": 16,
     "metadata": {},
     "output_type": "execute_result"
    }
   ],
   "source": [
    "Ab2=Ab1.copy() # Sonrasında 2 ve 3. satırların ilk sütünlarını 0 olacak şekilde ERO işlemleri yapıyoruz.\n",
    "Ab2[1]=Ab2[1]-Ab1[1][0]*Ab1[0]\n",
    "Ab2"
   ]
  },
  {
   "cell_type": "code",
   "execution_count": 17,
   "metadata": {
    "ExecuteTime": {
     "end_time": "2020-02-22T08:13:39.625453Z",
     "start_time": "2020-02-22T08:13:39.620439Z"
    },
    "lines_to_next_cell": 2,
    "pycharm": {
     "is_executing": false,
     "name": "#%%\n"
    }
   },
   "outputs": [
    {
     "data": {
      "text/plain": [
       "array([[ 1. ,  1. ,  0.5,  4.5],\n",
       "       [ 0. , -3. ,  1. , -3. ],\n",
       "       [ 0. , -2. ,  1.5,  0.5]])"
      ]
     },
     "execution_count": 17,
     "metadata": {},
     "output_type": "execute_result"
    }
   ],
   "source": [
    "Ab3=Ab2.copy()\n",
    "Ab3[2]=Ab2[2]-Ab2[2][0]*Ab2[0]\n",
    "\n",
    "Ab3"
   ]
  },
  {
   "cell_type": "code",
   "execution_count": 18,
   "metadata": {
    "ExecuteTime": {
     "end_time": "2020-02-22T08:15:22.728742Z",
     "start_time": "2020-02-22T08:15:22.723773Z"
    },
    "pycharm": {
     "is_executing": false,
     "name": "#%%\n"
    }
   },
   "outputs": [
    {
     "data": {
      "text/plain": [
       "array([[ 1.        ,  0.        ,  0.83333333,  3.5       ],\n",
       "       [-0.        ,  1.        , -0.33333333,  1.        ],\n",
       "       [ 0.        ,  0.        ,  0.83333333,  2.5       ]])"
      ]
     },
     "execution_count": 18,
     "metadata": {},
     "output_type": "execute_result"
    }
   ],
   "source": [
    "Ab3[1]=Ab3[1]*(-1/3) # Yukarıda birinci satır için yaptığımız işlemleri 2. ve 3 satırlar için de yapıyoruz.\n",
    "\n",
    "Ab3[0]=Ab3[0]-Ab3[1]\n",
    "\n",
    "Ab3[2]=Ab3[2]+2*Ab3[1]\n",
    "Ab3"
   ]
  },
  {
   "cell_type": "code",
   "execution_count": 19,
   "metadata": {
    "ExecuteTime": {
     "end_time": "2020-02-22T08:19:48.424369Z",
     "start_time": "2020-02-22T08:19:48.421370Z"
    },
    "lines_to_end_of_cell_marker": 2,
    "pycharm": {
     "is_executing": false,
     "name": "#%%\n"
    }
   },
   "outputs": [],
   "source": [
    "Ab4=Ab3.copy()\n",
    "\n",
    "Ab4[2]=Ab4[2]*(6/5)\n",
    "\n",
    "Ab4[0]=Ab4[0]-Ab4[2]*(5/6)\n",
    "\n",
    "Ab4[1]=Ab4[1]+Ab4[2]*(1/3)"
   ]
  },
  {
   "cell_type": "code",
   "execution_count": 20,
   "metadata": {
    "ExecuteTime": {
     "end_time": "2020-02-22T08:19:51.153650Z",
     "start_time": "2020-02-22T08:19:51.149638Z"
    }
   },
   "outputs": [
    {
     "data": {
      "text/plain": [
       "array([[ 1.,  0., -0.,  1.],\n",
       "       [ 0.,  1.,  0.,  2.],\n",
       "       [ 0.,  0.,  1.,  3.]])"
      ]
     },
     "execution_count": 20,
     "metadata": {},
     "output_type": "execute_result"
    }
   ],
   "source": [
    "np.round(Ab4,6) "
   ]
  },
  {
   "cell_type": "code",
   "execution_count": 21,
   "metadata": {
    "ExecuteTime": {
     "end_time": "2020-02-22T08:20:00.841580Z",
     "start_time": "2020-02-22T08:20:00.838602Z"
    }
   },
   "outputs": [],
   "source": [
    "[x1,x2,x3]=Ab4[:,3]"
   ]
  },
  {
   "cell_type": "code",
   "execution_count": 22,
   "metadata": {
    "ExecuteTime": {
     "end_time": "2020-02-22T08:20:02.285099Z",
     "start_time": "2020-02-22T08:20:02.281122Z"
    }
   },
   "outputs": [
    {
     "name": "stdout",
     "output_type": "stream",
     "text": [
      "x1 : 1.0 , x2: 2.0 ve x3: 3.0 olarak bulunmuştur.\n"
     ]
    }
   ],
   "source": [
    "print(\"x1 : {x1} , x2: {x2} ve x3: {x3} olarak bulunmuştur.\".format(x1=x1,x2=x2,x3=x3))"
   ]
  },
  {
   "cell_type": "code",
   "execution_count": 16,
   "metadata": {
    "ExecuteTime": {
     "end_time": "2020-02-18T15:53:13.457961Z",
     "start_time": "2020-02-18T15:53:13.442147Z"
    }
   },
   "outputs": [],
   "source": [
    "## Çözümsüz veya Sonsuz Çözümlü Denklemler"
   ]
  },
  {
   "cell_type": "code",
   "execution_count": 23,
   "metadata": {
    "ExecuteTime": {
     "end_time": "2020-02-22T08:22:47.766181Z",
     "start_time": "2020-02-22T08:22:47.763195Z"
    }
   },
   "outputs": [],
   "source": [
    "# Örnek 6\n",
    "A=np.array([[1,2],[2,4]]);b=np.array([[3],[4]])\n",
    "Ab=np.concatenate((A,b),axis=1)"
   ]
  },
  {
   "cell_type": "code",
   "execution_count": 24,
   "metadata": {
    "ExecuteTime": {
     "end_time": "2020-02-22T08:22:48.663332Z",
     "start_time": "2020-02-22T08:22:48.658299Z"
    }
   },
   "outputs": [
    {
     "data": {
      "text/plain": [
       "array([[1, 2, 3],\n",
       "       [2, 4, 4]])"
      ]
     },
     "execution_count": 24,
     "metadata": {},
     "output_type": "execute_result"
    }
   ],
   "source": [
    "Ab"
   ]
  },
  {
   "cell_type": "code",
   "execution_count": 25,
   "metadata": {
    "ExecuteTime": {
     "end_time": "2020-02-22T08:23:03.094327Z",
     "start_time": "2020-02-22T08:23:03.091320Z"
    }
   },
   "outputs": [],
   "source": [
    "Ab[1]=Ab[1]-2*Ab[0]"
   ]
  },
  {
   "cell_type": "code",
   "execution_count": 26,
   "metadata": {
    "ExecuteTime": {
     "end_time": "2020-02-22T08:23:03.497159Z",
     "start_time": "2020-02-22T08:23:03.493149Z"
    }
   },
   "outputs": [
    {
     "data": {
      "text/plain": [
       "array([[ 1,  2,  3],\n",
       "       [ 0,  0, -2]])"
      ]
     },
     "execution_count": 26,
     "metadata": {},
     "output_type": "execute_result"
    }
   ],
   "source": [
    "Ab"
   ]
  },
  {
   "cell_type": "code",
   "execution_count": 22,
   "metadata": {
    "ExecuteTime": {
     "end_time": "2020-02-18T15:57:14.177835Z",
     "start_time": "2020-02-18T15:57:14.174838Z"
    }
   },
   "outputs": [
    {
     "data": {
      "text/plain": [
       "array([ 0,  0, -2])"
      ]
     },
     "execution_count": 22,
     "metadata": {},
     "output_type": "execute_result"
    }
   ],
   "source": [
    "Ab[1] # x1 ve x2 ye ne verirsek verelim sonuç -2 olmaz. Bu yüzden ÇÖZÜMSÜZDÜR."
   ]
  },
  {
   "cell_type": "code",
   "execution_count": 23,
   "metadata": {
    "ExecuteTime": {
     "end_time": "2020-02-18T15:58:09.449968Z",
     "start_time": "2020-02-18T15:58:09.446960Z"
    }
   },
   "outputs": [],
   "source": [
    "# Eğer A nın bir satırı tamamen 0 oluyor ve buna karşılık b nin o satıra ait değeri 0 olmuyorsa bu sistemin çözümü yoktur."
   ]
  },
  {
   "cell_type": "code",
   "execution_count": 24,
   "metadata": {
    "ExecuteTime": {
     "end_time": "2020-02-18T15:58:36.094295Z",
     "start_time": "2020-02-18T15:58:36.091333Z"
    },
    "lines_to_next_cell": 0
   },
   "outputs": [],
   "source": [
    "# Örnek 7"
   ]
  },
  {
   "cell_type": "code",
   "execution_count": 34,
   "metadata": {
    "ExecuteTime": {
     "end_time": "2020-02-22T10:13:14.685062Z",
     "start_time": "2020-02-22T10:13:14.669391Z"
    },
    "lines_to_next_cell": 2
   },
   "outputs": [],
   "source": [
    "A=np.array([[1,1,0],[0,1,1],[1,2,1]]);b=np.array([[1],[3],[4]]);\n",
    "Ab=np.concatenate((A,b),axis=1)"
   ]
  },
  {
   "cell_type": "code",
   "execution_count": 5,
   "metadata": {
    "ExecuteTime": {
     "end_time": "2020-02-18T19:15:23.917733Z",
     "start_time": "2020-02-18T19:15:23.909719Z"
    }
   },
   "outputs": [],
   "source": [
    "Ab[2]=Ab[2]-Ab[0]"
   ]
  },
  {
   "cell_type": "code",
   "execution_count": 6,
   "metadata": {
    "ExecuteTime": {
     "end_time": "2020-02-18T19:15:26.783575Z",
     "start_time": "2020-02-18T19:15:26.771557Z"
    }
   },
   "outputs": [
    {
     "data": {
      "text/plain": [
       "array([[1, 1, 0, 1],\n",
       "       [0, 1, 1, 3],\n",
       "       [0, 1, 1, 3]])"
      ]
     },
     "execution_count": 6,
     "metadata": {},
     "output_type": "execute_result"
    }
   ],
   "source": [
    "Ab"
   ]
  },
  {
   "cell_type": "code",
   "execution_count": 7,
   "metadata": {
    "ExecuteTime": {
     "end_time": "2020-02-18T19:15:51.636803Z",
     "start_time": "2020-02-18T19:15:51.632789Z"
    }
   },
   "outputs": [],
   "source": [
    "Ab[0]=Ab[0]-Ab[1]"
   ]
  },
  {
   "cell_type": "code",
   "execution_count": 8,
   "metadata": {
    "ExecuteTime": {
     "end_time": "2020-02-18T19:16:09.706166Z",
     "start_time": "2020-02-18T19:16:09.702160Z"
    }
   },
   "outputs": [],
   "source": [
    "Ab[2]=Ab[2]-Ab[1]"
   ]
  },
  {
   "cell_type": "code",
   "execution_count": 9,
   "metadata": {
    "ExecuteTime": {
     "end_time": "2020-02-18T19:16:11.298636Z",
     "start_time": "2020-02-18T19:16:11.290587Z"
    },
    "scrolled": true
   },
   "outputs": [
    {
     "data": {
      "text/plain": [
       "array([[ 1,  0, -1, -2],\n",
       "       [ 0,  1,  1,  3],\n",
       "       [ 0,  0,  0,  0]])"
      ]
     },
     "execution_count": 9,
     "metadata": {},
     "output_type": "execute_result"
    }
   ],
   "source": [
    "Ab"
   ]
  },
  {
   "cell_type": "code",
   "execution_count": 114,
   "metadata": {
    "ExecuteTime": {
     "end_time": "2020-02-22T10:57:47.520852Z",
     "start_time": "2020-02-22T10:57:47.508830Z"
    }
   },
   "outputs": [
    {
     "data": {
      "text/plain": [
       "[0, 1, 2, 3, 4]"
      ]
     },
     "execution_count": 114,
     "metadata": {},
     "output_type": "execute_result"
    }
   ],
   "source": [
    "[i for i in range(5)]"
   ]
  },
  {
   "cell_type": "code",
   "execution_count": 110,
   "metadata": {
    "ExecuteTime": {
     "end_time": "2020-02-22T10:53:50.183512Z",
     "start_time": "2020-02-22T10:53:50.171454Z"
    },
    "lines_to_next_cell": 0
   },
   "outputs": [],
   "source": [
    "# Gauss Jordan Metodu \n",
    "\n",
    "def GaussJordan(A,b):\n",
    "    \"\"\" \n",
    "    Gauss Jordan methodu ile satır işlemleri yapıp, değişkenleri \n",
    "    hesaplar.Öncelikle katsayı matrisi ile sonuç matrisi birleştirilir.\n",
    "    İlk olarak köşegen elemanın 0'a eşitliği kontrol edilir.\n",
    "    Daha sonrasında ona ait sütündaki diğer elemanlar 0 olacak \n",
    "    şekilde satır işlemleri yapılır. Bütün satırların üzerinden \n",
    "    bu yöntemle geçilir. \n",
    "    \n",
    "    \"\"\"\n",
    "    \n",
    "    # Adım 1 : A|b matrisini oluştur. \n",
    "    \n",
    "    Ab=np.concatenate((A,b),axis=1)\n",
    "    satır_sayısı=Ab.shape[0]\n",
    "    sutun_sayısı=Ab.shape[1]\n",
    "    \n",
    "    for i in range(satır_sayısı):         \n",
    "        if Ab[i][i]==0:\n",
    "            Geçici=Ab[i].copy()\n",
    "            satır_indisleri=[a for a in range(i,satır_sayısı) if Ab[a][i]!=0]\n",
    "            if satır_indisleri:\n",
    "                Ab[i]=Ab[satır_indisleri[0]].copy()\n",
    "                Ab[satır_indisleri[0]]=Geçici\n",
    "            else:\n",
    "                print(str(i)+\". satırından sonra işlem yapılamamaktadır\")\n",
    "                return Ab\n",
    "        Ab[i]=Ab[i]/Ab[i][i]    \n",
    "        for s in range(satır_sayısı): \n",
    "            if i==s:\n",
    "                pass\n",
    "            else:\n",
    "                Ab[s]=Ab[s]-Ab[i]*Ab[s][i]\n",
    "\n",
    "    return Ab"
   ]
  },
  {
   "cell_type": "code",
   "execution_count": 113,
   "metadata": {
    "ExecuteTime": {
     "end_time": "2020-02-22T10:54:01.740159Z",
     "start_time": "2020-02-22T10:54:01.722650Z"
    },
    "scrolled": true
   },
   "outputs": [
    {
     "name": "stdout",
     "output_type": "stream",
     "text": [
      "3. satırından sonra işlem yapılamamaktadır\n"
     ]
    },
    {
     "data": {
      "text/plain": [
       "array([[ 1.,  0.,  0.,  1.,  1.],\n",
       "       [ 0.,  1.,  0.,  2.,  1.],\n",
       "       [ 0.,  0.,  1.,  3., -1.],\n",
       "       [ 0.,  0.,  0.,  0.,  0.],\n",
       "       [ 0.,  0.,  0.,  0.,  2.]])"
      ]
     },
     "execution_count": 113,
     "metadata": {},
     "output_type": "execute_result"
    }
   ],
   "source": [
    "## Durum 1 \n",
    "\n",
    "A=np.array([[1,0,0,1],[0,1,0,2],[0,0,1,3],[0,0,0,0],[0,0,0,0]],float)\n",
    "b=np.array([[1],[1],[-1],[0],[2]],float)\n",
    "\n",
    "GaussJordan(A,b)"
   ]
  },
  {
   "cell_type": "code",
   "execution_count": 123,
   "metadata": {
    "ExecuteTime": {
     "end_time": "2020-02-22T11:01:32.004778Z",
     "start_time": "2020-02-22T11:01:31.992751Z"
    },
    "lines_to_next_cell": 2
   },
   "outputs": [
    {
     "name": "stdout",
     "output_type": "stream",
     "text": [
      "[[ 2.  2.  1.  9.]\n",
      " [ 2. -1.  2.  6.]\n",
      " [ 1. -1.  2.  5.]]\n"
     ]
    },
    {
     "data": {
      "text/plain": [
       "array([[1., 0., 0., 1.],\n",
       "       [0., 1., 0., 2.],\n",
       "       [0., 0., 1., 3.]])"
      ]
     },
     "execution_count": 123,
     "metadata": {},
     "output_type": "execute_result"
    }
   ],
   "source": [
    "# Durum 2\n",
    "\n",
    "A=np.array([[2,2, 1],[2,-1,2],[1,-1,2]],float)\n",
    "b=np.array([[9],[6],[5]],float)\n",
    "print(np.concatenate((A,b),axis=1))\n",
    "GaussJordan(A,b)"
   ]
  },
  {
   "cell_type": "code",
   "execution_count": 124,
   "metadata": {
    "ExecuteTime": {
     "end_time": "2020-02-22T11:03:12.358414Z",
     "start_time": "2020-02-22T11:03:12.350402Z"
    },
    "lines_to_end_of_cell_marker": 2
   },
   "outputs": [
    {
     "name": "stdout",
     "output_type": "stream",
     "text": [
      "[[1. 0. 0. 1. 1. 3.]\n",
      " [0. 1. 0. 2. 0. 2.]\n",
      " [0. 0. 1. 0. 1. 1.]\n",
      " [0. 0. 0. 0. 0. 0.]]\n",
      "3. satırından sonra işlem yapılamamaktadır\n"
     ]
    },
    {
     "data": {
      "text/plain": [
       "array([[1., 0., 0., 1., 1., 3.],\n",
       "       [0., 1., 0., 2., 0., 2.],\n",
       "       [0., 0., 1., 0., 1., 1.],\n",
       "       [0., 0., 0., 0., 0., 0.]])"
      ]
     },
     "execution_count": 124,
     "metadata": {},
     "output_type": "execute_result"
    }
   ],
   "source": [
    "# Durum 3 \n",
    "A=np.array([[1,0,0,1,1],[0,1,0,2,0],[0,0,1,0,1],[0,0,0,0,0]],float)\n",
    "b=np.array([[3],[2],[1],[0]],float)\n",
    "print(np.concatenate((A,b),axis=1))\n",
    "GaussJordan(A,b)"
   ]
  },
  {
   "cell_type": "code",
   "execution_count": 55,
   "metadata": {
    "ExecuteTime": {
     "end_time": "2020-02-22T10:18:18.623937Z",
     "start_time": "2020-02-22T10:18:18.620930Z"
    }
   },
   "outputs": [],
   "source": [
    "A=np.array([[0,1,1],[0,2,5],[0,35,1]],float)\n",
    "b=np.array([[3],[4],[5]],float)"
   ]
  },
  {
   "cell_type": "code",
   "execution_count": 56,
   "metadata": {
    "ExecuteTime": {
     "end_time": "2020-02-22T10:18:22.732549Z",
     "start_time": "2020-02-22T10:18:22.729537Z"
    }
   },
   "outputs": [
    {
     "name": "stdout",
     "output_type": "stream",
     "text": [
      "3 bilinmeyenli doğrusal denklem sistemi oluşturulmuştur.\n"
     ]
    }
   ],
   "source": [
    "a=DoğrusalDenklem(A,b)"
   ]
  },
  {
   "cell_type": "code",
   "execution_count": 57,
   "metadata": {
    "ExecuteTime": {
     "end_time": "2020-02-22T10:18:24.423958Z",
     "start_time": "2020-02-22T10:18:24.419944Z"
    }
   },
   "outputs": [
    {
     "data": {
      "text/plain": [
       "array([[0., 0., 0., 0.],\n",
       "       [0., 0., 0., 0.],\n",
       "       [0., 1., 1., 3.]])"
      ]
     },
     "execution_count": 57,
     "metadata": {},
     "output_type": "execute_result"
    }
   ],
   "source": [
    "a.GaussJordan()"
   ]
  },
  {
   "cell_type": "code",
   "execution_count": null,
   "metadata": {},
   "outputs": [],
   "source": []
  },
  {
   "cell_type": "code",
   "execution_count": 4,
   "metadata": {
    "ExecuteTime": {
     "end_time": "2020-05-23T13:12:59.261097Z",
     "start_time": "2020-05-23T13:12:59.246060Z"
    },
    "code_folding": [],
    "lines_to_next_cell": 0
   },
   "outputs": [],
   "source": [
    "class DoğrusalDenklem():\n",
    "    \n",
    "    def __init__(self,A,b):\n",
    "        self.denklem=np.concatenate((A,b),axis=1)\n",
    "        self.satır_sayısı=self.denklem.shape[0]\n",
    "        self.sütün_sayısı=self.denklem.shape[1]\n",
    "    \n",
    "    def __str__(self):\n",
    "        return \"Denklem sistemi ----> \\n {Ab}\".format(Ab=self.denklem)\n",
    "    \n",
    "    def __len__(self):\n",
    "        return self.denklem.shape[0]\n",
    "\n",
    "    def __del__(self):\n",
    "        return  \"Doğrusal denklem silinmiştir.\" \n",
    "    \n",
    "    def GaussJordan(self):\n",
    "        \"\"\" \n",
    "        Gauss Jordan methodu ile satır işlemleri yapıp, değişkenleri \n",
    "        hesaplar.Öncelikle katsayı matrisi ile sonuç matrisi birleştirilir.\n",
    "        İlk olarak köşegen elemanın 0'a eşitliği kontrol edilir.\n",
    "        Daha sonrasında ona ait sütündaki diğer elemanlar 0 olacak \n",
    "        şekilde satır işlemleri yapılır. Bütün satırların üzerinden \n",
    "        bu yöntemle geçilir. \n",
    "\n",
    "        \"\"\"\n",
    "\n",
    "        # Adım 1 : A|b matrisini oluştur. \n",
    "\n",
    "        Ab=self.denklem.copy()\n",
    "        Ab=Ab.astype(float)\n",
    "        satır_sayısı=Ab.shape[0]\n",
    "        sutun_sayısı=Ab.shape[1]\n",
    "\n",
    "        for i in range(satır_sayısı):         \n",
    "            if Ab[i][i]==0:\n",
    "                Geçici=Ab[i].copy()\n",
    "                satır_indisleri=[a for a in range(i,satır_sayısı) if Ab[a][i]!=0]\n",
    "                if satır_indisleri:\n",
    "                    Ab[i]=Ab[satır_indisleri[0]].copy()\n",
    "                    Ab[satır_indisleri[0]]=Geçici\n",
    "                else:\n",
    "                    print(str(i)+\". satırından sonra işlem yapılamamaktadır\")\n",
    "                    return Ab\n",
    "            Ab[i]=Ab[i]/Ab[i][i]    \n",
    "            for s in range(satır_sayısı): \n",
    "                if i==s:\n",
    "                    pass\n",
    "                else:\n",
    "                    Ab[s]=Ab[s]-Ab[i]*Ab[s][i]\n",
    "\n",
    "        return Ab\n",
    "\n",
    "    def çözüm_durumu(self):\n",
    "        çözüm=self.GaussJordan()\n",
    "        satır_sayısı=self.satır_sayısı\n",
    "        sutun_sayısı= self.sütün_sayısı\n",
    "        tekÇözüm=False\n",
    "        \n",
    "        for i in range(satır_sayısı):      \n",
    "            if all(çözüm[i,:sutun_sayısı-1]==0) and çözüm[i,sutun_sayısı-1]!=0:\n",
    "                return \"çözümsüz\"  \n",
    "        \n",
    "        if satır_sayısı==(sutun_sayısı-1):\n",
    "            i=0\n",
    "            while i<satır_sayısı and çözüm[i][i]==1:\n",
    "                i+=1\n",
    "\n",
    "            if i==satır_sayısı:\n",
    "                tekÇözüm=True\n",
    "                return \"tek\"\n",
    "        else:\n",
    "            return \"sonsuz\"\n",
    "        \n",
    "    def rank_sayar(self):\n",
    "        Ab=self.GaussJordan()\n",
    "        say=0\n",
    "        satır_sayısı=Ab.shape[0]\n",
    "        for i in range(satır_sayısı):\n",
    "               if Ab[i][i]==1 and Ab[:,i].sum()==1:\n",
    "                    say+=1\n",
    "        return say\n",
    "    \n",
    "    def doğrusal_bağımsız(self):\n",
    "        Ab=self.GaussJordan()\n",
    "        rank=self.rank_sayar()\n",
    "        m=Ab.shape[0]\n",
    "        if m==rank:\n",
    "            return True\n",
    "        elif m>rank:\n",
    "            return False\n",
    "        else:\n",
    "            return \"Error\""
   ]
  },
  {
   "cell_type": "code",
   "execution_count": null,
   "metadata": {
    "lines_to_next_cell": 2
   },
   "outputs": [],
   "source": []
  },
  {
   "cell_type": "markdown",
   "metadata": {
    "ExecuteTime": {
     "end_time": "2020-02-19T17:14:51.057641Z",
     "start_time": "2020-02-19T17:14:51.054624Z"
    }
   },
   "source": [
    "##  Ana Değişkenler ve Doğrusal Denklemlerde Çözümleri "
   ]
  },
  {
   "cell_type": "markdown",
   "metadata": {
    "ExecuteTime": {
     "end_time": "2020-02-19T17:14:51.622026Z",
     "start_time": "2020-02-19T17:14:51.618015Z"
    }
   },
   "source": [
    "<i> Doğrusal denklem sistemlerini çözdükten sonra eğer bir satırda sadece bir sütünda 1 katsayısı var ve diğer sütünların katsayıları 0 ise bu değişkene <b> esas değişken (BV) </b>  denir.   </i>  <i> Aksi durumdaki değişkenler <b>  esas olmayan  (NBV)</b>  değişkenlerdir  .   </i>"
   ]
  },
  {
   "cell_type": "raw",
   "metadata": {
    "ExecuteTime": {
     "end_time": "2020-02-19T18:37:41.900378Z",
     "start_time": "2020-02-19T18:37:41.894394Z"
    },
    "lines_to_next_cell": 0
   },
   "source": [
    "def çözüm_durumu(örnek_denklem_çözümü):\n",
    "        çözümsüz=False\n",
    "        sonsuz_çözüm=False\n",
    "        tek_çözüm=0\n",
    "        tekÇözüm=False\n",
    "        for i in range(satır):\n",
    "            if sum(örnek_denklem_çözümü[i,:sütün-1])==0 and örnek_denklem_çözümü[i,sütün-1]!=0:\n",
    "                çözümsüz=True\n",
    "                print(\"Denklem Kümesi Çözümsüzdür.\")\n",
    "                return \"çözümsüz\"\n",
    "              \n",
    "        for i in range(satır):    \n",
    "            if sum(örnek_denklem_çözümü[i,:sütün-1])==1:\n",
    "                tek_çözüm+=1\n",
    "                if tek_çözüm==satır:\n",
    "                    print(\"Denklem Kümesinin Tek Çözümü mevcuttur.\")\n",
    "                    tekÇözüm=True\n",
    "                    return \"tek\"\n",
    "\n",
    "        for i in range(satır):\n",
    "            if sum(örnek_denklem_çözümü[i,:sütün])==0:\n",
    "                sonsuz_çözüm=True\n",
    "                print(\"Denklem Kümesinin Sonsuz Çözümü mevcuttur.\")\n",
    "                return \"sonsuz\"\n",
    "            elif tekÇözüm==False:\n",
    "                print(\"Denklem Kümesinin Sonsuz Çözümü mevcuttur.\")\n",
    "                return \"sonsuz\""
   ]
  },
  {
   "cell_type": "code",
   "execution_count": null,
   "metadata": {
    "lines_to_next_cell": 2
   },
   "outputs": [],
   "source": []
  },
  {
   "cell_type": "code",
   "execution_count": 151,
   "metadata": {
    "ExecuteTime": {
     "end_time": "2020-02-22T11:51:49.583420Z",
     "start_time": "2020-02-22T11:51:49.575409Z"
    }
   },
   "outputs": [],
   "source": [
    "## Durum 1 \n",
    "\n",
    "A=np.array([[1,0,0,1],[0,1,0,2],[0,0,1,3],[0,0,0,0],[0,0,0,0]],float)\n",
    "b=np.array([[1],[1],[-1],[0],[2]],float)"
   ]
  },
  {
   "cell_type": "code",
   "execution_count": 152,
   "metadata": {
    "ExecuteTime": {
     "end_time": "2020-02-22T11:51:50.901640Z",
     "start_time": "2020-02-22T11:51:50.897629Z"
    }
   },
   "outputs": [
    {
     "name": "stdout",
     "output_type": "stream",
     "text": [
      "4 bilinmeyenli doğrusal denklem sistemi oluşturulmuştur.\n"
     ]
    }
   ],
   "source": [
    "örnek_denklem_1=DoğrusalDenklem(A,b)"
   ]
  },
  {
   "cell_type": "code",
   "execution_count": 153,
   "metadata": {
    "ExecuteTime": {
     "end_time": "2020-02-22T11:51:52.054378Z",
     "start_time": "2020-02-22T11:51:52.046322Z"
    }
   },
   "outputs": [
    {
     "data": {
      "text/plain": [
       "array([[ 1.,  0.,  0.,  1.,  1.],\n",
       "       [ 0.,  1.,  0.,  2.,  1.],\n",
       "       [ 0.,  0.,  1.,  3., -1.],\n",
       "       [ 0.,  0.,  0.,  0.,  0.],\n",
       "       [ 0.,  0.,  0.,  0.,  2.]])"
      ]
     },
     "execution_count": 153,
     "metadata": {},
     "output_type": "execute_result"
    }
   ],
   "source": [
    "örnek_denklem_1.denklem"
   ]
  },
  {
   "cell_type": "code",
   "execution_count": 154,
   "metadata": {
    "ExecuteTime": {
     "end_time": "2020-02-22T11:51:54.796218Z",
     "start_time": "2020-02-22T11:51:54.780197Z"
    }
   },
   "outputs": [
    {
     "name": "stdout",
     "output_type": "stream",
     "text": [
      "3. satırından sonra işlem yapılamamaktadır\n"
     ]
    },
    {
     "data": {
      "text/plain": [
       "array([[ 1.,  0.,  0.,  1.,  1.],\n",
       "       [ 0.,  1.,  0.,  2.,  1.],\n",
       "       [ 0.,  0.,  1.,  3., -1.],\n",
       "       [ 0.,  0.,  0.,  0.,  0.],\n",
       "       [ 0.,  0.,  0.,  0.,  2.]])"
      ]
     },
     "execution_count": 154,
     "metadata": {},
     "output_type": "execute_result"
    }
   ],
   "source": [
    "örnek_denklem_1.GaussJordan()"
   ]
  },
  {
   "cell_type": "code",
   "execution_count": 155,
   "metadata": {
    "ExecuteTime": {
     "end_time": "2020-02-22T11:51:57.206518Z",
     "start_time": "2020-02-22T11:51:57.194543Z"
    }
   },
   "outputs": [
    {
     "name": "stdout",
     "output_type": "stream",
     "text": [
      "3. satırından sonra işlem yapılamamaktadır\n",
      "Denklem Kümesi Çözümsüzdür.\n"
     ]
    }
   ],
   "source": [
    "sonuç=örnek_denklem_1.çözüm_durumu()"
   ]
  },
  {
   "cell_type": "code",
   "execution_count": 156,
   "metadata": {
    "ExecuteTime": {
     "end_time": "2020-02-22T11:52:05.818706Z",
     "start_time": "2020-02-22T11:52:05.814662Z"
    }
   },
   "outputs": [
    {
     "name": "stdout",
     "output_type": "stream",
     "text": [
      "çözümsüz\n"
     ]
    }
   ],
   "source": [
    "print(sonuç)"
   ]
  },
  {
   "cell_type": "code",
   "execution_count": 157,
   "metadata": {
    "ExecuteTime": {
     "end_time": "2020-02-22T11:52:55.467215Z",
     "start_time": "2020-02-22T11:52:55.455197Z"
    },
    "lines_to_next_cell": 2
   },
   "outputs": [
    {
     "name": "stdout",
     "output_type": "stream",
     "text": [
      "3. satırından sonra işlem yapılamamaktadır\n"
     ]
    },
    {
     "data": {
      "text/plain": [
       "array([[ 1.,  0.,  0.,  1.,  1.],\n",
       "       [ 0.,  1.,  0.,  2.,  1.],\n",
       "       [ 0.,  0.,  1.,  3., -1.],\n",
       "       [ 0.,  0.,  0.,  0.,  0.],\n",
       "       [ 0.,  0.,  0.,  0.,  2.]])"
      ]
     },
     "execution_count": 157,
     "metadata": {},
     "output_type": "execute_result"
    }
   ],
   "source": [
    "# Güncellenmiş Gauss Jordan\n",
    "GaussJordan(A,b)"
   ]
  },
  {
   "cell_type": "code",
   "execution_count": 158,
   "metadata": {
    "ExecuteTime": {
     "end_time": "2020-02-22T11:52:57.874727Z",
     "start_time": "2020-02-22T11:52:57.870720Z"
    }
   },
   "outputs": [],
   "source": [
    "# Durum 2\n",
    "\n",
    "A=np.array([[2,2, 1],[2,-1,2],[1,-1,2]],float)\n",
    "b=np.array([[9],[6],[5]],float)\n"
   ]
  },
  {
   "cell_type": "code",
   "execution_count": 159,
   "metadata": {
    "ExecuteTime": {
     "end_time": "2020-02-22T11:52:59.443199Z",
     "start_time": "2020-02-22T11:52:59.437637Z"
    }
   },
   "outputs": [
    {
     "name": "stdout",
     "output_type": "stream",
     "text": [
      "3 bilinmeyenli doğrusal denklem sistemi oluşturulmuştur.\n"
     ]
    }
   ],
   "source": [
    "örnek_denklem_2=DoğrusalDenklem(A,b)"
   ]
  },
  {
   "cell_type": "code",
   "execution_count": 160,
   "metadata": {
    "ExecuteTime": {
     "end_time": "2020-02-22T11:53:02.447331Z",
     "start_time": "2020-02-22T11:53:02.441342Z"
    }
   },
   "outputs": [
    {
     "data": {
      "text/plain": [
       "array([[1., 0., 0., 1.],\n",
       "       [0., 1., 0., 2.],\n",
       "       [0., 0., 1., 3.]])"
      ]
     },
     "execution_count": 160,
     "metadata": {},
     "output_type": "execute_result"
    }
   ],
   "source": [
    "örnek_denklem_2.GaussJordan()"
   ]
  },
  {
   "cell_type": "code",
   "execution_count": 161,
   "metadata": {
    "ExecuteTime": {
     "end_time": "2020-02-22T11:53:07.064891Z",
     "start_time": "2020-02-22T11:53:07.060749Z"
    }
   },
   "outputs": [
    {
     "name": "stdout",
     "output_type": "stream",
     "text": [
      "Denklem Kümesinin Tek Çözümü mevcuttur.\n"
     ]
    }
   ],
   "source": [
    "sonuç=örnek_denklem_2.çözüm_durumu();"
   ]
  },
  {
   "cell_type": "code",
   "execution_count": 162,
   "metadata": {
    "ExecuteTime": {
     "end_time": "2020-02-22T11:53:08.966437Z",
     "start_time": "2020-02-22T11:53:08.960415Z"
    }
   },
   "outputs": [
    {
     "name": "stdout",
     "output_type": "stream",
     "text": [
      "tek\n"
     ]
    }
   ],
   "source": [
    "print(sonuç)"
   ]
  },
  {
   "cell_type": "code",
   "execution_count": 163,
   "metadata": {
    "ExecuteTime": {
     "end_time": "2020-02-22T11:53:12.505732Z",
     "start_time": "2020-02-22T11:53:12.497678Z"
    },
    "lines_to_next_cell": 2
   },
   "outputs": [],
   "source": [
    "# Durum 3 \n",
    "A=np.array([[1,0,0,1,1],[0,1,0,2,0],[0,0,1,0,1],[0,0,0,0,0]],float)\n",
    "b=np.array([[3],[2],[1],[0]],float)"
   ]
  },
  {
   "cell_type": "code",
   "execution_count": 164,
   "metadata": {
    "ExecuteTime": {
     "end_time": "2020-02-22T11:53:14.327358Z",
     "start_time": "2020-02-22T11:53:14.319313Z"
    }
   },
   "outputs": [
    {
     "name": "stdout",
     "output_type": "stream",
     "text": [
      "5 bilinmeyenli doğrusal denklem sistemi oluşturulmuştur.\n"
     ]
    }
   ],
   "source": [
    "örnek_denklem_3=DoğrusalDenklem(A,b)"
   ]
  },
  {
   "cell_type": "code",
   "execution_count": 165,
   "metadata": {
    "ExecuteTime": {
     "end_time": "2020-02-22T11:53:17.476584Z",
     "start_time": "2020-02-22T11:53:17.456164Z"
    }
   },
   "outputs": [
    {
     "data": {
      "text/plain": [
       "array([[1., 0., 0., 1., 1., 3.],\n",
       "       [0., 1., 0., 2., 0., 2.],\n",
       "       [0., 0., 1., 0., 1., 1.],\n",
       "       [0., 0., 0., 0., 0., 0.]])"
      ]
     },
     "execution_count": 165,
     "metadata": {},
     "output_type": "execute_result"
    }
   ],
   "source": [
    "örnek_denklem_3.denklem"
   ]
  },
  {
   "cell_type": "code",
   "execution_count": 166,
   "metadata": {
    "ExecuteTime": {
     "end_time": "2020-02-22T11:53:20.795434Z",
     "start_time": "2020-02-22T11:53:20.783406Z"
    }
   },
   "outputs": [
    {
     "name": "stdout",
     "output_type": "stream",
     "text": [
      "3. satırından sonra işlem yapılamamaktadır\n"
     ]
    },
    {
     "data": {
      "text/plain": [
       "array([[1., 0., 0., 1., 1., 3.],\n",
       "       [0., 1., 0., 2., 0., 2.],\n",
       "       [0., 0., 1., 0., 1., 1.],\n",
       "       [0., 0., 0., 0., 0., 0.]])"
      ]
     },
     "execution_count": 166,
     "metadata": {},
     "output_type": "execute_result"
    }
   ],
   "source": [
    "örnek_denklem_3.GaussJordan()"
   ]
  },
  {
   "cell_type": "code",
   "execution_count": 167,
   "metadata": {
    "ExecuteTime": {
     "end_time": "2020-02-22T11:53:24.485993Z",
     "start_time": "2020-02-22T11:53:24.481428Z"
    }
   },
   "outputs": [
    {
     "name": "stdout",
     "output_type": "stream",
     "text": [
      "3. satırından sonra işlem yapılamamaktadır\n",
      "Denklem Kümesinin Sonsuz Çözümü mevcuttur.\n"
     ]
    }
   ],
   "source": [
    "sonuç=örnek_denklem_3.çözüm_durumu()"
   ]
  },
  {
   "cell_type": "code",
   "execution_count": 168,
   "metadata": {
    "ExecuteTime": {
     "end_time": "2020-02-22T11:53:31.042502Z",
     "start_time": "2020-02-22T11:53:31.034485Z"
    }
   },
   "outputs": [
    {
     "data": {
      "text/plain": [
       "'sonsuz'"
      ]
     },
     "execution_count": 168,
     "metadata": {},
     "output_type": "execute_result"
    }
   ],
   "source": [
    "sonuç"
   ]
  },
  {
   "cell_type": "markdown",
   "metadata": {},
   "source": [
    "##  Problemler \n",
    "\n",
    "\n"
   ]
  },
  {
   "cell_type": "code",
   "execution_count": 194,
   "metadata": {
    "ExecuteTime": {
     "end_time": "2020-02-22T12:16:57.246724Z",
     "start_time": "2020-02-22T12:16:57.239135Z"
    }
   },
   "outputs": [],
   "source": [
    "def problem_çözer(A,b):\n",
    "    denklem=DoğrusalDenklem(A,b)\n",
    "    print(\"Çözüm: \\n\",denklem.GaussJordan(),\"\\n\")\n",
    "    print(\"Çözüm durumu : \",denklem.çözüm_durumu(),\"\\n\")"
   ]
  },
  {
   "cell_type": "code",
   "execution_count": 195,
   "metadata": {
    "ExecuteTime": {
     "end_time": "2020-02-22T12:16:57.744138Z",
     "start_time": "2020-02-22T12:16:57.736114Z"
    }
   },
   "outputs": [
    {
     "name": "stdout",
     "output_type": "stream",
     "text": [
      "4 bilinmeyenli doğrusal denklem sistemi oluşturulmuştur.\n",
      "2. satırından sonra işlem yapılamamaktadır\n",
      "Çözüm: \n",
      " [[ 1.  0. -1.  1. -1.]\n",
      " [ 0.  1.  1.  0.  4.]\n",
      " [ 0.  0.  0.  0.  1.]] \n",
      "\n",
      "2. satırından sonra işlem yapılamamaktadır\n",
      "Denklem Kümesi Çözümsüzdür.\n",
      "Çözüm durumu :  çözümsüz \n",
      "\n"
     ]
    }
   ],
   "source": [
    "# 1 \n",
    "A=np.array([[1,1,0,1],[0,1,1,0],[1,2,1,1]],float)\n",
    "b=np.array([[3],[4],[8]],float)\n",
    "problem_çözer(A,b)"
   ]
  },
  {
   "cell_type": "code",
   "execution_count": 196,
   "metadata": {
    "ExecuteTime": {
     "end_time": "2020-02-22T12:16:59.637442Z",
     "start_time": "2020-02-22T12:16:59.629420Z"
    }
   },
   "outputs": [
    {
     "name": "stdout",
     "output_type": "stream",
     "text": [
      "3 bilinmeyenli doğrusal denklem sistemi oluşturulmuştur.\n",
      "Çözüm: \n",
      " [[ 1.  0.  2.  2.]\n",
      " [ 0.  1. -1.  2.]] \n",
      "\n",
      "Denklem Kümesinin Sonsuz Çözümü mevcuttur.\n",
      "Çözüm durumu :  sonsuz \n",
      "\n"
     ]
    }
   ],
   "source": [
    "# 2 \n",
    "A=np.array([[1,1,1],[1,2,0]],float)\n",
    "b=np.array([[4],[6]],float)\n",
    "problem_çözer(A,b)"
   ]
  },
  {
   "cell_type": "code",
   "execution_count": 197,
   "metadata": {
    "ExecuteTime": {
     "end_time": "2020-02-22T12:23:40.357777Z",
     "start_time": "2020-02-22T12:23:40.349764Z"
    }
   },
   "outputs": [
    {
     "name": "stdout",
     "output_type": "stream",
     "text": [
      "2 bilinmeyenli doğrusal denklem sistemi oluşturulmuştur.\n",
      "2. satırından sonra işlem yapılamamaktadır\n",
      "Çözüm: \n",
      " [[ 1.  0.  2.]\n",
      " [-0.  1. -1.]\n",
      " [ 0.  0.  0.]] \n",
      "\n",
      "2. satırından sonra işlem yapılamamaktadır\n",
      "Denklem Kümesinin Sonsuz Çözümü mevcuttur.\n",
      "Çözüm durumu :  sonsuz \n",
      "\n"
     ]
    }
   ],
   "source": [
    "# 3 \n",
    "A=np.array([[1,1],[2,1],[3,2]],float)\n",
    "b=np.array([[1],[3],[4]],float)\n",
    "problem_çözer(A,b)"
   ]
  },
  {
   "cell_type": "code",
   "execution_count": 198,
   "metadata": {
    "ExecuteTime": {
     "end_time": "2020-02-22T12:24:11.531463Z",
     "start_time": "2020-02-22T12:24:11.521969Z"
    }
   },
   "outputs": [
    {
     "name": "stdout",
     "output_type": "stream",
     "text": [
      "4 bilinmeyenli doğrusal denklem sistemi oluşturulmuştur.\n",
      "Çözüm: \n",
      " [[ 1.          0.          0.66666667  0.33333333  3.33333333]\n",
      " [ 0.          1.          0.33333333 -0.33333333  0.66666667]] \n",
      "\n",
      "Denklem Kümesinin Sonsuz Çözümü mevcuttur.\n",
      "Çözüm durumu :  sonsuz \n",
      "\n"
     ]
    }
   ],
   "source": [
    "# 4 \n",
    "A=np.array([[2,-1,1,1],[1,1,1,0]],float)\n",
    "b=np.array([[6],[4]],float)\n",
    "problem_çözer(A,b)"
   ]
  },
  {
   "cell_type": "code",
   "execution_count": 199,
   "metadata": {
    "ExecuteTime": {
     "end_time": "2020-02-22T12:24:28.880222Z",
     "start_time": "2020-02-22T12:24:28.872207Z"
    }
   },
   "outputs": [
    {
     "name": "stdout",
     "output_type": "stream",
     "text": [
      "4 bilinmeyenli doğrusal denklem sistemi oluşturulmuştur.\n",
      "3. satırından sonra işlem yapılamamaktadır\n",
      "Çözüm: \n",
      " [[1.  0.  0.  1.  5. ]\n",
      " [0.  1.  0.  2.  5. ]\n",
      " [0.  0.  1.  0.5 1. ]\n",
      " [0.  0.  0.  0.  1. ]] \n",
      "\n",
      "3. satırından sonra işlem yapılamamaktadır\n",
      "Denklem Kümesi Çözümsüzdür.\n",
      "Çözüm durumu :  çözümsüz \n",
      "\n"
     ]
    }
   ],
   "source": [
    "# 5 \n",
    "A=np.array([[1,0,0,1],[0,1,0,2],[0,0,1,.5],[0,0,2,1]],float)\n",
    "b=np.array([[5],[5],[1],[3]],float)\n",
    "problem_çözer(A,b)"
   ]
  },
  {
   "cell_type": "code",
   "execution_count": 200,
   "metadata": {
    "ExecuteTime": {
     "end_time": "2020-02-22T12:24:40.361958Z",
     "start_time": "2020-02-22T12:24:40.352930Z"
    }
   },
   "outputs": [
    {
     "name": "stdout",
     "output_type": "stream",
     "text": [
      "3 bilinmeyenli doğrusal denklem sistemi oluşturulmuştur.\n",
      "Çözüm: \n",
      " [[ 1.  0.  0.  1.]\n",
      " [ 0.  1.  0.  1.]\n",
      " [-0. -0.  1.  1.]] \n",
      "\n",
      "Denklem Kümesinin Tek Çözümü mevcuttur.\n",
      "Çözüm durumu :  tek \n",
      "\n"
     ]
    }
   ],
   "source": [
    "# 6\n",
    "A=np.array([[0,2,2 ],[1,2,1 ],[0,1,-1 ]],float)\n",
    "b=np.array([[4],[4],[0]],float)\n",
    "problem_çözer(A,b)"
   ]
  },
  {
   "cell_type": "code",
   "execution_count": 201,
   "metadata": {
    "ExecuteTime": {
     "end_time": "2020-02-22T12:24:52.093048Z",
     "start_time": "2020-02-22T12:24:52.083062Z"
    }
   },
   "outputs": [
    {
     "name": "stdout",
     "output_type": "stream",
     "text": [
      "3 bilinmeyenli doğrusal denklem sistemi oluşturulmuştur.\n",
      "Çözüm: \n",
      " [[1. 0. 0. 1.]\n",
      " [0. 1. 0. 1.]\n",
      " [0. 0. 1. 2.]] \n",
      "\n",
      "Denklem Kümesinin Tek Çözümü mevcuttur.\n",
      "Çözüm durumu :  tek \n",
      "\n"
     ]
    }
   ],
   "source": [
    "# 7\n",
    "A=np.array([[1,1,0 ],[0,-1,2 ],[0,1,1 ]],float)\n",
    "b=np.array([[2],[3],[3]],float)\n",
    "problem_çözer(A,b)"
   ]
  },
  {
   "cell_type": "code",
   "execution_count": 203,
   "metadata": {
    "ExecuteTime": {
     "end_time": "2020-02-22T12:25:08.362226Z",
     "start_time": "2020-02-22T12:25:08.354214Z"
    }
   },
   "outputs": [
    {
     "name": "stdout",
     "output_type": "stream",
     "text": [
      "4 bilinmeyenli doğrusal denklem sistemi oluşturulmuştur.\n",
      "2. satırından sonra işlem yapılamamaktadır\n",
      "Çözüm: \n",
      " [[ 1.  0. -1. -1. -1.]\n",
      " [ 0.  1.  2.  1.  2.]\n",
      " [ 0.  0.  0.  1.  3.]] \n",
      "\n",
      "2. satırından sonra işlem yapılamamaktadır\n",
      "Denklem Kümesinin Sonsuz Çözümü mevcuttur.\n",
      "Çözüm durumu :  sonsuz \n",
      "\n"
     ]
    }
   ],
   "source": [
    "# 8\n",
    "A=np.array([[1,1,1 ,0],[0,1,2,1 ],[0,0,0,1 ]],float)\n",
    "b=np.array([[1],[2],[3]],float)\n",
    "problem_çözer(A,b)"
   ]
  },
  {
   "cell_type": "code",
   "execution_count": 209,
   "metadata": {
    "ExecuteTime": {
     "end_time": "2020-02-22T12:26:07.095413Z",
     "start_time": "2020-02-22T12:26:07.074013Z"
    }
   },
   "outputs": [
    {
     "name": "stdout",
     "output_type": "stream",
     "text": [
      "4 bilinmeyenli doğrusal denklem sistemi oluşturulmuştur.\n",
      "2. satırından sonra işlem yapılamamaktadır\n",
      "Çözüm: \n",
      " [[ 1.  0. -1. -1. -1.]\n",
      " [ 0.  1.  2.  1.  2.]\n",
      " [ 0.  0.  0.  1.  3.]] \n",
      "\n",
      "2. satırından sonra işlem yapılamamaktadır\n",
      "Denklem Kümesinin Sonsuz Çözümü mevcuttur.\n",
      "Çözüm durumu :  sonsuz \n",
      "\n"
     ]
    }
   ],
   "source": [
    "# 9 \n",
    "\n",
    "A=np.array([[1,1,1 ,0],[0,1,2,1 ],[0,0,0,1 ]],float)\n",
    "b=np.array([[1],[2],[3]],float)\n",
    "problem_çözer(A,b)\n",
    "değişken_sayısı=A.shape[1]"
   ]
  },
  {
   "cell_type": "code",
   "execution_count": 205,
   "metadata": {
    "ExecuteTime": {
     "end_time": "2020-02-22T12:25:23.044863Z",
     "start_time": "2020-02-22T12:25:23.036811Z"
    }
   },
   "outputs": [],
   "source": [
    "bulunabilecek_değişken_sayısı=b.shape[0]"
   ]
  },
  {
   "cell_type": "code",
   "execution_count": 206,
   "metadata": {
    "ExecuteTime": {
     "end_time": "2020-02-22T12:25:46.656891Z",
     "start_time": "2020-02-22T12:25:46.648818Z"
    }
   },
   "outputs": [
    {
     "data": {
      "text/plain": [
       "3"
      ]
     },
     "execution_count": 206,
     "metadata": {},
     "output_type": "execute_result"
    }
   ],
   "source": [
    "bulunabilecek_değişken_sayısı"
   ]
  },
  {
   "cell_type": "code",
   "execution_count": 207,
   "metadata": {
    "ExecuteTime": {
     "end_time": "2020-02-22T12:25:48.143973Z",
     "start_time": "2020-02-22T12:25:48.131954Z"
    }
   },
   "outputs": [
    {
     "data": {
      "text/plain": [
       "4"
      ]
     },
     "execution_count": 207,
     "metadata": {},
     "output_type": "execute_result"
    }
   ],
   "source": [
    "değişken_sayısı"
   ]
  },
  {
   "cell_type": "code",
   "execution_count": 208,
   "metadata": {
    "ExecuteTime": {
     "end_time": "2020-02-22T12:25:51.790756Z",
     "start_time": "2020-02-22T12:25:51.781172Z"
    }
   },
   "outputs": [
    {
     "name": "stdout",
     "output_type": "stream",
     "text": [
      "Tek bir çözüm olma şansı mevcut değildir.\n"
     ]
    }
   ],
   "source": [
    "if bulunabilecek_değişken_sayısı>değişken_sayısı:\n",
    "    print(\"Tek bir çözüm olma şansı mevcuttur.\")\n",
    "else:\n",
    "    print(\"Tek bir çözüm olma şansı mevcut değildir.\")"
   ]
  },
  {
   "cell_type": "markdown",
   "metadata": {
    "ExecuteTime": {
     "end_time": "2020-02-22T15:13:57.818294Z",
     "start_time": "2020-02-22T15:13:57.815321Z"
    }
   },
   "source": [
    "# Doğrusal Bağımsızlık ve Bağımlılık "
   ]
  },
  {
   "cell_type": "markdown",
   "metadata": {},
   "source": [
    "Bu bölümde doğrusal bağımlı/bağımsız doğrular , matrislerin kertesi(rankı) üzerine çalışacağız. Matrislerin tersi üzerine yapılacak çalışmalar da bu konular önemli olmaktadır."
   ]
  },
  {
   "cell_type": "code",
   "execution_count": 2,
   "metadata": {
    "ExecuteTime": {
     "end_time": "2020-03-08T09:05:59.593456Z",
     "start_time": "2020-03-08T09:05:59.591113Z"
    }
   },
   "outputs": [],
   "source": [
    "# V={v1,v2,v3,......,vk} vektörler kümesi (aynı uzunluğa sahip)"
   ]
  },
  {
   "cell_type": "markdown",
   "metadata": {},
   "source": [
    "<b> Doğrusal kombinasyonda c1*v1+c2*v2+......+ck*vk rastgele sayılardır. </b>"
   ]
  },
  {
   "cell_type": "code",
   "execution_count": 10,
   "metadata": {
    "ExecuteTime": {
     "end_time": "2020-03-08T09:12:22.969775Z",
     "start_time": "2020-03-08T09:12:22.965765Z"
    }
   },
   "outputs": [],
   "source": [
    "v1=np.array([1,2]);v2=np.array([2,1])"
   ]
  },
  {
   "cell_type": "code",
   "execution_count": 11,
   "metadata": {
    "ExecuteTime": {
     "end_time": "2020-03-08T09:12:23.228108Z",
     "start_time": "2020-03-08T09:12:23.224097Z"
    }
   },
   "outputs": [],
   "source": [
    "V=np.array([v1,v2])"
   ]
  },
  {
   "cell_type": "code",
   "execution_count": 14,
   "metadata": {
    "ExecuteTime": {
     "end_time": "2020-03-08T09:13:15.685914Z",
     "start_time": "2020-03-08T09:13:15.681904Z"
    }
   },
   "outputs": [
    {
     "data": {
      "text/plain": [
       "array([ True,  True])"
      ]
     },
     "execution_count": 14,
     "metadata": {},
     "output_type": "execute_result"
    }
   ],
   "source": [
    "(2*v1-v2)==(2*V[0]-V[1])  #1"
   ]
  },
  {
   "cell_type": "code",
   "execution_count": 15,
   "metadata": {
    "ExecuteTime": {
     "end_time": "2020-03-08T09:13:21.503710Z",
     "start_time": "2020-03-08T09:13:21.499681Z"
    }
   },
   "outputs": [
    {
     "data": {
      "text/plain": [
       "array([ True,  True])"
      ]
     },
     "execution_count": 15,
     "metadata": {},
     "output_type": "execute_result"
    }
   ],
   "source": [
    "2*V[0]-V[1]==np.array([0,3]) #1"
   ]
  },
  {
   "cell_type": "code",
   "execution_count": 16,
   "metadata": {
    "ExecuteTime": {
     "end_time": "2020-03-08T09:14:43.071653Z",
     "start_time": "2020-03-08T09:14:43.066673Z"
    }
   },
   "outputs": [
    {
     "data": {
      "text/plain": [
       "array([ True,  True])"
      ]
     },
     "execution_count": 16,
     "metadata": {},
     "output_type": "execute_result"
    }
   ],
   "source": [
    "np.array([1,2])+3*np.array([2,1])== 1*V[0]+3*V[1]  #2"
   ]
  },
  {
   "cell_type": "markdown",
   "metadata": {},
   "source": [
    "<br><i> * m boyutlu V vektör kümesindeki vektörlerin sıradan doğrusal kombinasyonu 0'a eşitse <b>doğrusal bağımsız </b> dır. </i>"
   ]
  },
  {
   "cell_type": "markdown",
   "metadata": {
    "ExecuteTime": {
     "end_time": "2020-03-08T09:23:16.988771Z",
     "start_time": "2020-03-08T09:23:16.985393Z"
    }
   },
   "source": [
    "<br><i> * m boyutlu V vektör kümesindeki vektörlerin sıradan olmayan doğrusal kombinasyonun toplamı 0'a eşitse <b>doğrusal bağımlı</b> dır </i>"
   ]
  },
  {
   "cell_type": "code",
   "execution_count": 61,
   "metadata": {
    "ExecuteTime": {
     "end_time": "2020-03-15T14:28:18.457520Z",
     "start_time": "2020-03-15T14:28:18.454510Z"
    }
   },
   "outputs": [],
   "source": [
    "# Örnek 8 \n",
    "\n",
    "V=np.array([[0,0],[1,0],[0,1]])"
   ]
  },
  {
   "cell_type": "code",
   "execution_count": 62,
   "metadata": {
    "ExecuteTime": {
     "end_time": "2020-03-15T14:28:22.512258Z",
     "start_time": "2020-03-15T14:28:22.509252Z"
    }
   },
   "outputs": [
    {
     "data": {
      "text/plain": [
       "array([[0, 0],\n",
       "       [1, 0],\n",
       "       [0, 1]])"
      ]
     },
     "execution_count": 62,
     "metadata": {},
     "output_type": "execute_result"
    }
   ],
   "source": [
    "V"
   ]
  },
  {
   "cell_type": "code",
   "execution_count": 56,
   "metadata": {
    "ExecuteTime": {
     "end_time": "2020-03-08T09:52:38.705225Z",
     "start_time": "2020-03-08T09:52:38.700262Z"
    }
   },
   "outputs": [
    {
     "data": {
      "text/plain": [
       "True"
      ]
     },
     "execution_count": 56,
     "metadata": {},
     "output_type": "execute_result"
    }
   ],
   "source": [
    "c1=1;\n",
    "c1!=0"
   ]
  },
  {
   "cell_type": "code",
   "execution_count": 57,
   "metadata": {
    "ExecuteTime": {
     "end_time": "2020-03-08T09:52:39.215716Z",
     "start_time": "2020-03-08T09:52:39.208698Z"
    }
   },
   "outputs": [
    {
     "data": {
      "text/plain": [
       "array([ True,  True])"
      ]
     },
     "execution_count": 57,
     "metadata": {},
     "output_type": "execute_result"
    }
   ],
   "source": [
    "(c1*V[0]+0*V[1]+0*V[2])==np.array([0,0]) ## Doğrusal bağımlıdır."
   ]
  },
  {
   "cell_type": "code",
   "execution_count": 38,
   "metadata": {
    "ExecuteTime": {
     "end_time": "2020-03-08T09:45:14.072947Z",
     "start_time": "2020-03-08T09:45:14.067934Z"
    }
   },
   "outputs": [
    {
     "name": "stdout",
     "output_type": "stream",
     "text": [
      "Doğrusal bağımlı: [ True  True]\n"
     ]
    }
   ],
   "source": [
    "# Örnek 9\n",
    "\n",
    "V=np.array([[1,0],[0,1]])\n",
    "\n",
    "c1=0;c2=0\n",
    "if c1==0 and c2==0:\n",
    "    \n",
    "    print(\"Doğrusal bağımlı:\",c1*V[0]+c2*V[1]==np.array([0,0])) \n",
    "\n",
    "    \n",
    "# Sadece c1=0 ve c2=0 için geçerlidir. Aksi halde doğruluğu sağlayamamaktadırlar. "
   ]
  },
  {
   "cell_type": "code",
   "execution_count": 54,
   "metadata": {
    "ExecuteTime": {
     "end_time": "2020-03-08T09:50:23.227074Z",
     "start_time": "2020-03-08T09:50:23.222148Z"
    },
    "lines_to_end_of_cell_marker": 2
   },
   "outputs": [
    {
     "name": "stdout",
     "output_type": "stream",
     "text": [
      "Doğrusal bağımlı: [ True  True]\n"
     ]
    }
   ],
   "source": [
    "# Örnek 10\n",
    "\n",
    "V=np.array([[1,2],[2,4]])\n",
    "\n",
    "c1=2;c2=-1\n",
    "\n",
    "print(\"Doğrusal bağımlı:\",(c1*V[0]+c2*V[1])==np.array([0,0])) "
   ]
  },
  {
   "cell_type": "code",
   "execution_count": 48,
   "metadata": {
    "ExecuteTime": {
     "end_time": "2020-03-08T09:49:04.752830Z",
     "start_time": "2020-03-08T09:49:04.327495Z"
    }
   },
   "outputs": [
    {
     "name": "stdout",
     "output_type": "stream",
     "text": [
      "Doğrusal bağımlı: c1=-100 ve c2=50\n",
      "Doğrusal bağımlı: c1=-98 ve c2=49\n",
      "Doğrusal bağımlı: c1=-96 ve c2=48\n",
      "Doğrusal bağımlı: c1=-94 ve c2=47\n",
      "Doğrusal bağımlı: c1=-92 ve c2=46\n",
      "Doğrusal bağımlı: c1=-90 ve c2=45\n",
      "Doğrusal bağımlı: c1=-88 ve c2=44\n",
      "Doğrusal bağımlı: c1=-86 ve c2=43\n",
      "Doğrusal bağımlı: c1=-84 ve c2=42\n",
      "Doğrusal bağımlı: c1=-82 ve c2=41\n",
      "Doğrusal bağımlı: c1=-80 ve c2=40\n",
      "Doğrusal bağımlı: c1=-78 ve c2=39\n",
      "Doğrusal bağımlı: c1=-76 ve c2=38\n",
      "Doğrusal bağımlı: c1=-74 ve c2=37\n",
      "Doğrusal bağımlı: c1=-72 ve c2=36\n",
      "Doğrusal bağımlı: c1=-70 ve c2=35\n",
      "Doğrusal bağımlı: c1=-68 ve c2=34\n",
      "Doğrusal bağımlı: c1=-66 ve c2=33\n",
      "Doğrusal bağımlı: c1=-64 ve c2=32\n",
      "Doğrusal bağımlı: c1=-62 ve c2=31\n",
      "Doğrusal bağımlı: c1=-60 ve c2=30\n",
      "Doğrusal bağımlı: c1=-58 ve c2=29\n",
      "Doğrusal bağımlı: c1=-56 ve c2=28\n",
      "Doğrusal bağımlı: c1=-54 ve c2=27\n",
      "Doğrusal bağımlı: c1=-52 ve c2=26\n",
      "Doğrusal bağımlı: c1=-50 ve c2=25\n",
      "Doğrusal bağımlı: c1=-48 ve c2=24\n",
      "Doğrusal bağımlı: c1=-46 ve c2=23\n",
      "Doğrusal bağımlı: c1=-44 ve c2=22\n",
      "Doğrusal bağımlı: c1=-42 ve c2=21\n",
      "Doğrusal bağımlı: c1=-40 ve c2=20\n",
      "Doğrusal bağımlı: c1=-38 ve c2=19\n",
      "Doğrusal bağımlı: c1=-36 ve c2=18\n",
      "Doğrusal bağımlı: c1=-34 ve c2=17\n",
      "Doğrusal bağımlı: c1=-32 ve c2=16\n",
      "Doğrusal bağımlı: c1=-30 ve c2=15\n",
      "Doğrusal bağımlı: c1=-28 ve c2=14\n",
      "Doğrusal bağımlı: c1=-26 ve c2=13\n",
      "Doğrusal bağımlı: c1=-24 ve c2=12\n",
      "Doğrusal bağımlı: c1=-22 ve c2=11\n",
      "Doğrusal bağımlı: c1=-20 ve c2=10\n",
      "Doğrusal bağımlı: c1=-18 ve c2=9\n",
      "Doğrusal bağımlı: c1=-16 ve c2=8\n",
      "Doğrusal bağımlı: c1=-14 ve c2=7\n",
      "Doğrusal bağımlı: c1=-12 ve c2=6\n",
      "Doğrusal bağımlı: c1=-10 ve c2=5\n",
      "Doğrusal bağımlı: c1=-8 ve c2=4\n",
      "Doğrusal bağımlı: c1=-6 ve c2=3\n",
      "Doğrusal bağımlı: c1=-4 ve c2=2\n",
      "Doğrusal bağımlı: c1=-2 ve c2=1\n",
      "Doğrusal bağımlı: c1=0 ve c2=0\n",
      "Doğrusal bağımlı: c1=2 ve c2=-1\n",
      "Doğrusal bağımlı: c1=4 ve c2=-2\n",
      "Doğrusal bağımlı: c1=6 ve c2=-3\n",
      "Doğrusal bağımlı: c1=8 ve c2=-4\n",
      "Doğrusal bağımlı: c1=10 ve c2=-5\n",
      "Doğrusal bağımlı: c1=12 ve c2=-6\n",
      "Doğrusal bağımlı: c1=14 ve c2=-7\n",
      "Doğrusal bağımlı: c1=16 ve c2=-8\n",
      "Doğrusal bağımlı: c1=18 ve c2=-9\n",
      "Doğrusal bağımlı: c1=20 ve c2=-10\n",
      "Doğrusal bağımlı: c1=22 ve c2=-11\n",
      "Doğrusal bağımlı: c1=24 ve c2=-12\n",
      "Doğrusal bağımlı: c1=26 ve c2=-13\n",
      "Doğrusal bağımlı: c1=28 ve c2=-14\n",
      "Doğrusal bağımlı: c1=30 ve c2=-15\n",
      "Doğrusal bağımlı: c1=32 ve c2=-16\n",
      "Doğrusal bağımlı: c1=34 ve c2=-17\n",
      "Doğrusal bağımlı: c1=36 ve c2=-18\n",
      "Doğrusal bağımlı: c1=38 ve c2=-19\n",
      "Doğrusal bağımlı: c1=40 ve c2=-20\n",
      "Doğrusal bağımlı: c1=42 ve c2=-21\n",
      "Doğrusal bağımlı: c1=44 ve c2=-22\n",
      "Doğrusal bağımlı: c1=46 ve c2=-23\n",
      "Doğrusal bağımlı: c1=48 ve c2=-24\n",
      "Doğrusal bağımlı: c1=50 ve c2=-25\n",
      "Doğrusal bağımlı: c1=52 ve c2=-26\n",
      "Doğrusal bağımlı: c1=54 ve c2=-27\n",
      "Doğrusal bağımlı: c1=56 ve c2=-28\n",
      "Doğrusal bağımlı: c1=58 ve c2=-29\n",
      "Doğrusal bağımlı: c1=60 ve c2=-30\n",
      "Doğrusal bağımlı: c1=62 ve c2=-31\n",
      "Doğrusal bağımlı: c1=64 ve c2=-32\n",
      "Doğrusal bağımlı: c1=66 ve c2=-33\n",
      "Doğrusal bağımlı: c1=68 ve c2=-34\n",
      "Doğrusal bağımlı: c1=70 ve c2=-35\n",
      "Doğrusal bağımlı: c1=72 ve c2=-36\n",
      "Doğrusal bağımlı: c1=74 ve c2=-37\n",
      "Doğrusal bağımlı: c1=76 ve c2=-38\n",
      "Doğrusal bağımlı: c1=78 ve c2=-39\n",
      "Doğrusal bağımlı: c1=80 ve c2=-40\n",
      "Doğrusal bağımlı: c1=82 ve c2=-41\n",
      "Doğrusal bağımlı: c1=84 ve c2=-42\n",
      "Doğrusal bağımlı: c1=86 ve c2=-43\n",
      "Doğrusal bağımlı: c1=88 ve c2=-44\n",
      "Doğrusal bağımlı: c1=90 ve c2=-45\n",
      "Doğrusal bağımlı: c1=92 ve c2=-46\n",
      "Doğrusal bağımlı: c1=94 ve c2=-47\n",
      "Doğrusal bağımlı: c1=96 ve c2=-48\n",
      "Doğrusal bağımlı: c1=98 ve c2=-49\n"
     ]
    }
   ],
   "source": [
    "V=np.array([[1,2],[2,4]])\n",
    "for i in range(-100,100):\n",
    "    c1=i\n",
    "    for j in range(-100,100):\n",
    "        c2=j\n",
    "        if ((c1*V[0]+c2*V[1])==np.array([0,0])).mean()==1:\n",
    "            print(\"Doğrusal bağımlı: c1={c1} ve c2={c2}\".format(c1=c1,c2=c2))"
   ]
  },
  {
   "cell_type": "code",
   "execution_count": 116,
   "metadata": {
    "ExecuteTime": {
     "end_time": "2020-03-08T10:26:54.501840Z",
     "start_time": "2020-03-08T10:26:54.385525Z"
    }
   },
   "outputs": [
    {
     "data": {
      "image/png": "[encoded data removed]",
      "text/plain": [
       "<Figure size 432x288 with 1 Axes>"
      ]
     },
     "metadata": {
      "needs_background": "light"
     },
     "output_type": "display_data"
    }
   ],
   "source": [
    "# Resim 7 \n",
    "\n",
    "# A\n",
    "# Doğrusal Bağımlı\n",
    "# Kırmızı  : v2\n",
    "# Mavi : v1\n",
    "\n",
    "v1=[1,1]\n",
    "v2=[2,2]\n",
    "plt.quiver([0, 0],[0, 0],  [1, 2], [1, 2],color=['b','r'], angles='xy',width=0.015,scale_units='xy', scale=1)\n",
    "plt.xlim(-3,3)\n",
    "plt.ylim(-3, 3)\n",
    "plt.grid(b=True, which='major') \n",
    "plt.show()"
   ]
  },
  {
   "cell_type": "code",
   "execution_count": 119,
   "metadata": {
    "ExecuteTime": {
     "end_time": "2020-03-08T10:27:23.675671Z",
     "start_time": "2020-03-08T10:27:23.574365Z"
    }
   },
   "outputs": [
    {
     "data": {
      "image/png": "[encoded data removed]",
      "text/plain": [
       "<Figure size 432x288 with 1 Axes>"
      ]
     },
     "metadata": {
      "needs_background": "light"
     },
     "output_type": "display_data"
    }
   ],
   "source": [
    "# B\n",
    "# Doğrusal Bağımsız\n",
    "# Kırmızı  : v2\n",
    "# Mavi : v1\n",
    "\n",
    "v1=[1,1]\n",
    "v2=[1,0]\n",
    "plt.quiver([0, 0],[0, 0],  [1, 1], [1,0],color=['r','b'], angles='xy',width=0.015, scale_units='xy', scale=1)\n",
    "plt.xlim(-1.5,1.5)\n",
    "plt.ylim(-1.5, 1.5)\n",
    "plt.grid(b=True, which='major') \n",
    "plt.show()"
   ]
  },
  {
   "cell_type": "markdown",
   "metadata": {},
   "source": [
    "## Matrisin Rankı"
   ]
  },
  {
   "cell_type": "markdown",
   "metadata": {
    "ExecuteTime": {
     "end_time": "2020-03-08T10:30:07.409920Z",
     "start_time": "2020-03-08T10:30:07.405910Z"
    }
   },
   "source": [
    "Gauss Jordan metodu bize vektör kümesinin doğrusal bağımlı ya da bağımsız olduğu bilgisini verebilir. "
   ]
  },
  {
   "cell_type": "markdown",
   "metadata": {},
   "source": [
    " A mXn lik bir matris ise, R={r1,r2,r3,.....,rm} 'den oluşan bir satırlar kümesi olarakta gösterilebilir. "
   ]
  },
  {
   "cell_type": "markdown",
   "metadata": {
    "ExecuteTime": {
     "end_time": "2020-03-08T10:32:41.931104Z",
     "start_time": "2020-03-08T10:32:41.926091Z"
    }
   },
   "source": [
    "<b> A matrisinin rankı R kümesinin en fazla doğrusal bağımsız olan vektör sayısıdır . </b>"
   ]
  },
  {
   "cell_type": "code",
   "execution_count": 128,
   "metadata": {
    "ExecuteTime": {
     "end_time": "2020-03-08T10:35:45.571260Z",
     "start_time": "2020-03-08T10:35:45.567233Z"
    }
   },
   "outputs": [
    {
     "data": {
      "text/plain": [
       "{'r1': array([0, 0]), 'r2': array([0, 0])}"
      ]
     },
     "execution_count": 128,
     "metadata": {},
     "output_type": "execute_result"
    }
   ],
   "source": [
    "# Örnek 11 \n",
    "\n",
    "A=np.array([[0,0],[0,0]])\n",
    "\n",
    "R={'r1':A[0],'r2':A[1]}\n",
    "\n",
    "R # Örnek 8 de olduğu gibi bağımsız olan bir alt küme seçme şansı bulunmamaktadır. "
   ]
  },
  {
   "cell_type": "code",
   "execution_count": 133,
   "metadata": {
    "ExecuteTime": {
     "end_time": "2020-03-08T10:40:51.852710Z",
     "start_time": "2020-03-08T10:40:51.847698Z"
    }
   },
   "outputs": [
    {
     "data": {
      "text/plain": [
       "array([ True,  True])"
      ]
     },
     "execution_count": 133,
     "metadata": {},
     "output_type": "execute_result"
    }
   ],
   "source": [
    "# Örnek 12\n",
    "\n",
    "A=np.array([[1,1],[2,2]])\n",
    "\n",
    "R={'r1':A[0],'r2':A[1]}\n",
    "\n",
    "R['r1']*2-R['r2']==0\n",
    "\n",
    "# Dolasıyla r1 ile r2 doğrusal olarak bağımlıdır. \n",
    "\n",
    "# Sonuç olarak sadece 1 adet vektör alabiliriz. A'nın rankı 1 dir."
   ]
  },
  {
   "cell_type": "code",
   "execution_count": 134,
   "metadata": {
    "ExecuteTime": {
     "end_time": "2020-03-08T10:40:52.103237Z",
     "start_time": "2020-03-08T10:40:52.098228Z"
    }
   },
   "outputs": [
    {
     "data": {
      "text/plain": [
       "array([ True,  True])"
      ]
     },
     "execution_count": 134,
     "metadata": {},
     "output_type": "execute_result"
    }
   ],
   "source": [
    "# Örnek 13\n",
    "\n",
    "A=np.array([[1,0],[0,1]])\n",
    "\n",
    "R={'r1':A[0],'r2':A[1]}\n",
    "\n",
    "R['r1']*2-R['r2']!=0\n",
    "\n",
    "# Dolasıyla r1 ile r2 doğrusal olarak bağımsızdır. \n",
    "\n",
    "# A'nın rankı 2 dir."
   ]
  },
  {
   "cell_type": "code",
   "execution_count": 143,
   "metadata": {
    "ExecuteTime": {
     "end_time": "2020-03-08T10:42:38.287401Z",
     "start_time": "2020-03-08T10:42:38.284393Z"
    }
   },
   "outputs": [
    {
     "name": "stdout",
     "output_type": "stream",
     "text": [
      "1 bilinmeyenli doğrusal denklem sistemi oluşturulmuştur.\n"
     ]
    }
   ],
   "source": [
    "Örnek13=DoğrusalDenklem(np.array([[1],[0]]),np.array([[0],[1]]))"
   ]
  },
  {
   "cell_type": "code",
   "execution_count": 146,
   "metadata": {
    "ExecuteTime": {
     "end_time": "2020-03-08T10:42:57.519234Z",
     "start_time": "2020-03-08T10:42:57.515221Z"
    }
   },
   "outputs": [
    {
     "data": {
      "text/plain": [
       "array([[1, 0],\n",
       "       [0, 1]])"
      ]
     },
     "execution_count": 146,
     "metadata": {},
     "output_type": "execute_result"
    }
   ],
   "source": [
    "Örnek13.denklem"
   ]
  },
  {
   "cell_type": "code",
   "execution_count": 147,
   "metadata": {
    "ExecuteTime": {
     "end_time": "2020-03-08T10:43:01.047680Z",
     "start_time": "2020-03-08T10:43:01.043677Z"
    }
   },
   "outputs": [
    {
     "data": {
      "text/plain": [
       "array([[1, 0],\n",
       "       [0, 1]])"
      ]
     },
     "execution_count": 147,
     "metadata": {},
     "output_type": "execute_result"
    }
   ],
   "source": [
    "Örnek13.GaussJordan()"
   ]
  },
  {
   "cell_type": "code",
   "execution_count": 154,
   "metadata": {
    "ExecuteTime": {
     "end_time": "2020-03-08T10:45:27.569562Z",
     "start_time": "2020-03-08T10:45:27.562813Z"
    }
   },
   "outputs": [
    {
     "name": "stdout",
     "output_type": "stream",
     "text": [
      "3 bilinmeyenli doğrusal denklem sistemi oluşturulmuştur.\n"
     ]
    },
    {
     "data": {
      "text/plain": [
       "array([[1., 0., 0.],\n",
       "       [0., 2., 1.],\n",
       "       [0., 2., 3.]])"
      ]
     },
     "execution_count": 154,
     "metadata": {},
     "output_type": "execute_result"
    }
   ],
   "source": [
    "# Örnek 14 Gauss Jordan ile Çözüm\n",
    "\n",
    "A=np.array([[1,0,0],[0,2,1],[0,2,3]])\n",
    "\n",
    "Örnek14=DoğrusalDenklem(A,np.array([[],[],[]]))\n",
    "\n",
    "Örnek14.denklem"
   ]
  },
  {
   "cell_type": "code",
   "execution_count": 155,
   "metadata": {
    "ExecuteTime": {
     "end_time": "2020-03-08T10:45:36.310939Z",
     "start_time": "2020-03-08T10:45:36.306395Z"
    }
   },
   "outputs": [
    {
     "data": {
      "text/plain": [
       "array([[1., 0., 0.],\n",
       "       [0., 1., 0.],\n",
       "       [0., 0., 1.]])"
      ]
     },
     "execution_count": 155,
     "metadata": {},
     "output_type": "execute_result"
    }
   ],
   "source": [
    "Örnek14.GaussJordan()"
   ]
  },
  {
   "cell_type": "code",
   "execution_count": 156,
   "metadata": {
    "ExecuteTime": {
     "end_time": "2020-03-08T10:46:19.834510Z",
     "start_time": "2020-03-08T10:46:19.832535Z"
    }
   },
   "outputs": [],
   "source": [
    "# Rank A = Rank -A = 3"
   ]
  },
  {
   "cell_type": "markdown",
   "metadata": {},
   "source": [
    "## Vektör Kümesinin Doğrusal Bağımsız Olduğunu Nasıl Söyleriz ? "
   ]
  },
  {
   "cell_type": "markdown",
   "metadata": {},
   "source": [
    "V={v1,v2,v3,......,vk} vektörler kümesinin her bir vi elamanı bir matrisin satırı olduğunu farz edersek ve m adet satırı varsa, \n",
    "eğer bu matrisin rankı m' e eşitse doğrusal bağımsız , m 'den küçün ise doğrusal bağımlıdır."
   ]
  },
  {
   "cell_type": "code",
   "execution_count": 64,
   "metadata": {
    "ExecuteTime": {
     "end_time": "2020-03-15T14:31:39.670351Z",
     "start_time": "2020-03-15T14:31:39.664396Z"
    }
   },
   "outputs": [
    {
     "name": "stdout",
     "output_type": "stream",
     "text": [
      "3 bilinmeyenli doğrusal denklem sistemi oluşturulmuştur.\n"
     ]
    },
    {
     "data": {
      "text/plain": [
       "array([[1., 0., 0.],\n",
       "       [0., 1., 0.],\n",
       "       [1., 1., 0.]])"
      ]
     },
     "execution_count": 64,
     "metadata": {},
     "output_type": "execute_result"
    }
   ],
   "source": [
    "# Örnek 15 Doğrusal Bağımlı Vektörler\n",
    "\n",
    "A=np.array([[1,0,0],[0,1,0],[1,1,0]])\n",
    "\n",
    "Örnek15=DoğrusalDenklem(A,np.array([[],[],[]]))\n",
    "\n",
    "Örnek15.denklem"
   ]
  },
  {
   "cell_type": "code",
   "execution_count": 65,
   "metadata": {
    "ExecuteTime": {
     "end_time": "2020-03-15T14:31:40.190544Z",
     "start_time": "2020-03-15T14:31:40.186565Z"
    }
   },
   "outputs": [
    {
     "name": "stdout",
     "output_type": "stream",
     "text": [
      "2. satırından sonra işlem yapılamamaktadır\n"
     ]
    },
    {
     "data": {
      "text/plain": [
       "array([[1., 0., 0.],\n",
       "       [0., 1., 0.],\n",
       "       [0., 0., 0.]])"
      ]
     },
     "execution_count": 65,
     "metadata": {},
     "output_type": "execute_result"
    }
   ],
   "source": [
    "Örnek15.GaussJordan()"
   ]
  },
  {
   "cell_type": "code",
   "execution_count": 66,
   "metadata": {
    "ExecuteTime": {
     "end_time": "2020-03-15T14:31:40.688849Z",
     "start_time": "2020-03-15T14:31:40.686844Z"
    }
   },
   "outputs": [],
   "source": [
    "# Rank A = 2 , m=3 , dolasıyla doğrusal olarak bağımlıdır."
   ]
  },
  {
   "cell_type": "code",
   "execution_count": 67,
   "metadata": {
    "ExecuteTime": {
     "end_time": "2020-03-15T14:31:45.212846Z",
     "start_time": "2020-03-15T14:31:45.208835Z"
    }
   },
   "outputs": [
    {
     "name": "stdout",
     "output_type": "stream",
     "text": [
      "2. satırından sonra işlem yapılamamaktadır\n"
     ]
    }
   ],
   "source": [
    "z=Örnek15.GaussJordan()"
   ]
  },
  {
   "cell_type": "markdown",
   "metadata": {},
   "source": [
    "## Problemler"
   ]
  },
  {
   "cell_type": "code",
   "execution_count": 68,
   "metadata": {
    "ExecuteTime": {
     "end_time": "2020-03-15T14:31:49.480616Z",
     "start_time": "2020-03-15T14:31:49.476600Z"
    }
   },
   "outputs": [
    {
     "name": "stdout",
     "output_type": "stream",
     "text": [
      "3 bilinmeyenli doğrusal denklem sistemi oluşturulmuştur.\n"
     ]
    }
   ],
   "source": [
    "# Soru 1 \n",
    "\n",
    "A=np.array([[1,0,1],[1,2,1],[2,2,2]])\n",
    "m=A.shape[0]\n",
    "n=A.shape[1]\n",
    "Empty=np.array([[]*n]*m) \n",
    "soru=DoğrusalDenklem(A,Empty)\n"
   ]
  },
  {
   "cell_type": "code",
   "execution_count": 69,
   "metadata": {
    "ExecuteTime": {
     "end_time": "2020-03-15T14:31:51.714730Z",
     "start_time": "2020-03-15T14:31:51.709752Z"
    }
   },
   "outputs": [
    {
     "name": "stdout",
     "output_type": "stream",
     "text": [
      "2. satırından sonra işlem yapılamamaktadır\n",
      "2. satırından sonra işlem yapılamamaktadır\n"
     ]
    },
    {
     "data": {
      "text/plain": [
       "False"
      ]
     },
     "execution_count": 69,
     "metadata": {},
     "output_type": "execute_result"
    }
   ],
   "source": [
    "soru.doğrusal_bağımsız()"
   ]
  },
  {
   "cell_type": "code",
   "execution_count": 70,
   "metadata": {
    "ExecuteTime": {
     "end_time": "2020-03-15T14:31:54.392139Z",
     "start_time": "2020-03-15T14:31:54.389118Z"
    }
   },
   "outputs": [],
   "source": [
    "def rank_sayar(Ab):\n",
    "    say=0\n",
    "    satır_sayısı=Ab.shape[0]\n",
    "    for i in range(satır_sayısı):\n",
    "           if Ab[i][i]==1 and Ab[:,i].sum()==1:\n",
    "                say+=1\n",
    "    return say"
   ]
  },
  {
   "cell_type": "code",
   "execution_count": 71,
   "metadata": {
    "ExecuteTime": {
     "end_time": "2020-03-15T14:31:56.158150Z",
     "start_time": "2020-03-15T14:31:56.155142Z"
    }
   },
   "outputs": [
    {
     "name": "stdout",
     "output_type": "stream",
     "text": [
      "2. satırından sonra işlem yapılamamaktadır\n"
     ]
    }
   ],
   "source": [
    "rank_sayısı=soru.rank_sayar()"
   ]
  },
  {
   "cell_type": "code",
   "execution_count": 72,
   "metadata": {
    "ExecuteTime": {
     "end_time": "2020-03-15T14:31:58.072329Z",
     "start_time": "2020-03-15T14:31:58.068319Z"
    }
   },
   "outputs": [],
   "source": [
    "def doğrusal_bağımsız(Ab):\n",
    "    rank=rank_sayar(Ab)\n",
    "    m=Ab.shape[0]\n",
    "    if m==rank:\n",
    "        return True\n",
    "    elif m>rank:\n",
    "        return False\n",
    "    else:\n",
    "        return \"Error\""
   ]
  },
  {
   "cell_type": "code",
   "execution_count": 73,
   "metadata": {
    "ExecuteTime": {
     "end_time": "2020-03-15T14:31:59.259003Z",
     "start_time": "2020-03-15T14:31:59.232767Z"
    }
   },
   "outputs": [
    {
     "name": "stdout",
     "output_type": "stream",
     "text": [
      "3 bilinmeyenli doğrusal denklem sistemi oluşturulmuştur.\n"
     ]
    },
    {
     "data": {
      "text/plain": [
       "True"
      ]
     },
     "execution_count": 73,
     "metadata": {},
     "output_type": "execute_result"
    }
   ],
   "source": [
    "# Soru 2 \n",
    "\n",
    "A=np.array([[2,1,0],[1,2,0],[3,3,1]])\n",
    "m=A.shape[0]\n",
    "n=A.shape[1]\n",
    "Empty=np.array([[]*n]*m) \n",
    "soru=DoğrusalDenklem(A,Empty)\n",
    "soru.doğrusal_bağımsız()"
   ]
  },
  {
   "cell_type": "code",
   "execution_count": 74,
   "metadata": {
    "ExecuteTime": {
     "end_time": "2020-03-15T14:32:06.290813Z",
     "start_time": "2020-03-15T14:32:06.285830Z"
    }
   },
   "outputs": [
    {
     "data": {
      "text/plain": [
       "array([[1., 0., 0.],\n",
       "       [0., 1., 0.],\n",
       "       [0., 0., 1.]])"
      ]
     },
     "execution_count": 74,
     "metadata": {},
     "output_type": "execute_result"
    }
   ],
   "source": [
    "soru.GaussJordan()"
   ]
  },
  {
   "cell_type": "code",
   "execution_count": 45,
   "metadata": {
    "ExecuteTime": {
     "end_time": "2020-03-28T08:08:42.104817Z",
     "start_time": "2020-03-28T08:08:42.100416Z"
    }
   },
   "outputs": [],
   "source": [
    "# Soru 3 \n",
    "A=np.array([[2,1],[1,2]])\n",
    "def soru_çözer(A):\n",
    "    m=A.shape[0]\n",
    "    n=A.shape[1]\n",
    "    Empty=np.array([[]*n]*m) \n",
    "    soru=DoğrusalDenklem(A,Empty)\n",
    "    print(\"Çözüm \\n\",soru.GaussJordan())\n",
    "    return print(\"Doğrusal bağımsız:\",soru.doğrusal_bağımsız())"
   ]
  },
  {
   "cell_type": "code",
   "execution_count": 76,
   "metadata": {
    "ExecuteTime": {
     "end_time": "2020-03-15T14:32:09.161039Z",
     "start_time": "2020-03-15T14:32:09.157036Z"
    }
   },
   "outputs": [
    {
     "name": "stdout",
     "output_type": "stream",
     "text": [
      "2 bilinmeyenli doğrusal denklem sistemi oluşturulmuştur.\n",
      "Çözüm \n",
      " [[1. 0.]\n",
      " [0. 1.]]\n",
      "Doğrusal bağımsız: True\n"
     ]
    }
   ],
   "source": [
    "soru_çözer(A)"
   ]
  },
  {
   "cell_type": "code",
   "execution_count": 77,
   "metadata": {
    "ExecuteTime": {
     "end_time": "2020-03-15T14:32:10.642986Z",
     "start_time": "2020-03-15T14:32:10.638953Z"
    },
    "lines_to_next_cell": 2
   },
   "outputs": [
    {
     "name": "stdout",
     "output_type": "stream",
     "text": [
      "2 bilinmeyenli doğrusal denklem sistemi oluşturulmuştur.\n",
      "1. satırından sonra işlem yapılamamaktadır\n",
      "Çözüm \n",
      " [[1. 0.]\n",
      " [0. 0.]]\n",
      "1. satırından sonra işlem yapılamamaktadır\n",
      "1. satırından sonra işlem yapılamamaktadır\n",
      "Doğrusal bağımsız: False\n"
     ]
    }
   ],
   "source": [
    "# Soru 4\n",
    "A=np.array([[2,0],[3,0]])\n",
    "soru_çözer(A)"
   ]
  },
  {
   "cell_type": "code",
   "execution_count": 78,
   "metadata": {
    "ExecuteTime": {
     "end_time": "2020-03-15T14:32:12.016811Z",
     "start_time": "2020-03-15T14:32:12.012836Z"
    }
   },
   "outputs": [
    {
     "name": "stdout",
     "output_type": "stream",
     "text": [
      "9 bilinmeyenli doğrusal denklem sistemi oluşturulmuştur.\n",
      "Çözüm \n",
      " [[1. 2. 3. 4. 5. 6. 7. 8. 9.]]\n",
      "Doğrusal bağımsız: True\n"
     ]
    }
   ],
   "source": [
    "# Soru 5\n",
    "A=np.array([[1,2,3,4,5,6,7,8,9]])\n",
    "soru_çözer(A)"
   ]
  },
  {
   "cell_type": "code",
   "execution_count": 79,
   "metadata": {
    "ExecuteTime": {
     "end_time": "2020-03-15T14:32:13.129526Z",
     "start_time": "2020-03-15T14:32:13.125515Z"
    }
   },
   "outputs": [
    {
     "name": "stdout",
     "output_type": "stream",
     "text": [
      "9 bilinmeyenli doğrusal denklem sistemi oluşturulmuştur.\n",
      "Çözüm \n",
      " [[1. 0. 0. 0. 2. 1. 1. 0. 1.]]\n",
      "Doğrusal bağımsız: True\n"
     ]
    }
   ],
   "source": [
    "# Soru 6\n",
    "A=np.array([[1,0,0,0,2,1,1,0,1]])  \n",
    "soru_çözer(A)"
   ]
  },
  {
   "cell_type": "code",
   "execution_count": 14,
   "metadata": {
    "ExecuteTime": {
     "end_time": "2020-03-28T08:01:02.299014Z",
     "start_time": "2020-03-28T08:01:02.293058Z"
    }
   },
   "outputs": [],
   "source": [
    "# Soru 7  ÇÖZÜM DE SORUN VAR!\n",
    "\n",
    "A=np.array([[1,2,3],[0,1,0],[1,1,0]])  \n",
    "b=np.array([[1],[5],[9]])"
   ]
  },
  {
   "cell_type": "code",
   "execution_count": 15,
   "metadata": {
    "ExecuteTime": {
     "end_time": "2020-03-28T08:01:02.939227Z",
     "start_time": "2020-03-28T08:01:02.936185Z"
    }
   },
   "outputs": [],
   "source": [
    "soru7=DoğrusalDenklem(A,b)"
   ]
  },
  {
   "cell_type": "code",
   "execution_count": 16,
   "metadata": {
    "ExecuteTime": {
     "end_time": "2020-03-28T08:01:03.566835Z",
     "start_time": "2020-03-28T08:01:03.562821Z"
    }
   },
   "outputs": [
    {
     "data": {
      "text/plain": [
       "array([[1, 2, 3, 1],\n",
       "       [0, 1, 0, 5],\n",
       "       [1, 1, 0, 9]])"
      ]
     },
     "execution_count": 16,
     "metadata": {},
     "output_type": "execute_result"
    }
   ],
   "source": [
    "soru7.denklem"
   ]
  },
  {
   "cell_type": "code",
   "execution_count": 17,
   "metadata": {
    "ExecuteTime": {
     "end_time": "2020-03-28T08:01:04.567545Z",
     "start_time": "2020-03-28T08:01:04.563565Z"
    }
   },
   "outputs": [
    {
     "data": {
      "text/plain": [
       "array([[ 1.      ,  0.      ,  0.      ,  4.      ],\n",
       "       [ 0.      ,  1.      ,  0.      ,  5.      ],\n",
       "       [-0.      , -0.      ,  1.      , -4.333333]])"
      ]
     },
     "execution_count": 17,
     "metadata": {},
     "output_type": "execute_result"
    }
   ],
   "source": [
    "soru7.GaussJordan()  "
   ]
  },
  {
   "cell_type": "code",
   "execution_count": 18,
   "metadata": {
    "ExecuteTime": {
     "end_time": "2020-03-28T08:01:11.850536Z",
     "start_time": "2020-03-28T08:01:11.845989Z"
    }
   },
   "outputs": [
    {
     "data": {
      "text/plain": [
       "'tek'"
      ]
     },
     "execution_count": 18,
     "metadata": {},
     "output_type": "execute_result"
    }
   ],
   "source": [
    "soru7.çözüm_durumu()"
   ]
  },
  {
   "cell_type": "code",
   "execution_count": 19,
   "metadata": {
    "ExecuteTime": {
     "end_time": "2020-03-28T08:02:20.703169Z",
     "start_time": "2020-03-28T08:02:20.699661Z"
    }
   },
   "outputs": [],
   "source": [
    "v0=A[:,0];v1=A[:,1];v2=A[:,2]\n",
    "v0.shape=(3,1)\n",
    "v1.shape=(3,1)\n",
    "v2.shape=(3,1)"
   ]
  },
  {
   "cell_type": "code",
   "execution_count": 20,
   "metadata": {
    "ExecuteTime": {
     "end_time": "2020-03-28T08:02:25.687814Z",
     "start_time": "2020-03-28T08:02:25.683788Z"
    }
   },
   "outputs": [
    {
     "data": {
      "text/plain": [
       "array([[1],\n",
       "       [0],\n",
       "       [1]])"
      ]
     },
     "execution_count": 20,
     "metadata": {},
     "output_type": "execute_result"
    }
   ],
   "source": [
    "v0"
   ]
  },
  {
   "cell_type": "code",
   "execution_count": 85,
   "metadata": {
    "ExecuteTime": {
     "end_time": "2020-03-15T14:32:24.230423Z",
     "start_time": "2020-03-15T14:32:24.226441Z"
    }
   },
   "outputs": [],
   "source": [
    "c0=3;c1=5;c2=-4 # Eski Çözüm !"
   ]
  },
  {
   "cell_type": "code",
   "execution_count": 21,
   "metadata": {
    "ExecuteTime": {
     "end_time": "2020-03-28T08:02:34.779199Z",
     "start_time": "2020-03-28T08:02:34.771628Z"
    },
    "scrolled": true
   },
   "outputs": [
    {
     "ename": "NameError",
     "evalue": "name 'c0' is not defined",
     "output_type": "error",
     "traceback": [
      "\u001b[1;31m---------------------------------------------------------------------------\u001b[0m",
      "\u001b[1;31mNameError\u001b[0m                                 Traceback (most recent call last)",
      "\u001b[1;32m<ipython-input-21-75b84f791365>\u001b[0m in \u001b[0;36m<module>\u001b[1;34m\u001b[0m\n\u001b[1;32m----> 1\u001b[1;33m \u001b[0mc0\u001b[0m\u001b[1;33m*\u001b[0m\u001b[0mv0\u001b[0m\u001b[1;33m+\u001b[0m\u001b[0mc1\u001b[0m\u001b[1;33m*\u001b[0m\u001b[0mv1\u001b[0m\u001b[1;33m+\u001b[0m\u001b[0mc2\u001b[0m\u001b[1;33m*\u001b[0m\u001b[0mv2\u001b[0m\u001b[1;33m==\u001b[0m\u001b[0mb\u001b[0m \u001b[1;31m# ÇÖZÜM DE SORUN VAR. Gauss Jordan Metoduna denklemi float'a çeviren bir kod eklenmiştir.\u001b[0m\u001b[1;33m\u001b[0m\u001b[1;33m\u001b[0m\u001b[0m\n\u001b[0m",
      "\u001b[1;31mNameError\u001b[0m: name 'c0' is not defined"
     ]
    }
   ],
   "source": [
    "c0*v0+c1*v1+c2*v2==b # ÇÖZÜM DE SORUN VAR. Gauss Jordan Metoduna denklemi float'a çeviren bir kod eklenmiştir. "
   ]
  },
  {
   "cell_type": "code",
   "execution_count": 29,
   "metadata": {
    "ExecuteTime": {
     "end_time": "2020-03-28T08:04:06.009376Z",
     "start_time": "2020-03-28T08:04:06.005867Z"
    },
    "lines_to_next_cell": 2
   },
   "outputs": [],
   "source": [
    "# yeni çözüm\n",
    "çözüm=soru7.GaussJordan()[:,3]  "
   ]
  },
  {
   "cell_type": "code",
   "execution_count": 30,
   "metadata": {
    "ExecuteTime": {
     "end_time": "2020-03-28T08:04:08.465615Z",
     "start_time": "2020-03-28T08:04:08.462074Z"
    }
   },
   "outputs": [],
   "source": [
    "c0=çözüm[0];c1=çözüm[1];c2=çözüm[2]"
   ]
  },
  {
   "cell_type": "code",
   "execution_count": 37,
   "metadata": {
    "ExecuteTime": {
     "end_time": "2020-03-28T08:06:29.145782Z",
     "start_time": "2020-03-28T08:06:29.141770Z"
    }
   },
   "outputs": [
    {
     "data": {
      "text/plain": [
       "array([[1, 2, 3],\n",
       "       [0, 1, 0],\n",
       "       [1, 1, 0]])"
      ]
     },
     "execution_count": 37,
     "metadata": {},
     "output_type": "execute_result"
    }
   ],
   "source": [
    "A"
   ]
  },
  {
   "cell_type": "code",
   "execution_count": 39,
   "metadata": {
    "ExecuteTime": {
     "end_time": "2020-03-28T08:06:44.480554Z",
     "start_time": "2020-03-28T08:06:44.476579Z"
    }
   },
   "outputs": [
    {
     "data": {
      "text/plain": [
       "array([[1],\n",
       "       [5],\n",
       "       [9]])"
      ]
     },
     "execution_count": 39,
     "metadata": {},
     "output_type": "execute_result"
    }
   ],
   "source": [
    "b"
   ]
  },
  {
   "cell_type": "code",
   "execution_count": 38,
   "metadata": {
    "ExecuteTime": {
     "end_time": "2020-03-28T08:06:33.942471Z",
     "start_time": "2020-03-28T08:06:33.938964Z"
    }
   },
   "outputs": [
    {
     "data": {
      "text/plain": [
       "array([[1],\n",
       "       [0],\n",
       "       [1]])"
      ]
     },
     "execution_count": 38,
     "metadata": {},
     "output_type": "execute_result"
    }
   ],
   "source": [
    "v0"
   ]
  },
  {
   "cell_type": "code",
   "execution_count": 40,
   "metadata": {
    "ExecuteTime": {
     "end_time": "2020-03-28T08:07:07.554308Z",
     "start_time": "2020-03-28T08:07:07.549959Z"
    }
   },
   "outputs": [
    {
     "data": {
      "text/plain": [
       "array([ 4.      ,  5.      , -4.333333])"
      ]
     },
     "execution_count": 40,
     "metadata": {},
     "output_type": "execute_result"
    }
   ],
   "source": [
    "çözüm"
   ]
  },
  {
   "cell_type": "code",
   "execution_count": 35,
   "metadata": {
    "ExecuteTime": {
     "end_time": "2020-03-28T08:04:46.689483Z",
     "start_time": "2020-03-28T08:04:46.684938Z"
    }
   },
   "outputs": [
    {
     "data": {
      "text/plain": [
       "array([[ True],\n",
       "       [ True],\n",
       "       [ True]])"
      ]
     },
     "execution_count": 35,
     "metadata": {},
     "output_type": "execute_result"
    }
   ],
   "source": [
    "c0*v0+c1*v1+(-13/3)*v2==b "
   ]
  },
  {
   "cell_type": "code",
   "execution_count": 46,
   "metadata": {
    "ExecuteTime": {
     "end_time": "2020-03-28T08:08:52.153925Z",
     "start_time": "2020-03-28T08:08:52.150917Z"
    },
    "lines_to_next_cell": 2
   },
   "outputs": [],
   "source": [
    "# Soru 8 \n",
    "# 3 veya daha fazla 2 boyutlu vektörün doğrusal bağımlı olduğunu göstermek. \n",
    "v0=[0,1]\n",
    "v1=[1,2]\n",
    "v2=[3,4]"
   ]
  },
  {
   "cell_type": "code",
   "execution_count": 47,
   "metadata": {
    "ExecuteTime": {
     "end_time": "2020-03-28T08:08:52.712533Z",
     "start_time": "2020-03-28T08:08:52.709021Z"
    },
    "lines_to_next_cell": 2
   },
   "outputs": [],
   "source": [
    "A=np.array([v0,v1,v2])"
   ]
  },
  {
   "cell_type": "code",
   "execution_count": 48,
   "metadata": {
    "ExecuteTime": {
     "end_time": "2020-03-28T08:08:53.418503Z",
     "start_time": "2020-03-28T08:08:53.412298Z"
    }
   },
   "outputs": [
    {
     "data": {
      "text/plain": [
       "array([[0, 1],\n",
       "       [1, 2],\n",
       "       [3, 4]])"
      ]
     },
     "execution_count": 48,
     "metadata": {},
     "output_type": "execute_result"
    }
   ],
   "source": [
    "A"
   ]
  },
  {
   "cell_type": "code",
   "execution_count": 49,
   "metadata": {
    "ExecuteTime": {
     "end_time": "2020-03-28T08:08:54.468115Z",
     "start_time": "2020-03-28T08:08:54.453556Z"
    }
   },
   "outputs": [
    {
     "ename": "IndexError",
     "evalue": "index 2 is out of bounds for axis 0 with size 2",
     "output_type": "error",
     "traceback": [
      "\u001b[1;31m---------------------------------------------------------------------------\u001b[0m",
      "\u001b[1;31mIndexError\u001b[0m                                Traceback (most recent call last)",
      "\u001b[1;32m<ipython-input-49-42e341d0cb71>\u001b[0m in \u001b[0;36m<module>\u001b[1;34m\u001b[0m\n\u001b[1;32m----> 1\u001b[1;33m \u001b[0msoru_çözer\u001b[0m\u001b[1;33m(\u001b[0m\u001b[0mA\u001b[0m\u001b[1;33m)\u001b[0m\u001b[1;33m\u001b[0m\u001b[1;33m\u001b[0m\u001b[0m\n\u001b[0m",
      "\u001b[1;32m<ipython-input-45-3a612ca27817>\u001b[0m in \u001b[0;36msoru_çözer\u001b[1;34m(A)\u001b[0m\n\u001b[0;32m      6\u001b[0m     \u001b[0mEmpty\u001b[0m\u001b[1;33m=\u001b[0m\u001b[0mnp\u001b[0m\u001b[1;33m.\u001b[0m\u001b[0marray\u001b[0m\u001b[1;33m(\u001b[0m\u001b[1;33m[\u001b[0m\u001b[1;33m[\u001b[0m\u001b[1;33m]\u001b[0m\u001b[1;33m*\u001b[0m\u001b[0mn\u001b[0m\u001b[1;33m]\u001b[0m\u001b[1;33m*\u001b[0m\u001b[0mm\u001b[0m\u001b[1;33m)\u001b[0m\u001b[1;33m\u001b[0m\u001b[1;33m\u001b[0m\u001b[0m\n\u001b[0;32m      7\u001b[0m     \u001b[0msoru\u001b[0m\u001b[1;33m=\u001b[0m\u001b[0mDoğrusalDenklem\u001b[0m\u001b[1;33m(\u001b[0m\u001b[0mA\u001b[0m\u001b[1;33m,\u001b[0m\u001b[0mEmpty\u001b[0m\u001b[1;33m)\u001b[0m\u001b[1;33m\u001b[0m\u001b[1;33m\u001b[0m\u001b[0m\n\u001b[1;32m----> 8\u001b[1;33m     \u001b[0mprint\u001b[0m\u001b[1;33m(\u001b[0m\u001b[1;34m\"Çözüm \\n\"\u001b[0m\u001b[1;33m,\u001b[0m\u001b[0msoru\u001b[0m\u001b[1;33m.\u001b[0m\u001b[0mGaussJordan\u001b[0m\u001b[1;33m(\u001b[0m\u001b[1;33m)\u001b[0m\u001b[1;33m)\u001b[0m\u001b[1;33m\u001b[0m\u001b[1;33m\u001b[0m\u001b[0m\n\u001b[0m\u001b[0;32m      9\u001b[0m     \u001b[1;32mreturn\u001b[0m \u001b[0mprint\u001b[0m\u001b[1;33m(\u001b[0m\u001b[1;34m\"Doğrusal bağımsız:\"\u001b[0m\u001b[1;33m,\u001b[0m\u001b[0msoru\u001b[0m\u001b[1;33m.\u001b[0m\u001b[0mdoğrusal_bağımsız\u001b[0m\u001b[1;33m(\u001b[0m\u001b[1;33m)\u001b[0m\u001b[1;33m)\u001b[0m\u001b[1;33m\u001b[0m\u001b[1;33m\u001b[0m\u001b[0m\n",
      "\u001b[1;32m<ipython-input-28-bba2c807ef18>\u001b[0m in \u001b[0;36mGaussJordan\u001b[1;34m(self)\u001b[0m\n\u001b[0;32m     34\u001b[0m \u001b[1;33m\u001b[0m\u001b[0m\n\u001b[0;32m     35\u001b[0m         \u001b[1;32mfor\u001b[0m \u001b[0mi\u001b[0m \u001b[1;32min\u001b[0m \u001b[0mrange\u001b[0m\u001b[1;33m(\u001b[0m\u001b[0msatır_sayısı\u001b[0m\u001b[1;33m)\u001b[0m\u001b[1;33m:\u001b[0m\u001b[1;33m\u001b[0m\u001b[1;33m\u001b[0m\u001b[0m\n\u001b[1;32m---> 36\u001b[1;33m             \u001b[1;32mif\u001b[0m \u001b[0mAb\u001b[0m\u001b[1;33m[\u001b[0m\u001b[0mi\u001b[0m\u001b[1;33m]\u001b[0m\u001b[1;33m[\u001b[0m\u001b[0mi\u001b[0m\u001b[1;33m]\u001b[0m\u001b[1;33m==\u001b[0m\u001b[1;36m0\u001b[0m\u001b[1;33m:\u001b[0m\u001b[1;33m\u001b[0m\u001b[1;33m\u001b[0m\u001b[0m\n\u001b[0m\u001b[0;32m     37\u001b[0m                 \u001b[0mGeçici\u001b[0m\u001b[1;33m=\u001b[0m\u001b[0mAb\u001b[0m\u001b[1;33m[\u001b[0m\u001b[0mi\u001b[0m\u001b[1;33m]\u001b[0m\u001b[1;33m.\u001b[0m\u001b[0mcopy\u001b[0m\u001b[1;33m(\u001b[0m\u001b[1;33m)\u001b[0m\u001b[1;33m\u001b[0m\u001b[1;33m\u001b[0m\u001b[0m\n\u001b[0;32m     38\u001b[0m                 \u001b[0msatır_indisleri\u001b[0m\u001b[1;33m=\u001b[0m\u001b[1;33m[\u001b[0m\u001b[0ma\u001b[0m \u001b[1;32mfor\u001b[0m \u001b[0ma\u001b[0m \u001b[1;32min\u001b[0m \u001b[0mrange\u001b[0m\u001b[1;33m(\u001b[0m\u001b[0mi\u001b[0m\u001b[1;33m,\u001b[0m\u001b[0msatır_sayısı\u001b[0m\u001b[1;33m)\u001b[0m \u001b[1;32mif\u001b[0m \u001b[0mAb\u001b[0m\u001b[1;33m[\u001b[0m\u001b[0ma\u001b[0m\u001b[1;33m]\u001b[0m\u001b[1;33m[\u001b[0m\u001b[0mi\u001b[0m\u001b[1;33m]\u001b[0m\u001b[1;33m!=\u001b[0m\u001b[1;36m0\u001b[0m\u001b[1;33m]\u001b[0m\u001b[1;33m\u001b[0m\u001b[1;33m\u001b[0m\u001b[0m\n",
      "\u001b[1;31mIndexError\u001b[0m: index 2 is out of bounds for axis 0 with size 2"
     ]
    }
   ],
   "source": [
    "soru_çözer(A)"
   ]
  },
  {
   "cell_type": "code",
   "execution_count": 94,
   "metadata": {
    "ExecuteTime": {
     "end_time": "2020-03-15T14:32:30.595346Z",
     "start_time": "2020-03-15T14:32:30.593352Z"
    }
   },
   "outputs": [],
   "source": [
    "# Rank A ile rank A'nın tersi birbirine eşit olma şansı yoktur. O yüzden gauss jordan hata vermektedir. "
   ]
  },
  {
   "cell_type": "code",
   "execution_count": 51,
   "metadata": {
    "ExecuteTime": {
     "end_time": "2020-03-28T08:10:23.296735Z",
     "start_time": "2020-03-28T08:10:23.279156Z"
    }
   },
   "outputs": [
    {
     "ename": "LinAlgError",
     "evalue": "Last 2 dimensions of the array must be square",
     "output_type": "error",
     "traceback": [
      "\u001b[1;31m---------------------------------------------------------------------------\u001b[0m",
      "\u001b[1;31mLinAlgError\u001b[0m                               Traceback (most recent call last)",
      "\u001b[1;32m<ipython-input-51-03ee50836491>\u001b[0m in \u001b[0;36m<module>\u001b[1;34m\u001b[0m\n\u001b[1;32m----> 1\u001b[1;33m \u001b[0mnp\u001b[0m\u001b[1;33m.\u001b[0m\u001b[0mlinalg\u001b[0m\u001b[1;33m.\u001b[0m\u001b[0msolve\u001b[0m\u001b[1;33m(\u001b[0m\u001b[0mA\u001b[0m\u001b[1;33m,\u001b[0m\u001b[0mnp\u001b[0m\u001b[1;33m.\u001b[0m\u001b[0marray\u001b[0m\u001b[1;33m(\u001b[0m\u001b[1;33m[\u001b[0m\u001b[1;33m[\u001b[0m\u001b[1;36m0\u001b[0m\u001b[1;33m]\u001b[0m\u001b[1;33m,\u001b[0m\u001b[1;33m[\u001b[0m\u001b[1;36m0\u001b[0m\u001b[1;33m]\u001b[0m\u001b[1;33m,\u001b[0m\u001b[1;33m[\u001b[0m\u001b[1;36m0\u001b[0m\u001b[1;33m]\u001b[0m\u001b[1;33m]\u001b[0m\u001b[1;33m)\u001b[0m\u001b[1;33m)\u001b[0m\u001b[1;33m\u001b[0m\u001b[1;33m\u001b[0m\u001b[0m\n\u001b[0m",
      "\u001b[1;32m<__array_function__ internals>\u001b[0m in \u001b[0;36msolve\u001b[1;34m(*args, **kwargs)\u001b[0m\n",
      "\u001b[1;32m~\\AppData\\Local\\Continuum\\anaconda3\\envs\\OptimizationStudy\\lib\\site-packages\\numpy\\linalg\\linalg.py\u001b[0m in \u001b[0;36msolve\u001b[1;34m(a, b)\u001b[0m\n\u001b[0;32m    384\u001b[0m     \u001b[0ma\u001b[0m\u001b[1;33m,\u001b[0m \u001b[0m_\u001b[0m \u001b[1;33m=\u001b[0m \u001b[0m_makearray\u001b[0m\u001b[1;33m(\u001b[0m\u001b[0ma\u001b[0m\u001b[1;33m)\u001b[0m\u001b[1;33m\u001b[0m\u001b[1;33m\u001b[0m\u001b[0m\n\u001b[0;32m    385\u001b[0m     \u001b[0m_assert_stacked_2d\u001b[0m\u001b[1;33m(\u001b[0m\u001b[0ma\u001b[0m\u001b[1;33m)\u001b[0m\u001b[1;33m\u001b[0m\u001b[1;33m\u001b[0m\u001b[0m\n\u001b[1;32m--> 386\u001b[1;33m     \u001b[0m_assert_stacked_square\u001b[0m\u001b[1;33m(\u001b[0m\u001b[0ma\u001b[0m\u001b[1;33m)\u001b[0m\u001b[1;33m\u001b[0m\u001b[1;33m\u001b[0m\u001b[0m\n\u001b[0m\u001b[0;32m    387\u001b[0m     \u001b[0mb\u001b[0m\u001b[1;33m,\u001b[0m \u001b[0mwrap\u001b[0m \u001b[1;33m=\u001b[0m \u001b[0m_makearray\u001b[0m\u001b[1;33m(\u001b[0m\u001b[0mb\u001b[0m\u001b[1;33m)\u001b[0m\u001b[1;33m\u001b[0m\u001b[1;33m\u001b[0m\u001b[0m\n\u001b[0;32m    388\u001b[0m     \u001b[0mt\u001b[0m\u001b[1;33m,\u001b[0m \u001b[0mresult_t\u001b[0m \u001b[1;33m=\u001b[0m \u001b[0m_commonType\u001b[0m\u001b[1;33m(\u001b[0m\u001b[0ma\u001b[0m\u001b[1;33m,\u001b[0m \u001b[0mb\u001b[0m\u001b[1;33m)\u001b[0m\u001b[1;33m\u001b[0m\u001b[1;33m\u001b[0m\u001b[0m\n",
      "\u001b[1;32m~\\AppData\\Local\\Continuum\\anaconda3\\envs\\OptimizationStudy\\lib\\site-packages\\numpy\\linalg\\linalg.py\u001b[0m in \u001b[0;36m_assert_stacked_square\u001b[1;34m(*arrays)\u001b[0m\n\u001b[0;32m    211\u001b[0m         \u001b[0mm\u001b[0m\u001b[1;33m,\u001b[0m \u001b[0mn\u001b[0m \u001b[1;33m=\u001b[0m \u001b[0ma\u001b[0m\u001b[1;33m.\u001b[0m\u001b[0mshape\u001b[0m\u001b[1;33m[\u001b[0m\u001b[1;33m-\u001b[0m\u001b[1;36m2\u001b[0m\u001b[1;33m:\u001b[0m\u001b[1;33m]\u001b[0m\u001b[1;33m\u001b[0m\u001b[1;33m\u001b[0m\u001b[0m\n\u001b[0;32m    212\u001b[0m         \u001b[1;32mif\u001b[0m \u001b[0mm\u001b[0m \u001b[1;33m!=\u001b[0m \u001b[0mn\u001b[0m\u001b[1;33m:\u001b[0m\u001b[1;33m\u001b[0m\u001b[1;33m\u001b[0m\u001b[0m\n\u001b[1;32m--> 213\u001b[1;33m             \u001b[1;32mraise\u001b[0m \u001b[0mLinAlgError\u001b[0m\u001b[1;33m(\u001b[0m\u001b[1;34m'Last 2 dimensions of the array must be square'\u001b[0m\u001b[1;33m)\u001b[0m\u001b[1;33m\u001b[0m\u001b[1;33m\u001b[0m\u001b[0m\n\u001b[0m\u001b[0;32m    214\u001b[0m \u001b[1;33m\u001b[0m\u001b[0m\n\u001b[0;32m    215\u001b[0m \u001b[1;32mdef\u001b[0m \u001b[0m_assert_finite\u001b[0m\u001b[1;33m(\u001b[0m\u001b[1;33m*\u001b[0m\u001b[0marrays\u001b[0m\u001b[1;33m)\u001b[0m\u001b[1;33m:\u001b[0m\u001b[1;33m\u001b[0m\u001b[1;33m\u001b[0m\u001b[0m\n",
      "\u001b[1;31mLinAlgError\u001b[0m: Last 2 dimensions of the array must be square"
     ]
    }
   ],
   "source": [
    "np.linalg.solve(A,np.array([[0],[0],[0]]))"
   ]
  },
  {
   "cell_type": "code",
   "execution_count": 52,
   "metadata": {
    "ExecuteTime": {
     "end_time": "2020-03-28T08:12:27.881893Z",
     "start_time": "2020-03-28T08:12:27.877880Z"
    }
   },
   "outputs": [],
   "source": [
    "# Soru 9 \n",
    "v0=[0,1,0]\n",
    "v1=[1,2,3]\n",
    "v2=[2,4,6]\n",
    "\n",
    "A=np.array([v0,v1,v2])"
   ]
  },
  {
   "cell_type": "code",
   "execution_count": 53,
   "metadata": {
    "ExecuteTime": {
     "end_time": "2020-03-28T08:12:28.810940Z",
     "start_time": "2020-03-28T08:12:28.802393Z"
    }
   },
   "outputs": [
    {
     "name": "stdout",
     "output_type": "stream",
     "text": [
      "2. satırından sonra işlem yapılamamaktadır\n",
      "Çözüm \n",
      " [[1. 0. 3.]\n",
      " [0. 1. 0.]\n",
      " [0. 0. 0.]]\n",
      "2. satırından sonra işlem yapılamamaktadır\n",
      "2. satırından sonra işlem yapılamamaktadır\n",
      "Doğrusal bağımsız: False\n"
     ]
    }
   ],
   "source": [
    "soru_çözer(A)"
   ]
  },
  {
   "cell_type": "code",
   "execution_count": 60,
   "metadata": {
    "ExecuteTime": {
     "end_time": "2020-03-15T14:13:59.267773Z",
     "start_time": "2020-03-15T14:13:59.264799Z"
    }
   },
   "outputs": [],
   "source": [
    "# Bir satır diğerinin katı olduğu için gauss jordan işlemi sırasında diğerini yok etmektedir. "
   ]
  },
  {
   "cell_type": "code",
   "execution_count": 54,
   "metadata": {
    "ExecuteTime": {
     "end_time": "2020-03-28T08:13:15.158980Z",
     "start_time": "2020-03-28T08:13:15.141948Z"
    }
   },
   "outputs": [
    {
     "ename": "LinAlgError",
     "evalue": "Singular matrix",
     "output_type": "error",
     "traceback": [
      "\u001b[1;31m---------------------------------------------------------------------------\u001b[0m",
      "\u001b[1;31mLinAlgError\u001b[0m                               Traceback (most recent call last)",
      "\u001b[1;32m<ipython-input-54-03ee50836491>\u001b[0m in \u001b[0;36m<module>\u001b[1;34m\u001b[0m\n\u001b[1;32m----> 1\u001b[1;33m \u001b[0mnp\u001b[0m\u001b[1;33m.\u001b[0m\u001b[0mlinalg\u001b[0m\u001b[1;33m.\u001b[0m\u001b[0msolve\u001b[0m\u001b[1;33m(\u001b[0m\u001b[0mA\u001b[0m\u001b[1;33m,\u001b[0m\u001b[0mnp\u001b[0m\u001b[1;33m.\u001b[0m\u001b[0marray\u001b[0m\u001b[1;33m(\u001b[0m\u001b[1;33m[\u001b[0m\u001b[1;33m[\u001b[0m\u001b[1;36m0\u001b[0m\u001b[1;33m]\u001b[0m\u001b[1;33m,\u001b[0m\u001b[1;33m[\u001b[0m\u001b[1;36m0\u001b[0m\u001b[1;33m]\u001b[0m\u001b[1;33m,\u001b[0m\u001b[1;33m[\u001b[0m\u001b[1;36m0\u001b[0m\u001b[1;33m]\u001b[0m\u001b[1;33m]\u001b[0m\u001b[1;33m)\u001b[0m\u001b[1;33m)\u001b[0m\u001b[1;33m\u001b[0m\u001b[1;33m\u001b[0m\u001b[0m\n\u001b[0m",
      "\u001b[1;32m<__array_function__ internals>\u001b[0m in \u001b[0;36msolve\u001b[1;34m(*args, **kwargs)\u001b[0m\n",
      "\u001b[1;32m~\\AppData\\Local\\Continuum\\anaconda3\\envs\\OptimizationStudy\\lib\\site-packages\\numpy\\linalg\\linalg.py\u001b[0m in \u001b[0;36msolve\u001b[1;34m(a, b)\u001b[0m\n\u001b[0;32m    397\u001b[0m     \u001b[0msignature\u001b[0m \u001b[1;33m=\u001b[0m \u001b[1;34m'DD->D'\u001b[0m \u001b[1;32mif\u001b[0m \u001b[0misComplexType\u001b[0m\u001b[1;33m(\u001b[0m\u001b[0mt\u001b[0m\u001b[1;33m)\u001b[0m \u001b[1;32melse\u001b[0m \u001b[1;34m'dd->d'\u001b[0m\u001b[1;33m\u001b[0m\u001b[1;33m\u001b[0m\u001b[0m\n\u001b[0;32m    398\u001b[0m     \u001b[0mextobj\u001b[0m \u001b[1;33m=\u001b[0m \u001b[0mget_linalg_error_extobj\u001b[0m\u001b[1;33m(\u001b[0m\u001b[0m_raise_linalgerror_singular\u001b[0m\u001b[1;33m)\u001b[0m\u001b[1;33m\u001b[0m\u001b[1;33m\u001b[0m\u001b[0m\n\u001b[1;32m--> 399\u001b[1;33m     \u001b[0mr\u001b[0m \u001b[1;33m=\u001b[0m \u001b[0mgufunc\u001b[0m\u001b[1;33m(\u001b[0m\u001b[0ma\u001b[0m\u001b[1;33m,\u001b[0m \u001b[0mb\u001b[0m\u001b[1;33m,\u001b[0m \u001b[0msignature\u001b[0m\u001b[1;33m=\u001b[0m\u001b[0msignature\u001b[0m\u001b[1;33m,\u001b[0m \u001b[0mextobj\u001b[0m\u001b[1;33m=\u001b[0m\u001b[0mextobj\u001b[0m\u001b[1;33m)\u001b[0m\u001b[1;33m\u001b[0m\u001b[1;33m\u001b[0m\u001b[0m\n\u001b[0m\u001b[0;32m    400\u001b[0m \u001b[1;33m\u001b[0m\u001b[0m\n\u001b[0;32m    401\u001b[0m     \u001b[1;32mreturn\u001b[0m \u001b[0mwrap\u001b[0m\u001b[1;33m(\u001b[0m\u001b[0mr\u001b[0m\u001b[1;33m.\u001b[0m\u001b[0mastype\u001b[0m\u001b[1;33m(\u001b[0m\u001b[0mresult_t\u001b[0m\u001b[1;33m,\u001b[0m \u001b[0mcopy\u001b[0m\u001b[1;33m=\u001b[0m\u001b[1;32mFalse\u001b[0m\u001b[1;33m)\u001b[0m\u001b[1;33m)\u001b[0m\u001b[1;33m\u001b[0m\u001b[1;33m\u001b[0m\u001b[0m\n",
      "\u001b[1;32m~\\AppData\\Local\\Continuum\\anaconda3\\envs\\OptimizationStudy\\lib\\site-packages\\numpy\\linalg\\linalg.py\u001b[0m in \u001b[0;36m_raise_linalgerror_singular\u001b[1;34m(err, flag)\u001b[0m\n\u001b[0;32m     95\u001b[0m \u001b[1;33m\u001b[0m\u001b[0m\n\u001b[0;32m     96\u001b[0m \u001b[1;32mdef\u001b[0m \u001b[0m_raise_linalgerror_singular\u001b[0m\u001b[1;33m(\u001b[0m\u001b[0merr\u001b[0m\u001b[1;33m,\u001b[0m \u001b[0mflag\u001b[0m\u001b[1;33m)\u001b[0m\u001b[1;33m:\u001b[0m\u001b[1;33m\u001b[0m\u001b[1;33m\u001b[0m\u001b[0m\n\u001b[1;32m---> 97\u001b[1;33m     \u001b[1;32mraise\u001b[0m \u001b[0mLinAlgError\u001b[0m\u001b[1;33m(\u001b[0m\u001b[1;34m\"Singular matrix\"\u001b[0m\u001b[1;33m)\u001b[0m\u001b[1;33m\u001b[0m\u001b[1;33m\u001b[0m\u001b[0m\n\u001b[0m\u001b[0;32m     98\u001b[0m \u001b[1;33m\u001b[0m\u001b[0m\n\u001b[0;32m     99\u001b[0m \u001b[1;32mdef\u001b[0m \u001b[0m_raise_linalgerror_nonposdef\u001b[0m\u001b[1;33m(\u001b[0m\u001b[0merr\u001b[0m\u001b[1;33m,\u001b[0m \u001b[0mflag\u001b[0m\u001b[1;33m)\u001b[0m\u001b[1;33m:\u001b[0m\u001b[1;33m\u001b[0m\u001b[1;33m\u001b[0m\u001b[0m\n",
      "\u001b[1;31mLinAlgError\u001b[0m: Singular matrix"
     ]
    }
   ],
   "source": [
    "np.linalg.solve(A,np.array([[0],[0],[0]]))"
   ]
  },
  {
   "cell_type": "markdown",
   "metadata": {},
   "source": [
    "# Matrisin Tersi"
   ]
  },
  {
   "cell_type": "markdown",
   "metadata": {
    "ExecuteTime": {
     "end_time": "2020-03-15T14:35:59.512336Z",
     "start_time": "2020-03-15T14:35:59.504766Z"
    }
   },
   "source": [
    "x*4=3 denkleminde iki tarafı da 4^-1 ile çarparak sonucu buluyoruz. Bu 0^-1 için geçerli değildir. Bu modeli genelleştirerek bilinmeyen sayısı ile denklem sayısının aynı olduğu durumlar için kullanacağız."
   ]
  },
  {
   "cell_type": "markdown",
   "metadata": {},
   "source": [
    "Kare matris satır ve sütün sayısı eşit olan matristir. \n",
    "Matristeki satır ve sütün numaraları aynı olan elemanlara diyagonal elemanlar denilir. \n",
    "Diyagonal elemanların hepsinin 1 ve diyagonal olmayan elemanların 0 olduğu matrise birim matris denilir. "
   ]
  },
  {
   "cell_type": "code",
   "execution_count": 100,
   "metadata": {
    "ExecuteTime": {
     "end_time": "2020-03-15T14:42:05.610875Z",
     "start_time": "2020-03-15T14:42:05.606835Z"
    }
   },
   "outputs": [
    {
     "data": {
      "text/plain": [
       "array([[1, 0],\n",
       "       [0, 1]])"
      ]
     },
     "execution_count": 100,
     "metadata": {},
     "output_type": "execute_result"
    }
   ],
   "source": [
    "I2=np.array([[1,0],[0,1]]);I2"
   ]
  },
  {
   "cell_type": "markdown",
   "metadata": {},
   "source": [
    "<b>  Im * A= A * Im = A 'dir  </b>"
   ]
  },
  {
   "cell_type": "code",
   "execution_count": 101,
   "metadata": {
    "ExecuteTime": {
     "end_time": "2020-03-15T15:00:43.875795Z",
     "start_time": "2020-03-15T15:00:43.871785Z"
    }
   },
   "outputs": [
    {
     "data": {
      "text/plain": [
       "True"
      ]
     },
     "execution_count": 101,
     "metadata": {},
     "output_type": "execute_result"
    }
   ],
   "source": [
    "4*(1/4)==(1/4)*4"
   ]
  },
  {
   "cell_type": "code",
   "execution_count": 102,
   "metadata": {
    "ExecuteTime": {
     "end_time": "2020-03-15T15:00:49.923238Z",
     "start_time": "2020-03-15T15:00:49.919224Z"
    }
   },
   "outputs": [
    {
     "data": {
      "text/plain": [
       "True"
      ]
     },
     "execution_count": 102,
     "metadata": {},
     "output_type": "execute_result"
    }
   ],
   "source": [
    "4*(1/4)==1"
   ]
  },
  {
   "cell_type": "markdown",
   "metadata": {},
   "source": [
    "Matrisler içinde mXm matrisler : <b> BA = AB = I ise , A^-1 = B </b>"
   ]
  },
  {
   "cell_type": "code",
   "execution_count": 103,
   "metadata": {
    "ExecuteTime": {
     "end_time": "2020-03-15T15:03:04.220743Z",
     "start_time": "2020-03-15T15:03:04.216765Z"
    }
   },
   "outputs": [],
   "source": [
    "# Örnek \n",
    "\n",
    "A=np.array([[2,0,-1],[3,1,2],[-1,0,1]])"
   ]
  },
  {
   "cell_type": "code",
   "execution_count": 104,
   "metadata": {
    "ExecuteTime": {
     "end_time": "2020-03-15T15:03:36.576345Z",
     "start_time": "2020-03-15T15:03:36.572370Z"
    }
   },
   "outputs": [],
   "source": [
    "B=np.array([[1,0, 1],[-5,1,-7],[ 1,0,2]])"
   ]
  },
  {
   "cell_type": "code",
   "execution_count": 105,
   "metadata": {
    "ExecuteTime": {
     "end_time": "2020-03-15T15:03:40.571372Z",
     "start_time": "2020-03-15T15:03:40.566859Z"
    }
   },
   "outputs": [
    {
     "data": {
      "text/plain": [
       "array([[1, 0, 0],\n",
       "       [0, 1, 0],\n",
       "       [0, 0, 1]])"
      ]
     },
     "execution_count": 105,
     "metadata": {},
     "output_type": "execute_result"
    }
   ],
   "source": [
    "A.dot(B)"
   ]
  },
  {
   "cell_type": "code",
   "execution_count": 106,
   "metadata": {
    "ExecuteTime": {
     "end_time": "2020-03-15T15:03:58.001806Z",
     "start_time": "2020-03-15T15:03:57.985015Z"
    }
   },
   "outputs": [],
   "source": [
    "A_tersi=B"
   ]
  },
  {
   "cell_type": "code",
   "execution_count": 107,
   "metadata": {
    "ExecuteTime": {
     "end_time": "2020-03-15T15:04:03.241426Z",
     "start_time": "2020-03-15T15:04:03.237456Z"
    }
   },
   "outputs": [
    {
     "data": {
      "text/plain": [
       "array([[ 1,  0,  1],\n",
       "       [-5,  1, -7],\n",
       "       [ 1,  0,  2]])"
      ]
     },
     "execution_count": 107,
     "metadata": {},
     "output_type": "execute_result"
    }
   ],
   "source": [
    "A_tersi"
   ]
  },
  {
   "cell_type": "markdown",
   "metadata": {
    "ExecuteTime": {
     "end_time": "2020-03-15T15:06:01.324086Z",
     "start_time": "2020-03-15T15:06:01.321091Z"
    }
   },
   "source": [
    "<b> Ax=b -> (A^-1 * A) * x=A^-1 * b  -> Im * x=A^-1 * b -> x=A^-1 * b </b> "
   ]
  },
  {
   "cell_type": "markdown",
   "metadata": {},
   "source": [
    "Gauss Jordan A^-1 i bulmak için kullanılabilinir. "
   ]
  },
  {
   "cell_type": "code",
   "execution_count": 55,
   "metadata": {
    "ExecuteTime": {
     "end_time": "2020-03-28T09:14:43.668424Z",
     "start_time": "2020-03-28T09:14:43.664922Z"
    }
   },
   "outputs": [],
   "source": [
    "A=np.array([[2,5],[1,3]])"
   ]
  },
  {
   "cell_type": "code",
   "execution_count": 56,
   "metadata": {
    "ExecuteTime": {
     "end_time": "2020-03-28T09:14:57.305699Z",
     "start_time": "2020-03-28T09:14:57.302159Z"
    }
   },
   "outputs": [
    {
     "data": {
      "text/plain": [
       "array([[2, 5],\n",
       "       [1, 3]])"
      ]
     },
     "execution_count": 56,
     "metadata": {},
     "output_type": "execute_result"
    }
   ],
   "source": [
    "A"
   ]
  },
  {
   "cell_type": "markdown",
   "metadata": {
    "lines_to_next_cell": 2
   },
   "source": [
    "A*A^-1=I"
   ]
  },
  {
   "cell_type": "code",
   "execution_count": 57,
   "metadata": {
    "ExecuteTime": {
     "end_time": "2020-03-28T09:15:00.904723Z",
     "start_time": "2020-03-28T09:15:00.900758Z"
    }
   },
   "outputs": [],
   "source": [
    "I=np.array([[1,0],[0,1]])"
   ]
  },
  {
   "cell_type": "code",
   "execution_count": 58,
   "metadata": {
    "ExecuteTime": {
     "end_time": "2020-03-28T09:15:01.814041Z",
     "start_time": "2020-03-28T09:15:01.809030Z"
    }
   },
   "outputs": [
    {
     "data": {
      "text/plain": [
       "array([[1, 0],\n",
       "       [0, 1]])"
      ]
     },
     "execution_count": 58,
     "metadata": {},
     "output_type": "execute_result"
    }
   ],
   "source": [
    "I"
   ]
  },
  {
   "cell_type": "code",
   "execution_count": 59,
   "metadata": {
    "ExecuteTime": {
     "end_time": "2020-03-28T09:15:06.712586Z",
     "start_time": "2020-03-28T09:15:06.709579Z"
    }
   },
   "outputs": [],
   "source": [
    "A_tersi=np.array([['a','b'],['c','d']])"
   ]
  },
  {
   "cell_type": "code",
   "execution_count": 60,
   "metadata": {
    "ExecuteTime": {
     "end_time": "2020-03-28T09:15:10.658163Z",
     "start_time": "2020-03-28T09:15:10.653685Z"
    }
   },
   "outputs": [
    {
     "data": {
      "text/plain": [
       "array([1, 0])"
      ]
     },
     "execution_count": 60,
     "metadata": {},
     "output_type": "execute_result"
    }
   ],
   "source": [
    "I[0,:]"
   ]
  },
  {
   "cell_type": "code",
   "execution_count": 61,
   "metadata": {
    "ExecuteTime": {
     "end_time": "2020-03-28T09:15:12.862811Z",
     "start_time": "2020-03-28T09:15:12.858832Z"
    }
   },
   "outputs": [
    {
     "data": {
      "text/plain": [
       "array(['a', 'c'], dtype='<U1')"
      ]
     },
     "execution_count": 61,
     "metadata": {},
     "output_type": "execute_result"
    }
   ],
   "source": [
    "A_tersi[:,0]"
   ]
  },
  {
   "cell_type": "code",
   "execution_count": 62,
   "metadata": {
    "ExecuteTime": {
     "end_time": "2020-03-28T09:15:15.359033Z",
     "start_time": "2020-03-28T09:15:15.356025Z"
    }
   },
   "outputs": [],
   "source": [
    "# A*A_tersi[:,0] = I[0,:] A nın tersi ile çarpımında bilinmeyenleri aynı daha önce yaptığımız gibi Gauss Jordan ile bulabiliriz. "
   ]
  },
  {
   "cell_type": "code",
   "execution_count": 63,
   "metadata": {
    "ExecuteTime": {
     "end_time": "2020-03-28T09:15:16.661073Z",
     "start_time": "2020-03-28T09:15:16.658534Z"
    }
   },
   "outputs": [],
   "source": [
    "# A*A_tersi[:,1] = I[1,:]"
   ]
  },
  {
   "cell_type": "code",
   "execution_count": 64,
   "metadata": {
    "ExecuteTime": {
     "end_time": "2020-03-28T09:15:17.402810Z",
     "start_time": "2020-03-28T09:15:17.397797Z"
    }
   },
   "outputs": [
    {
     "data": {
      "text/plain": [
       "array([[2, 5],\n",
       "       [1, 3]])"
      ]
     },
     "execution_count": 64,
     "metadata": {},
     "output_type": "execute_result"
    }
   ],
   "source": [
    "A"
   ]
  },
  {
   "cell_type": "code",
   "execution_count": 65,
   "metadata": {
    "ExecuteTime": {
     "end_time": "2020-03-28T09:15:19.066291Z",
     "start_time": "2020-03-28T09:15:19.063282Z"
    }
   },
   "outputs": [],
   "source": [
    "I_ilk_sütün=I[:,0]"
   ]
  },
  {
   "cell_type": "code",
   "execution_count": 66,
   "metadata": {
    "ExecuteTime": {
     "end_time": "2020-03-28T09:15:25.382699Z",
     "start_time": "2020-03-28T09:15:25.378661Z"
    }
   },
   "outputs": [
    {
     "data": {
      "text/plain": [
       "array([1, 0])"
      ]
     },
     "execution_count": 66,
     "metadata": {},
     "output_type": "execute_result"
    }
   ],
   "source": [
    "I_ilk_sütün"
   ]
  },
  {
   "cell_type": "code",
   "execution_count": 67,
   "metadata": {
    "ExecuteTime": {
     "end_time": "2020-03-28T09:15:27.447190Z",
     "start_time": "2020-03-28T09:15:27.444214Z"
    }
   },
   "outputs": [],
   "source": [
    "I_ilk_sütün.shape=(2,1)"
   ]
  },
  {
   "cell_type": "code",
   "execution_count": 68,
   "metadata": {
    "ExecuteTime": {
     "end_time": "2020-03-28T09:15:33.065776Z",
     "start_time": "2020-03-28T09:15:33.059275Z"
    },
    "lines_to_next_cell": 2
   },
   "outputs": [
    {
     "data": {
      "text/plain": [
       "array([[1],\n",
       "       [0]])"
      ]
     },
     "execution_count": 68,
     "metadata": {},
     "output_type": "execute_result"
    }
   ],
   "source": [
    "I_ilk_sütün"
   ]
  },
  {
   "cell_type": "code",
   "execution_count": 69,
   "metadata": {
    "ExecuteTime": {
     "end_time": "2020-03-28T09:15:37.452653Z",
     "start_time": "2020-03-28T09:15:37.449614Z"
    }
   },
   "outputs": [],
   "source": [
    "Denklem_1=DoğrusalDenklem(A,I_ilk_sütün)"
   ]
  },
  {
   "cell_type": "code",
   "execution_count": 70,
   "metadata": {
    "ExecuteTime": {
     "end_time": "2020-03-28T09:15:40.920568Z",
     "start_time": "2020-03-28T09:15:40.916539Z"
    }
   },
   "outputs": [
    {
     "data": {
      "text/plain": [
       "array([[2, 5, 1],\n",
       "       [1, 3, 0]])"
      ]
     },
     "execution_count": 70,
     "metadata": {},
     "output_type": "execute_result"
    }
   ],
   "source": [
    "Denklem_1.denklem"
   ]
  },
  {
   "cell_type": "code",
   "execution_count": 71,
   "metadata": {
    "ExecuteTime": {
     "end_time": "2020-03-28T09:15:53.953332Z",
     "start_time": "2020-03-28T09:15:53.949402Z"
    }
   },
   "outputs": [],
   "source": [
    "A_Ters_İlk_Sütün=Denklem_1.GaussJordan()[:,2]"
   ]
  },
  {
   "cell_type": "code",
   "execution_count": 72,
   "metadata": {
    "ExecuteTime": {
     "end_time": "2020-03-28T09:15:58.068201Z",
     "start_time": "2020-03-28T09:15:58.063722Z"
    }
   },
   "outputs": [
    {
     "data": {
      "text/plain": [
       "array([ 3., -1.])"
      ]
     },
     "execution_count": 72,
     "metadata": {},
     "output_type": "execute_result"
    }
   ],
   "source": [
    "A_Ters_İlk_Sütün"
   ]
  },
  {
   "cell_type": "code",
   "execution_count": 73,
   "metadata": {
    "ExecuteTime": {
     "end_time": "2020-03-28T09:16:04.207190Z",
     "start_time": "2020-03-28T09:16:04.204184Z"
    }
   },
   "outputs": [],
   "source": [
    "I_İkinci_Sütün=I[:,1]"
   ]
  },
  {
   "cell_type": "code",
   "execution_count": 74,
   "metadata": {
    "ExecuteTime": {
     "end_time": "2020-03-28T09:16:04.885000Z",
     "start_time": "2020-03-28T09:16:04.881926Z"
    }
   },
   "outputs": [],
   "source": [
    "I_İkinci_Sütün.shape=(2,1)"
   ]
  },
  {
   "cell_type": "code",
   "execution_count": 75,
   "metadata": {
    "ExecuteTime": {
     "end_time": "2020-03-28T09:16:05.671249Z",
     "start_time": "2020-03-28T09:16:05.668768Z"
    }
   },
   "outputs": [],
   "source": [
    "Denklem_2=Denklem=DoğrusalDenklem(A,I_İkinci_Sütün)"
   ]
  },
  {
   "cell_type": "code",
   "execution_count": 76,
   "metadata": {
    "ExecuteTime": {
     "end_time": "2020-03-28T09:16:06.743913Z",
     "start_time": "2020-03-28T09:16:06.740927Z"
    }
   },
   "outputs": [],
   "source": [
    "A_Ters_İkinci_Sütün=Denklem_2.GaussJordan()[:,2]"
   ]
  },
  {
   "cell_type": "code",
   "execution_count": 77,
   "metadata": {
    "ExecuteTime": {
     "end_time": "2020-03-28T09:16:07.573717Z",
     "start_time": "2020-03-28T09:16:07.570175Z"
    }
   },
   "outputs": [
    {
     "data": {
      "text/plain": [
       "array([-5.,  2.])"
      ]
     },
     "execution_count": 77,
     "metadata": {},
     "output_type": "execute_result"
    }
   ],
   "source": [
    "A_Ters_İkinci_Sütün"
   ]
  },
  {
   "cell_type": "code",
   "execution_count": 78,
   "metadata": {
    "ExecuteTime": {
     "end_time": "2020-03-28T09:16:11.462261Z",
     "start_time": "2020-03-28T09:16:11.459252Z"
    }
   },
   "outputs": [],
   "source": [
    "A_Ters=np.array([A_Ters_İlk_Sütün,A_Ters_İkinci_Sütün]).T"
   ]
  },
  {
   "cell_type": "code",
   "execution_count": 79,
   "metadata": {
    "ExecuteTime": {
     "end_time": "2020-03-28T09:16:13.252096Z",
     "start_time": "2020-03-28T09:16:13.248086Z"
    }
   },
   "outputs": [
    {
     "data": {
      "text/plain": [
       "array([[ 3., -5.],\n",
       "       [-1.,  2.]])"
      ]
     },
     "execution_count": 79,
     "metadata": {},
     "output_type": "execute_result"
    }
   ],
   "source": [
    "A_Ters"
   ]
  },
  {
   "cell_type": "code",
   "execution_count": 80,
   "metadata": {
    "ExecuteTime": {
     "end_time": "2020-03-28T09:16:19.671351Z",
     "start_time": "2020-03-28T09:16:19.666838Z"
    }
   },
   "outputs": [
    {
     "data": {
      "text/plain": [
       "array([[1., 0.],\n",
       "       [0., 1.]])"
      ]
     },
     "execution_count": 80,
     "metadata": {},
     "output_type": "execute_result"
    }
   ],
   "source": [
    "A_Ters.dot(A)"
   ]
  },
  {
   "cell_type": "code",
   "execution_count": 24,
   "metadata": {
    "ExecuteTime": {
     "end_time": "2020-05-23T13:30:44.298998Z",
     "start_time": "2020-05-23T13:30:44.293005Z"
    }
   },
   "outputs": [],
   "source": [
    "def MatrisTersi(matris):\n",
    "    satır_sayısı=matris.shape[0]\n",
    "    sütün_sayısı=matris.shape[1]\n",
    "    \n",
    "    if satır_sayısı!=sütün_sayısı:\n",
    "        return 'Error : Satır sayısı sütün sayısı ile eşit değildir.'\n",
    "    else:\n",
    "        birim_matris= np.identity(satır_sayısı)\n",
    "        matris_ters_list=[]\n",
    "        for i in range(satır_sayısı):\n",
    "            birim_sütün=birim_matris[:,i]\n",
    "            birim_sütün.shape=(satır_sayısı,1)\n",
    "            denklem=DoğrusalDenklem(A,birim_sütün)\n",
    "            matris_ters_sütün=denklem.GaussJordan()[:,satır_sayısı]\n",
    "            matris_ters_list.append(matris_ters_sütün)\n",
    "        return np.array(matris_ters_list).T"
   ]
  },
  {
   "cell_type": "code",
   "execution_count": 82,
   "metadata": {
    "ExecuteTime": {
     "end_time": "2020-03-28T09:16:37.330748Z",
     "start_time": "2020-03-28T09:16:37.327240Z"
    },
    "lines_to_next_cell": 2
   },
   "outputs": [],
   "source": [
    "A_ters=MatrisTersi(A)"
   ]
  },
  {
   "cell_type": "code",
   "execution_count": 83,
   "metadata": {
    "ExecuteTime": {
     "end_time": "2020-03-28T09:16:39.011226Z",
     "start_time": "2020-03-28T09:16:39.007182Z"
    }
   },
   "outputs": [
    {
     "data": {
      "text/plain": [
       "array([[ 3., -5.],\n",
       "       [-1.,  2.]])"
      ]
     },
     "execution_count": 83,
     "metadata": {},
     "output_type": "execute_result"
    }
   ],
   "source": [
    "A_ters"
   ]
  },
  {
   "cell_type": "code",
   "execution_count": 84,
   "metadata": {
    "ExecuteTime": {
     "end_time": "2020-03-28T09:16:48.664596Z",
     "start_time": "2020-03-28T09:16:48.660086Z"
    }
   },
   "outputs": [
    {
     "data": {
      "text/plain": [
       "array([[ 3., -5.],\n",
       "       [-1.,  2.]])"
      ]
     },
     "execution_count": 84,
     "metadata": {},
     "output_type": "execute_result"
    }
   ],
   "source": [
    "# Daha kolayı\n",
    "np.linalg.inv(A) "
   ]
  },
  {
   "cell_type": "code",
   "execution_count": 85,
   "metadata": {
    "ExecuteTime": {
     "end_time": "2020-03-28T09:16:57.761156Z",
     "start_time": "2020-03-28T09:16:57.746579Z"
    }
   },
   "outputs": [
    {
     "data": {
      "text/plain": [
       "2"
      ]
     },
     "execution_count": 85,
     "metadata": {},
     "output_type": "execute_result"
    }
   ],
   "source": [
    "np.linalg.matrix_rank(A)"
   ]
  },
  {
   "cell_type": "markdown",
   "metadata": {
    "ExecuteTime": {
     "end_time": "2020-03-15T15:45:31.168918Z",
     "start_time": "2020-03-15T15:45:31.165910Z"
    }
   },
   "source": [
    "## Problemler"
   ]
  },
  {
   "cell_type": "code",
   "execution_count": 86,
   "metadata": {
    "ExecuteTime": {
     "end_time": "2020-03-28T09:18:11.380887Z",
     "start_time": "2020-03-28T09:18:11.376374Z"
    }
   },
   "outputs": [
    {
     "data": {
      "text/plain": [
       "array([[-5.,  3.],\n",
       "       [ 2., -1.]])"
      ]
     },
     "execution_count": 86,
     "metadata": {},
     "output_type": "execute_result"
    }
   ],
   "source": [
    "# Soru 1\n",
    "A=np.array([[1,3],[2,5]]);np.linalg.inv(A) "
   ]
  },
  {
   "cell_type": "code",
   "execution_count": 87,
   "metadata": {
    "ExecuteTime": {
     "end_time": "2020-03-28T09:18:15.491647Z",
     "start_time": "2020-03-28T09:18:15.485663Z"
    }
   },
   "outputs": [
    {
     "data": {
      "text/plain": [
       "array([[ 0.5,  0.5, -0.5],\n",
       "       [-1. , -2. ,  3. ],\n",
       "       [ 0.5, -0.5,  0.5]])"
      ]
     },
     "execution_count": 87,
     "metadata": {},
     "output_type": "execute_result"
    }
   ],
   "source": [
    "# Soru 2\n",
    "A=np.array([[1,0,1],[4,1,-2],[3,1,-1]]);np.linalg.inv(A) "
   ]
  },
  {
   "cell_type": "code",
   "execution_count": 189,
   "metadata": {
    "ExecuteTime": {
     "end_time": "2020-03-15T15:48:48.857552Z",
     "start_time": "2020-03-15T15:48:48.851494Z"
    }
   },
   "outputs": [
    {
     "data": {
      "text/plain": [
       "array([[ 0.5, -0.5,  0.5],\n",
       "       [-2. ,  0. ,  1. ],\n",
       "       [ 0.5,  0.5, -0.5]])"
      ]
     },
     "execution_count": 189,
     "metadata": {},
     "output_type": "execute_result"
    }
   ],
   "source": [
    "# Soru 3\n",
    "A=np.array([[1,0,1],[1,1,3],[2,1,2]]);np.linalg.inv(A) "
   ]
  },
  {
   "cell_type": "code",
   "execution_count": 88,
   "metadata": {
    "ExecuteTime": {
     "end_time": "2020-03-28T09:19:06.391897Z",
     "start_time": "2020-03-28T09:19:06.375354Z"
    }
   },
   "outputs": [
    {
     "ename": "LinAlgError",
     "evalue": "Singular matrix",
     "output_type": "error",
     "traceback": [
      "\u001b[1;31m---------------------------------------------------------------------------\u001b[0m",
      "\u001b[1;31mLinAlgError\u001b[0m                               Traceback (most recent call last)",
      "\u001b[1;32m<ipython-input-88-6c24161ad221>\u001b[0m in \u001b[0;36m<module>\u001b[1;34m\u001b[0m\n\u001b[0;32m      1\u001b[0m \u001b[1;31m# Soru 4\u001b[0m\u001b[1;33m\u001b[0m\u001b[1;33m\u001b[0m\u001b[1;33m\u001b[0m\u001b[0m\n\u001b[1;32m----> 2\u001b[1;33m \u001b[0mA\u001b[0m\u001b[1;33m=\u001b[0m\u001b[0mnp\u001b[0m\u001b[1;33m.\u001b[0m\u001b[0marray\u001b[0m\u001b[1;33m(\u001b[0m\u001b[1;33m[\u001b[0m\u001b[1;33m[\u001b[0m\u001b[1;36m1\u001b[0m\u001b[1;33m,\u001b[0m\u001b[1;36m2\u001b[0m\u001b[1;33m,\u001b[0m\u001b[1;36m1\u001b[0m\u001b[1;33m]\u001b[0m\u001b[1;33m,\u001b[0m\u001b[1;33m[\u001b[0m\u001b[1;36m1\u001b[0m\u001b[1;33m,\u001b[0m\u001b[1;36m2\u001b[0m\u001b[1;33m,\u001b[0m\u001b[1;36m0\u001b[0m\u001b[1;33m]\u001b[0m\u001b[1;33m,\u001b[0m\u001b[1;33m[\u001b[0m\u001b[1;36m2\u001b[0m\u001b[1;33m,\u001b[0m\u001b[1;36m4\u001b[0m\u001b[1;33m,\u001b[0m\u001b[1;36m1\u001b[0m\u001b[1;33m]\u001b[0m\u001b[1;33m]\u001b[0m\u001b[1;33m)\u001b[0m\u001b[1;33m;\u001b[0m\u001b[0mnp\u001b[0m\u001b[1;33m.\u001b[0m\u001b[0mlinalg\u001b[0m\u001b[1;33m.\u001b[0m\u001b[0minv\u001b[0m\u001b[1;33m(\u001b[0m\u001b[0mA\u001b[0m\u001b[1;33m)\u001b[0m\u001b[1;33m\u001b[0m\u001b[1;33m\u001b[0m\u001b[0m\n\u001b[0m",
      "\u001b[1;32m<__array_function__ internals>\u001b[0m in \u001b[0;36minv\u001b[1;34m(*args, **kwargs)\u001b[0m\n",
      "\u001b[1;32m~\\AppData\\Local\\Continuum\\anaconda3\\envs\\OptimizationStudy\\lib\\site-packages\\numpy\\linalg\\linalg.py\u001b[0m in \u001b[0;36minv\u001b[1;34m(a)\u001b[0m\n\u001b[0;32m    545\u001b[0m     \u001b[0msignature\u001b[0m \u001b[1;33m=\u001b[0m \u001b[1;34m'D->D'\u001b[0m \u001b[1;32mif\u001b[0m \u001b[0misComplexType\u001b[0m\u001b[1;33m(\u001b[0m\u001b[0mt\u001b[0m\u001b[1;33m)\u001b[0m \u001b[1;32melse\u001b[0m \u001b[1;34m'd->d'\u001b[0m\u001b[1;33m\u001b[0m\u001b[1;33m\u001b[0m\u001b[0m\n\u001b[0;32m    546\u001b[0m     \u001b[0mextobj\u001b[0m \u001b[1;33m=\u001b[0m \u001b[0mget_linalg_error_extobj\u001b[0m\u001b[1;33m(\u001b[0m\u001b[0m_raise_linalgerror_singular\u001b[0m\u001b[1;33m)\u001b[0m\u001b[1;33m\u001b[0m\u001b[1;33m\u001b[0m\u001b[0m\n\u001b[1;32m--> 547\u001b[1;33m     \u001b[0mainv\u001b[0m \u001b[1;33m=\u001b[0m \u001b[0m_umath_linalg\u001b[0m\u001b[1;33m.\u001b[0m\u001b[0minv\u001b[0m\u001b[1;33m(\u001b[0m\u001b[0ma\u001b[0m\u001b[1;33m,\u001b[0m \u001b[0msignature\u001b[0m\u001b[1;33m=\u001b[0m\u001b[0msignature\u001b[0m\u001b[1;33m,\u001b[0m \u001b[0mextobj\u001b[0m\u001b[1;33m=\u001b[0m\u001b[0mextobj\u001b[0m\u001b[1;33m)\u001b[0m\u001b[1;33m\u001b[0m\u001b[1;33m\u001b[0m\u001b[0m\n\u001b[0m\u001b[0;32m    548\u001b[0m     \u001b[1;32mreturn\u001b[0m \u001b[0mwrap\u001b[0m\u001b[1;33m(\u001b[0m\u001b[0mainv\u001b[0m\u001b[1;33m.\u001b[0m\u001b[0mastype\u001b[0m\u001b[1;33m(\u001b[0m\u001b[0mresult_t\u001b[0m\u001b[1;33m,\u001b[0m \u001b[0mcopy\u001b[0m\u001b[1;33m=\u001b[0m\u001b[1;32mFalse\u001b[0m\u001b[1;33m)\u001b[0m\u001b[1;33m)\u001b[0m\u001b[1;33m\u001b[0m\u001b[1;33m\u001b[0m\u001b[0m\n\u001b[0;32m    549\u001b[0m \u001b[1;33m\u001b[0m\u001b[0m\n",
      "\u001b[1;32m~\\AppData\\Local\\Continuum\\anaconda3\\envs\\OptimizationStudy\\lib\\site-packages\\numpy\\linalg\\linalg.py\u001b[0m in \u001b[0;36m_raise_linalgerror_singular\u001b[1;34m(err, flag)\u001b[0m\n\u001b[0;32m     95\u001b[0m \u001b[1;33m\u001b[0m\u001b[0m\n\u001b[0;32m     96\u001b[0m \u001b[1;32mdef\u001b[0m \u001b[0m_raise_linalgerror_singular\u001b[0m\u001b[1;33m(\u001b[0m\u001b[0merr\u001b[0m\u001b[1;33m,\u001b[0m \u001b[0mflag\u001b[0m\u001b[1;33m)\u001b[0m\u001b[1;33m:\u001b[0m\u001b[1;33m\u001b[0m\u001b[1;33m\u001b[0m\u001b[0m\n\u001b[1;32m---> 97\u001b[1;33m     \u001b[1;32mraise\u001b[0m \u001b[0mLinAlgError\u001b[0m\u001b[1;33m(\u001b[0m\u001b[1;34m\"Singular matrix\"\u001b[0m\u001b[1;33m)\u001b[0m\u001b[1;33m\u001b[0m\u001b[1;33m\u001b[0m\u001b[0m\n\u001b[0m\u001b[0;32m     98\u001b[0m \u001b[1;33m\u001b[0m\u001b[0m\n\u001b[0;32m     99\u001b[0m \u001b[1;32mdef\u001b[0m \u001b[0m_raise_linalgerror_nonposdef\u001b[0m\u001b[1;33m(\u001b[0m\u001b[0merr\u001b[0m\u001b[1;33m,\u001b[0m \u001b[0mflag\u001b[0m\u001b[1;33m)\u001b[0m\u001b[1;33m:\u001b[0m\u001b[1;33m\u001b[0m\u001b[1;33m\u001b[0m\u001b[0m\n",
      "\u001b[1;31mLinAlgError\u001b[0m: Singular matrix"
     ]
    }
   ],
   "source": [
    "# Soru 4\n",
    "A=np.array([[1,2,1],[1,2,0],[2,4,1]]);np.linalg.inv(A) "
   ]
  },
  {
   "cell_type": "code",
   "execution_count": 89,
   "metadata": {
    "ExecuteTime": {
     "end_time": "2020-03-28T09:19:20.319307Z",
     "start_time": "2020-03-28T09:19:20.314305Z"
    }
   },
   "outputs": [
    {
     "name": "stdout",
     "output_type": "stream",
     "text": [
      "1. satırından sonra işlem yapılamamaktadır\n",
      "1. satırından sonra işlem yapılamamaktadır\n",
      "1. satırından sonra işlem yapılamamaktadır\n"
     ]
    },
    {
     "data": {
      "text/plain": [
       "array([[ 1.,  0.,  0.],\n",
       "       [-1.,  1.,  0.],\n",
       "       [-2.,  0.,  1.]])"
      ]
     },
     "execution_count": 89,
     "metadata": {},
     "output_type": "execute_result"
    }
   ],
   "source": [
    "MatrisTersi(A)"
   ]
  },
  {
   "cell_type": "code",
   "execution_count": 90,
   "metadata": {
    "ExecuteTime": {
     "end_time": "2020-03-28T09:20:17.065191Z",
     "start_time": "2020-03-28T09:20:17.060214Z"
    }
   },
   "outputs": [
    {
     "data": {
      "text/plain": [
       "array([[-5.,  3.],\n",
       "       [ 2., -1.]])"
      ]
     },
     "execution_count": 90,
     "metadata": {},
     "output_type": "execute_result"
    }
   ],
   "source": [
    "# Soru 5\n",
    "A=np.array([[1,3],[2,5]]);np.linalg.inv(A) "
   ]
  },
  {
   "cell_type": "code",
   "execution_count": 91,
   "metadata": {
    "ExecuteTime": {
     "end_time": "2020-03-28T09:20:18.779608Z",
     "start_time": "2020-03-28T09:20:18.774595Z"
    }
   },
   "outputs": [
    {
     "data": {
      "text/plain": [
       "array([[1.],\n",
       "       [1.]])"
      ]
     },
     "execution_count": 91,
     "metadata": {},
     "output_type": "execute_result"
    }
   ],
   "source": [
    "Çözüm=np.linalg.inv(A).dot(np.array([[4],[7]])) ;Çözüm"
   ]
  },
  {
   "cell_type": "code",
   "execution_count": 92,
   "metadata": {
    "ExecuteTime": {
     "end_time": "2020-03-28T09:20:22.485524Z",
     "start_time": "2020-03-28T09:20:22.481513Z"
    }
   },
   "outputs": [
    {
     "data": {
      "text/plain": [
       "array([[4.],\n",
       "       [7.]])"
      ]
     },
     "execution_count": 92,
     "metadata": {},
     "output_type": "execute_result"
    }
   ],
   "source": [
    "A.dot(Çözüm)"
   ]
  },
  {
   "cell_type": "code",
   "execution_count": 93,
   "metadata": {
    "ExecuteTime": {
     "end_time": "2020-03-28T09:20:32.654462Z",
     "start_time": "2020-03-28T09:20:32.650926Z"
    }
   },
   "outputs": [],
   "source": [
    "# Soru 6\n",
    "\n",
    "A=np.array([[1,0,1],[4,1,-2],[3,1,-1]]);"
   ]
  },
  {
   "cell_type": "code",
   "execution_count": 94,
   "metadata": {
    "ExecuteTime": {
     "end_time": "2020-03-28T09:20:34.224713Z",
     "start_time": "2020-03-28T09:20:34.221159Z"
    }
   },
   "outputs": [],
   "source": [
    "Çözüm=np.linalg.inv(A).dot(np.array([[4],[0],[2]]))"
   ]
  },
  {
   "cell_type": "code",
   "execution_count": 95,
   "metadata": {
    "ExecuteTime": {
     "end_time": "2020-03-28T09:20:35.369932Z",
     "start_time": "2020-03-28T09:20:35.365391Z"
    }
   },
   "outputs": [
    {
     "data": {
      "text/plain": [
       "array([[4.],\n",
       "       [0.],\n",
       "       [2.]])"
      ]
     },
     "execution_count": 95,
     "metadata": {},
     "output_type": "execute_result"
    }
   ],
   "source": [
    "A.dot(Çözüm)"
   ]
  },
  {
   "cell_type": "code",
   "execution_count": 98,
   "metadata": {
    "ExecuteTime": {
     "end_time": "2020-03-28T09:24:12.575618Z",
     "start_time": "2020-03-28T09:24:12.571137Z"
    }
   },
   "outputs": [],
   "source": [
    "# Soru 7 \n",
    "\n",
    "A=np.array([[1,2],[2,4]])\n",
    "boş_A=np.array([[]*A.shape[1]]*A.shape[0])\n",
    "Denklem=DoğrusalDenklem(A,boş_A)\n"
   ]
  },
  {
   "cell_type": "code",
   "execution_count": 99,
   "metadata": {
    "ExecuteTime": {
     "end_time": "2020-03-28T09:24:20.478785Z",
     "start_time": "2020-03-28T09:24:20.474273Z"
    }
   },
   "outputs": [
    {
     "data": {
      "text/plain": [
       "array([[1., 2.],\n",
       "       [2., 4.]])"
      ]
     },
     "execution_count": 99,
     "metadata": {},
     "output_type": "execute_result"
    }
   ],
   "source": [
    "Denklem.denklem"
   ]
  },
  {
   "cell_type": "code",
   "execution_count": 101,
   "metadata": {
    "ExecuteTime": {
     "end_time": "2020-03-28T09:24:44.485177Z",
     "start_time": "2020-03-28T09:24:44.480157Z"
    }
   },
   "outputs": [
    {
     "name": "stdout",
     "output_type": "stream",
     "text": [
      "1. satırından sonra işlem yapılamamaktadır\n"
     ]
    },
    {
     "data": {
      "text/plain": [
       "array([[1., 2.],\n",
       "       [0., 0.]])"
      ]
     },
     "execution_count": 101,
     "metadata": {},
     "output_type": "execute_result"
    }
   ],
   "source": [
    "Denklem.GaussJordan()"
   ]
  },
  {
   "cell_type": "code",
   "execution_count": 100,
   "metadata": {
    "ExecuteTime": {
     "end_time": "2020-03-28T09:24:30.518816Z",
     "start_time": "2020-03-28T09:24:30.514808Z"
    }
   },
   "outputs": [
    {
     "name": "stdout",
     "output_type": "stream",
     "text": [
      "1. satırından sonra işlem yapılamamaktadır\n",
      "1. satırından sonra işlem yapılamamaktadır\n",
      "Doğrusal bağımsız: False\n"
     ]
    }
   ],
   "source": [
    "print('Doğrusal bağımsız:', Denklem.doğrusal_bağımsız())"
   ]
  },
  {
   "cell_type": "code",
   "execution_count": 102,
   "metadata": {
    "ExecuteTime": {
     "end_time": "2020-03-28T09:24:56.024324Z",
     "start_time": "2020-03-28T09:24:56.009782Z"
    }
   },
   "outputs": [
    {
     "ename": "LinAlgError",
     "evalue": "Singular matrix",
     "output_type": "error",
     "traceback": [
      "\u001b[1;31m---------------------------------------------------------------------------\u001b[0m",
      "\u001b[1;31mLinAlgError\u001b[0m                               Traceback (most recent call last)",
      "\u001b[1;32m<ipython-input-102-8012f0e75e71>\u001b[0m in \u001b[0;36m<module>\u001b[1;34m\u001b[0m\n\u001b[1;32m----> 1\u001b[1;33m \u001b[0mnp\u001b[0m\u001b[1;33m.\u001b[0m\u001b[0mlinalg\u001b[0m\u001b[1;33m.\u001b[0m\u001b[0minv\u001b[0m\u001b[1;33m(\u001b[0m\u001b[0mDenklem\u001b[0m\u001b[1;33m.\u001b[0m\u001b[0mdenklem\u001b[0m\u001b[1;33m)\u001b[0m\u001b[1;33m\u001b[0m\u001b[1;33m\u001b[0m\u001b[0m\n\u001b[0m",
      "\u001b[1;32m<__array_function__ internals>\u001b[0m in \u001b[0;36minv\u001b[1;34m(*args, **kwargs)\u001b[0m\n",
      "\u001b[1;32m~\\AppData\\Local\\Continuum\\anaconda3\\envs\\OptimizationStudy\\lib\\site-packages\\numpy\\linalg\\linalg.py\u001b[0m in \u001b[0;36minv\u001b[1;34m(a)\u001b[0m\n\u001b[0;32m    545\u001b[0m     \u001b[0msignature\u001b[0m \u001b[1;33m=\u001b[0m \u001b[1;34m'D->D'\u001b[0m \u001b[1;32mif\u001b[0m \u001b[0misComplexType\u001b[0m\u001b[1;33m(\u001b[0m\u001b[0mt\u001b[0m\u001b[1;33m)\u001b[0m \u001b[1;32melse\u001b[0m \u001b[1;34m'd->d'\u001b[0m\u001b[1;33m\u001b[0m\u001b[1;33m\u001b[0m\u001b[0m\n\u001b[0;32m    546\u001b[0m     \u001b[0mextobj\u001b[0m \u001b[1;33m=\u001b[0m \u001b[0mget_linalg_error_extobj\u001b[0m\u001b[1;33m(\u001b[0m\u001b[0m_raise_linalgerror_singular\u001b[0m\u001b[1;33m)\u001b[0m\u001b[1;33m\u001b[0m\u001b[1;33m\u001b[0m\u001b[0m\n\u001b[1;32m--> 547\u001b[1;33m     \u001b[0mainv\u001b[0m \u001b[1;33m=\u001b[0m \u001b[0m_umath_linalg\u001b[0m\u001b[1;33m.\u001b[0m\u001b[0minv\u001b[0m\u001b[1;33m(\u001b[0m\u001b[0ma\u001b[0m\u001b[1;33m,\u001b[0m \u001b[0msignature\u001b[0m\u001b[1;33m=\u001b[0m\u001b[0msignature\u001b[0m\u001b[1;33m,\u001b[0m \u001b[0mextobj\u001b[0m\u001b[1;33m=\u001b[0m\u001b[0mextobj\u001b[0m\u001b[1;33m)\u001b[0m\u001b[1;33m\u001b[0m\u001b[1;33m\u001b[0m\u001b[0m\n\u001b[0m\u001b[0;32m    548\u001b[0m     \u001b[1;32mreturn\u001b[0m \u001b[0mwrap\u001b[0m\u001b[1;33m(\u001b[0m\u001b[0mainv\u001b[0m\u001b[1;33m.\u001b[0m\u001b[0mastype\u001b[0m\u001b[1;33m(\u001b[0m\u001b[0mresult_t\u001b[0m\u001b[1;33m,\u001b[0m \u001b[0mcopy\u001b[0m\u001b[1;33m=\u001b[0m\u001b[1;32mFalse\u001b[0m\u001b[1;33m)\u001b[0m\u001b[1;33m)\u001b[0m\u001b[1;33m\u001b[0m\u001b[1;33m\u001b[0m\u001b[0m\n\u001b[0;32m    549\u001b[0m \u001b[1;33m\u001b[0m\u001b[0m\n",
      "\u001b[1;32m~\\AppData\\Local\\Continuum\\anaconda3\\envs\\OptimizationStudy\\lib\\site-packages\\numpy\\linalg\\linalg.py\u001b[0m in \u001b[0;36m_raise_linalgerror_singular\u001b[1;34m(err, flag)\u001b[0m\n\u001b[0;32m     95\u001b[0m \u001b[1;33m\u001b[0m\u001b[0m\n\u001b[0;32m     96\u001b[0m \u001b[1;32mdef\u001b[0m \u001b[0m_raise_linalgerror_singular\u001b[0m\u001b[1;33m(\u001b[0m\u001b[0merr\u001b[0m\u001b[1;33m,\u001b[0m \u001b[0mflag\u001b[0m\u001b[1;33m)\u001b[0m\u001b[1;33m:\u001b[0m\u001b[1;33m\u001b[0m\u001b[1;33m\u001b[0m\u001b[0m\n\u001b[1;32m---> 97\u001b[1;33m     \u001b[1;32mraise\u001b[0m \u001b[0mLinAlgError\u001b[0m\u001b[1;33m(\u001b[0m\u001b[1;34m\"Singular matrix\"\u001b[0m\u001b[1;33m)\u001b[0m\u001b[1;33m\u001b[0m\u001b[1;33m\u001b[0m\u001b[0m\n\u001b[0m\u001b[0;32m     98\u001b[0m \u001b[1;33m\u001b[0m\u001b[0m\n\u001b[0;32m     99\u001b[0m \u001b[1;32mdef\u001b[0m \u001b[0m_raise_linalgerror_nonposdef\u001b[0m\u001b[1;33m(\u001b[0m\u001b[0merr\u001b[0m\u001b[1;33m,\u001b[0m \u001b[0mflag\u001b[0m\u001b[1;33m)\u001b[0m\u001b[1;33m:\u001b[0m\u001b[1;33m\u001b[0m\u001b[1;33m\u001b[0m\u001b[0m\n",
      "\u001b[1;31mLinAlgError\u001b[0m: Singular matrix"
     ]
    }
   ],
   "source": [
    "np.linalg.inv(Denklem.denklem)"
   ]
  },
  {
   "cell_type": "code",
   "execution_count": 128,
   "metadata": {
    "ExecuteTime": {
     "end_time": "2020-03-28T09:38:26.645329Z",
     "start_time": "2020-03-28T09:38:26.641286Z"
    },
    "lines_to_next_cell": 2
   },
   "outputs": [],
   "source": [
    "# Soru 8 \n",
    "# a\n",
    "B=np.array([[1,0,1],[4,1,-2],[3,1,-1]]);\n",
    "B_ters=np.linalg.inv(B)"
   ]
  },
  {
   "cell_type": "code",
   "execution_count": 104,
   "metadata": {
    "ExecuteTime": {
     "end_time": "2020-03-28T09:25:48.752166Z",
     "start_time": "2020-03-28T09:25:48.747654Z"
    }
   },
   "outputs": [
    {
     "data": {
      "text/plain": [
       "array([[ 1,  0,  1],\n",
       "       [ 4,  1, -2],\n",
       "       [ 3,  1, -1]])"
      ]
     },
     "execution_count": 104,
     "metadata": {},
     "output_type": "execute_result"
    }
   ],
   "source": [
    "B"
   ]
  },
  {
   "cell_type": "code",
   "execution_count": 105,
   "metadata": {
    "ExecuteTime": {
     "end_time": "2020-03-28T09:25:49.934970Z",
     "start_time": "2020-03-28T09:25:49.929958Z"
    }
   },
   "outputs": [
    {
     "data": {
      "text/plain": [
       "array([[ 0.5,  0.5, -0.5],\n",
       "       [-1. , -2. ,  3. ],\n",
       "       [ 0.5, -0.5,  0.5]])"
      ]
     },
     "execution_count": 105,
     "metadata": {},
     "output_type": "execute_result"
    }
   ],
   "source": [
    "B_ters"
   ]
  },
  {
   "cell_type": "code",
   "execution_count": 106,
   "metadata": {
    "ExecuteTime": {
     "end_time": "2020-03-28T09:25:54.141443Z",
     "start_time": "2020-03-28T09:25:54.138435Z"
    }
   },
   "outputs": [],
   "source": [
    "B_ters=np.linalg.inv(B*100)"
   ]
  },
  {
   "cell_type": "code",
   "execution_count": 107,
   "metadata": {
    "ExecuteTime": {
     "end_time": "2020-03-28T09:25:56.479683Z",
     "start_time": "2020-03-28T09:25:56.474666Z"
    }
   },
   "outputs": [
    {
     "data": {
      "text/plain": [
       "array([[ 0.005,  0.005, -0.005],\n",
       "       [-0.01 , -0.02 ,  0.03 ],\n",
       "       [ 0.005, -0.005,  0.005]])"
      ]
     },
     "execution_count": 107,
     "metadata": {},
     "output_type": "execute_result"
    }
   ],
   "source": [
    "B_ters"
   ]
  },
  {
   "cell_type": "code",
   "execution_count": 117,
   "metadata": {
    "ExecuteTime": {
     "end_time": "2020-03-28T09:29:42.717096Z",
     "start_time": "2020-03-28T09:29:42.714119Z"
    }
   },
   "outputs": [],
   "source": [
    "# b\n",
    "\n",
    "B_=B.copy()\n",
    "B_[0,:]=B_[0,:]*2"
   ]
  },
  {
   "cell_type": "code",
   "execution_count": 119,
   "metadata": {
    "ExecuteTime": {
     "end_time": "2020-03-28T09:29:55.872967Z",
     "start_time": "2020-03-28T09:29:55.868488Z"
    }
   },
   "outputs": [
    {
     "data": {
      "text/plain": [
       "array([[ 2,  0,  2],\n",
       "       [ 4,  1, -2],\n",
       "       [ 3,  1, -1]])"
      ]
     },
     "execution_count": 119,
     "metadata": {},
     "output_type": "execute_result"
    }
   ],
   "source": [
    "B_"
   ]
  },
  {
   "cell_type": "code",
   "execution_count": 120,
   "metadata": {
    "ExecuteTime": {
     "end_time": "2020-03-28T09:30:00.812251Z",
     "start_time": "2020-03-28T09:30:00.808204Z"
    }
   },
   "outputs": [],
   "source": [
    "B_ters=np.linalg.inv(B)"
   ]
  },
  {
   "cell_type": "code",
   "execution_count": 121,
   "metadata": {
    "ExecuteTime": {
     "end_time": "2020-03-28T09:30:02.521166Z",
     "start_time": "2020-03-28T09:30:02.516154Z"
    }
   },
   "outputs": [
    {
     "data": {
      "text/plain": [
       "array([[ 0.5,  0.5, -0.5],\n",
       "       [-1. , -2. ,  3. ],\n",
       "       [ 0.5, -0.5,  0.5]])"
      ]
     },
     "execution_count": 121,
     "metadata": {},
     "output_type": "execute_result"
    }
   ],
   "source": [
    "B_ters"
   ]
  },
  {
   "cell_type": "code",
   "execution_count": 124,
   "metadata": {
    "ExecuteTime": {
     "end_time": "2020-03-28T09:30:47.183481Z",
     "start_time": "2020-03-28T09:30:47.177966Z"
    }
   },
   "outputs": [
    {
     "data": {
      "text/plain": [
       "array([[ 0.25,  0.5 , -0.5 ],\n",
       "       [-0.5 , -2.  ,  3.  ],\n",
       "       [ 0.25, -0.5 ,  0.5 ]])"
      ]
     },
     "execution_count": 124,
     "metadata": {},
     "output_type": "execute_result"
    }
   ],
   "source": [
    "B_ters=np.linalg.inv(B_);B_ters"
   ]
  },
  {
   "cell_type": "code",
   "execution_count": 110,
   "metadata": {
    "ExecuteTime": {
     "end_time": "2020-03-28T09:29:02.045441Z",
     "start_time": "2020-03-28T09:29:02.042967Z"
    }
   },
   "outputs": [],
   "source": [
    "B__ters=B_ters.copy()"
   ]
  },
  {
   "cell_type": "code",
   "execution_count": 111,
   "metadata": {
    "ExecuteTime": {
     "end_time": "2020-03-28T09:29:04.957081Z",
     "start_time": "2020-03-28T09:29:04.954073Z"
    }
   },
   "outputs": [],
   "source": [
    "B__ters[:,0]=B__ters[:,0]/2 # Satır daki değişiklik tersinde sütünda ve çarpma olarak tersi olarak görünür."
   ]
  },
  {
   "cell_type": "code",
   "execution_count": 112,
   "metadata": {
    "ExecuteTime": {
     "end_time": "2020-03-28T09:29:06.814809Z",
     "start_time": "2020-03-28T09:29:06.810296Z"
    }
   },
   "outputs": [
    {
     "data": {
      "text/plain": [
       "array([[ 0.25,  0.5 , -0.5 ],\n",
       "       [-0.5 , -2.  ,  3.  ],\n",
       "       [ 0.25, -0.5 ,  0.5 ]])"
      ]
     },
     "execution_count": 112,
     "metadata": {},
     "output_type": "execute_result"
    }
   ],
   "source": [
    "B__ters"
   ]
  },
  {
   "cell_type": "code",
   "execution_count": 113,
   "metadata": {
    "ExecuteTime": {
     "end_time": "2020-03-28T09:29:10.519030Z",
     "start_time": "2020-03-28T09:29:10.514550Z"
    }
   },
   "outputs": [
    {
     "data": {
      "text/plain": [
       "array([[ 0.25,  0.5 , -0.5 ],\n",
       "       [-0.5 , -2.  ,  3.  ],\n",
       "       [ 0.25, -0.5 ,  0.5 ]])"
      ]
     },
     "execution_count": 113,
     "metadata": {},
     "output_type": "execute_result"
    }
   ],
   "source": [
    "np.linalg.inv(B_)"
   ]
  },
  {
   "cell_type": "code",
   "execution_count": 132,
   "metadata": {
    "ExecuteTime": {
     "end_time": "2020-03-28T09:43:49.212889Z",
     "start_time": "2020-03-28T09:43:49.205870Z"
    }
   },
   "outputs": [],
   "source": [
    "# c\n",
    "B=np.array([[1,0,1],[4,1,-2],[3,1,-1]]);\n",
    "B_ters=np.linalg.inv(B)\n",
    "B_=B.copy()\n",
    "B_[:,0]=B_[:,0]*2\n",
    "\n",
    "B__ters=B_ters.copy()\n",
    "\n",
    "B__ters[0,:]=B__ters[0,:]/2"
   ]
  },
  {
   "cell_type": "code",
   "execution_count": 133,
   "metadata": {
    "ExecuteTime": {
     "end_time": "2020-03-28T09:43:52.740075Z",
     "start_time": "2020-03-28T09:43:52.735562Z"
    }
   },
   "outputs": [
    {
     "data": {
      "text/plain": [
       "array([[ 0.25,  0.25, -0.25],\n",
       "       [-1.  , -2.  ,  3.  ],\n",
       "       [ 0.5 , -0.5 ,  0.5 ]])"
      ]
     },
     "execution_count": 133,
     "metadata": {},
     "output_type": "execute_result"
    }
   ],
   "source": [
    "B__ters"
   ]
  },
  {
   "cell_type": "code",
   "execution_count": 134,
   "metadata": {
    "ExecuteTime": {
     "end_time": "2020-03-28T09:44:06.335273Z",
     "start_time": "2020-03-28T09:44:06.330259Z"
    }
   },
   "outputs": [
    {
     "data": {
      "text/plain": [
       "array([[ 0.25,  0.25, -0.25],\n",
       "       [-1.  , -2.  ,  3.  ],\n",
       "       [ 0.5 , -0.5 ,  0.5 ]])"
      ]
     },
     "execution_count": 134,
     "metadata": {},
     "output_type": "execute_result"
    }
   ],
   "source": [
    "np.linalg.inv(B_)"
   ]
  },
  {
   "cell_type": "code",
   "execution_count": 135,
   "metadata": {
    "ExecuteTime": {
     "end_time": "2020-03-28T09:47:07.070859Z",
     "start_time": "2020-03-28T09:47:07.067318Z"
    }
   },
   "outputs": [],
   "source": [
    "# Soru 9\n",
    "\n",
    "A=np.array([[ 1,  0,  1],\n",
    "       [ 4,  1, -2],\n",
    "       [ 3,  1, -1]])"
   ]
  },
  {
   "cell_type": "code",
   "execution_count": 136,
   "metadata": {
    "ExecuteTime": {
     "end_time": "2020-03-28T09:47:10.750664Z",
     "start_time": "2020-03-28T09:47:10.747120Z"
    }
   },
   "outputs": [
    {
     "data": {
      "text/plain": [
       "array([[ 1,  0,  1],\n",
       "       [ 4,  1, -2],\n",
       "       [ 3,  1, -1]])"
      ]
     },
     "execution_count": 136,
     "metadata": {},
     "output_type": "execute_result"
    }
   ],
   "source": [
    "A"
   ]
  },
  {
   "cell_type": "code",
   "execution_count": 137,
   "metadata": {
    "ExecuteTime": {
     "end_time": "2020-03-28T09:47:20.207922Z",
     "start_time": "2020-03-28T09:47:20.202405Z"
    }
   },
   "outputs": [
    {
     "data": {
      "text/plain": [
       "array([[ 0.5,  0.5, -0.5],\n",
       "       [-1. , -2. ,  3. ],\n",
       "       [ 0.5, -0.5,  0.5]])"
      ]
     },
     "execution_count": 137,
     "metadata": {},
     "output_type": "execute_result"
    }
   ],
   "source": [
    "np.linalg.inv(A)"
   ]
  },
  {
   "cell_type": "code",
   "execution_count": 138,
   "metadata": {
    "ExecuteTime": {
     "end_time": "2020-03-28T09:47:41.905687Z",
     "start_time": "2020-03-28T09:47:41.902708Z"
    }
   },
   "outputs": [],
   "source": [
    "B=np.array([[ 1,  0,  1],\n",
    "       [ 3,  1, -2],\n",
    "       [ 3,  1, -1]])"
   ]
  },
  {
   "cell_type": "code",
   "execution_count": 140,
   "metadata": {
    "ExecuteTime": {
     "end_time": "2020-03-28T09:47:49.064240Z",
     "start_time": "2020-03-28T09:47:49.059216Z"
    }
   },
   "outputs": [
    {
     "data": {
      "text/plain": [
       "array([[ 1.,  1., -1.],\n",
       "       [-3., -4.,  5.],\n",
       "       [ 0., -1.,  1.]])"
      ]
     },
     "execution_count": 140,
     "metadata": {},
     "output_type": "execute_result"
    }
   ],
   "source": [
    "np.linalg.inv(B)"
   ]
  },
  {
   "cell_type": "code",
   "execution_count": 142,
   "metadata": {
    "ExecuteTime": {
     "end_time": "2020-03-28T09:48:14.311182Z",
     "start_time": "2020-03-28T09:48:14.306168Z"
    }
   },
   "outputs": [
    {
     "data": {
      "text/plain": [
       "array([[-1. , -1. ,  2. ],\n",
       "       [ 5. ,  4. , -8. ],\n",
       "       [ 1.5,  1.5, -2.5]])"
      ]
     },
     "execution_count": 142,
     "metadata": {},
     "output_type": "execute_result"
    }
   ],
   "source": [
    "np.linalg.inv(A.dot(B))"
   ]
  },
  {
   "cell_type": "code",
   "execution_count": 144,
   "metadata": {
    "ExecuteTime": {
     "end_time": "2020-03-28T09:49:13.090631Z",
     "start_time": "2020-03-28T09:49:13.085521Z"
    }
   },
   "outputs": [
    {
     "data": {
      "text/plain": [
       "array([[-1. , -1. ,  2. ],\n",
       "       [ 5. ,  4. , -8. ],\n",
       "       [ 1.5,  1.5, -2.5]])"
      ]
     },
     "execution_count": 144,
     "metadata": {},
     "output_type": "execute_result"
    }
   ],
   "source": [
    "np.linalg.inv(B).dot(np.linalg.inv(A))"
   ]
  },
  {
   "cell_type": "code",
   "execution_count": 291,
   "metadata": {
    "ExecuteTime": {
     "end_time": "2020-03-15T16:22:40.851932Z",
     "start_time": "2020-03-15T16:22:40.836396Z"
    }
   },
   "outputs": [
    {
     "data": {
      "text/plain": [
       "array([[ 0.5, -1. ,  0.5],\n",
       "       [ 0.5, -2. , -0.5],\n",
       "       [-0.5,  3. ,  0.5]])"
      ]
     },
     "execution_count": 291,
     "metadata": {},
     "output_type": "execute_result"
    }
   ],
   "source": [
    "np.linalg.inv(A).T.round(2)"
   ]
  },
  {
   "cell_type": "code",
   "execution_count": 292,
   "metadata": {
    "ExecuteTime": {
     "end_time": "2020-03-15T16:28:27.288594Z",
     "start_time": "2020-03-15T16:28:27.286079Z"
    }
   },
   "outputs": [],
   "source": [
    "# Soru 10 \n",
    "# A*A^1=I ise  A.T*A^-1.T == I.T  ==  (A*A^1).T\n",
    "\n",
    "#  A.T*A^-1.T  == (A*A^1).T"
   ]
  },
  {
   "cell_type": "code",
   "execution_count": null,
   "metadata": {},
   "outputs": [],
   "source": [
    "# Soru 11\n",
    "# Sütün ve satır birbirine eşittir."
   ]
  },
  {
   "cell_type": "code",
   "execution_count": 145,
   "metadata": {
    "ExecuteTime": {
     "end_time": "2020-03-28T09:51:16.595457Z",
     "start_time": "2020-03-28T09:51:16.591452Z"
    }
   },
   "outputs": [],
   "source": [
    "A=np.array([[ 1/3, -2/3,  2/3],\n",
    "       [ 2/3,  2/3, 1/3],\n",
    "       [ -2/3,  1/3, 2/3]])"
   ]
  },
  {
   "cell_type": "code",
   "execution_count": 146,
   "metadata": {
    "ExecuteTime": {
     "end_time": "2020-03-28T09:51:17.416256Z",
     "start_time": "2020-03-28T09:51:17.413250Z"
    }
   },
   "outputs": [],
   "source": [
    "# A^-1=A.T ise ortogonal matristir. "
   ]
  },
  {
   "cell_type": "code",
   "execution_count": 147,
   "metadata": {
    "ExecuteTime": {
     "end_time": "2020-03-28T09:51:18.254801Z",
     "start_time": "2020-03-28T09:51:18.248785Z"
    }
   },
   "outputs": [
    {
     "data": {
      "text/plain": [
       "array([[ 1.,  0., -0.],\n",
       "       [ 0.,  1., -0.],\n",
       "       [-0., -0.,  1.]])"
      ]
     },
     "execution_count": 147,
     "metadata": {},
     "output_type": "execute_result"
    }
   ],
   "source": [
    "A.dot(A.T).round(2)"
   ]
  },
  {
   "cell_type": "code",
   "execution_count": 148,
   "metadata": {
    "ExecuteTime": {
     "end_time": "2020-03-28T09:51:19.614393Z",
     "start_time": "2020-03-28T09:51:19.610380Z"
    }
   },
   "outputs": [
    {
     "data": {
      "text/plain": [
       "array([[ 0.33333333, -0.66666667,  0.66666667],\n",
       "       [ 0.66666667,  0.66666667,  0.33333333],\n",
       "       [-0.66666667,  0.33333333,  0.66666667]])"
      ]
     },
     "execution_count": 148,
     "metadata": {},
     "output_type": "execute_result"
    }
   ],
   "source": [
    "A"
   ]
  },
  {
   "cell_type": "code",
   "execution_count": 149,
   "metadata": {
    "ExecuteTime": {
     "end_time": "2020-03-28T09:51:20.959730Z",
     "start_time": "2020-03-28T09:51:20.955716Z"
    }
   },
   "outputs": [
    {
     "data": {
      "text/plain": [
       "array([[ 0.33333333,  0.66666667, -0.66666667],\n",
       "       [-0.66666667,  0.66666667,  0.33333333],\n",
       "       [ 0.66666667,  0.33333333,  0.66666667]])"
      ]
     },
     "execution_count": 149,
     "metadata": {},
     "output_type": "execute_result"
    }
   ],
   "source": [
    "A.T"
   ]
  },
  {
   "cell_type": "code",
   "execution_count": 150,
   "metadata": {
    "ExecuteTime": {
     "end_time": "2020-03-28T09:51:41.245566Z",
     "start_time": "2020-03-28T09:51:41.240564Z"
    }
   },
   "outputs": [
    {
     "data": {
      "text/plain": [
       "array([[ 0.33333333,  0.66666667, -0.66666667],\n",
       "       [-0.66666667,  0.66666667,  0.33333333],\n",
       "       [ 0.66666667,  0.33333333,  0.66666667]])"
      ]
     },
     "execution_count": 150,
     "metadata": {},
     "output_type": "execute_result"
    }
   ],
   "source": [
    "np.linalg.inv(A)"
   ]
  },
  {
   "cell_type": "markdown",
   "metadata": {
    "lines_to_next_cell": 2
   },
   "source": [
    "# Determinant\n"
   ]
  },
  {
   "cell_type": "markdown",
   "metadata": {
    "lines_to_next_cell": 2
   },
   "source": [
    " Herhangi bir kare matrisi belirleyen sayıya determinant denir. Doğrusal olmayan programlama çalışmalarında kullanılacaktır ."
   ]
  },
  {
   "cell_type": "markdown",
   "metadata": {
    "lines_to_next_cell": 2
   },
   "source": [
    "A= [a11] det A -> a11"
   ]
  },
  {
   "cell_type": "code",
   "execution_count": 3,
   "metadata": {
    "ExecuteTime": {
     "end_time": "2020-03-22T16:47:18.077173Z",
     "start_time": "2020-03-22T16:47:18.074222Z"
    }
   },
   "outputs": [],
   "source": [
    "# A =[[a11 a12],[a21 a22]]  det A -> a11*a22 - a21*a12"
   ]
  },
  {
   "cell_type": "code",
   "execution_count": 4,
   "metadata": {
    "ExecuteTime": {
     "end_time": "2020-03-22T16:47:53.190881Z",
     "start_time": "2020-03-22T16:47:53.186936Z"
    }
   },
   "outputs": [],
   "source": [
    "A=np.array([[2,4],[3,5]])"
   ]
  },
  {
   "cell_type": "code",
   "execution_count": 7,
   "metadata": {
    "ExecuteTime": {
     "end_time": "2020-03-22T16:48:42.263885Z",
     "start_time": "2020-03-22T16:48:42.258966Z"
    }
   },
   "outputs": [
    {
     "data": {
      "text/plain": [
       "-2"
      ]
     },
     "execution_count": 7,
     "metadata": {},
     "output_type": "execute_result"
    }
   ],
   "source": [
    "2*5-3*4"
   ]
  },
  {
   "cell_type": "code",
   "execution_count": 5,
   "metadata": {
    "ExecuteTime": {
     "end_time": "2020-03-22T16:48:08.952759Z",
     "start_time": "2020-03-22T16:48:08.946368Z"
    }
   },
   "outputs": [
    {
     "data": {
      "text/plain": [
       "-2.000000000000001"
      ]
     },
     "execution_count": 5,
     "metadata": {},
     "output_type": "execute_result"
    }
   ],
   "source": [
    "np.linalg.det(A)"
   ]
  },
  {
   "cell_type": "code",
   "execution_count": 30,
   "metadata": {
    "ExecuteTime": {
     "end_time": "2020-03-22T17:30:13.481796Z",
     "start_time": "2020-03-22T17:30:13.477871Z"
    }
   },
   "outputs": [],
   "source": [
    "A=np.array([[1,2,3],[4,5,6],[7,8,9]])"
   ]
  },
  {
   "cell_type": "code",
   "execution_count": 18,
   "metadata": {
    "ExecuteTime": {
     "end_time": "2020-03-22T16:52:13.928578Z",
     "start_time": "2020-03-22T16:52:13.924058Z"
    }
   },
   "outputs": [
    {
     "data": {
      "text/plain": [
       "array([[1, 2, 3],\n",
       "       [4, 5, 6],\n",
       "       [7, 8, 9]])"
      ]
     },
     "execution_count": 18,
     "metadata": {},
     "output_type": "execute_result"
    }
   ],
   "source": [
    "A"
   ]
  },
  {
   "cell_type": "code",
   "execution_count": 21,
   "metadata": {
    "ExecuteTime": {
     "end_time": "2020-03-22T16:52:56.174809Z",
     "start_time": "2020-03-22T16:52:56.170915Z"
    }
   },
   "outputs": [],
   "source": [
    "A02=A[1:,:2]"
   ]
  },
  {
   "cell_type": "code",
   "execution_count": 22,
   "metadata": {
    "ExecuteTime": {
     "end_time": "2020-03-22T16:52:56.361644Z",
     "start_time": "2020-03-22T16:52:56.357670Z"
    }
   },
   "outputs": [
    {
     "data": {
      "text/plain": [
       "array([[4, 5],\n",
       "       [7, 8]])"
      ]
     },
     "execution_count": 22,
     "metadata": {},
     "output_type": "execute_result"
    }
   ],
   "source": [
    "A02"
   ]
  },
  {
   "cell_type": "markdown",
   "metadata": {},
   "source": [
    "Bir matrisin alt matrisi ona ait sütün ve satırların silinmesi ile yazılır."
   ]
  },
  {
   "cell_type": "code",
   "execution_count": 72,
   "metadata": {
    "ExecuteTime": {
     "end_time": "2020-05-23T15:45:48.878458Z",
     "start_time": "2020-05-23T15:45:48.874981Z"
    }
   },
   "outputs": [],
   "source": [
    "def alt_matris(A,i,j):    \n",
    "    a_del = np.delete(A, i, 0)\n",
    "    a_del=np.delete(a_del, j, 1)\n",
    "    \n",
    "    return a_del"
   ]
  },
  {
   "cell_type": "code",
   "execution_count": 73,
   "metadata": {
    "ExecuteTime": {
     "end_time": "2020-05-23T15:45:49.705565Z",
     "start_time": "2020-05-23T15:45:49.700018Z"
    }
   },
   "outputs": [],
   "source": [
    "def determinant_hesaplayıcı(A,i=0):\n",
    "    if (A.shape!=(1,)):\n",
    "        if (A.shape[0] != A.shape[1]) :\n",
    "            return \"Hata: Kare matris değildir.\"\n",
    "    m=A.shape[0]\n",
    "    if m==1:\n",
    "       detA= A[0]  \n",
    "       return detA\n",
    "    else:\n",
    "        detA=0\n",
    "        for j in range(m):\n",
    "            detA+=np.power(-1,i+j)*A[i,j]*determinant_hesaplayıcı(alt_matris(A,i,j))\n",
    "            \n",
    "    return detA.item(0)\n",
    "    \n",
    "\n",
    "\n",
    "\n",
    "\n",
    "\n",
    "\n",
    "\n"
   ]
  },
  {
   "cell_type": "code",
   "execution_count": 154,
   "metadata": {
    "ExecuteTime": {
     "end_time": "2020-03-28T09:58:04.815117Z",
     "start_time": "2020-03-28T09:58:04.810597Z"
    }
   },
   "outputs": [
    {
     "data": {
      "text/plain": [
       "1.0"
      ]
     },
     "execution_count": 154,
     "metadata": {},
     "output_type": "execute_result"
    }
   ],
   "source": [
    "determinant_hesaplayıcı(A,i=0)"
   ]
  },
  {
   "cell_type": "code",
   "execution_count": 155,
   "metadata": {
    "ExecuteTime": {
     "end_time": "2020-03-28T09:58:07.726047Z",
     "start_time": "2020-03-28T09:58:07.721535Z"
    }
   },
   "outputs": [
    {
     "data": {
      "text/plain": [
       "0.3333333333333333"
      ]
     },
     "execution_count": 155,
     "metadata": {},
     "output_type": "execute_result"
    }
   ],
   "source": [
    "A.item(0)"
   ]
  },
  {
   "cell_type": "code",
   "execution_count": 156,
   "metadata": {
    "ExecuteTime": {
     "end_time": "2020-03-28T09:58:10.962675Z",
     "start_time": "2020-03-28T09:58:10.957662Z"
    }
   },
   "outputs": [
    {
     "data": {
      "text/plain": [
       "-2"
      ]
     },
     "execution_count": 156,
     "metadata": {},
     "output_type": "execute_result"
    }
   ],
   "source": [
    "A=np.array([[2,4],[3,5]])\n",
    "determinant_hesaplayıcı(A,i=0)"
   ]
  },
  {
   "cell_type": "markdown",
   "metadata": {},
   "source": [
    "## Problemler"
   ]
  },
  {
   "cell_type": "code",
   "execution_count": 76,
   "metadata": {
    "ExecuteTime": {
     "end_time": "2020-03-22T18:04:35.614756Z",
     "start_time": "2020-03-22T18:04:35.611751Z"
    },
    "lines_to_next_cell": 2
   },
   "outputs": [],
   "source": [
    "# Soru 1\n",
    "A=np.array([[1,2,3],[4,5,6],[7,8,9]])"
   ]
  },
  {
   "cell_type": "code",
   "execution_count": 56,
   "metadata": {
    "ExecuteTime": {
     "end_time": "2020-03-22T17:57:15.354502Z",
     "start_time": "2020-03-22T17:57:15.349596Z"
    }
   },
   "outputs": [
    {
     "data": {
      "text/plain": [
       "array([4, 5, 6])"
      ]
     },
     "execution_count": 56,
     "metadata": {},
     "output_type": "execute_result"
    }
   ],
   "source": [
    "A[1,:]"
   ]
  },
  {
   "cell_type": "code",
   "execution_count": 77,
   "metadata": {
    "ExecuteTime": {
     "end_time": "2020-03-22T18:04:37.928786Z",
     "start_time": "2020-03-22T18:04:37.923855Z"
    }
   },
   "outputs": [
    {
     "data": {
      "text/plain": [
       "0"
      ]
     },
     "execution_count": 77,
     "metadata": {},
     "output_type": "execute_result"
    }
   ],
   "source": [
    "determinant_hesaplayıcı(A,i=1) # 2. satır için"
   ]
  },
  {
   "cell_type": "code",
   "execution_count": 78,
   "metadata": {
    "ExecuteTime": {
     "end_time": "2020-03-22T18:04:41.471472Z",
     "start_time": "2020-03-22T18:04:41.467545Z"
    }
   },
   "outputs": [
    {
     "data": {
      "text/plain": [
       "0"
      ]
     },
     "execution_count": 78,
     "metadata": {},
     "output_type": "execute_result"
    }
   ],
   "source": [
    "determinant_hesaplayıcı(A,i=2) # 3. satır için"
   ]
  },
  {
   "cell_type": "code",
   "execution_count": 86,
   "metadata": {
    "ExecuteTime": {
     "end_time": "2020-03-22T18:10:03.574198Z",
     "start_time": "2020-03-22T18:10:03.570269Z"
    }
   },
   "outputs": [],
   "source": [
    "A=np.array([[1,2,3],[6,5,3],[7,15,9]])"
   ]
  },
  {
   "cell_type": "code",
   "execution_count": 87,
   "metadata": {
    "ExecuteTime": {
     "end_time": "2020-03-22T18:10:04.168819Z",
     "start_time": "2020-03-22T18:10:04.164919Z"
    }
   },
   "outputs": [
    {
     "data": {
      "text/plain": [
       "98.9999999999999"
      ]
     },
     "execution_count": 87,
     "metadata": {},
     "output_type": "execute_result"
    }
   ],
   "source": [
    "np.linalg.det(A)"
   ]
  },
  {
   "cell_type": "code",
   "execution_count": 88,
   "metadata": {
    "ExecuteTime": {
     "end_time": "2020-03-22T18:10:05.504327Z",
     "start_time": "2020-03-22T18:10:05.499389Z"
    }
   },
   "outputs": [
    {
     "data": {
      "text/plain": [
       "99"
      ]
     },
     "execution_count": 88,
     "metadata": {},
     "output_type": "execute_result"
    }
   ],
   "source": [
    "determinant_hesaplayıcı(A,i=0) # 3. satır için"
   ]
  },
  {
   "cell_type": "code",
   "execution_count": 89,
   "metadata": {
    "ExecuteTime": {
     "end_time": "2020-03-22T18:10:06.615017Z",
     "start_time": "2020-03-22T18:10:06.611091Z"
    }
   },
   "outputs": [
    {
     "data": {
      "text/plain": [
       "99"
      ]
     },
     "execution_count": 89,
     "metadata": {},
     "output_type": "execute_result"
    }
   ],
   "source": [
    "determinant_hesaplayıcı(A,i=1)"
   ]
  },
  {
   "cell_type": "code",
   "execution_count": 90,
   "metadata": {
    "ExecuteTime": {
     "end_time": "2020-03-22T18:10:07.415467Z",
     "start_time": "2020-03-22T18:10:07.410557Z"
    }
   },
   "outputs": [
    {
     "data": {
      "text/plain": [
       "99"
      ]
     },
     "execution_count": 90,
     "metadata": {},
     "output_type": "execute_result"
    }
   ],
   "source": [
    "determinant_hesaplayıcı(A,i=0)"
   ]
  },
  {
   "cell_type": "code",
   "execution_count": 91,
   "metadata": {
    "ExecuteTime": {
     "end_time": "2020-03-22T18:11:45.595716Z",
     "start_time": "2020-03-22T18:11:45.587863Z"
    }
   },
   "outputs": [
    {
     "data": {
      "text/plain": [
       "30"
      ]
     },
     "execution_count": 91,
     "metadata": {},
     "output_type": "execute_result"
    }
   ],
   "source": [
    "# Soru 2\n",
    "\n",
    "A=np.array([[1,0,0,0],[0,2,0,0],[0,0,3,0],[0,0,0,5]])\n",
    "determinant_hesaplayıcı(A,i=0)"
   ]
  },
  {
   "cell_type": "code",
   "execution_count": 92,
   "metadata": {
    "ExecuteTime": {
     "end_time": "2020-03-22T18:11:59.465724Z",
     "start_time": "2020-03-22T18:11:59.459836Z"
    }
   },
   "outputs": [
    {
     "data": {
      "text/plain": [
       "29.99999999999999"
      ]
     },
     "execution_count": 92,
     "metadata": {},
     "output_type": "execute_result"
    }
   ],
   "source": [
    "np.linalg.det(A)"
   ]
  },
  {
   "cell_type": "code",
   "execution_count": 93,
   "metadata": {
    "ExecuteTime": {
     "end_time": "2020-03-22T18:14:18.295703Z",
     "start_time": "2020-03-22T18:14:18.291778Z"
    }
   },
   "outputs": [],
   "source": [
    "# Soru 3\n",
    "\n",
    "# i>j and aij=0\n",
    "\n",
    "A=np.array([[1,2,3],[0,2,2],[0,0,1]])"
   ]
  },
  {
   "cell_type": "code",
   "execution_count": 94,
   "metadata": {
    "ExecuteTime": {
     "end_time": "2020-03-22T18:14:19.734096Z",
     "start_time": "2020-03-22T18:14:19.731141Z"
    }
   },
   "outputs": [
    {
     "data": {
      "text/plain": [
       "array([[1, 2, 3],\n",
       "       [0, 2, 2],\n",
       "       [0, 0, 1]])"
      ]
     },
     "execution_count": 94,
     "metadata": {},
     "output_type": "execute_result"
    }
   ],
   "source": [
    "A"
   ]
  },
  {
   "cell_type": "code",
   "execution_count": 95,
   "metadata": {
    "ExecuteTime": {
     "end_time": "2020-03-22T18:14:43.814725Z",
     "start_time": "2020-03-22T18:14:43.810796Z"
    }
   },
   "outputs": [
    {
     "data": {
      "text/plain": [
       "2.0"
      ]
     },
     "execution_count": 95,
     "metadata": {},
     "output_type": "execute_result"
    }
   ],
   "source": [
    "np.linalg.det(A)"
   ]
  },
  {
   "cell_type": "code",
   "execution_count": 96,
   "metadata": {
    "ExecuteTime": {
     "end_time": "2020-03-22T18:14:44.729775Z",
     "start_time": "2020-03-22T18:14:44.725849Z"
    }
   },
   "outputs": [
    {
     "data": {
      "text/plain": [
       "2"
      ]
     },
     "execution_count": 96,
     "metadata": {},
     "output_type": "execute_result"
    }
   ],
   "source": [
    "determinant_hesaplayıcı(A,i=0)"
   ]
  },
  {
   "cell_type": "code",
   "execution_count": 100,
   "metadata": {
    "ExecuteTime": {
     "end_time": "2020-03-22T18:16:22.465109Z",
     "start_time": "2020-03-22T18:16:22.460239Z"
    }
   },
   "outputs": [
    {
     "data": {
      "text/plain": [
       "2"
      ]
     },
     "execution_count": 100,
     "metadata": {},
     "output_type": "execute_result"
    }
   ],
   "source": [
    "np.prod(np.diagonal(A))"
   ]
  },
  {
   "cell_type": "code",
   "execution_count": 130,
   "metadata": {
    "ExecuteTime": {
     "end_time": "2020-03-22T18:21:53.255894Z",
     "start_time": "2020-03-22T18:21:53.251023Z"
    }
   },
   "outputs": [
    {
     "data": {
      "text/plain": [
       "-3"
      ]
     },
     "execution_count": 130,
     "metadata": {},
     "output_type": "execute_result"
    }
   ],
   "source": [
    "# Soru 4\n",
    "# a\n",
    "A=np.array([3])\n",
    "determinant_hesaplayıcı(-A,i=0)"
   ]
  },
  {
   "cell_type": "code",
   "execution_count": 131,
   "metadata": {
    "ExecuteTime": {
     "end_time": "2020-03-22T18:21:53.508640Z",
     "start_time": "2020-03-22T18:21:53.503741Z"
    }
   },
   "outputs": [
    {
     "data": {
      "text/plain": [
       "-3"
      ]
     },
     "execution_count": 131,
     "metadata": {},
     "output_type": "execute_result"
    }
   ],
   "source": [
    "-determinant_hesaplayıcı(A,i=0)"
   ]
  },
  {
   "cell_type": "code",
   "execution_count": 132,
   "metadata": {
    "ExecuteTime": {
     "end_time": "2020-03-22T18:22:07.755070Z",
     "start_time": "2020-03-22T18:22:07.748625Z"
    }
   },
   "outputs": [
    {
     "data": {
      "text/plain": [
       "-2"
      ]
     },
     "execution_count": 132,
     "metadata": {},
     "output_type": "execute_result"
    }
   ],
   "source": [
    "A=np.array([[1,2,3],[0,2,2],[0,0,1]])\n",
    "determinant_hesaplayıcı(-A,i=0)"
   ]
  },
  {
   "cell_type": "code",
   "execution_count": 133,
   "metadata": {
    "ExecuteTime": {
     "end_time": "2020-03-22T18:22:08.902039Z",
     "start_time": "2020-03-22T18:22:08.898564Z"
    }
   },
   "outputs": [
    {
     "data": {
      "text/plain": [
       "-2"
      ]
     },
     "execution_count": 133,
     "metadata": {},
     "output_type": "execute_result"
    }
   ],
   "source": [
    "-determinant_hesaplayıcı(A,i=0)"
   ]
  },
  {
   "cell_type": "code",
   "execution_count": 134,
   "metadata": {
    "ExecuteTime": {
     "end_time": "2020-03-22T18:23:14.587589Z",
     "start_time": "2020-03-22T18:23:14.581700Z"
    },
    "lines_to_next_cell": 2
   },
   "outputs": [
    {
     "data": {
      "text/plain": [
       "2"
      ]
     },
     "execution_count": 134,
     "metadata": {},
     "output_type": "execute_result"
    }
   ],
   "source": [
    "# b\n",
    "A=np.array([[1,2],[0,2]])\n",
    "determinant_hesaplayıcı(-A,i=0)"
   ]
  },
  {
   "cell_type": "code",
   "execution_count": 135,
   "metadata": {
    "ExecuteTime": {
     "end_time": "2020-03-22T18:23:14.872355Z",
     "start_time": "2020-03-22T18:23:14.868416Z"
    }
   },
   "outputs": [
    {
     "data": {
      "text/plain": [
       "2"
      ]
     },
     "execution_count": 135,
     "metadata": {},
     "output_type": "execute_result"
    }
   ],
   "source": [
    "determinant_hesaplayıcı(A,i=0)"
   ]
  },
  {
   "cell_type": "code",
   "execution_count": 136,
   "metadata": {
    "ExecuteTime": {
     "end_time": "2020-03-22T18:23:55.451818Z",
     "start_time": "2020-03-22T18:23:55.443967Z"
    }
   },
   "outputs": [
    {
     "data": {
      "text/plain": [
       "4"
      ]
     },
     "execution_count": 136,
     "metadata": {},
     "output_type": "execute_result"
    }
   ],
   "source": [
    "A=np.array([[1,2,3,11],[0,2,2,3],[0,0,1,9],[0,2,2,5]])\n",
    "determinant_hesaplayıcı(-A,i=0)"
   ]
  },
  {
   "cell_type": "code",
   "execution_count": 137,
   "metadata": {
    "ExecuteTime": {
     "end_time": "2020-03-22T18:23:55.727282Z",
     "start_time": "2020-03-22T18:23:55.722770Z"
    }
   },
   "outputs": [
    {
     "data": {
      "text/plain": [
       "4"
      ]
     },
     "execution_count": 137,
     "metadata": {},
     "output_type": "execute_result"
    }
   ],
   "source": [
    "determinant_hesaplayıcı(A,i=0)"
   ]
  },
  {
   "cell_type": "code",
   "execution_count": 138,
   "metadata": {
    "ExecuteTime": {
     "end_time": "2020-03-22T18:26:43.607289Z",
     "start_time": "2020-03-22T18:26:43.604345Z"
    }
   },
   "outputs": [],
   "source": [
    "# 1-> m e kadar elemanı topladığımız için ve (-1) üzeri (i) ile çarptığımız için m sayısının çift tek olması yüzünden bu durum değişmektedir. "
   ]
  },
  {
   "cell_type": "markdown",
   "metadata": {},
   "source": [
    "# Review Problems"
   ]
  },
  {
   "cell_type": "code",
   "execution_count": 140,
   "metadata": {
    "ExecuteTime": {
     "end_time": "2020-03-22T18:36:32.884907Z",
     "start_time": "2020-03-22T18:36:32.881397Z"
    }
   },
   "outputs": [
    {
     "name": "stdout",
     "output_type": "stream",
     "text": [
      "3 bilinmeyenli doğrusal denklem sistemi oluşturulmuştur.\n"
     ]
    }
   ],
   "source": [
    "# Soru 1\n",
    "A=np.array([[1,1,0],[0,1,1],[1,2,1]])\n",
    "b=np.array([[2],[3],[5]])\n",
    "soru1=DoğrusalDenklem(A,b)"
   ]
  },
  {
   "cell_type": "code",
   "execution_count": 141,
   "metadata": {
    "ExecuteTime": {
     "end_time": "2020-03-22T18:36:43.078149Z",
     "start_time": "2020-03-22T18:36:43.073272Z"
    }
   },
   "outputs": [
    {
     "name": "stdout",
     "output_type": "stream",
     "text": [
      "2. satırından sonra işlem yapılamamaktadır\n"
     ]
    },
    {
     "data": {
      "text/plain": [
       "array([[ 1.,  0., -1., -1.],\n",
       "       [ 0.,  1.,  1.,  3.],\n",
       "       [ 0.,  0.,  0.,  0.]])"
      ]
     },
     "execution_count": 141,
     "metadata": {},
     "output_type": "execute_result"
    }
   ],
   "source": [
    "soru1.GaussJordan()"
   ]
  },
  {
   "cell_type": "code",
   "execution_count": 142,
   "metadata": {
    "ExecuteTime": {
     "end_time": "2020-03-22T18:37:04.551361Z",
     "start_time": "2020-03-22T18:37:04.538603Z"
    }
   },
   "outputs": [
    {
     "ename": "LinAlgError",
     "evalue": "Singular matrix",
     "output_type": "error",
     "traceback": [
      "\u001b[1;31m---------------------------------------------------------------------------\u001b[0m",
      "\u001b[1;31mLinAlgError\u001b[0m                               Traceback (most recent call last)",
      "\u001b[1;32m<ipython-input-142-36718354ad3a>\u001b[0m in \u001b[0;36m<module>\u001b[1;34m\u001b[0m\n\u001b[1;32m----> 1\u001b[1;33m \u001b[0mnp\u001b[0m\u001b[1;33m.\u001b[0m\u001b[0mlinalg\u001b[0m\u001b[1;33m.\u001b[0m\u001b[0msolve\u001b[0m\u001b[1;33m(\u001b[0m\u001b[0mA\u001b[0m\u001b[1;33m,\u001b[0m\u001b[0mb\u001b[0m\u001b[1;33m)\u001b[0m\u001b[1;33m\u001b[0m\u001b[1;33m\u001b[0m\u001b[0m\n\u001b[0m",
      "\u001b[1;32m<__array_function__ internals>\u001b[0m in \u001b[0;36msolve\u001b[1;34m(*args, **kwargs)\u001b[0m\n",
      "\u001b[1;32m~\\AppData\\Local\\Continuum\\anaconda3\\envs\\OptimizationStudy\\lib\\site-packages\\numpy\\linalg\\linalg.py\u001b[0m in \u001b[0;36msolve\u001b[1;34m(a, b)\u001b[0m\n\u001b[0;32m    397\u001b[0m     \u001b[0msignature\u001b[0m \u001b[1;33m=\u001b[0m \u001b[1;34m'DD->D'\u001b[0m \u001b[1;32mif\u001b[0m \u001b[0misComplexType\u001b[0m\u001b[1;33m(\u001b[0m\u001b[0mt\u001b[0m\u001b[1;33m)\u001b[0m \u001b[1;32melse\u001b[0m \u001b[1;34m'dd->d'\u001b[0m\u001b[1;33m\u001b[0m\u001b[1;33m\u001b[0m\u001b[0m\n\u001b[0;32m    398\u001b[0m     \u001b[0mextobj\u001b[0m \u001b[1;33m=\u001b[0m \u001b[0mget_linalg_error_extobj\u001b[0m\u001b[1;33m(\u001b[0m\u001b[0m_raise_linalgerror_singular\u001b[0m\u001b[1;33m)\u001b[0m\u001b[1;33m\u001b[0m\u001b[1;33m\u001b[0m\u001b[0m\n\u001b[1;32m--> 399\u001b[1;33m     \u001b[0mr\u001b[0m \u001b[1;33m=\u001b[0m \u001b[0mgufunc\u001b[0m\u001b[1;33m(\u001b[0m\u001b[0ma\u001b[0m\u001b[1;33m,\u001b[0m \u001b[0mb\u001b[0m\u001b[1;33m,\u001b[0m \u001b[0msignature\u001b[0m\u001b[1;33m=\u001b[0m\u001b[0msignature\u001b[0m\u001b[1;33m,\u001b[0m \u001b[0mextobj\u001b[0m\u001b[1;33m=\u001b[0m\u001b[0mextobj\u001b[0m\u001b[1;33m)\u001b[0m\u001b[1;33m\u001b[0m\u001b[1;33m\u001b[0m\u001b[0m\n\u001b[0m\u001b[0;32m    400\u001b[0m \u001b[1;33m\u001b[0m\u001b[0m\n\u001b[0;32m    401\u001b[0m     \u001b[1;32mreturn\u001b[0m \u001b[0mwrap\u001b[0m\u001b[1;33m(\u001b[0m\u001b[0mr\u001b[0m\u001b[1;33m.\u001b[0m\u001b[0mastype\u001b[0m\u001b[1;33m(\u001b[0m\u001b[0mresult_t\u001b[0m\u001b[1;33m,\u001b[0m \u001b[0mcopy\u001b[0m\u001b[1;33m=\u001b[0m\u001b[1;32mFalse\u001b[0m\u001b[1;33m)\u001b[0m\u001b[1;33m)\u001b[0m\u001b[1;33m\u001b[0m\u001b[1;33m\u001b[0m\u001b[0m\n",
      "\u001b[1;32m~\\AppData\\Local\\Continuum\\anaconda3\\envs\\OptimizationStudy\\lib\\site-packages\\numpy\\linalg\\linalg.py\u001b[0m in \u001b[0;36m_raise_linalgerror_singular\u001b[1;34m(err, flag)\u001b[0m\n\u001b[0;32m     95\u001b[0m \u001b[1;33m\u001b[0m\u001b[0m\n\u001b[0;32m     96\u001b[0m \u001b[1;32mdef\u001b[0m \u001b[0m_raise_linalgerror_singular\u001b[0m\u001b[1;33m(\u001b[0m\u001b[0merr\u001b[0m\u001b[1;33m,\u001b[0m \u001b[0mflag\u001b[0m\u001b[1;33m)\u001b[0m\u001b[1;33m:\u001b[0m\u001b[1;33m\u001b[0m\u001b[1;33m\u001b[0m\u001b[0m\n\u001b[1;32m---> 97\u001b[1;33m     \u001b[1;32mraise\u001b[0m \u001b[0mLinAlgError\u001b[0m\u001b[1;33m(\u001b[0m\u001b[1;34m\"Singular matrix\"\u001b[0m\u001b[1;33m)\u001b[0m\u001b[1;33m\u001b[0m\u001b[1;33m\u001b[0m\u001b[0m\n\u001b[0m\u001b[0;32m     98\u001b[0m \u001b[1;33m\u001b[0m\u001b[0m\n\u001b[0;32m     99\u001b[0m \u001b[1;32mdef\u001b[0m \u001b[0m_raise_linalgerror_nonposdef\u001b[0m\u001b[1;33m(\u001b[0m\u001b[0merr\u001b[0m\u001b[1;33m,\u001b[0m \u001b[0mflag\u001b[0m\u001b[1;33m)\u001b[0m\u001b[1;33m:\u001b[0m\u001b[1;33m\u001b[0m\u001b[1;33m\u001b[0m\u001b[0m\n",
      "\u001b[1;31mLinAlgError\u001b[0m: Singular matrix"
     ]
    }
   ],
   "source": [
    "np.linalg.solve(A,b)"
   ]
  },
  {
   "cell_type": "code",
   "execution_count": 143,
   "metadata": {
    "ExecuteTime": {
     "end_time": "2020-03-22T18:37:41.724498Z",
     "start_time": "2020-03-22T18:37:41.720610Z"
    }
   },
   "outputs": [],
   "source": [
    "# Soru 2\n",
    "\n",
    "A=np.array([[0,3],[2,1]])"
   ]
  },
  {
   "cell_type": "code",
   "execution_count": 146,
   "metadata": {
    "ExecuteTime": {
     "end_time": "2020-03-22T18:38:37.929761Z",
     "start_time": "2020-03-22T18:38:37.920929Z"
    }
   },
   "outputs": [
    {
     "data": {
      "text/plain": [
       "array([[-0.16666667,  0.5       ],\n",
       "       [ 0.33333333,  0.        ]])"
      ]
     },
     "execution_count": 146,
     "metadata": {},
     "output_type": "execute_result"
    }
   ],
   "source": [
    "np.linalg.inv(A)"
   ]
  },
  {
   "cell_type": "code",
   "execution_count": 148,
   "metadata": {
    "ExecuteTime": {
     "end_time": "2020-03-22T18:39:42.365426Z",
     "start_time": "2020-03-22T18:39:42.360478Z"
    }
   },
   "outputs": [
    {
     "name": "stdout",
     "output_type": "stream",
     "text": [
      "2 bilinmeyenli doğrusal denklem sistemi oluşturulmuştur.\n",
      "2 bilinmeyenli doğrusal denklem sistemi oluşturulmuştur.\n"
     ]
    },
    {
     "data": {
      "text/plain": [
       "array([[-0.16666667,  0.5       ],\n",
       "       [ 0.33333333,  0.        ]])"
      ]
     },
     "execution_count": 148,
     "metadata": {},
     "output_type": "execute_result"
    }
   ],
   "source": [
    "MatrisTersi(A)"
   ]
  },
  {
   "cell_type": "markdown",
   "metadata": {
    "lines_to_next_cell": 2
   },
   "source": [
    "Soru 3"
   ]
  },
  {
   "cell_type": "code",
   "execution_count": null,
   "metadata": {},
   "outputs": [],
   "source": [
    "U=[20,5,75] # t ,q ,r\n",
    "\n",
    "T=[90,10]  # r , q\n",
    "\n",
    "[Ut Tt] -> [U T]\n",
    "\n",
    "U *.75 = Ut\n",
    "\n",
    "T*0.9+U*0.20=Tt\n",
    " U    T\n",
    "[0.75 0 ] =Ut\n",
    "[0.2  0.90 ]=Tt"
   ]
  },
  {
   "cell_type": "markdown",
   "metadata": {
    "lines_to_next_cell": 2
   },
   "source": [
    "Soru 4"
   ]
  },
  {
   "cell_type": "code",
   "execution_count": 151,
   "metadata": {
    "ExecuteTime": {
     "end_time": "2020-03-22T18:51:00.325810Z",
     "start_time": "2020-03-22T18:51:00.320884Z"
    },
    "lines_to_next_cell": 2
   },
   "outputs": [
    {
     "name": "stdout",
     "output_type": "stream",
     "text": [
      "2 bilinmeyenli doğrusal denklem sistemi oluşturulmuştur.\n"
     ]
    }
   ],
   "source": [
    "A=np.array([[2,3],[1,1],[1,2]])\n",
    "b=np.array([[3],[1],[2]])\n",
    "soru4=DoğrusalDenklem(A,b)"
   ]
  },
  {
   "cell_type": "code",
   "execution_count": 152,
   "metadata": {
    "ExecuteTime": {
     "end_time": "2020-03-22T18:51:11.880591Z",
     "start_time": "2020-03-22T18:51:11.875653Z"
    }
   },
   "outputs": [
    {
     "name": "stdout",
     "output_type": "stream",
     "text": [
      "2. satırından sonra işlem yapılamamaktadır\n"
     ]
    },
    {
     "data": {
      "text/plain": [
       "array([[ 1.,  0.,  0.],\n",
       "       [-0.,  1.,  1.],\n",
       "       [ 0.,  0.,  0.]])"
      ]
     },
     "execution_count": 152,
     "metadata": {},
     "output_type": "execute_result"
    }
   ],
   "source": [
    "soru4.GaussJordan()"
   ]
  },
  {
   "cell_type": "code",
   "execution_count": 153,
   "metadata": {
    "ExecuteTime": {
     "end_time": "2020-03-22T18:51:59.530837Z",
     "start_time": "2020-03-22T18:51:59.516117Z"
    }
   },
   "outputs": [
    {
     "ename": "LinAlgError",
     "evalue": "Last 2 dimensions of the array must be square",
     "output_type": "error",
     "traceback": [
      "\u001b[1;31m---------------------------------------------------------------------------\u001b[0m",
      "\u001b[1;31mLinAlgError\u001b[0m                               Traceback (most recent call last)",
      "\u001b[1;32m<ipython-input-153-36718354ad3a>\u001b[0m in \u001b[0;36m<module>\u001b[1;34m\u001b[0m\n\u001b[1;32m----> 1\u001b[1;33m \u001b[0mnp\u001b[0m\u001b[1;33m.\u001b[0m\u001b[0mlinalg\u001b[0m\u001b[1;33m.\u001b[0m\u001b[0msolve\u001b[0m\u001b[1;33m(\u001b[0m\u001b[0mA\u001b[0m\u001b[1;33m,\u001b[0m\u001b[0mb\u001b[0m\u001b[1;33m)\u001b[0m\u001b[1;33m\u001b[0m\u001b[1;33m\u001b[0m\u001b[0m\n\u001b[0m",
      "\u001b[1;32m<__array_function__ internals>\u001b[0m in \u001b[0;36msolve\u001b[1;34m(*args, **kwargs)\u001b[0m\n",
      "\u001b[1;32m~\\AppData\\Local\\Continuum\\anaconda3\\envs\\OptimizationStudy\\lib\\site-packages\\numpy\\linalg\\linalg.py\u001b[0m in \u001b[0;36msolve\u001b[1;34m(a, b)\u001b[0m\n\u001b[0;32m    384\u001b[0m     \u001b[0ma\u001b[0m\u001b[1;33m,\u001b[0m \u001b[0m_\u001b[0m \u001b[1;33m=\u001b[0m \u001b[0m_makearray\u001b[0m\u001b[1;33m(\u001b[0m\u001b[0ma\u001b[0m\u001b[1;33m)\u001b[0m\u001b[1;33m\u001b[0m\u001b[1;33m\u001b[0m\u001b[0m\n\u001b[0;32m    385\u001b[0m     \u001b[0m_assert_stacked_2d\u001b[0m\u001b[1;33m(\u001b[0m\u001b[0ma\u001b[0m\u001b[1;33m)\u001b[0m\u001b[1;33m\u001b[0m\u001b[1;33m\u001b[0m\u001b[0m\n\u001b[1;32m--> 386\u001b[1;33m     \u001b[0m_assert_stacked_square\u001b[0m\u001b[1;33m(\u001b[0m\u001b[0ma\u001b[0m\u001b[1;33m)\u001b[0m\u001b[1;33m\u001b[0m\u001b[1;33m\u001b[0m\u001b[0m\n\u001b[0m\u001b[0;32m    387\u001b[0m     \u001b[0mb\u001b[0m\u001b[1;33m,\u001b[0m \u001b[0mwrap\u001b[0m \u001b[1;33m=\u001b[0m \u001b[0m_makearray\u001b[0m\u001b[1;33m(\u001b[0m\u001b[0mb\u001b[0m\u001b[1;33m)\u001b[0m\u001b[1;33m\u001b[0m\u001b[1;33m\u001b[0m\u001b[0m\n\u001b[0;32m    388\u001b[0m     \u001b[0mt\u001b[0m\u001b[1;33m,\u001b[0m \u001b[0mresult_t\u001b[0m \u001b[1;33m=\u001b[0m \u001b[0m_commonType\u001b[0m\u001b[1;33m(\u001b[0m\u001b[0ma\u001b[0m\u001b[1;33m,\u001b[0m \u001b[0mb\u001b[0m\u001b[1;33m)\u001b[0m\u001b[1;33m\u001b[0m\u001b[1;33m\u001b[0m\u001b[0m\n",
      "\u001b[1;32m~\\AppData\\Local\\Continuum\\anaconda3\\envs\\OptimizationStudy\\lib\\site-packages\\numpy\\linalg\\linalg.py\u001b[0m in \u001b[0;36m_assert_stacked_square\u001b[1;34m(*arrays)\u001b[0m\n\u001b[0;32m    211\u001b[0m         \u001b[0mm\u001b[0m\u001b[1;33m,\u001b[0m \u001b[0mn\u001b[0m \u001b[1;33m=\u001b[0m \u001b[0ma\u001b[0m\u001b[1;33m.\u001b[0m\u001b[0mshape\u001b[0m\u001b[1;33m[\u001b[0m\u001b[1;33m-\u001b[0m\u001b[1;36m2\u001b[0m\u001b[1;33m:\u001b[0m\u001b[1;33m]\u001b[0m\u001b[1;33m\u001b[0m\u001b[1;33m\u001b[0m\u001b[0m\n\u001b[0;32m    212\u001b[0m         \u001b[1;32mif\u001b[0m \u001b[0mm\u001b[0m \u001b[1;33m!=\u001b[0m \u001b[0mn\u001b[0m\u001b[1;33m:\u001b[0m\u001b[1;33m\u001b[0m\u001b[1;33m\u001b[0m\u001b[0m\n\u001b[1;32m--> 213\u001b[1;33m             \u001b[1;32mraise\u001b[0m \u001b[0mLinAlgError\u001b[0m\u001b[1;33m(\u001b[0m\u001b[1;34m'Last 2 dimensions of the array must be square'\u001b[0m\u001b[1;33m)\u001b[0m\u001b[1;33m\u001b[0m\u001b[1;33m\u001b[0m\u001b[0m\n\u001b[0m\u001b[0;32m    214\u001b[0m \u001b[1;33m\u001b[0m\u001b[0m\n\u001b[0;32m    215\u001b[0m \u001b[1;32mdef\u001b[0m \u001b[0m_assert_finite\u001b[0m\u001b[1;33m(\u001b[0m\u001b[1;33m*\u001b[0m\u001b[0marrays\u001b[0m\u001b[1;33m)\u001b[0m\u001b[1;33m:\u001b[0m\u001b[1;33m\u001b[0m\u001b[1;33m\u001b[0m\u001b[0m\n",
      "\u001b[1;31mLinAlgError\u001b[0m: Last 2 dimensions of the array must be square"
     ]
    }
   ],
   "source": [
    "np.linalg.solve(A,b)"
   ]
  },
  {
   "cell_type": "markdown",
   "metadata": {
    "lines_to_next_cell": 2
   },
   "source": [
    "Soru 5"
   ]
  },
  {
   "cell_type": "code",
   "execution_count": 158,
   "metadata": {
    "ExecuteTime": {
     "end_time": "2020-03-22T18:54:58.435932Z",
     "start_time": "2020-03-22T18:54:58.430960Z"
    }
   },
   "outputs": [
    {
     "data": {
      "text/plain": [
       "array([[-1.5,  1. ],\n",
       "       [ 0.5,  0. ]])"
      ]
     },
     "execution_count": 158,
     "metadata": {},
     "output_type": "execute_result"
    }
   ],
   "source": [
    "np.linalg.inv(np.array([[0,2],[1,3]]))"
   ]
  },
  {
   "cell_type": "markdown",
   "metadata": {
    "lines_to_next_cell": 2
   },
   "source": [
    "Soru 6"
   ]
  },
  {
   "cell_type": "code",
   "execution_count": 162,
   "metadata": {
    "ExecuteTime": {
     "end_time": "2020-03-22T18:57:53.836238Z",
     "start_time": "2020-03-22T18:57:53.832313Z"
    }
   },
   "outputs": [],
   "source": [
    "grades=np.array([[3.6 ,3.8 ,2.6,3.4],[2.7 ,3.1, 2.9, 3.6]])"
   ]
  },
  {
   "cell_type": "code",
   "execution_count": 163,
   "metadata": {
    "ExecuteTime": {
     "end_time": "2020-03-22T18:58:51.451014Z",
     "start_time": "2020-03-22T18:58:51.447088Z"
    }
   },
   "outputs": [],
   "source": [
    "courses=np.array([4,4,3,3])"
   ]
  },
  {
   "cell_type": "code",
   "execution_count": 168,
   "metadata": {
    "ExecuteTime": {
     "end_time": "2020-03-22T19:00:20.627909Z",
     "start_time": "2020-03-22T19:00:20.622977Z"
    }
   },
   "outputs": [
    {
     "data": {
      "text/plain": [
       "array([3.4 , 3.05])"
      ]
     },
     "execution_count": 168,
     "metadata": {},
     "output_type": "execute_result"
    }
   ],
   "source": [
    "grades.dot(courses)/courses.sum()"
   ]
  },
  {
   "cell_type": "code",
   "execution_count": 169,
   "metadata": {
    "ExecuteTime": {
     "end_time": "2020-03-22T19:01:03.187042Z",
     "start_time": "2020-03-22T19:01:03.183151Z"
    }
   },
   "outputs": [],
   "source": [
    "# Soru 7"
   ]
  },
  {
   "cell_type": "code",
   "execution_count": 5,
   "metadata": {
    "ExecuteTime": {
     "end_time": "2020-05-23T13:13:13.238569Z",
     "start_time": "2020-05-23T13:13:13.235561Z"
    }
   },
   "outputs": [],
   "source": [
    "A=np.array([[2,1],[3,1],[1,-1]])\n",
    "b=np.array([[3],[4],[0]])\n",
    "soru7=DoğrusalDenklem(A,b)"
   ]
  },
  {
   "cell_type": "code",
   "execution_count": 6,
   "metadata": {
    "ExecuteTime": {
     "end_time": "2020-05-23T13:13:16.616263Z",
     "start_time": "2020-05-23T13:13:16.557104Z"
    }
   },
   "outputs": [
    {
     "ename": "LinAlgError",
     "evalue": "Last 2 dimensions of the array must be square",
     "output_type": "error",
     "traceback": [
      "\u001b[1;31m---------------------------------------------------------------------------\u001b[0m",
      "\u001b[1;31mLinAlgError\u001b[0m                               Traceback (most recent call last)",
      "\u001b[1;32m<ipython-input-6-36718354ad3a>\u001b[0m in \u001b[0;36m<module>\u001b[1;34m\u001b[0m\n\u001b[1;32m----> 1\u001b[1;33m \u001b[0mnp\u001b[0m\u001b[1;33m.\u001b[0m\u001b[0mlinalg\u001b[0m\u001b[1;33m.\u001b[0m\u001b[0msolve\u001b[0m\u001b[1;33m(\u001b[0m\u001b[0mA\u001b[0m\u001b[1;33m,\u001b[0m\u001b[0mb\u001b[0m\u001b[1;33m)\u001b[0m\u001b[1;33m\u001b[0m\u001b[1;33m\u001b[0m\u001b[0m\n\u001b[0m",
      "\u001b[1;32m<__array_function__ internals>\u001b[0m in \u001b[0;36msolve\u001b[1;34m(*args, **kwargs)\u001b[0m\n",
      "\u001b[1;32m~\\AppData\\Local\\Continuum\\anaconda3\\envs\\OptimizationStudy\\lib\\site-packages\\numpy\\linalg\\linalg.py\u001b[0m in \u001b[0;36msolve\u001b[1;34m(a, b)\u001b[0m\n\u001b[0;32m    384\u001b[0m     \u001b[0ma\u001b[0m\u001b[1;33m,\u001b[0m \u001b[0m_\u001b[0m \u001b[1;33m=\u001b[0m \u001b[0m_makearray\u001b[0m\u001b[1;33m(\u001b[0m\u001b[0ma\u001b[0m\u001b[1;33m)\u001b[0m\u001b[1;33m\u001b[0m\u001b[1;33m\u001b[0m\u001b[0m\n\u001b[0;32m    385\u001b[0m     \u001b[0m_assert_stacked_2d\u001b[0m\u001b[1;33m(\u001b[0m\u001b[0ma\u001b[0m\u001b[1;33m)\u001b[0m\u001b[1;33m\u001b[0m\u001b[1;33m\u001b[0m\u001b[0m\n\u001b[1;32m--> 386\u001b[1;33m     \u001b[0m_assert_stacked_square\u001b[0m\u001b[1;33m(\u001b[0m\u001b[0ma\u001b[0m\u001b[1;33m)\u001b[0m\u001b[1;33m\u001b[0m\u001b[1;33m\u001b[0m\u001b[0m\n\u001b[0m\u001b[0;32m    387\u001b[0m     \u001b[0mb\u001b[0m\u001b[1;33m,\u001b[0m \u001b[0mwrap\u001b[0m \u001b[1;33m=\u001b[0m \u001b[0m_makearray\u001b[0m\u001b[1;33m(\u001b[0m\u001b[0mb\u001b[0m\u001b[1;33m)\u001b[0m\u001b[1;33m\u001b[0m\u001b[1;33m\u001b[0m\u001b[0m\n\u001b[0;32m    388\u001b[0m     \u001b[0mt\u001b[0m\u001b[1;33m,\u001b[0m \u001b[0mresult_t\u001b[0m \u001b[1;33m=\u001b[0m \u001b[0m_commonType\u001b[0m\u001b[1;33m(\u001b[0m\u001b[0ma\u001b[0m\u001b[1;33m,\u001b[0m \u001b[0mb\u001b[0m\u001b[1;33m)\u001b[0m\u001b[1;33m\u001b[0m\u001b[1;33m\u001b[0m\u001b[0m\n",
      "\u001b[1;32m~\\AppData\\Local\\Continuum\\anaconda3\\envs\\OptimizationStudy\\lib\\site-packages\\numpy\\linalg\\linalg.py\u001b[0m in \u001b[0;36m_assert_stacked_square\u001b[1;34m(*arrays)\u001b[0m\n\u001b[0;32m    211\u001b[0m         \u001b[0mm\u001b[0m\u001b[1;33m,\u001b[0m \u001b[0mn\u001b[0m \u001b[1;33m=\u001b[0m \u001b[0ma\u001b[0m\u001b[1;33m.\u001b[0m\u001b[0mshape\u001b[0m\u001b[1;33m[\u001b[0m\u001b[1;33m-\u001b[0m\u001b[1;36m2\u001b[0m\u001b[1;33m:\u001b[0m\u001b[1;33m]\u001b[0m\u001b[1;33m\u001b[0m\u001b[1;33m\u001b[0m\u001b[0m\n\u001b[0;32m    212\u001b[0m         \u001b[1;32mif\u001b[0m \u001b[0mm\u001b[0m \u001b[1;33m!=\u001b[0m \u001b[0mn\u001b[0m\u001b[1;33m:\u001b[0m\u001b[1;33m\u001b[0m\u001b[1;33m\u001b[0m\u001b[0m\n\u001b[1;32m--> 213\u001b[1;33m             \u001b[1;32mraise\u001b[0m \u001b[0mLinAlgError\u001b[0m\u001b[1;33m(\u001b[0m\u001b[1;34m'Last 2 dimensions of the array must be square'\u001b[0m\u001b[1;33m)\u001b[0m\u001b[1;33m\u001b[0m\u001b[1;33m\u001b[0m\u001b[0m\n\u001b[0m\u001b[0;32m    214\u001b[0m \u001b[1;33m\u001b[0m\u001b[0m\n\u001b[0;32m    215\u001b[0m \u001b[1;32mdef\u001b[0m \u001b[0m_assert_finite\u001b[0m\u001b[1;33m(\u001b[0m\u001b[1;33m*\u001b[0m\u001b[0marrays\u001b[0m\u001b[1;33m)\u001b[0m\u001b[1;33m:\u001b[0m\u001b[1;33m\u001b[0m\u001b[1;33m\u001b[0m\u001b[0m\n",
      "\u001b[1;31mLinAlgError\u001b[0m: Last 2 dimensions of the array must be square"
     ]
    }
   ],
   "source": [
    "np.linalg.solve(A,b)"
   ]
  },
  {
   "cell_type": "code",
   "execution_count": 8,
   "metadata": {
    "ExecuteTime": {
     "end_time": "2020-05-23T13:13:31.379300Z",
     "start_time": "2020-05-23T13:13:31.373283Z"
    }
   },
   "outputs": [
    {
     "name": "stdout",
     "output_type": "stream",
     "text": [
      "2. satırından sonra işlem yapılamamaktadır\n"
     ]
    },
    {
     "data": {
      "text/plain": [
       "'sonsuz'"
      ]
     },
     "execution_count": 8,
     "metadata": {},
     "output_type": "execute_result"
    }
   ],
   "source": [
    "soru7.çözüm_durumu()"
   ]
  },
  {
   "cell_type": "code",
   "execution_count": 172,
   "metadata": {
    "ExecuteTime": {
     "end_time": "2020-03-22T19:02:24.348467Z",
     "start_time": "2020-03-22T19:02:24.344542Z"
    }
   },
   "outputs": [
    {
     "name": "stdout",
     "output_type": "stream",
     "text": [
      "2 bilinmeyenli doğrusal denklem sistemi oluşturulmuştur.\n"
     ]
    }
   ],
   "source": [
    "A=np.array([[2,1],[4,0]])\n",
    "b=np.array([[3],[4]])\n",
    "soru7=DoğrusalDenklem(A,b)"
   ]
  },
  {
   "cell_type": "code",
   "execution_count": 173,
   "metadata": {
    "ExecuteTime": {
     "end_time": "2020-03-22T19:02:30.484099Z",
     "start_time": "2020-03-22T19:02:30.479223Z"
    }
   },
   "outputs": [
    {
     "data": {
      "text/plain": [
       "array([[ 1.,  0.,  1.],\n",
       "       [-0.,  1.,  1.]])"
      ]
     },
     "execution_count": 173,
     "metadata": {},
     "output_type": "execute_result"
    }
   ],
   "source": [
    "soru7.GaussJordan()"
   ]
  },
  {
   "cell_type": "code",
   "execution_count": 174,
   "metadata": {
    "ExecuteTime": {
     "end_time": "2020-03-22T19:05:39.401965Z",
     "start_time": "2020-03-22T19:05:39.397059Z"
    },
    "lines_to_next_cell": 0
   },
   "outputs": [
    {
     "data": {
      "text/plain": [
       "array([[ 5., -3.],\n",
       "       [-3.,  2.]])"
      ]
     },
     "execution_count": 174,
     "metadata": {},
     "output_type": "execute_result"
    }
   ],
   "source": [
    "# Soru 8 \n",
    "\n",
    "np.linalg.inv([[2,3],[3,5]])"
   ]
  },
  {
   "cell_type": "code",
   "execution_count": null,
   "metadata": {
    "lines_to_next_cell": 2
   },
   "outputs": [],
   "source": [
    "# Soru 9\n",
    "\n",
    "Ct - %5 adult %1 die  \n",
    "At -  %3 die "
   ]
  },
  {
   "cell_type": "code",
   "execution_count": null,
   "metadata": {},
   "outputs": [],
   "source": [
    "insan_t=[Ct,At]*[[94,0],[5,97]]"
   ]
  },
  {
   "cell_type": "code",
   "execution_count": null,
   "metadata": {},
   "outputs": [],
   "source": [
    "      CT   AT\n",
    "Ct+1  94   0\n",
    "At+1   5   97\n",
    "    "
   ]
  },
  {
   "cell_type": "code",
   "execution_count": 16,
   "metadata": {
    "ExecuteTime": {
     "end_time": "2020-05-23T13:24:23.456542Z",
     "start_time": "2020-05-23T13:24:23.452532Z"
    }
   },
   "outputs": [],
   "source": [
    "insan_t=np.array([100,100])\n",
    "olaylar=np.array([[.94,.05],[0,.97]])"
   ]
  },
  {
   "cell_type": "code",
   "execution_count": 18,
   "metadata": {
    "ExecuteTime": {
     "end_time": "2020-05-23T13:24:45.592623Z",
     "start_time": "2020-05-23T13:24:45.589593Z"
    }
   },
   "outputs": [
    {
     "data": {
      "text/plain": [
       "array([ 94., 102.])"
      ]
     },
     "execution_count": 18,
     "metadata": {},
     "output_type": "execute_result"
    }
   ],
   "source": [
    "insan_t.dot(olaylar)"
   ]
  },
  {
   "cell_type": "code",
   "execution_count": 19,
   "metadata": {
    "ExecuteTime": {
     "end_time": "2020-05-23T13:25:04.118457Z",
     "start_time": "2020-05-23T13:25:04.114939Z"
    }
   },
   "outputs": [
    {
     "data": {
      "text/plain": [
       "array([[0.94, 0.05],\n",
       "       [0.  , 0.97]])"
      ]
     },
     "execution_count": 19,
     "metadata": {},
     "output_type": "execute_result"
    }
   ],
   "source": [
    "olaylar"
   ]
  },
  {
   "cell_type": "code",
   "execution_count": 20,
   "metadata": {
    "ExecuteTime": {
     "end_time": "2020-05-23T13:29:26.193596Z",
     "start_time": "2020-05-23T13:29:26.189619Z"
    }
   },
   "outputs": [],
   "source": [
    "# Soru 10\n",
    "\n",
    "A=np.array([[1,0,-1],[0,1,1],[1,1,0]])\n",
    "b=np.array([[4],[2],[5]])\n",
    "soru10=DoğrusalDenklem(A,b)"
   ]
  },
  {
   "cell_type": "code",
   "execution_count": 22,
   "metadata": {
    "ExecuteTime": {
     "end_time": "2020-05-23T13:29:36.712845Z",
     "start_time": "2020-05-23T13:29:36.707832Z"
    }
   },
   "outputs": [
    {
     "name": "stdout",
     "output_type": "stream",
     "text": [
      "2. satırından sonra işlem yapılamamaktadır\n"
     ]
    },
    {
     "data": {
      "text/plain": [
       "array([[ 1.,  0., -1.,  4.],\n",
       "       [ 0.,  1.,  1.,  2.],\n",
       "       [ 0.,  0.,  0., -1.]])"
      ]
     },
     "execution_count": 22,
     "metadata": {},
     "output_type": "execute_result"
    }
   ],
   "source": [
    "soru10.GaussJordan()"
   ]
  },
  {
   "cell_type": "code",
   "execution_count": 23,
   "metadata": {
    "ExecuteTime": {
     "end_time": "2020-05-23T13:29:56.392947Z",
     "start_time": "2020-05-23T13:29:56.338769Z"
    }
   },
   "outputs": [
    {
     "ename": "LinAlgError",
     "evalue": "Singular matrix",
     "output_type": "error",
     "traceback": [
      "\u001b[1;31m---------------------------------------------------------------------------\u001b[0m",
      "\u001b[1;31mLinAlgError\u001b[0m                               Traceback (most recent call last)",
      "\u001b[1;32m<ipython-input-23-36718354ad3a>\u001b[0m in \u001b[0;36m<module>\u001b[1;34m\u001b[0m\n\u001b[1;32m----> 1\u001b[1;33m \u001b[0mnp\u001b[0m\u001b[1;33m.\u001b[0m\u001b[0mlinalg\u001b[0m\u001b[1;33m.\u001b[0m\u001b[0msolve\u001b[0m\u001b[1;33m(\u001b[0m\u001b[0mA\u001b[0m\u001b[1;33m,\u001b[0m\u001b[0mb\u001b[0m\u001b[1;33m)\u001b[0m\u001b[1;33m\u001b[0m\u001b[1;33m\u001b[0m\u001b[0m\n\u001b[0m",
      "\u001b[1;32m<__array_function__ internals>\u001b[0m in \u001b[0;36msolve\u001b[1;34m(*args, **kwargs)\u001b[0m\n",
      "\u001b[1;32m~\\AppData\\Local\\Continuum\\anaconda3\\envs\\OptimizationStudy\\lib\\site-packages\\numpy\\linalg\\linalg.py\u001b[0m in \u001b[0;36msolve\u001b[1;34m(a, b)\u001b[0m\n\u001b[0;32m    397\u001b[0m     \u001b[0msignature\u001b[0m \u001b[1;33m=\u001b[0m \u001b[1;34m'DD->D'\u001b[0m \u001b[1;32mif\u001b[0m \u001b[0misComplexType\u001b[0m\u001b[1;33m(\u001b[0m\u001b[0mt\u001b[0m\u001b[1;33m)\u001b[0m \u001b[1;32melse\u001b[0m \u001b[1;34m'dd->d'\u001b[0m\u001b[1;33m\u001b[0m\u001b[1;33m\u001b[0m\u001b[0m\n\u001b[0;32m    398\u001b[0m     \u001b[0mextobj\u001b[0m \u001b[1;33m=\u001b[0m \u001b[0mget_linalg_error_extobj\u001b[0m\u001b[1;33m(\u001b[0m\u001b[0m_raise_linalgerror_singular\u001b[0m\u001b[1;33m)\u001b[0m\u001b[1;33m\u001b[0m\u001b[1;33m\u001b[0m\u001b[0m\n\u001b[1;32m--> 399\u001b[1;33m     \u001b[0mr\u001b[0m \u001b[1;33m=\u001b[0m \u001b[0mgufunc\u001b[0m\u001b[1;33m(\u001b[0m\u001b[0ma\u001b[0m\u001b[1;33m,\u001b[0m \u001b[0mb\u001b[0m\u001b[1;33m,\u001b[0m \u001b[0msignature\u001b[0m\u001b[1;33m=\u001b[0m\u001b[0msignature\u001b[0m\u001b[1;33m,\u001b[0m \u001b[0mextobj\u001b[0m\u001b[1;33m=\u001b[0m\u001b[0mextobj\u001b[0m\u001b[1;33m)\u001b[0m\u001b[1;33m\u001b[0m\u001b[1;33m\u001b[0m\u001b[0m\n\u001b[0m\u001b[0;32m    400\u001b[0m \u001b[1;33m\u001b[0m\u001b[0m\n\u001b[0;32m    401\u001b[0m     \u001b[1;32mreturn\u001b[0m \u001b[0mwrap\u001b[0m\u001b[1;33m(\u001b[0m\u001b[0mr\u001b[0m\u001b[1;33m.\u001b[0m\u001b[0mastype\u001b[0m\u001b[1;33m(\u001b[0m\u001b[0mresult_t\u001b[0m\u001b[1;33m,\u001b[0m \u001b[0mcopy\u001b[0m\u001b[1;33m=\u001b[0m\u001b[1;32mFalse\u001b[0m\u001b[1;33m)\u001b[0m\u001b[1;33m)\u001b[0m\u001b[1;33m\u001b[0m\u001b[1;33m\u001b[0m\u001b[0m\n",
      "\u001b[1;32m~\\AppData\\Local\\Continuum\\anaconda3\\envs\\OptimizationStudy\\lib\\site-packages\\numpy\\linalg\\linalg.py\u001b[0m in \u001b[0;36m_raise_linalgerror_singular\u001b[1;34m(err, flag)\u001b[0m\n\u001b[0;32m     95\u001b[0m \u001b[1;33m\u001b[0m\u001b[0m\n\u001b[0;32m     96\u001b[0m \u001b[1;32mdef\u001b[0m \u001b[0m_raise_linalgerror_singular\u001b[0m\u001b[1;33m(\u001b[0m\u001b[0merr\u001b[0m\u001b[1;33m,\u001b[0m \u001b[0mflag\u001b[0m\u001b[1;33m)\u001b[0m\u001b[1;33m:\u001b[0m\u001b[1;33m\u001b[0m\u001b[1;33m\u001b[0m\u001b[0m\n\u001b[1;32m---> 97\u001b[1;33m     \u001b[1;32mraise\u001b[0m \u001b[0mLinAlgError\u001b[0m\u001b[1;33m(\u001b[0m\u001b[1;34m\"Singular matrix\"\u001b[0m\u001b[1;33m)\u001b[0m\u001b[1;33m\u001b[0m\u001b[1;33m\u001b[0m\u001b[0m\n\u001b[0m\u001b[0;32m     98\u001b[0m \u001b[1;33m\u001b[0m\u001b[0m\n\u001b[0;32m     99\u001b[0m \u001b[1;32mdef\u001b[0m \u001b[0m_raise_linalgerror_nonposdef\u001b[0m\u001b[1;33m(\u001b[0m\u001b[0merr\u001b[0m\u001b[1;33m,\u001b[0m \u001b[0mflag\u001b[0m\u001b[1;33m)\u001b[0m\u001b[1;33m:\u001b[0m\u001b[1;33m\u001b[0m\u001b[1;33m\u001b[0m\u001b[0m\n",
      "\u001b[1;31mLinAlgError\u001b[0m: Singular matrix"
     ]
    }
   ],
   "source": [
    "np.linalg.solve(A,b)"
   ]
  },
  {
   "cell_type": "code",
   "execution_count": 25,
   "metadata": {
    "ExecuteTime": {
     "end_time": "2020-05-23T13:32:04.474045Z",
     "start_time": "2020-05-23T13:32:04.467980Z"
    }
   },
   "outputs": [
    {
     "name": "stdout",
     "output_type": "stream",
     "text": [
      "2. satırından sonra işlem yapılamamaktadır\n",
      "2. satırından sonra işlem yapılamamaktadır\n",
      "2. satırından sonra işlem yapılamamaktadır\n"
     ]
    },
    {
     "data": {
      "text/plain": [
       "array([[ 1.,  0.,  0.],\n",
       "       [ 0.,  1.,  0.],\n",
       "       [-1., -1.,  1.]])"
      ]
     },
     "execution_count": 25,
     "metadata": {},
     "output_type": "execute_result"
    }
   ],
   "source": [
    "# Soru 11\n",
    "soru11=np.array([[1,0,2],[0,1,1],[0,1,1]])\n",
    "\n",
    "MatrisTersi(soru11)"
   ]
  },
  {
   "cell_type": "code",
   "execution_count": 26,
   "metadata": {
    "ExecuteTime": {
     "end_time": "2020-05-23T13:32:26.504912Z",
     "start_time": "2020-05-23T13:32:26.490849Z"
    }
   },
   "outputs": [
    {
     "ename": "LinAlgError",
     "evalue": "Singular matrix",
     "output_type": "error",
     "traceback": [
      "\u001b[1;31m---------------------------------------------------------------------------\u001b[0m",
      "\u001b[1;31mLinAlgError\u001b[0m                               Traceback (most recent call last)",
      "\u001b[1;32m<ipython-input-26-73ef98664a0e>\u001b[0m in \u001b[0;36m<module>\u001b[1;34m\u001b[0m\n\u001b[1;32m----> 1\u001b[1;33m \u001b[0mnp\u001b[0m\u001b[1;33m.\u001b[0m\u001b[0mlinalg\u001b[0m\u001b[1;33m.\u001b[0m\u001b[0minv\u001b[0m\u001b[1;33m(\u001b[0m\u001b[0msoru11\u001b[0m\u001b[1;33m)\u001b[0m\u001b[1;33m\u001b[0m\u001b[1;33m\u001b[0m\u001b[0m\n\u001b[0m",
      "\u001b[1;32m<__array_function__ internals>\u001b[0m in \u001b[0;36minv\u001b[1;34m(*args, **kwargs)\u001b[0m\n",
      "\u001b[1;32m~\\AppData\\Local\\Continuum\\anaconda3\\envs\\OptimizationStudy\\lib\\site-packages\\numpy\\linalg\\linalg.py\u001b[0m in \u001b[0;36minv\u001b[1;34m(a)\u001b[0m\n\u001b[0;32m    545\u001b[0m     \u001b[0msignature\u001b[0m \u001b[1;33m=\u001b[0m \u001b[1;34m'D->D'\u001b[0m \u001b[1;32mif\u001b[0m \u001b[0misComplexType\u001b[0m\u001b[1;33m(\u001b[0m\u001b[0mt\u001b[0m\u001b[1;33m)\u001b[0m \u001b[1;32melse\u001b[0m \u001b[1;34m'd->d'\u001b[0m\u001b[1;33m\u001b[0m\u001b[1;33m\u001b[0m\u001b[0m\n\u001b[0;32m    546\u001b[0m     \u001b[0mextobj\u001b[0m \u001b[1;33m=\u001b[0m \u001b[0mget_linalg_error_extobj\u001b[0m\u001b[1;33m(\u001b[0m\u001b[0m_raise_linalgerror_singular\u001b[0m\u001b[1;33m)\u001b[0m\u001b[1;33m\u001b[0m\u001b[1;33m\u001b[0m\u001b[0m\n\u001b[1;32m--> 547\u001b[1;33m     \u001b[0mainv\u001b[0m \u001b[1;33m=\u001b[0m \u001b[0m_umath_linalg\u001b[0m\u001b[1;33m.\u001b[0m\u001b[0minv\u001b[0m\u001b[1;33m(\u001b[0m\u001b[0ma\u001b[0m\u001b[1;33m,\u001b[0m \u001b[0msignature\u001b[0m\u001b[1;33m=\u001b[0m\u001b[0msignature\u001b[0m\u001b[1;33m,\u001b[0m \u001b[0mextobj\u001b[0m\u001b[1;33m=\u001b[0m\u001b[0mextobj\u001b[0m\u001b[1;33m)\u001b[0m\u001b[1;33m\u001b[0m\u001b[1;33m\u001b[0m\u001b[0m\n\u001b[0m\u001b[0;32m    548\u001b[0m     \u001b[1;32mreturn\u001b[0m \u001b[0mwrap\u001b[0m\u001b[1;33m(\u001b[0m\u001b[0mainv\u001b[0m\u001b[1;33m.\u001b[0m\u001b[0mastype\u001b[0m\u001b[1;33m(\u001b[0m\u001b[0mresult_t\u001b[0m\u001b[1;33m,\u001b[0m \u001b[0mcopy\u001b[0m\u001b[1;33m=\u001b[0m\u001b[1;32mFalse\u001b[0m\u001b[1;33m)\u001b[0m\u001b[1;33m)\u001b[0m\u001b[1;33m\u001b[0m\u001b[1;33m\u001b[0m\u001b[0m\n\u001b[0;32m    549\u001b[0m \u001b[1;33m\u001b[0m\u001b[0m\n",
      "\u001b[1;32m~\\AppData\\Local\\Continuum\\anaconda3\\envs\\OptimizationStudy\\lib\\site-packages\\numpy\\linalg\\linalg.py\u001b[0m in \u001b[0;36m_raise_linalgerror_singular\u001b[1;34m(err, flag)\u001b[0m\n\u001b[0;32m     95\u001b[0m \u001b[1;33m\u001b[0m\u001b[0m\n\u001b[0;32m     96\u001b[0m \u001b[1;32mdef\u001b[0m \u001b[0m_raise_linalgerror_singular\u001b[0m\u001b[1;33m(\u001b[0m\u001b[0merr\u001b[0m\u001b[1;33m,\u001b[0m \u001b[0mflag\u001b[0m\u001b[1;33m)\u001b[0m\u001b[1;33m:\u001b[0m\u001b[1;33m\u001b[0m\u001b[1;33m\u001b[0m\u001b[0m\n\u001b[1;32m---> 97\u001b[1;33m     \u001b[1;32mraise\u001b[0m \u001b[0mLinAlgError\u001b[0m\u001b[1;33m(\u001b[0m\u001b[1;34m\"Singular matrix\"\u001b[0m\u001b[1;33m)\u001b[0m\u001b[1;33m\u001b[0m\u001b[1;33m\u001b[0m\u001b[0m\n\u001b[0m\u001b[0;32m     98\u001b[0m \u001b[1;33m\u001b[0m\u001b[0m\n\u001b[0;32m     99\u001b[0m \u001b[1;32mdef\u001b[0m \u001b[0m_raise_linalgerror_nonposdef\u001b[0m\u001b[1;33m(\u001b[0m\u001b[0merr\u001b[0m\u001b[1;33m,\u001b[0m \u001b[0mflag\u001b[0m\u001b[1;33m)\u001b[0m\u001b[1;33m:\u001b[0m\u001b[1;33m\u001b[0m\u001b[1;33m\u001b[0m\u001b[0m\n",
      "\u001b[1;31mLinAlgError\u001b[0m: Singular matrix"
     ]
    }
   ],
   "source": [
    "np.linalg.inv(soru11)"
   ]
  },
  {
   "cell_type": "code",
   "execution_count": null,
   "metadata": {},
   "outputs": [],
   "source": [
    "# Soru 12\n",
    "\n",
    "     Rt0 Ct0\n",
    "Rt1  90   20\n",
    "Ct1  10   80"
   ]
  },
  {
   "cell_type": "code",
   "execution_count": 32,
   "metadata": {
    "ExecuteTime": {
     "end_time": "2020-05-23T13:37:23.040328Z",
     "start_time": "2020-05-23T13:37:23.038322Z"
    }
   },
   "outputs": [],
   "source": [
    "değişim=np.array([[.90,.10],[.20,.80]])"
   ]
  },
  {
   "cell_type": "code",
   "execution_count": 33,
   "metadata": {
    "ExecuteTime": {
     "end_time": "2020-05-23T13:37:23.380231Z",
     "start_time": "2020-05-23T13:37:23.376222Z"
    }
   },
   "outputs": [
    {
     "data": {
      "text/plain": [
       "array([110.,  90.])"
      ]
     },
     "execution_count": 33,
     "metadata": {},
     "output_type": "execute_result"
    }
   ],
   "source": [
    "cars_t0=np.array([100,100])\n",
    "cars_t0.dot(değişim)"
   ]
  },
  {
   "cell_type": "code",
   "execution_count": 35,
   "metadata": {
    "ExecuteTime": {
     "end_time": "2020-05-23T13:39:13.798522Z",
     "start_time": "2020-05-23T13:39:13.793538Z"
    }
   },
   "outputs": [],
   "source": [
    "Rt0=100;Ct0=100"
   ]
  },
  {
   "cell_type": "code",
   "execution_count": 39,
   "metadata": {
    "ExecuteTime": {
     "end_time": "2020-05-23T13:39:51.197070Z",
     "start_time": "2020-05-23T13:39:51.194063Z"
    }
   },
   "outputs": [],
   "source": [
    "Rt1=.90*Rt0+.20*Ct0 \n",
    "Ct1=.10*Rt0+.80*Ct0"
   ]
  },
  {
   "cell_type": "code",
   "execution_count": null,
   "metadata": {},
   "outputs": [],
   "source": []
  },
  {
   "cell_type": "code",
   "execution_count": 41,
   "metadata": {
    "ExecuteTime": {
     "end_time": "2020-05-23T13:40:48.518693Z",
     "start_time": "2020-05-23T13:40:48.515717Z"
    }
   },
   "outputs": [
    {
     "name": "stdout",
     "output_type": "stream",
     "text": [
      "Rt1 : 110.0  Ct1 : 90.0\n"
     ]
    }
   ],
   "source": [
    "print('Rt1 : {}  Ct1 : {}'.format(Rt1,Ct1))"
   ]
  },
  {
   "cell_type": "code",
   "execution_count": 42,
   "metadata": {
    "ExecuteTime": {
     "end_time": "2020-05-23T13:42:23.601907Z",
     "start_time": "2020-05-23T13:42:23.596889Z"
    }
   },
   "outputs": [],
   "source": [
    "# Soru 13\n",
    "\n",
    "A=np.array([[1,2,1],[2,0,0]])\n",
    "def soru_çözer(A):\n",
    "    m=A.shape[0]\n",
    "    n=A.shape[1]\n",
    "    Empty=np.array([[]*n]*m) \n",
    "    soru=DoğrusalDenklem(A,Empty)\n",
    "    print(\"Çözüm \\n\",soru.GaussJordan())\n",
    "    return print(\"Doğrusal bağımsız:\",soru.doğrusal_bağımsız())"
   ]
  },
  {
   "cell_type": "code",
   "execution_count": 43,
   "metadata": {
    "ExecuteTime": {
     "end_time": "2020-05-23T13:42:31.535493Z",
     "start_time": "2020-05-23T13:42:31.530470Z"
    }
   },
   "outputs": [
    {
     "name": "stdout",
     "output_type": "stream",
     "text": [
      "Çözüm \n",
      " [[ 1.   0.   0. ]\n",
      " [-0.   1.   0.5]]\n",
      "Doğrusal bağımsız: True\n"
     ]
    }
   ],
   "source": [
    "soru_çözer(A)"
   ]
  },
  {
   "cell_type": "code",
   "execution_count": 44,
   "metadata": {
    "ExecuteTime": {
     "end_time": "2020-05-23T13:46:37.873358Z",
     "start_time": "2020-05-23T13:46:37.867364Z"
    }
   },
   "outputs": [
    {
     "name": "stdout",
     "output_type": "stream",
     "text": [
      "2. satırından sonra işlem yapılamamaktadır\n",
      "Çözüm \n",
      " [[1. 0. 0.]\n",
      " [0. 1. 0.]\n",
      " [0. 0. 0.]]\n",
      "2. satırından sonra işlem yapılamamaktadır\n",
      "2. satırından sonra işlem yapılamamaktadır\n",
      "Doğrusal bağımsız: False\n"
     ]
    }
   ],
   "source": [
    "# Soru 14\n",
    "A=np.array([[1,0,0],[0,1,0],[-1,-1,0]])\n",
    "soru_çözer(A)"
   ]
  },
  {
   "cell_type": "code",
   "execution_count": 53,
   "metadata": {
    "ExecuteTime": {
     "end_time": "2020-05-23T13:51:33.588755Z",
     "start_time": "2020-05-23T13:51:33.584779Z"
    }
   },
   "outputs": [],
   "source": [
    "# Soru 15\n",
    "a=1\n",
    "b=2\n",
    "c=3\n",
    "d=1/100\n",
    "A=np.array([[a,0,0,0],[0,b,0,0],[0,0,c,0],[0,0,0,d]])"
   ]
  },
  {
   "cell_type": "code",
   "execution_count": 54,
   "metadata": {
    "ExecuteTime": {
     "end_time": "2020-05-23T13:51:34.172409Z",
     "start_time": "2020-05-23T13:51:34.168430Z"
    }
   },
   "outputs": [
    {
     "data": {
      "text/plain": [
       "array([[  1.        ,   0.        ,   0.        ,   0.        ],\n",
       "       [  0.        ,   0.5       ,   0.        ,   0.        ],\n",
       "       [  0.        ,   0.        ,   0.33333333,   0.        ],\n",
       "       [  0.        ,   0.        ,   0.        , 100.        ]])"
      ]
     },
     "execution_count": 54,
     "metadata": {},
     "output_type": "execute_result"
    }
   ],
   "source": [
    "np.linalg.inv(A)"
   ]
  },
  {
   "cell_type": "code",
   "execution_count": 50,
   "metadata": {
    "ExecuteTime": {
     "end_time": "2020-05-23T13:51:17.676942Z",
     "start_time": "2020-05-23T13:51:17.672931Z"
    }
   },
   "outputs": [
    {
     "data": {
      "text/plain": [
       "array([[1.        , 0.        , 0.        , 0.        ],\n",
       "       [0.        , 0.5       , 0.        , 0.        ],\n",
       "       [0.        , 0.        , 0.33333333, 0.        ],\n",
       "       [0.        , 0.        , 0.        , 0.025     ]])"
      ]
     },
     "execution_count": 50,
     "metadata": {},
     "output_type": "execute_result"
    }
   ],
   "source": [
    "MatrisTersi(A)"
   ]
  },
  {
   "cell_type": "code",
   "execution_count": null,
   "metadata": {},
   "outputs": [],
   "source": [
    "a^-1 , ...., d^-1"
   ]
  },
  {
   "cell_type": "code",
   "execution_count": 55,
   "metadata": {
    "ExecuteTime": {
     "end_time": "2020-05-23T13:52:29.135011Z",
     "start_time": "2020-05-23T13:52:29.129007Z"
    }
   },
   "outputs": [
    {
     "data": {
      "text/plain": [
       "array([[1., 0., 0., 0.],\n",
       "       [0., 1., 0., 0.],\n",
       "       [0., 0., 1., 0.],\n",
       "       [0., 0., 0., 1.]])"
      ]
     },
     "execution_count": 55,
     "metadata": {},
     "output_type": "execute_result"
    }
   ],
   "source": [
    "A.dot(np.linalg.inv(A))"
   ]
  },
  {
   "cell_type": "code",
   "execution_count": null,
   "metadata": {},
   "outputs": [],
   "source": []
  },
  {
   "cell_type": "code",
   "execution_count": 62,
   "metadata": {
    "ExecuteTime": {
     "end_time": "2020-05-23T15:10:01.772473Z",
     "start_time": "2020-05-23T15:10:01.768495Z"
    }
   },
   "outputs": [],
   "source": [
    "# Soru 16\n",
    "A=np.array([[1,1,0,0],[0,0,1,1],[1,0,1,0],[0,1,0,1]])\n",
    "B=np.array([[2],[3],[4],[1]])"
   ]
  },
  {
   "cell_type": "code",
   "execution_count": 58,
   "metadata": {
    "ExecuteTime": {
     "end_time": "2020-05-23T15:07:26.068900Z",
     "start_time": "2020-05-23T15:07:26.055898Z"
    }
   },
   "outputs": [
    {
     "ename": "LinAlgError",
     "evalue": "Singular matrix",
     "output_type": "error",
     "traceback": [
      "\u001b[1;31m---------------------------------------------------------------------------\u001b[0m",
      "\u001b[1;31mLinAlgError\u001b[0m                               Traceback (most recent call last)",
      "\u001b[1;32m<ipython-input-58-ae645f97e1f8>\u001b[0m in \u001b[0;36m<module>\u001b[1;34m\u001b[0m\n\u001b[1;32m----> 1\u001b[1;33m \u001b[0mnp\u001b[0m\u001b[1;33m.\u001b[0m\u001b[0mlinalg\u001b[0m\u001b[1;33m.\u001b[0m\u001b[0minv\u001b[0m\u001b[1;33m(\u001b[0m\u001b[0mA\u001b[0m\u001b[1;33m)\u001b[0m\u001b[1;33m\u001b[0m\u001b[1;33m\u001b[0m\u001b[0m\n\u001b[0m",
      "\u001b[1;32m<__array_function__ internals>\u001b[0m in \u001b[0;36minv\u001b[1;34m(*args, **kwargs)\u001b[0m\n",
      "\u001b[1;32m~\\AppData\\Local\\Continuum\\anaconda3\\envs\\OptimizationStudy\\lib\\site-packages\\numpy\\linalg\\linalg.py\u001b[0m in \u001b[0;36minv\u001b[1;34m(a)\u001b[0m\n\u001b[0;32m    545\u001b[0m     \u001b[0msignature\u001b[0m \u001b[1;33m=\u001b[0m \u001b[1;34m'D->D'\u001b[0m \u001b[1;32mif\u001b[0m \u001b[0misComplexType\u001b[0m\u001b[1;33m(\u001b[0m\u001b[0mt\u001b[0m\u001b[1;33m)\u001b[0m \u001b[1;32melse\u001b[0m \u001b[1;34m'd->d'\u001b[0m\u001b[1;33m\u001b[0m\u001b[1;33m\u001b[0m\u001b[0m\n\u001b[0;32m    546\u001b[0m     \u001b[0mextobj\u001b[0m \u001b[1;33m=\u001b[0m \u001b[0mget_linalg_error_extobj\u001b[0m\u001b[1;33m(\u001b[0m\u001b[0m_raise_linalgerror_singular\u001b[0m\u001b[1;33m)\u001b[0m\u001b[1;33m\u001b[0m\u001b[1;33m\u001b[0m\u001b[0m\n\u001b[1;32m--> 547\u001b[1;33m     \u001b[0mainv\u001b[0m \u001b[1;33m=\u001b[0m \u001b[0m_umath_linalg\u001b[0m\u001b[1;33m.\u001b[0m\u001b[0minv\u001b[0m\u001b[1;33m(\u001b[0m\u001b[0ma\u001b[0m\u001b[1;33m,\u001b[0m \u001b[0msignature\u001b[0m\u001b[1;33m=\u001b[0m\u001b[0msignature\u001b[0m\u001b[1;33m,\u001b[0m \u001b[0mextobj\u001b[0m\u001b[1;33m=\u001b[0m\u001b[0mextobj\u001b[0m\u001b[1;33m)\u001b[0m\u001b[1;33m\u001b[0m\u001b[1;33m\u001b[0m\u001b[0m\n\u001b[0m\u001b[0;32m    548\u001b[0m     \u001b[1;32mreturn\u001b[0m \u001b[0mwrap\u001b[0m\u001b[1;33m(\u001b[0m\u001b[0mainv\u001b[0m\u001b[1;33m.\u001b[0m\u001b[0mastype\u001b[0m\u001b[1;33m(\u001b[0m\u001b[0mresult_t\u001b[0m\u001b[1;33m,\u001b[0m \u001b[0mcopy\u001b[0m\u001b[1;33m=\u001b[0m\u001b[1;32mFalse\u001b[0m\u001b[1;33m)\u001b[0m\u001b[1;33m)\u001b[0m\u001b[1;33m\u001b[0m\u001b[1;33m\u001b[0m\u001b[0m\n\u001b[0;32m    549\u001b[0m \u001b[1;33m\u001b[0m\u001b[0m\n",
      "\u001b[1;32m~\\AppData\\Local\\Continuum\\anaconda3\\envs\\OptimizationStudy\\lib\\site-packages\\numpy\\linalg\\linalg.py\u001b[0m in \u001b[0;36m_raise_linalgerror_singular\u001b[1;34m(err, flag)\u001b[0m\n\u001b[0;32m     95\u001b[0m \u001b[1;33m\u001b[0m\u001b[0m\n\u001b[0;32m     96\u001b[0m \u001b[1;32mdef\u001b[0m \u001b[0m_raise_linalgerror_singular\u001b[0m\u001b[1;33m(\u001b[0m\u001b[0merr\u001b[0m\u001b[1;33m,\u001b[0m \u001b[0mflag\u001b[0m\u001b[1;33m)\u001b[0m\u001b[1;33m:\u001b[0m\u001b[1;33m\u001b[0m\u001b[1;33m\u001b[0m\u001b[0m\n\u001b[1;32m---> 97\u001b[1;33m     \u001b[1;32mraise\u001b[0m \u001b[0mLinAlgError\u001b[0m\u001b[1;33m(\u001b[0m\u001b[1;34m\"Singular matrix\"\u001b[0m\u001b[1;33m)\u001b[0m\u001b[1;33m\u001b[0m\u001b[1;33m\u001b[0m\u001b[0m\n\u001b[0m\u001b[0;32m     98\u001b[0m \u001b[1;33m\u001b[0m\u001b[0m\n\u001b[0;32m     99\u001b[0m \u001b[1;32mdef\u001b[0m \u001b[0m_raise_linalgerror_nonposdef\u001b[0m\u001b[1;33m(\u001b[0m\u001b[0merr\u001b[0m\u001b[1;33m,\u001b[0m \u001b[0mflag\u001b[0m\u001b[1;33m)\u001b[0m\u001b[1;33m:\u001b[0m\u001b[1;33m\u001b[0m\u001b[1;33m\u001b[0m\u001b[0m\n",
      "\u001b[1;31mLinAlgError\u001b[0m: Singular matrix"
     ]
    }
   ],
   "source": [
    "np.linalg.inv(A)"
   ]
  },
  {
   "cell_type": "code",
   "execution_count": null,
   "metadata": {},
   "outputs": [],
   "source": [
    "A.dot(X)=B"
   ]
  },
  {
   "cell_type": "code",
   "execution_count": 65,
   "metadata": {
    "ExecuteTime": {
     "end_time": "2020-05-23T15:10:13.948859Z",
     "start_time": "2020-05-23T15:10:13.945885Z"
    }
   },
   "outputs": [],
   "source": [
    "s16=DoğrusalDenklem(A,B)"
   ]
  },
  {
   "cell_type": "code",
   "execution_count": 68,
   "metadata": {
    "ExecuteTime": {
     "end_time": "2020-05-23T15:10:38.434635Z",
     "start_time": "2020-05-23T15:10:38.429649Z"
    }
   },
   "outputs": [
    {
     "name": "stdout",
     "output_type": "stream",
     "text": [
      "3. satırından sonra işlem yapılamamaktadır\n"
     ]
    },
    {
     "data": {
      "text/plain": [
       "array([[ 1.,  0.,  0., -1.,  1.],\n",
       "       [ 0.,  1.,  0.,  1.,  1.],\n",
       "       [ 0.,  0.,  1.,  1.,  3.],\n",
       "       [ 0.,  0.,  0.,  0.,  0.]])"
      ]
     },
     "execution_count": 68,
     "metadata": {},
     "output_type": "execute_result"
    }
   ],
   "source": [
    "s16.GaussJordan()"
   ]
  },
  {
   "cell_type": "code",
   "execution_count": null,
   "metadata": {},
   "outputs": [],
   "source": [
    "# Soru 17\n",
    "  b  s  f\n",
    "b      \n",
    "s 0. \n",
    "f   \n",
    " "
   ]
  },
  {
   "cell_type": "code",
   "execution_count": null,
   "metadata": {},
   "outputs": [],
   "source": [
    " (x)*0.05=s0\n",
    " (x-s0)*0.4=f0\n",
    "(x-s0-f0)*0.05=b0\n",
    "   (x-b0)*0.05=s1\n",
    "   (x-s1)*0.4=f1"
   ]
  },
  {
   "cell_type": "code",
   "execution_count": null,
   "metadata": {},
   "outputs": [],
   "source": [
    "f1=(x-((x-((x-(x*0.05)-((x-(x*0.05))*0.4))*0.05))*0.05))*0.4"
   ]
  },
  {
   "cell_type": "code",
   "execution_count": 75,
   "metadata": {
    "ExecuteTime": {
     "end_time": "2020-05-23T15:46:54.881760Z",
     "start_time": "2020-05-23T15:46:54.876245Z"
    }
   },
   "outputs": [
    {
     "data": {
      "text/plain": [
       "-4"
      ]
     },
     "execution_count": 75,
     "metadata": {},
     "output_type": "execute_result"
    }
   ],
   "source": [
    "# Soru 18\n",
    "A=np.array([[2,4,6],[1,0,0],[0,0,1]])\n",
    "determinant_hesaplayıcı(A,i=0)\n"
   ]
  },
  {
   "cell_type": "code",
   "execution_count": 76,
   "metadata": {
    "ExecuteTime": {
     "end_time": "2020-05-23T15:47:27.904341Z",
     "start_time": "2020-05-23T15:47:27.899328Z"
    }
   },
   "outputs": [
    {
     "data": {
      "text/plain": [
       "-4.0"
      ]
     },
     "execution_count": 76,
     "metadata": {},
     "output_type": "execute_result"
    }
   ],
   "source": [
    "np.linalg.det(A)"
   ]
  },
  {
   "cell_type": "code",
   "execution_count": 82,
   "metadata": {
    "ExecuteTime": {
     "end_time": "2020-05-23T15:50:56.487245Z",
     "start_time": "2020-05-23T15:50:56.484737Z"
    }
   },
   "outputs": [],
   "source": [
    "# Soru 19\n",
    "A=np.array([[a,b],[c,d]])"
   ]
  },
  {
   "cell_type": "code",
   "execution_count": 83,
   "metadata": {
    "ExecuteTime": {
     "end_time": "2020-05-23T15:50:57.429346Z",
     "start_time": "2020-05-23T15:50:57.426371Z"
    }
   },
   "outputs": [],
   "source": [
    "a=1\n",
    "b=2\n",
    "c=2\n",
    "d=4"
   ]
  },
  {
   "cell_type": "code",
   "execution_count": 84,
   "metadata": {
    "ExecuteTime": {
     "end_time": "2020-05-23T15:50:57.783813Z",
     "start_time": "2020-05-23T15:50:57.780304Z"
    }
   },
   "outputs": [
    {
     "data": {
      "text/plain": [
       "True"
      ]
     },
     "execution_count": 84,
     "metadata": {},
     "output_type": "execute_result"
    }
   ],
   "source": [
    "a*d-b*c==0\n"
   ]
  },
  {
   "cell_type": "code",
   "execution_count": 85,
   "metadata": {
    "ExecuteTime": {
     "end_time": "2020-05-23T15:50:58.068570Z",
     "start_time": "2020-05-23T15:50:58.065061Z"
    }
   },
   "outputs": [
    {
     "data": {
      "text/plain": [
       "0.0"
      ]
     },
     "execution_count": 85,
     "metadata": {},
     "output_type": "execute_result"
    }
   ],
   "source": [
    "np.linalg.det(A)"
   ]
  },
  {
   "cell_type": "code",
   "execution_count": 87,
   "metadata": {
    "ExecuteTime": {
     "end_time": "2020-05-23T15:51:03.968807Z",
     "start_time": "2020-05-23T15:51:03.955271Z"
    }
   },
   "outputs": [
    {
     "ename": "LinAlgError",
     "evalue": "Singular matrix",
     "output_type": "error",
     "traceback": [
      "\u001b[1;31m---------------------------------------------------------------------------\u001b[0m",
      "\u001b[1;31mLinAlgError\u001b[0m                               Traceback (most recent call last)",
      "\u001b[1;32m<ipython-input-87-ae645f97e1f8>\u001b[0m in \u001b[0;36m<module>\u001b[1;34m\u001b[0m\n\u001b[1;32m----> 1\u001b[1;33m \u001b[0mnp\u001b[0m\u001b[1;33m.\u001b[0m\u001b[0mlinalg\u001b[0m\u001b[1;33m.\u001b[0m\u001b[0minv\u001b[0m\u001b[1;33m(\u001b[0m\u001b[0mA\u001b[0m\u001b[1;33m)\u001b[0m\u001b[1;33m\u001b[0m\u001b[1;33m\u001b[0m\u001b[0m\n\u001b[0m",
      "\u001b[1;32m<__array_function__ internals>\u001b[0m in \u001b[0;36minv\u001b[1;34m(*args, **kwargs)\u001b[0m\n",
      "\u001b[1;32m~\\AppData\\Local\\Continuum\\anaconda3\\envs\\OptimizationStudy\\lib\\site-packages\\numpy\\linalg\\linalg.py\u001b[0m in \u001b[0;36minv\u001b[1;34m(a)\u001b[0m\n\u001b[0;32m    545\u001b[0m     \u001b[0msignature\u001b[0m \u001b[1;33m=\u001b[0m \u001b[1;34m'D->D'\u001b[0m \u001b[1;32mif\u001b[0m \u001b[0misComplexType\u001b[0m\u001b[1;33m(\u001b[0m\u001b[0mt\u001b[0m\u001b[1;33m)\u001b[0m \u001b[1;32melse\u001b[0m \u001b[1;34m'd->d'\u001b[0m\u001b[1;33m\u001b[0m\u001b[1;33m\u001b[0m\u001b[0m\n\u001b[0;32m    546\u001b[0m     \u001b[0mextobj\u001b[0m \u001b[1;33m=\u001b[0m \u001b[0mget_linalg_error_extobj\u001b[0m\u001b[1;33m(\u001b[0m\u001b[0m_raise_linalgerror_singular\u001b[0m\u001b[1;33m)\u001b[0m\u001b[1;33m\u001b[0m\u001b[1;33m\u001b[0m\u001b[0m\n\u001b[1;32m--> 547\u001b[1;33m     \u001b[0mainv\u001b[0m \u001b[1;33m=\u001b[0m \u001b[0m_umath_linalg\u001b[0m\u001b[1;33m.\u001b[0m\u001b[0minv\u001b[0m\u001b[1;33m(\u001b[0m\u001b[0ma\u001b[0m\u001b[1;33m,\u001b[0m \u001b[0msignature\u001b[0m\u001b[1;33m=\u001b[0m\u001b[0msignature\u001b[0m\u001b[1;33m,\u001b[0m \u001b[0mextobj\u001b[0m\u001b[1;33m=\u001b[0m\u001b[0mextobj\u001b[0m\u001b[1;33m)\u001b[0m\u001b[1;33m\u001b[0m\u001b[1;33m\u001b[0m\u001b[0m\n\u001b[0m\u001b[0;32m    548\u001b[0m     \u001b[1;32mreturn\u001b[0m \u001b[0mwrap\u001b[0m\u001b[1;33m(\u001b[0m\u001b[0mainv\u001b[0m\u001b[1;33m.\u001b[0m\u001b[0mastype\u001b[0m\u001b[1;33m(\u001b[0m\u001b[0mresult_t\u001b[0m\u001b[1;33m,\u001b[0m \u001b[0mcopy\u001b[0m\u001b[1;33m=\u001b[0m\u001b[1;32mFalse\u001b[0m\u001b[1;33m)\u001b[0m\u001b[1;33m)\u001b[0m\u001b[1;33m\u001b[0m\u001b[1;33m\u001b[0m\u001b[0m\n\u001b[0;32m    549\u001b[0m \u001b[1;33m\u001b[0m\u001b[0m\n",
      "\u001b[1;32m~\\AppData\\Local\\Continuum\\anaconda3\\envs\\OptimizationStudy\\lib\\site-packages\\numpy\\linalg\\linalg.py\u001b[0m in \u001b[0;36m_raise_linalgerror_singular\u001b[1;34m(err, flag)\u001b[0m\n\u001b[0;32m     95\u001b[0m \u001b[1;33m\u001b[0m\u001b[0m\n\u001b[0;32m     96\u001b[0m \u001b[1;32mdef\u001b[0m \u001b[0m_raise_linalgerror_singular\u001b[0m\u001b[1;33m(\u001b[0m\u001b[0merr\u001b[0m\u001b[1;33m,\u001b[0m \u001b[0mflag\u001b[0m\u001b[1;33m)\u001b[0m\u001b[1;33m:\u001b[0m\u001b[1;33m\u001b[0m\u001b[1;33m\u001b[0m\u001b[0m\n\u001b[1;32m---> 97\u001b[1;33m     \u001b[1;32mraise\u001b[0m \u001b[0mLinAlgError\u001b[0m\u001b[1;33m(\u001b[0m\u001b[1;34m\"Singular matrix\"\u001b[0m\u001b[1;33m)\u001b[0m\u001b[1;33m\u001b[0m\u001b[1;33m\u001b[0m\u001b[0m\n\u001b[0m\u001b[0;32m     98\u001b[0m \u001b[1;33m\u001b[0m\u001b[0m\n\u001b[0;32m     99\u001b[0m \u001b[1;32mdef\u001b[0m \u001b[0m_raise_linalgerror_nonposdef\u001b[0m\u001b[1;33m(\u001b[0m\u001b[0merr\u001b[0m\u001b[1;33m,\u001b[0m \u001b[0mflag\u001b[0m\u001b[1;33m)\u001b[0m\u001b[1;33m:\u001b[0m\u001b[1;33m\u001b[0m\u001b[1;33m\u001b[0m\u001b[0m\n",
      "\u001b[1;31mLinAlgError\u001b[0m: Singular matrix"
     ]
    }
   ],
   "source": [
    "np.linalg.inv(A)"
   ]
  },
  {
   "cell_type": "code",
   "execution_count": null,
   "metadata": {},
   "outputs": [],
   "source": [
    "# Soru 20\n",
    "\n",
    "ax=0\n"
   ]
  },
  {
   "cell_type": "code",
   "execution_count": null,
   "metadata": {},
   "outputs": [],
   "source": [
    "a*x1+b*x2=0\n",
    "c*x1+d*x2=0"
   ]
  },
  {
   "cell_type": "code",
   "execution_count": 95,
   "metadata": {
    "ExecuteTime": {
     "end_time": "2020-05-23T15:58:24.279456Z",
     "start_time": "2020-05-23T15:58:24.275478Z"
    }
   },
   "outputs": [],
   "source": [
    "a=1\n",
    "b=2\n",
    "c=3\n",
    "d=1/100\n",
    "A=np.array([[a,0,0,0],[0,b,0,0],[0,0,c,0],[0,0,0,d]])\n",
    "B=np.array([[ 0],[0 ],[0 ],[0 ]])"
   ]
  },
  {
   "cell_type": "code",
   "execution_count": 92,
   "metadata": {
    "ExecuteTime": {
     "end_time": "2020-05-23T15:57:30.278797Z",
     "start_time": "2020-05-23T15:57:30.273785Z"
    }
   },
   "outputs": [],
   "source": [
    "m=A.shape[0]\n",
    "n=A.shape[1]\n",
    "Empty=np.array([[]*n]*m) \n",
    "soru=DoğrusalDenklem(A,Empty)"
   ]
  },
  {
   "cell_type": "code",
   "execution_count": 96,
   "metadata": {
    "ExecuteTime": {
     "end_time": "2020-05-23T15:58:45.249791Z",
     "start_time": "2020-05-23T15:58:45.245279Z"
    }
   },
   "outputs": [
    {
     "data": {
      "text/plain": [
       "array([[0.],\n",
       "       [0.],\n",
       "       [0.],\n",
       "       [0.]])"
      ]
     },
     "execution_count": 96,
     "metadata": {},
     "output_type": "execute_result"
    }
   ],
   "source": [
    "np.linalg.solve(A,B)*"
   ]
  },
  {
   "cell_type": "code",
   "execution_count": 106,
   "metadata": {
    "ExecuteTime": {
     "end_time": "2020-05-23T18:33:38.317579Z",
     "start_time": "2020-05-23T18:33:38.315071Z"
    }
   },
   "outputs": [],
   "source": [
    "# Soru 21\n",
    "\n",
    "X=np.array([1, 0  , 0  , 0  ])"
   ]
  },
  {
   "cell_type": "code",
   "execution_count": 109,
   "metadata": {
    "ExecuteTime": {
     "end_time": "2020-05-23T18:34:19.521062Z",
     "start_time": "2020-05-23T18:34:19.517552Z"
    }
   },
   "outputs": [],
   "source": [
    "A=np.array([[1,0,0,0],[0,1,0,0],[0,0,1,0],[0,0,0,1]])"
   ]
  },
  {
   "cell_type": "code",
   "execution_count": 110,
   "metadata": {
    "ExecuteTime": {
     "end_time": "2020-05-23T18:34:19.830932Z",
     "start_time": "2020-05-23T18:34:19.826922Z"
    }
   },
   "outputs": [
    {
     "data": {
      "text/plain": [
       "array([1, 0, 0, 0])"
      ]
     },
     "execution_count": 110,
     "metadata": {},
     "output_type": "execute_result"
    }
   ],
   "source": [
    "X.dot(A)"
   ]
  },
  {
   "cell_type": "code",
   "execution_count": null,
   "metadata": {},
   "outputs": [],
   "source": [
    "# Soru 22\n",
    "\n",
    "ds  dc   dm \n",
    "30 15  40  1 s\n",
    "45 20  10  1 c\n",
    "40 10  45  1 m\n",
    "\n",
    "\n",
    "\n"
   ]
  },
  {
   "cell_type": "code",
   "execution_count": 135,
   "metadata": {
    "ExecuteTime": {
     "end_time": "2020-05-23T21:19:41.987187Z",
     "start_time": "2020-05-23T21:19:41.984179Z"
    }
   },
   "outputs": [],
   "source": [
    "A=np.array([[.3,.45,.40],[.15,.20,.10],[.40,.10,.45]])"
   ]
  },
  {
   "cell_type": "code",
   "execution_count": 149,
   "metadata": {
    "ExecuteTime": {
     "end_time": "2020-05-23T21:28:35.984761Z",
     "start_time": "2020-05-23T21:28:35.980751Z"
    }
   },
   "outputs": [
    {
     "data": {
      "text/plain": [
       "array([[0.3 , 0.45, 0.4 ],\n",
       "       [0.15, 0.2 , 0.1 ],\n",
       "       [0.4 , 0.1 , 0.45]])"
      ]
     },
     "execution_count": 149,
     "metadata": {},
     "output_type": "execute_result"
    }
   ],
   "source": [
    "A"
   ]
  },
  {
   "cell_type": "code",
   "execution_count": 150,
   "metadata": {
    "ExecuteTime": {
     "end_time": "2020-05-23T21:28:36.226403Z",
     "start_time": "2020-05-23T21:28:36.223432Z"
    }
   },
   "outputs": [],
   "source": [
    "scm=np.array([1,1,1])"
   ]
  },
  {
   "cell_type": "code",
   "execution_count": null,
   "metadata": {},
   "outputs": [],
   "source": [
    "scm=np.array([1,1,1])"
   ]
  },
  {
   "cell_type": "code",
   "execution_count": 164,
   "metadata": {
    "ExecuteTime": {
     "end_time": "2020-05-23T21:42:06.540531Z",
     "start_time": "2020-05-23T21:42:06.537522Z"
    }
   },
   "outputs": [],
   "source": [
    "sales=np.array([2,1,1])"
   ]
  },
  {
   "cell_type": "code",
   "execution_count": 154,
   "metadata": {
    "ExecuteTime": {
     "end_time": "2020-05-23T21:36:45.305413Z",
     "start_time": "2020-05-23T21:36:45.300352Z"
    }
   },
   "outputs": [
    {
     "data": {
      "text/plain": [
       "array([2.15, 1.45, 1.95])"
      ]
     },
     "execution_count": 154,
     "metadata": {},
     "output_type": "execute_result"
    }
   ],
   "source": [
    "sales= scm-A.dot(scm) "
   ]
  },
  {
   "cell_type": "code",
   "execution_count": 152,
   "metadata": {
    "ExecuteTime": {
     "end_time": "2020-05-23T21:28:41.175941Z",
     "start_time": "2020-05-23T21:28:41.172967Z"
    }
   },
   "outputs": [
    {
     "data": {
      "text/plain": [
       "array([1.15, 0.45, 0.95])"
      ]
     },
     "execution_count": 152,
     "metadata": {},
     "output_type": "execute_result"
    }
   ],
   "source": [
    "satış=üretim-stok"
   ]
  },
  {
   "cell_type": "code",
   "execution_count": 157,
   "metadata": {
    "ExecuteTime": {
     "end_time": "2020-05-23T21:40:31.368408Z",
     "start_time": "2020-05-23T21:40:31.366428Z"
    }
   },
   "outputs": [],
   "source": [
    "z=(np.identity(3)-A)"
   ]
  },
  {
   "cell_type": "code",
   "execution_count": 165,
   "metadata": {
    "ExecuteTime": {
     "end_time": "2020-05-23T21:42:12.560166Z",
     "start_time": "2020-05-23T21:42:12.557126Z"
    }
   },
   "outputs": [],
   "source": [
    "scm=np.linalg.inv(z).dot(sales)"
   ]
  },
  {
   "cell_type": "code",
   "execution_count": 166,
   "metadata": {
    "ExecuteTime": {
     "end_time": "2020-05-23T21:42:15.040518Z",
     "start_time": "2020-05-23T21:42:15.036539Z"
    }
   },
   "outputs": [
    {
     "data": {
      "text/plain": [
       "array([2., 1., 1.])"
      ]
     },
     "execution_count": 166,
     "metadata": {},
     "output_type": "execute_result"
    }
   ],
   "source": [
    "z.dot(scm)"
   ]
  },
  {
   "cell_type": "code",
   "execution_count": 167,
   "metadata": {
    "ExecuteTime": {
     "end_time": "2020-05-23T21:42:20.416895Z",
     "start_time": "2020-05-23T21:42:20.411909Z"
    }
   },
   "outputs": [
    {
     "data": {
      "text/plain": [
       "array([13.51955307,  5.36312849, 12.62569832])"
      ]
     },
     "execution_count": 167,
     "metadata": {},
     "output_type": "execute_result"
    }
   ],
   "source": [
    "scm"
   ]
  },
  {
   "cell_type": "code",
   "execution_count": null,
   "metadata": {},
   "outputs": [],
   "source": []
  }
 ],
 "metadata": {
  "jupytext": {
   "encoding": "# -*- coding: utf-8 -*-",
   "formats": "ipynb,py:light"
  },
  "kernelspec": {
   "display_name": "Python 3",
   "language": "python",
   "name": "python3"
  },
  "language_info": {
   "codemirror_mode": {
    "name": "ipython",
    "version": 3
   },
   "file_extension": ".py",
   "mimetype": "text/x-python",
   "name": "python",
   "nbconvert_exporter": "python",
   "pygments_lexer": "ipython3",
   "version": "3.7.6"
  },
  "pycharm": {
   "stem_cell": {
    "cell_type": "raw",
    "metadata": {
     "collapsed": false
    },
    "source": []
   }
  },
  "toc": {
   "base_numbering": 1,
   "nav_menu": {},
   "number_sections": true,
   "sideBar": true,
   "skip_h1_title": false,
   "title_cell": "Table of Contents",
   "title_sidebar": "Contents",
   "toc_cell": false,
   "toc_position": {
    "height": "calc(100% - 180px)",
    "left": "10px",
    "top": "150px",
    "width": "304.45px"
   },
   "toc_section_display": true,
   "toc_window_display": true
  },
  "varInspector": {
   "cols": {
    "lenName": 16,
    "lenType": 16,
    "lenVar": 40
   },
   "kernels_config": {
    "python": {
     "delete_cmd_postfix": "",
     "delete_cmd_prefix": "del ",
     "library": "var_list.py",
     "varRefreshCmd": "print(var_dic_list())"
    },
    "r": {
     "delete_cmd_postfix": ") ",
     "delete_cmd_prefix": "rm(",
     "library": "var_list.r",
     "varRefreshCmd": "cat(var_dic_list()) "
    }
   },
   "types_to_exclude": [
    "module",
    "function",
    "builtin_function_or_method",
    "instance",
    "_Feature"
   ],
   "window_display": false
  }
 },
 "nbformat": 4,
 "nbformat_minor": 2
}
