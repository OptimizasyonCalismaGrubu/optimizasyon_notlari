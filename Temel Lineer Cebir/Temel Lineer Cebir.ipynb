{
 "cells": [
  {
   "cell_type": "code",
   "execution_count": 3,
   "metadata": {
    "ExecuteTime": {
     "end_time": "2020-03-08T12:34:41.427557Z",
     "start_time": "2020-03-08T12:34:39.613789Z"
    },
    "pycharm": {
     "is_executing": false
    }
   },
   "outputs": [],
   "source": [
    "import pandas as pd\n",
    "import numpy as np\n",
    "import matplotlib.pyplot as plt"
   ]
  },
  {
   "cell_type": "code",
   "execution_count": 92,
   "metadata": {
    "ExecuteTime": {
     "end_time": "2020-02-15T14:26:37.063017Z",
     "start_time": "2020-02-15T14:26:37.053993Z"
    },
    "pycharm": {
     "is_executing": false
    }
   },
   "outputs": [],
   "source": [
    "v1=[1,3]"
   ]
  },
  {
   "cell_type": "code",
   "execution_count": 93,
   "metadata": {
    "ExecuteTime": {
     "end_time": "2020-02-15T14:26:37.075083Z",
     "start_time": "2020-02-15T14:26:37.064020Z"
    },
    "pycharm": {
     "is_executing": false
    }
   },
   "outputs": [],
   "source": [
    "v2=[2,4]"
   ]
  },
  {
   "cell_type": "code",
   "execution_count": 94,
   "metadata": {
    "ExecuteTime": {
     "end_time": "2020-02-15T14:26:37.087114Z",
     "start_time": "2020-02-15T14:26:37.076051Z"
    },
    "pycharm": {
     "is_executing": false
    }
   },
   "outputs": [],
   "source": [
    "matrix=[v1,v2]"
   ]
  },
  {
   "cell_type": "code",
   "execution_count": 95,
   "metadata": {
    "ExecuteTime": {
     "end_time": "2020-02-15T14:26:37.102190Z",
     "start_time": "2020-02-15T14:26:37.088082Z"
    },
    "pycharm": {
     "is_executing": false
    }
   },
   "outputs": [
    {
     "data": {
      "text/plain": [
       "[[1, 3], [2, 4]]"
      ]
     },
     "execution_count": 95,
     "metadata": {},
     "output_type": "execute_result"
    }
   ],
   "source": [
    "matrix"
   ]
  },
  {
   "cell_type": "code",
   "execution_count": 96,
   "metadata": {
    "ExecuteTime": {
     "end_time": "2020-02-15T14:26:37.115260Z",
     "start_time": "2020-02-15T14:26:37.103670Z"
    },
    "pycharm": {
     "is_executing": false
    }
   },
   "outputs": [
    {
     "data": {
      "text/plain": [
       "(2, 2)"
      ]
     },
     "execution_count": 96,
     "metadata": {},
     "output_type": "execute_result"
    }
   ],
   "source": [
    "np.array(matrix).shape"
   ]
  },
  {
   "cell_type": "code",
   "execution_count": 97,
   "metadata": {
    "ExecuteTime": {
     "end_time": "2020-02-15T14:26:37.128262Z",
     "start_time": "2020-02-15T14:26:37.116228Z"
    },
    "lines_to_next_cell": 2,
    "pycharm": {
     "is_executing": false
    }
   },
   "outputs": [
    {
     "data": {
      "text/html": [
       "<div>\n",
       "<style scoped>\n",
       "    .dataframe tbody tr th:only-of-type {\n",
       "        vertical-align: middle;\n",
       "    }\n",
       "\n",
       "    .dataframe tbody tr th {\n",
       "        vertical-align: top;\n",
       "    }\n",
       "\n",
       "    .dataframe thead th {\n",
       "        text-align: right;\n",
       "    }\n",
       "</style>\n",
       "<table border=\"1\" class=\"dataframe\">\n",
       "  <thead>\n",
       "    <tr style=\"text-align: right;\">\n",
       "      <th></th>\n",
       "      <th>0</th>\n",
       "      <th>1</th>\n",
       "    </tr>\n",
       "  </thead>\n",
       "  <tbody>\n",
       "    <tr>\n",
       "      <th>0</th>\n",
       "      <td>1</td>\n",
       "      <td>3</td>\n",
       "    </tr>\n",
       "    <tr>\n",
       "      <th>1</th>\n",
       "      <td>2</td>\n",
       "      <td>4</td>\n",
       "    </tr>\n",
       "  </tbody>\n",
       "</table>\n",
       "</div>"
      ],
      "text/plain": [
       "   0  1\n",
       "0  1  3\n",
       "1  2  4"
      ]
     },
     "execution_count": 97,
     "metadata": {},
     "output_type": "execute_result"
    }
   ],
   "source": [
    "pd.DataFrame(np.array(matrix) )"
   ]
  },
  {
   "cell_type": "markdown",
   "metadata": {},
   "source": [
    "#  Matris ve Vektör\n"
   ]
  },
  {
   "cell_type": "code",
   "execution_count": 98,
   "metadata": {
    "ExecuteTime": {
     "end_time": "2020-02-15T14:26:37.138289Z",
     "start_time": "2020-02-15T14:26:37.130265Z"
    },
    "pycharm": {
     "is_executing": false
    }
   },
   "outputs": [
    {
     "data": {
      "text/plain": [
       "1"
      ]
     },
     "execution_count": 98,
     "metadata": {},
     "output_type": "execute_result"
    }
   ],
   "source": [
    "1 #Scalar"
   ]
  },
  {
   "cell_type": "code",
   "execution_count": 99,
   "metadata": {
    "ExecuteTime": {
     "end_time": "2020-02-15T14:26:37.148313Z",
     "start_time": "2020-02-15T14:26:37.140293Z"
    },
    "pycharm": {
     "is_executing": false
    }
   },
   "outputs": [
    {
     "data": {
      "text/plain": [
       "[1]"
      ]
     },
     "execution_count": 99,
     "metadata": {},
     "output_type": "execute_result"
    }
   ],
   "source": [
    "[1] # Vektör"
   ]
  },
  {
   "cell_type": "code",
   "execution_count": 100,
   "metadata": {
    "ExecuteTime": {
     "end_time": "2020-02-15T14:26:37.158341Z",
     "start_time": "2020-02-15T14:26:37.149315Z"
    },
    "pycharm": {
     "is_executing": false
    }
   },
   "outputs": [
    {
     "data": {
      "text/plain": [
       "[1, 1]"
      ]
     },
     "execution_count": 100,
     "metadata": {},
     "output_type": "execute_result"
    }
   ],
   "source": [
    "[1,1] # Vektör 1,2"
   ]
  },
  {
   "cell_type": "code",
   "execution_count": 101,
   "metadata": {
    "ExecuteTime": {
     "end_time": "2020-02-15T14:26:37.168367Z",
     "start_time": "2020-02-15T14:26:37.159343Z"
    },
    "pycharm": {
     "is_executing": false
    }
   },
   "outputs": [
    {
     "data": {
      "text/plain": [
       "[[1, 1], [1, 1]]"
      ]
     },
     "execution_count": 101,
     "metadata": {},
     "output_type": "execute_result"
    }
   ],
   "source": [
    "[[1,1],[1,1]] # Matris 2,2"
   ]
  },
  {
   "cell_type": "code",
   "execution_count": 102,
   "metadata": {
    "ExecuteTime": {
     "end_time": "2020-02-15T14:26:37.176388Z",
     "start_time": "2020-02-15T14:26:37.169369Z"
    },
    "lines_to_next_cell": 2,
    "pycharm": {
     "is_executing": false
    }
   },
   "outputs": [],
   "source": [
    "a00=1;a01=0;a10=7;a11=3;a20=7;a21=3"
   ]
  },
  {
   "cell_type": "code",
   "execution_count": 103,
   "metadata": {
    "ExecuteTime": {
     "end_time": "2020-02-15T14:26:37.187441Z",
     "start_time": "2020-02-15T14:26:37.177389Z"
    },
    "pycharm": {
     "is_executing": false
    }
   },
   "outputs": [],
   "source": [
    "A=np.array([[a00,a01],[a10,a11],[a20,a21]])"
   ]
  },
  {
   "cell_type": "code",
   "execution_count": 104,
   "metadata": {
    "ExecuteTime": {
     "end_time": "2020-02-15T14:26:37.199977Z",
     "start_time": "2020-02-15T14:26:37.188419Z"
    },
    "pycharm": {
     "is_executing": false
    }
   },
   "outputs": [
    {
     "data": {
      "text/html": [
       "<div>\n",
       "<style scoped>\n",
       "    .dataframe tbody tr th:only-of-type {\n",
       "        vertical-align: middle;\n",
       "    }\n",
       "\n",
       "    .dataframe tbody tr th {\n",
       "        vertical-align: top;\n",
       "    }\n",
       "\n",
       "    .dataframe thead th {\n",
       "        text-align: right;\n",
       "    }\n",
       "</style>\n",
       "<table border=\"1\" class=\"dataframe\">\n",
       "  <thead>\n",
       "    <tr style=\"text-align: right;\">\n",
       "      <th></th>\n",
       "      <th>0</th>\n",
       "      <th>1</th>\n",
       "    </tr>\n",
       "  </thead>\n",
       "  <tbody>\n",
       "    <tr>\n",
       "      <th>0</th>\n",
       "      <td>1</td>\n",
       "      <td>0</td>\n",
       "    </tr>\n",
       "    <tr>\n",
       "      <th>1</th>\n",
       "      <td>7</td>\n",
       "      <td>3</td>\n",
       "    </tr>\n",
       "    <tr>\n",
       "      <th>2</th>\n",
       "      <td>7</td>\n",
       "      <td>3</td>\n",
       "    </tr>\n",
       "  </tbody>\n",
       "</table>\n",
       "</div>"
      ],
      "text/plain": [
       "   0  1\n",
       "0  1  0\n",
       "1  7  3\n",
       "2  7  3"
      ]
     },
     "execution_count": 104,
     "metadata": {},
     "output_type": "execute_result"
    }
   ],
   "source": [
    "pd.DataFrame(A)"
   ]
  },
  {
   "cell_type": "code",
   "execution_count": 105,
   "metadata": {
    "ExecuteTime": {
     "end_time": "2020-02-15T14:26:37.209504Z",
     "start_time": "2020-02-15T14:26:37.200979Z"
    },
    "pycharm": {
     "is_executing": false
    }
   },
   "outputs": [
    {
     "data": {
      "text/plain": [
       "2"
      ]
     },
     "execution_count": 105,
     "metadata": {},
     "output_type": "execute_result"
    }
   ],
   "source": [
    "A.shape[1]"
   ]
  },
  {
   "cell_type": "code",
   "execution_count": 106,
   "metadata": {
    "ExecuteTime": {
     "end_time": "2020-02-15T14:26:37.218528Z",
     "start_time": "2020-02-15T14:26:37.210506Z"
    },
    "pycharm": {
     "is_executing": false
    }
   },
   "outputs": [
    {
     "data": {
      "text/plain": [
       "3"
      ]
     },
     "execution_count": 106,
     "metadata": {},
     "output_type": "execute_result"
    }
   ],
   "source": [
    "A[1][1]"
   ]
  },
  {
   "cell_type": "code",
   "execution_count": 107,
   "metadata": {
    "ExecuteTime": {
     "end_time": "2020-02-15T14:26:37.227552Z",
     "start_time": "2020-02-15T14:26:37.219530Z"
    },
    "pycharm": {
     "is_executing": false
    }
   },
   "outputs": [],
   "source": [
    "A=np.array([1,2])"
   ]
  },
  {
   "cell_type": "code",
   "execution_count": 108,
   "metadata": {
    "ExecuteTime": {
     "end_time": "2020-02-15T14:26:37.238583Z",
     "start_time": "2020-02-15T14:26:37.228554Z"
    },
    "pycharm": {
     "is_executing": false
    }
   },
   "outputs": [
    {
     "data": {
      "text/plain": [
       "array([1, 2])"
      ]
     },
     "execution_count": 108,
     "metadata": {},
     "output_type": "execute_result"
    }
   ],
   "source": [
    "A"
   ]
  },
  {
   "cell_type": "code",
   "execution_count": 109,
   "metadata": {
    "ExecuteTime": {
     "end_time": "2020-02-15T14:26:37.248609Z",
     "start_time": "2020-02-15T14:26:37.239583Z"
    },
    "pycharm": {
     "is_executing": false
    }
   },
   "outputs": [
    {
     "data": {
      "text/plain": [
       "(2,)"
      ]
     },
     "execution_count": 109,
     "metadata": {},
     "output_type": "execute_result"
    }
   ],
   "source": [
    "A.shape"
   ]
  },
  {
   "cell_type": "code",
   "execution_count": 110,
   "metadata": {
    "ExecuteTime": {
     "end_time": "2020-02-15T14:26:37.256628Z",
     "start_time": "2020-02-15T14:26:37.249610Z"
    },
    "pycharm": {
     "is_executing": false
    }
   },
   "outputs": [],
   "source": [
    "Satır_Vektor=np.array([1,2,3,34,2])"
   ]
  },
  {
   "cell_type": "code",
   "execution_count": 111,
   "metadata": {
    "ExecuteTime": {
     "end_time": "2020-02-15T14:26:37.265652Z",
     "start_time": "2020-02-15T14:26:37.257630Z"
    },
    "lines_to_next_cell": 2,
    "pycharm": {
     "is_executing": false
    }
   },
   "outputs": [],
   "source": [
    "u=np.array([1,2]);v=np.array([1,-3])\n",
    "w=np.array([-1,-2])"
   ]
  },
  {
   "cell_type": "code",
   "execution_count": 112,
   "metadata": {
    "ExecuteTime": {
     "end_time": "2020-02-15T14:26:37.274675Z",
     "start_time": "2020-02-15T14:26:37.266654Z"
    },
    "pycharm": {
     "is_executing": false
    }
   },
   "outputs": [],
   "source": [
    "u =np.array( [1, 2, 3] )"
   ]
  },
  {
   "cell_type": "code",
   "execution_count": 113,
   "metadata": {
    "ExecuteTime": {
     "end_time": "2020-02-15T14:26:37.284702Z",
     "start_time": "2020-02-15T14:26:37.276681Z"
    },
    "pycharm": {
     "is_executing": false
    }
   },
   "outputs": [],
   "source": [
    "v=  np.array( [2,1,2] )"
   ]
  },
  {
   "cell_type": "code",
   "execution_count": 114,
   "metadata": {
    "ExecuteTime": {
     "end_time": "2020-02-15T14:26:37.294757Z",
     "start_time": "2020-02-15T14:26:37.285704Z"
    },
    "pycharm": {
     "is_executing": false
    }
   },
   "outputs": [
    {
     "data": {
      "text/plain": [
       "10"
      ]
     },
     "execution_count": 114,
     "metadata": {},
     "output_type": "execute_result"
    }
   ],
   "source": [
    "u.dot(v)"
   ]
  },
  {
   "cell_type": "code",
   "execution_count": 115,
   "metadata": {
    "ExecuteTime": {
     "end_time": "2020-02-15T14:26:37.304258Z",
     "start_time": "2020-02-15T14:26:37.295734Z"
    },
    "pycharm": {
     "is_executing": false
    }
   },
   "outputs": [
    {
     "data": {
      "text/plain": [
       "<function ndarray.view>"
      ]
     },
     "execution_count": 115,
     "metadata": {},
     "output_type": "execute_result"
    }
   ],
   "source": [
    "u.view"
   ]
  },
  {
   "cell_type": "code",
   "execution_count": 116,
   "metadata": {
    "ExecuteTime": {
     "end_time": "2020-02-15T14:26:37.313785Z",
     "start_time": "2020-02-15T14:26:37.305259Z"
    },
    "pycharm": {
     "is_executing": false
    }
   },
   "outputs": [
    {
     "data": {
      "text/plain": [
       "array([3, 3, 5])"
      ]
     },
     "execution_count": 116,
     "metadata": {},
     "output_type": "execute_result"
    }
   ],
   "source": [
    "u+v #matris toplama"
   ]
  },
  {
   "cell_type": "code",
   "execution_count": 117,
   "metadata": {
    "ExecuteTime": {
     "end_time": "2020-02-15T14:26:37.322808Z",
     "start_time": "2020-02-15T14:26:37.314788Z"
    },
    "pycharm": {
     "is_executing": false
    }
   },
   "outputs": [
    {
     "data": {
      "text/plain": [
       "array([3, 3])"
      ]
     },
     "execution_count": 117,
     "metadata": {},
     "output_type": "execute_result"
    }
   ],
   "source": [
    "u=np.array([1,2]);v=np.array([2,1])\n",
    "w=u+v;w"
   ]
  },
  {
   "cell_type": "code",
   "execution_count": 117,
   "metadata": {
    "lines_to_next_cell": 2,
    "pycharm": {
     "is_executing": false
    }
   },
   "outputs": [],
   "source": []
  },
  {
   "cell_type": "code",
   "execution_count": 118,
   "metadata": {
    "ExecuteTime": {
     "end_time": "2020-02-15T14:26:37.330829Z",
     "start_time": "2020-02-15T14:26:37.323837Z"
    },
    "pycharm": {
     "is_executing": false
    }
   },
   "outputs": [],
   "source": [
    "def doğru_parçası(c,u,v):\n",
    "       return c*u + (1 - c)*v"
   ]
  },
  {
   "cell_type": "code",
   "execution_count": 119,
   "metadata": {
    "ExecuteTime": {
     "end_time": "2020-02-15T14:26:37.341859Z",
     "start_time": "2020-02-15T14:26:37.331831Z"
    },
    "lines_to_next_cell": 2,
    "pycharm": {
     "is_executing": false
    }
   },
   "outputs": [
    {
     "data": {
      "text/plain": [
       "array([2, 1])"
      ]
     },
     "execution_count": 119,
     "metadata": {},
     "output_type": "execute_result"
    }
   ],
   "source": [
    "c=0\n",
    "doğru_parçası(c,u,v)"
   ]
  },
  {
   "cell_type": "code",
   "execution_count": 120,
   "metadata": {
    "ExecuteTime": {
     "end_time": "2020-02-15T14:26:37.350882Z",
     "start_time": "2020-02-15T14:26:37.342860Z"
    },
    "lines_to_next_cell": 2,
    "pycharm": {
     "is_executing": false
    }
   },
   "outputs": [
    {
     "data": {
      "text/plain": [
       "array([1, 2])"
      ]
     },
     "execution_count": 120,
     "metadata": {},
     "output_type": "execute_result"
    }
   ],
   "source": [
    "c=1\n",
    "doğru_parçası(c,u,v)"
   ]
  },
  {
   "cell_type": "code",
   "execution_count": 121,
   "metadata": {
    "ExecuteTime": {
     "end_time": "2020-02-15T14:26:37.367928Z",
     "start_time": "2020-02-15T14:26:37.351886Z"
    },
    "pycharm": {
     "is_executing": false
    }
   },
   "outputs": [
    {
     "data": {
      "text/plain": [
       "array([1.5, 1.5])"
      ]
     },
     "execution_count": 121,
     "metadata": {},
     "output_type": "execute_result"
    }
   ],
   "source": [
    "c=0.5\n",
    "doğru_parçası(c,u,v)"
   ]
  },
  {
   "cell_type": "code",
   "execution_count": 122,
   "metadata": {
    "ExecuteTime": {
     "end_time": "2020-02-15T14:26:37.374971Z",
     "start_time": "2020-02-15T14:26:37.368929Z"
    },
    "pycharm": {
     "is_executing": false
    }
   },
   "outputs": [],
   "source": [
    "# Tranpozu, Devrik"
   ]
  },
  {
   "cell_type": "code",
   "execution_count": 123,
   "metadata": {
    "ExecuteTime": {
     "end_time": "2020-02-15T14:26:37.386002Z",
     "start_time": "2020-02-15T14:26:37.375975Z"
    },
    "pycharm": {
     "is_executing": false
    }
   },
   "outputs": [],
   "source": [
    "A=np.array([[a00,a01],[a10,a11],[a20,a21]])"
   ]
  },
  {
   "cell_type": "code",
   "execution_count": 124,
   "metadata": {
    "ExecuteTime": {
     "end_time": "2020-02-15T14:26:37.395001Z",
     "start_time": "2020-02-15T14:26:37.386976Z"
    },
    "pycharm": {
     "is_executing": false
    }
   },
   "outputs": [
    {
     "data": {
      "text/plain": [
       "array([[1, 0],\n",
       "       [7, 3],\n",
       "       [7, 3]])"
      ]
     },
     "execution_count": 124,
     "metadata": {},
     "output_type": "execute_result"
    }
   ],
   "source": [
    "A"
   ]
  },
  {
   "cell_type": "code",
   "execution_count": 125,
   "metadata": {
    "ExecuteTime": {
     "end_time": "2020-02-15T14:26:37.403525Z",
     "start_time": "2020-02-15T14:26:37.396003Z"
    },
    "pycharm": {
     "is_executing": false
    }
   },
   "outputs": [
    {
     "data": {
      "text/plain": [
       "array([[1, 7, 7],\n",
       "       [0, 3, 3]])"
      ]
     },
     "execution_count": 125,
     "metadata": {},
     "output_type": "execute_result"
    }
   ],
   "source": [
    "A.T"
   ]
  },
  {
   "cell_type": "code",
   "execution_count": 126,
   "metadata": {
    "ExecuteTime": {
     "end_time": "2020-02-15T14:26:37.413611Z",
     "start_time": "2020-02-15T14:26:37.404526Z"
    },
    "pycharm": {
     "is_executing": false
    }
   },
   "outputs": [
    {
     "data": {
      "text/plain": [
       "(2, 3)"
      ]
     },
     "execution_count": 126,
     "metadata": {},
     "output_type": "execute_result"
    }
   ],
   "source": [
    "A.transpose().shape"
   ]
  },
  {
   "cell_type": "code",
   "execution_count": 127,
   "metadata": {
    "ExecuteTime": {
     "end_time": "2020-02-15T14:26:37.423635Z",
     "start_time": "2020-02-15T14:26:37.414611Z"
    },
    "pycharm": {
     "is_executing": false
    }
   },
   "outputs": [
    {
     "data": {
      "text/plain": [
       "(3, 2)"
      ]
     },
     "execution_count": 127,
     "metadata": {},
     "output_type": "execute_result"
    }
   ],
   "source": [
    "A.shape"
   ]
  },
  {
   "cell_type": "code",
   "execution_count": 128,
   "metadata": {
    "ExecuteTime": {
     "end_time": "2020-02-15T14:26:37.442684Z",
     "start_time": "2020-02-15T14:26:37.424638Z"
    },
    "pycharm": {
     "is_executing": false
    }
   },
   "outputs": [
    {
     "data": {
      "text/plain": [
       "array([[1, 0],\n",
       "       [7, 3],\n",
       "       [7, 3]])"
      ]
     },
     "execution_count": 128,
     "metadata": {},
     "output_type": "execute_result"
    }
   ],
   "source": [
    "A.T.T"
   ]
  },
  {
   "cell_type": "code",
   "execution_count": 129,
   "metadata": {
    "ExecuteTime": {
     "end_time": "2020-02-15T14:26:37.453741Z",
     "start_time": "2020-02-15T14:26:37.443687Z"
    },
    "pycharm": {
     "is_executing": false
    }
   },
   "outputs": [
    {
     "data": {
      "text/plain": [
       "array([[ 5,  8],\n",
       "       [ 7, 11]])"
      ]
     },
     "execution_count": 129,
     "metadata": {},
     "output_type": "execute_result"
    }
   ],
   "source": [
    "A=np.array([[1,1,2],[2,1,3]])\n",
    "B=np.array([[1,1],[2,3],[1,2]])\n",
    "A.dot(B)"
   ]
  },
  {
   "cell_type": "code",
   "execution_count": 130,
   "metadata": {
    "ExecuteTime": {
     "end_time": "2020-02-15T14:26:37.461762Z",
     "start_time": "2020-02-15T14:26:37.454716Z"
    },
    "pycharm": {
     "is_executing": false
    }
   },
   "outputs": [],
   "source": [
    "def vektörel_çarpım(A,B):\n",
    "    return A.dot(B)"
   ]
  },
  {
   "cell_type": "code",
   "execution_count": 131,
   "metadata": {
    "ExecuteTime": {
     "end_time": "2020-02-15T14:26:37.472796Z",
     "start_time": "2020-02-15T14:26:37.462737Z"
    },
    "pycharm": {
     "is_executing": false
    }
   },
   "outputs": [],
   "source": [
    "A=np.array([[3],[4]]);B=np.array([[1, 2]]);"
   ]
  },
  {
   "cell_type": "code",
   "execution_count": 132,
   "metadata": {
    "ExecuteTime": {
     "end_time": "2020-02-15T14:26:37.482824Z",
     "start_time": "2020-02-15T14:26:37.473766Z"
    },
    "pycharm": {
     "is_executing": false
    }
   },
   "outputs": [
    {
     "data": {
      "text/plain": [
       "array([[3, 6],\n",
       "       [4, 8]])"
      ]
     },
     "execution_count": 132,
     "metadata": {},
     "output_type": "execute_result"
    }
   ],
   "source": [
    "vektörel_çarpım(A,B)"
   ]
  },
  {
   "cell_type": "code",
   "execution_count": 133,
   "metadata": {
    "ExecuteTime": {
     "end_time": "2020-02-15T14:26:37.491814Z",
     "start_time": "2020-02-15T14:26:37.483792Z"
    },
    "pycharm": {
     "is_executing": false
    }
   },
   "outputs": [
    {
     "data": {
      "text/plain": [
       "array([[11]])"
      ]
     },
     "execution_count": 133,
     "metadata": {},
     "output_type": "execute_result"
    }
   ],
   "source": [
    "vektörel_çarpım(B,A)\n",
    "\n",
    " # LEBG"
   ]
  },
  {
   "cell_type": "markdown",
   "metadata": {},
   "source": [
    "![image.png](attachment:image.png)"
   ]
  },
  {
   "cell_type": "raw",
   "metadata": {
    "ExecuteTime": {
     "end_time": "2020-02-01T11:59:35.119751Z",
     "start_time": "2020-02-01T11:59:35.116742Z"
    }
   },
   "source": [
    "class insan(a,b):\n",
    "    adı=a\n",
    "    def gökhanfonksiyonu(c):\n",
    "        def gökhanfonksiyonu2(q):\n",
    "            return a+b\n",
    "    \n",
    "    "
   ]
  },
  {
   "cell_type": "raw",
   "metadata": {
    "ExecuteTime": {
     "end_time": "2020-02-01T12:02:07.818311Z",
     "start_time": "2020-02-01T12:02:07.815303Z"
    }
   },
   "source": [
    "sum()"
   ]
  },
  {
   "cell_type": "raw",
   "metadata": {
    "ExecuteTime": {
     "end_time": "2020-02-01T12:02:27.723020Z",
     "start_time": "2020-02-01T12:02:27.720998Z"
    }
   },
   "source": [
    "sum=\"akaka\""
   ]
  },
  {
   "cell_type": "raw",
   "metadata": {
    "ExecuteTime": {
     "end_time": "2020-02-01T12:02:40.084287Z",
     "start_time": "2020-02-01T12:02:40.076200Z"
    }
   },
   "source": [
    "sum([1,2,34])"
   ]
  },
  {
   "cell_type": "code",
   "execution_count": 134,
   "metadata": {
    "ExecuteTime": {
     "end_time": "2020-02-15T14:26:37.499873Z",
     "start_time": "2020-02-15T14:26:37.494350Z"
    },
    "pycharm": {
     "is_executing": false
    }
   },
   "outputs": [],
   "source": [
    "A=np.array([[1,2],[3,4]]);B=np.array([[1,1],[0,1],[1,2]]);"
   ]
  },
  {
   "cell_type": "code",
   "execution_count": 135,
   "metadata": {
    "ExecuteTime": {
     "end_time": "2020-02-15T14:26:50.789122Z",
     "start_time": "2020-02-15T14:26:50.780064Z"
    },
    "pycharm": {
     "is_executing": false
    }
   },
   "outputs": [
    {
     "ename": "ValueError",
     "evalue": "shapes (2,2) and (3,2) not aligned: 2 (dim 1) != 3 (dim 0)",
     "output_type": "error",
     "traceback": [
      "\u001b[1;31m---------------------------------------------------------------------------\u001b[0m",
      "\u001b[1;31mValueError\u001b[0m                                Traceback (most recent call last)",
      "\u001b[1;32m<ipython-input-135-e9f13f085b41>\u001b[0m in \u001b[0;36m<module>\u001b[1;34m\u001b[0m\n\u001b[1;32m----> 1\u001b[1;33m \u001b[0mvektörel_çarpım\u001b[0m\u001b[1;33m(\u001b[0m\u001b[0mA\u001b[0m\u001b[1;33m,\u001b[0m\u001b[0mB\u001b[0m\u001b[1;33m)\u001b[0m \u001b[1;31m# Vektörel çarpımda ilk matrisin sütün sayısı ile ikinci matrisin satır sayısı aynı olmalı\u001b[0m\u001b[1;33m\u001b[0m\u001b[1;33m\u001b[0m\u001b[0m\n\u001b[0m\u001b[0;32m      2\u001b[0m \u001b[1;33m\u001b[0m\u001b[0m\n",
      "\u001b[1;32m<ipython-input-130-a3bf5581a736>\u001b[0m in \u001b[0;36mvektörel_çarpım\u001b[1;34m(A, B)\u001b[0m\n\u001b[0;32m      1\u001b[0m \u001b[1;32mdef\u001b[0m \u001b[0mvektörel_çarpım\u001b[0m\u001b[1;33m(\u001b[0m\u001b[0mA\u001b[0m\u001b[1;33m,\u001b[0m\u001b[0mB\u001b[0m\u001b[1;33m)\u001b[0m\u001b[1;33m:\u001b[0m\u001b[1;33m\u001b[0m\u001b[1;33m\u001b[0m\u001b[0m\n\u001b[1;32m----> 2\u001b[1;33m     \u001b[1;32mreturn\u001b[0m \u001b[0mA\u001b[0m\u001b[1;33m.\u001b[0m\u001b[0mdot\u001b[0m\u001b[1;33m(\u001b[0m\u001b[0mB\u001b[0m\u001b[1;33m)\u001b[0m\u001b[1;33m\u001b[0m\u001b[1;33m\u001b[0m\u001b[0m\n\u001b[0m\u001b[0;32m      3\u001b[0m \u001b[1;33m\u001b[0m\u001b[0m\n",
      "\u001b[1;31mValueError\u001b[0m: shapes (2,2) and (3,2) not aligned: 2 (dim 1) != 3 (dim 0)"
     ]
    }
   ],
   "source": [
    "vektörel_çarpım(A,B) # Vektörel çarpımda ilk matrisin sütün sayısı ile ikinci matrisin satır sayısı aynı olmalı"
   ]
  },
  {
   "cell_type": "code",
   "execution_count": null,
   "metadata": {
    "ExecuteTime": {
     "end_time": "2020-02-15T14:27:05.720438Z",
     "start_time": "2020-02-15T14:27:05.716412Z"
    },
    "pycharm": {
     "is_executing": false
    }
   },
   "outputs": [],
   "source": [
    "vektörel_çarpım(B,A)"
   ]
  },
  {
   "cell_type": "code",
   "execution_count": null,
   "metadata": {
    "ExecuteTime": {
     "end_time": "2020-02-15T14:27:06.754890Z",
     "start_time": "2020-02-15T14:27:06.750879Z"
    },
    "pycharm": {
     "is_executing": false
    }
   },
   "outputs": [],
   "source": [
    "PremiumUnleaded=np.array([3/4,1/4])\n",
    "RegularUnleaded=np.array([2/3,1/3])\n",
    "RegularLeaded=np.array([1/4,3/4])"
   ]
  },
  {
   "cell_type": "code",
   "execution_count": null,
   "metadata": {
    "ExecuteTime": {
     "end_time": "2020-02-15T14:27:07.140559Z",
     "start_time": "2020-02-15T14:27:07.137529Z"
    },
    "pycharm": {
     "is_executing": false
    }
   },
   "outputs": [],
   "source": [
    "mainTable=np.array([PremiumUnleaded,RegularUnleaded,RegularLeaded])"
   ]
  },
  {
   "cell_type": "code",
   "execution_count": null,
   "metadata": {
    "ExecuteTime": {
     "end_time": "2020-02-15T14:27:07.583337Z",
     "start_time": "2020-02-15T14:27:07.580363Z"
    },
    "pycharm": {
     "is_executing": false
    }
   },
   "outputs": [],
   "source": [
    "mainDataFrame=pd.DataFrame(mainTable,columns=(\"crude1\",\"crude2\"))"
   ]
  },
  {
   "cell_type": "code",
   "execution_count": null,
   "metadata": {
    "ExecuteTime": {
     "end_time": "2020-02-15T14:27:07.982907Z",
     "start_time": "2020-02-15T14:27:07.979898Z"
    },
    "pycharm": {
     "is_executing": false
    }
   },
   "outputs": [],
   "source": [
    "mainDataFrame.index=[\"PremiumUnleaded\",\"RegularUnleaded\",\"RegularLeaded\"]"
   ]
  },
  {
   "cell_type": "code",
   "execution_count": null,
   "metadata": {
    "ExecuteTime": {
     "end_time": "2020-02-15T14:27:08.758559Z",
     "start_time": "2020-02-15T14:27:08.752576Z"
    },
    "pycharm": {
     "is_executing": false
    }
   },
   "outputs": [],
   "source": [
    "mainDataFrame"
   ]
  },
  {
   "cell_type": "code",
   "execution_count": null,
   "metadata": {
    "ExecuteTime": {
     "end_time": "2020-02-15T14:27:09.101869Z",
     "start_time": "2020-02-15T14:27:09.098901Z"
    },
    "pycharm": {
     "is_executing": false
    }
   },
   "outputs": [],
   "source": [
    "Stock=np.array([10,6,5])"
   ]
  },
  {
   "cell_type": "code",
   "execution_count": null,
   "metadata": {
    "ExecuteTime": {
     "end_time": "2020-02-15T14:27:09.444662Z",
     "start_time": "2020-02-15T14:27:09.440686Z"
    },
    "pycharm": {
     "is_executing": false
    }
   },
   "outputs": [],
   "source": [
    "vektörel_çarpım(Stock,mainDataFrame)"
   ]
  },
  {
   "cell_type": "code",
   "execution_count": null,
   "metadata": {
    "ExecuteTime": {
     "end_time": "2020-02-15T14:27:09.691360Z",
     "start_time": "2020-02-15T14:27:09.688353Z"
    },
    "pycharm": {
     "is_executing": false
    }
   },
   "outputs": [],
   "source": [
    "# Kural 1 Satır"
   ]
  },
  {
   "cell_type": "code",
   "execution_count": null,
   "metadata": {
    "ExecuteTime": {
     "end_time": "2020-02-15T14:27:09.857091Z",
     "start_time": "2020-02-15T14:27:09.854115Z"
    },
    "pycharm": {
     "is_executing": false
    }
   },
   "outputs": [],
   "source": [
    "A=np.array([[1,1,2],[2,1,3]]);B=np.array([[1,1],[2,3],[1,2]])"
   ]
  },
  {
   "cell_type": "code",
   "execution_count": null,
   "metadata": {
    "ExecuteTime": {
     "end_time": "2020-02-15T14:27:10.041687Z",
     "start_time": "2020-02-15T14:27:10.037677Z"
    },
    "pycharm": {
     "is_executing": false
    }
   },
   "outputs": [],
   "source": [
    "A[1]"
   ]
  },
  {
   "cell_type": "code",
   "execution_count": null,
   "metadata": {
    "ExecuteTime": {
     "end_time": "2020-02-15T14:27:10.203212Z",
     "start_time": "2020-02-15T14:27:10.199233Z"
    },
    "pycharm": {
     "is_executing": false
    }
   },
   "outputs": [],
   "source": [
    "vektörel_çarpım(A,B)"
   ]
  },
  {
   "cell_type": "code",
   "execution_count": null,
   "metadata": {
    "ExecuteTime": {
     "end_time": "2020-02-15T14:27:10.382855Z",
     "start_time": "2020-02-15T14:27:10.378820Z"
    },
    "pycharm": {
     "is_executing": false
    }
   },
   "outputs": [],
   "source": [
    "vektörel_çarpım(A,B)[0]"
   ]
  },
  {
   "cell_type": "code",
   "execution_count": null,
   "metadata": {
    "ExecuteTime": {
     "end_time": "2020-02-15T14:27:10.548473Z",
     "start_time": "2020-02-15T14:27:10.545465Z"
    },
    "pycharm": {
     "is_executing": false
    },
    "scrolled": true
   },
   "outputs": [],
   "source": [
    "vektörel_çarpım(A[0],B)"
   ]
  },
  {
   "cell_type": "code",
   "execution_count": null,
   "metadata": {
    "ExecuteTime": {
     "end_time": "2020-02-15T14:27:10.704545Z",
     "start_time": "2020-02-15T14:27:10.702539Z"
    },
    "pycharm": {
     "is_executing": false
    }
   },
   "outputs": [],
   "source": [
    "# Kural 2 Sütün"
   ]
  },
  {
   "cell_type": "code",
   "execution_count": null,
   "metadata": {
    "ExecuteTime": {
     "end_time": "2020-02-15T14:27:10.863277Z",
     "start_time": "2020-02-15T14:27:10.860293Z"
    },
    "pycharm": {
     "is_executing": false
    }
   },
   "outputs": [],
   "source": [
    "vektörel_çarpım(A,B[:,0])"
   ]
  },
  {
   "cell_type": "code",
   "execution_count": null,
   "metadata": {
    "ExecuteTime": {
     "end_time": "2020-02-15T14:27:10.967100Z",
     "start_time": "2020-02-15T14:27:10.963088Z"
    },
    "pycharm": {
     "is_executing": false
    }
   },
   "outputs": [],
   "source": [
    "vektörel_çarpım(A,B)[:,0]"
   ]
  },
  {
   "cell_type": "code",
   "execution_count": null,
   "metadata": {
    "ExecuteTime": {
     "end_time": "2020-02-15T14:27:11.230696Z",
     "start_time": "2020-02-15T14:27:11.227688Z"
    },
    "pycharm": {
     "is_executing": false
    }
   },
   "outputs": [],
   "source": [
    "# Geçişkenlik Kuralı"
   ]
  },
  {
   "cell_type": "code",
   "execution_count": null,
   "metadata": {
    "ExecuteTime": {
     "end_time": "2020-02-15T14:27:11.440883Z",
     "start_time": "2020-02-15T14:27:11.437875Z"
    },
    "pycharm": {
     "is_executing": false
    }
   },
   "outputs": [],
   "source": [
    "A=np.array([1,2]) ; B=np.array([[2,3],[4,5]]);C=np.array([[2],[1]])"
   ]
  },
  {
   "cell_type": "code",
   "execution_count": null,
   "metadata": {
    "ExecuteTime": {
     "end_time": "2020-02-15T14:27:11.781090Z",
     "start_time": "2020-02-15T14:27:11.777613Z"
    },
    "pycharm": {
     "is_executing": false
    }
   },
   "outputs": [],
   "source": [
    "A"
   ]
  },
  {
   "cell_type": "code",
   "execution_count": null,
   "metadata": {
    "ExecuteTime": {
     "end_time": "2020-02-15T14:27:11.922436Z",
     "start_time": "2020-02-15T14:27:11.918459Z"
    },
    "pycharm": {
     "is_executing": false
    }
   },
   "outputs": [],
   "source": [
    "B"
   ]
  },
  {
   "cell_type": "code",
   "execution_count": null,
   "metadata": {
    "ExecuteTime": {
     "end_time": "2020-02-15T14:27:12.096671Z",
     "start_time": "2020-02-15T14:27:12.092661Z"
    },
    "pycharm": {
     "is_executing": false
    }
   },
   "outputs": [],
   "source": [
    "C"
   ]
  },
  {
   "cell_type": "code",
   "execution_count": null,
   "metadata": {
    "ExecuteTime": {
     "end_time": "2020-02-15T14:27:12.284735Z",
     "start_time": "2020-02-15T14:27:12.281258Z"
    },
    "pycharm": {
     "is_executing": false
    }
   },
   "outputs": [],
   "source": [
    "vektörel_çarpım(vektörel_çarpım(A,B),C)"
   ]
  },
  {
   "cell_type": "code",
   "execution_count": null,
   "metadata": {
    "ExecuteTime": {
     "end_time": "2020-02-15T14:27:12.473065Z",
     "start_time": "2020-02-15T14:27:12.470062Z"
    },
    "pycharm": {
     "is_executing": false
    }
   },
   "outputs": [],
   "source": [
    "vektörel_çarpım(A,vektörel_çarpım(B,C))"
   ]
  },
  {
   "cell_type": "code",
   "execution_count": null,
   "metadata": {
    "ExecuteTime": {
     "end_time": "2020-02-15T14:27:12.668776Z",
     "start_time": "2020-02-15T14:27:12.664790Z"
    },
    "pycharm": {
     "is_executing": false
    }
   },
   "outputs": [],
   "source": [
    "vektörel_çarpım(vektörel_çarpım(A,B),C)==vektörel_çarpım(A,vektörel_çarpım(B,C))"
   ]
  },
  {
   "cell_type": "markdown",
   "metadata": {},
   "source": [
    "## Problemler\n"
   ]
  },
  {
   "cell_type": "markdown",
   "metadata": {
    "ExecuteTime": {
     "end_time": "2020-02-15T14:18:39.696960Z",
     "start_time": "2020-02-15T14:18:39.694955Z"
    }
   },
   "source": [
    "\n",
    "### 1. Problem"
   ]
  },
  {
   "cell_type": "code",
   "execution_count": null,
   "metadata": {
    "ExecuteTime": {
     "end_time": "2020-02-15T14:27:13.222675Z",
     "start_time": "2020-02-15T14:27:13.219658Z"
    },
    "pycharm": {
     "is_executing": false
    }
   },
   "outputs": [],
   "source": [
    "\n",
    "A=np.array([[1,2,3],[4,5,6],[7,8,9]]);B=np.array([[1,2],[0,-1],[1,2]])"
   ]
  },
  {
   "cell_type": "code",
   "execution_count": null,
   "metadata": {
    "ExecuteTime": {
     "end_time": "2020-02-15T14:31:58.281961Z",
     "start_time": "2020-02-15T14:31:58.278986Z"
    },
    "lines_to_next_cell": 2,
    "pycharm": {
     "is_executing": false
    }
   },
   "outputs": [],
   "source": [
    "\n",
    "print(\"A :\\n\", A,\"\\n\")\n"
   ]
  },
  {
   "cell_type": "code",
   "execution_count": null,
   "metadata": {
    "ExecuteTime": {
     "end_time": "2020-02-15T14:32:01.850900Z",
     "start_time": "2020-02-15T14:32:01.847892Z"
    },
    "lines_to_next_cell": 2,
    "pycharm": {
     "is_executing": false
    }
   },
   "outputs": [],
   "source": [
    "print(\"B :\\n\", B,\"\\n\")"
   ]
  },
  {
   "cell_type": "code",
   "execution_count": null,
   "metadata": {
    "ExecuteTime": {
     "end_time": "2020-02-15T14:32:05.297063Z",
     "start_time": "2020-02-15T14:32:05.294092Z"
    },
    "lines_to_next_cell": 2,
    "pycharm": {
     "is_executing": false
    }
   },
   "outputs": [],
   "source": [
    " \n",
    "print(\"-A :\\n\", A*-1,\"\\n\")\n"
   ]
  },
  {
   "cell_type": "code",
   "execution_count": null,
   "metadata": {
    "ExecuteTime": {
     "end_time": "2020-02-15T14:32:09.162104Z",
     "start_time": "2020-02-15T14:32:09.157092Z"
    },
    "lines_to_next_cell": 2,
    "pycharm": {
     "is_executing": false
    }
   },
   "outputs": [],
   "source": [
    "print(\"3A :\\n\", A*3,\"\\n\")"
   ]
  },
  {
   "cell_type": "code",
   "execution_count": null,
   "metadata": {
    "ExecuteTime": {
     "end_time": "2020-02-15T14:35:02.251530Z",
     "start_time": "2020-02-15T14:35:02.244525Z"
    },
    "lines_to_next_cell": 2,
    "pycharm": {
     "is_executing": false
    }
   },
   "outputs": [],
   "source": [
    "\n",
    "print(\"A+2B : \\n\",A+2*B)"
   ]
  },
  {
   "cell_type": "code",
   "execution_count": null,
   "metadata": {
    "ExecuteTime": {
     "end_time": "2020-02-15T14:32:15.397780Z",
     "start_time": "2020-02-15T14:32:15.394773Z"
    },
    "lines_to_next_cell": 2,
    "pycharm": {
     "is_executing": false
    }
   },
   "outputs": [],
   "source": [
    "\n",
    "print(\"A transpose : \\n\" , A.T  )"
   ]
  },
  {
   "cell_type": "code",
   "execution_count": null,
   "metadata": {
    "ExecuteTime": {
     "end_time": "2020-02-15T14:32:21.085452Z",
     "start_time": "2020-02-15T14:32:21.081408Z"
    },
    "pycharm": {
     "is_executing": false
    }
   },
   "outputs": [],
   "source": [
    "      \n",
    "print(\"B transpose : \\n\" , B.T  )"
   ]
  },
  {
   "cell_type": "code",
   "execution_count": null,
   "metadata": {
    "ExecuteTime": {
     "end_time": "2020-02-15T14:32:45.185103Z",
     "start_time": "2020-02-15T14:32:45.181092Z"
    },
    "pycharm": {
     "is_executing": false
    }
   },
   "outputs": [],
   "source": [
    "print(\"AB transpose : \\n\" , A.dot(B)  )"
   ]
  },
  {
   "cell_type": "code",
   "execution_count": null,
   "metadata": {
    "ExecuteTime": {
     "end_time": "2020-02-15T14:33:01.365672Z",
     "start_time": "2020-02-15T14:33:01.359122Z"
    },
    "pycharm": {
     "is_executing": false
    }
   },
   "outputs": [],
   "source": [
    "print(\"BA transpose : \\n\" , B.dot(A)  )"
   ]
  },
  {
   "cell_type": "markdown",
   "metadata": {
    "ExecuteTime": {
     "end_time": "2020-02-15T14:35:25.960280Z",
     "start_time": "2020-02-15T14:35:25.957272Z"
    }
   },
   "source": [
    "### 2. Problem"
   ]
  },
  {
   "cell_type": "code",
   "execution_count": null,
   "metadata": {
    "ExecuteTime": {
     "end_time": "2020-02-15T14:41:10.829840Z",
     "start_time": "2020-02-15T14:41:10.826830Z"
    },
    "pycharm": {
     "is_executing": false
    }
   },
   "outputs": [],
   "source": [
    "Bira1=[.5,.3,.2]\n",
    "Bira2=[0,.7,.3]\n",
    "Bira3=[.1,.3,.6]\n",
    "Bira_dict={\"Bira1\":Bira1\n",
    "          ,\"Bira2\":Bira2,\n",
    "          \"Bira3\":Bira3}"
   ]
  },
  {
   "cell_type": "code",
   "execution_count": null,
   "metadata": {
    "ExecuteTime": {
     "end_time": "2020-02-15T14:41:11.115296Z",
     "start_time": "2020-02-15T14:41:11.112315Z"
    },
    "pycharm": {
     "is_executing": false
    }
   },
   "outputs": [],
   "source": [
    "Bira_df=pd.DataFrame(Bira_dict,index=[\"Bira1\",\"Bira2\",\"Bira3\"])"
   ]
  },
  {
   "cell_type": "code",
   "execution_count": null,
   "metadata": {
    "ExecuteTime": {
     "end_time": "2020-02-15T14:41:11.485019Z",
     "start_time": "2020-02-15T14:41:11.477990Z"
    },
    "pycharm": {
     "is_executing": false
    }
   },
   "outputs": [],
   "source": [
    "Bira_df"
   ]
  },
  {
   "cell_type": "code",
   "execution_count": null,
   "metadata": {
    "ExecuteTime": {
     "end_time": "2020-02-15T14:41:13.902530Z",
     "start_time": "2020-02-15T14:41:13.898550Z"
    },
    "pycharm": {
     "is_executing": false
    }
   },
   "outputs": [],
   "source": [
    "x1=pd.DataFrame({\"t1\":[0,10,90]},index=[\"Bira1\",\"Bira2\",\"Bira3\"])"
   ]
  },
  {
   "cell_type": "code",
   "execution_count": null,
   "metadata": {
    "ExecuteTime": {
     "end_time": "2020-02-15T14:41:14.155279Z",
     "start_time": "2020-02-15T14:41:14.149731Z"
    },
    "pycharm": {
     "is_executing": false
    }
   },
   "outputs": [],
   "source": [
    "x1"
   ]
  },
  {
   "cell_type": "code",
   "execution_count": null,
   "metadata": {
    "ExecuteTime": {
     "end_time": "2020-02-15T14:41:55.005021Z",
     "start_time": "2020-02-15T14:41:55.002012Z"
    },
    "pycharm": {
     "is_executing": false
    }
   },
   "outputs": [],
   "source": [
    "Bira_df.shape"
   ]
  },
  {
   "cell_type": "code",
   "execution_count": null,
   "metadata": {
    "ExecuteTime": {
     "end_time": "2020-02-15T14:41:46.838258Z",
     "start_time": "2020-02-15T14:41:46.835227Z"
    },
    "pycharm": {
     "is_executing": false
    }
   },
   "outputs": [],
   "source": [
    "x1.shape"
   ]
  },
  {
   "cell_type": "code",
   "execution_count": null,
   "metadata": {
    "ExecuteTime": {
     "end_time": "2020-02-15T14:41:24.199069Z",
     "start_time": "2020-02-15T14:41:24.196078Z"
    },
    "pycharm": {
     "is_executing": false
    }
   },
   "outputs": [],
   "source": [
    "y1=Bira_df.dot(x1)"
   ]
  },
  {
   "cell_type": "code",
   "execution_count": null,
   "metadata": {
    "ExecuteTime": {
     "end_time": "2020-02-15T14:41:26.429387Z",
     "start_time": "2020-02-15T14:41:26.423333Z"
    },
    "pycharm": {
     "is_executing": false
    }
   },
   "outputs": [],
   "source": [
    "y1"
   ]
  },
  {
   "cell_type": "markdown",
   "metadata": {},
   "source": [
    "### 3.Problem"
   ]
  },
  {
   "cell_type": "code",
   "execution_count": null,
   "metadata": {
    "ExecuteTime": {
     "end_time": "2020-02-15T14:49:17.744997Z",
     "start_time": "2020-02-15T14:49:17.740022Z"
    },
    "pycharm": {
     "is_executing": false
    }
   },
   "outputs": [],
   "source": [
    "A=np.array([1,2]) ; B=np.array([[2,3],[4,5]]);C=np.array([[2],[1]])\n",
    "vektörel_çarpım(vektörel_çarpım(A,B),C)==vektörel_çarpım(A,vektörel_çarpım(B,C))"
   ]
  },
  {
   "cell_type": "markdown",
   "metadata": {},
   "source": [
    "### 4.Problem"
   ]
  },
  {
   "cell_type": "code",
   "execution_count": null,
   "metadata": {
    "ExecuteTime": {
     "end_time": "2020-02-15T14:51:04.199305Z",
     "start_time": "2020-02-15T14:51:04.192785Z"
    },
    "pycharm": {
     "is_executing": false
    }
   },
   "outputs": [],
   "source": [
    "A=np.array([1,2]) ; B=np.array([[2,3],[4,5]])\n",
    "print(\" (AB)T :\\n\", vektörel_çarpım(A,B).T)\n",
    "print(\" BT*AT :\\n\",vektörel_çarpım(B.T,A.T))\n",
    "vektörel_çarpım(A,B).T==vektörel_çarpım(B.T,A.T)"
   ]
  },
  {
   "cell_type": "markdown",
   "metadata": {},
   "source": [
    "### 5.Problem"
   ]
  },
  {
   "cell_type": "code",
   "execution_count": null,
   "metadata": {
    "ExecuteTime": {
     "end_time": "2020-02-15T14:53:17.855384Z",
     "start_time": "2020-02-15T14:53:17.851356Z"
    },
    "pycharm": {
     "is_executing": false
    }
   },
   "outputs": [],
   "source": [
    "A=np.array([[1,2],[2,1]]);\n",
    "print(\" A : \\n\",A)\n",
    "print(\" A.T : \\n\",A.T)\n",
    "\n",
    "print(\" A==A.T : \\n\",A==A.T  )"
   ]
  },
  {
   "cell_type": "code",
   "execution_count": null,
   "metadata": {
    "ExecuteTime": {
     "end_time": "2020-02-15T14:54:07.819760Z",
     "start_time": "2020-02-15T14:54:07.816780Z"
    },
    "pycharm": {
     "is_executing": false
    }
   },
   "outputs": [],
   "source": [
    "# a \n",
    "print(\"A*A.T simetrik \\n\" , A.dot(A.T)==A.dot(A.T).T)"
   ]
  },
  {
   "cell_type": "code",
   "execution_count": null,
   "metadata": {
    "ExecuteTime": {
     "end_time": "2020-02-15T14:55:06.570650Z",
     "start_time": "2020-02-15T14:55:06.566639Z"
    },
    "pycharm": {
     "is_executing": false
    }
   },
   "outputs": [],
   "source": [
    "# b \n",
    "print(\"A+A.T simetrik \\n\" , (A+A.T)==(A+A.T).T)"
   ]
  },
  {
   "cell_type": "markdown",
   "metadata": {},
   "source": [
    "### 6.Problem"
   ]
  },
  {
   "cell_type": "code",
   "execution_count": null,
   "metadata": {
    "ExecuteTime": {
     "end_time": "2020-02-15T14:55:47.301322Z",
     "start_time": "2020-02-15T14:55:47.298306Z"
    },
    "pycharm": {
     "is_executing": false
    }
   },
   "outputs": [],
   "source": [
    "A=np.array([[1,1],[1,1]]);\n",
    "B=np.array([[2,1],[1,2]]);"
   ]
  },
  {
   "cell_type": "code",
   "execution_count": null,
   "metadata": {
    "ExecuteTime": {
     "end_time": "2020-02-15T14:56:04.309245Z",
     "start_time": "2020-02-15T14:56:04.305234Z"
    },
    "pycharm": {
     "is_executing": false
    }
   },
   "outputs": [],
   "source": [
    "A.shape"
   ]
  },
  {
   "cell_type": "code",
   "execution_count": null,
   "metadata": {
    "ExecuteTime": {
     "end_time": "2020-02-15T14:56:08.100956Z",
     "start_time": "2020-02-15T14:56:08.096944Z"
    },
    "pycharm": {
     "is_executing": false
    }
   },
   "outputs": [],
   "source": [
    "B.shape"
   ]
  },
  {
   "cell_type": "code",
   "execution_count": null,
   "metadata": {
    "ExecuteTime": {
     "end_time": "2020-02-15T14:57:09.697148Z",
     "start_time": "2020-02-15T14:57:09.694140Z"
    },
    "pycharm": {
     "is_executing": false
    }
   },
   "outputs": [],
   "source": [
    "n=A.shape[0]"
   ]
  },
  {
   "cell_type": "code",
   "execution_count": null,
   "metadata": {
    "ExecuteTime": {
     "end_time": "2020-02-15T14:57:12.196252Z",
     "start_time": "2020-02-15T14:57:12.193242Z"
    },
    "pycharm": {
     "is_executing": false
    }
   },
   "outputs": [],
   "source": [
    "n**3 # Gereken çarpma sayısı"
   ]
  },
  {
   "cell_type": "code",
   "execution_count": null,
   "metadata": {
    "ExecuteTime": {
     "end_time": "2020-02-15T14:57:17.100982Z",
     "start_time": "2020-02-15T14:57:17.097005Z"
    },
    "pycharm": {
     "is_executing": false
    }
   },
   "outputs": [],
   "source": [
    "n**3-n**2 # Gereken toplama sayısı"
   ]
  },
  {
   "cell_type": "markdown",
   "metadata": {},
   "source": [
    "### 7.Problem"
   ]
  },
  {
   "cell_type": "code",
   "execution_count": null,
   "metadata": {
    "ExecuteTime": {
     "end_time": "2020-02-15T15:04:42.269674Z",
     "start_time": "2020-02-15T15:04:42.265697Z"
    },
    "pycharm": {
     "is_executing": false
    }
   },
   "outputs": [],
   "source": [
    "def matriks_izi(A):\n",
    "    return np.array([A[i][i] for i in range(len(A))])"
   ]
  },
  {
   "cell_type": "code",
   "execution_count": null,
   "metadata": {
    "ExecuteTime": {
     "end_time": "2020-02-15T15:04:43.671631Z",
     "start_time": "2020-02-15T15:04:43.666610Z"
    },
    "pycharm": {
     "is_executing": false
    }
   },
   "outputs": [],
   "source": [
    "# a\n",
    "matriks_izi(A+B)==(matriks_izi(A)+matriks_izi(B))"
   ]
  },
  {
   "cell_type": "code",
   "execution_count": null,
   "metadata": {
    "ExecuteTime": {
     "end_time": "2020-02-15T15:05:41.867142Z",
     "start_time": "2020-02-15T15:05:41.863162Z"
    },
    "pycharm": {
     "is_executing": false
    }
   },
   "outputs": [],
   "source": [
    "# b\n",
    "matriks_izi(vektörel_çarpım(A,B))  == matriks_izi(vektörel_çarpım(B,A))"
   ]
  },
  {
   "cell_type": "markdown",
   "metadata": {},
   "source": [
    "# Lineer Denklemlerin Matrisleri"
   ]
  },
  {
   "cell_type": "code",
   "execution_count": null,
   "metadata": {
    "ExecuteTime": {
     "end_time": "2020-02-15T15:10:37.280515Z",
     "start_time": "2020-02-15T15:10:37.277533Z"
    },
    "lines_to_next_cell": 2,
    "pycharm": {
     "is_executing": false
    }
   },
   "outputs": [],
   "source": [
    "a11=None;a12=None;a13=None;a21=None;a22=None;a23=None; a31=None;a32=None;a33=None;\n",
    "\n",
    "A=np.array([[a11,a12,a13],\n",
    "[a21,a22,a23],\n",
    "[a31,a32,a33]])"
   ]
  },
  {
   "cell_type": "code",
   "execution_count": null,
   "metadata": {
    "ExecuteTime": {
     "end_time": "2020-02-15T15:10:37.667746Z",
     "start_time": "2020-02-15T15:10:37.663735Z"
    },
    "pycharm": {
     "is_executing": false
    }
   },
   "outputs": [],
   "source": [
    "A"
   ]
  },
  {
   "cell_type": "code",
   "execution_count": null,
   "metadata": {
    "ExecuteTime": {
     "end_time": "2020-02-15T15:10:46.922197Z",
     "start_time": "2020-02-15T15:10:46.919223Z"
    },
    "pycharm": {
     "is_executing": false
    }
   },
   "outputs": [],
   "source": [
    "x11=None;x12=None;x13=None;x21=None;x22=None;x23=None; x31=None;x32=None;x33=None;\n",
    "\n",
    "X=np.array([[x11,x12,x13],\n",
    "[x21,x22,x23],\n",
    "[x31,x32,x33]])"
   ]
  },
  {
   "cell_type": "code",
   "execution_count": null,
   "metadata": {
    "ExecuteTime": {
     "end_time": "2020-02-15T15:11:16.168058Z",
     "start_time": "2020-02-15T15:11:16.165050Z"
    },
    "pycharm": {
     "is_executing": false
    }
   },
   "outputs": [],
   "source": [
    "b1=None;b2=None;b3=None;\n",
    "B=np.array([b1,b2,b3])"
   ]
  },
  {
   "cell_type": "code",
   "execution_count": null,
   "metadata": {
    "ExecuteTime": {
     "end_time": "2020-02-15T15:11:17.582189Z",
     "start_time": "2020-02-15T15:11:17.578180Z"
    },
    "pycharm": {
     "is_executing": false
    }
   },
   "outputs": [],
   "source": [
    "B"
   ]
  },
  {
   "cell_type": "code",
   "execution_count": null,
   "metadata": {
    "ExecuteTime": {
     "end_time": "2020-02-15T15:11:34.737134Z",
     "start_time": "2020-02-15T15:11:34.730149Z"
    },
    "pycharm": {
     "is_executing": false
    }
   },
   "outputs": [],
   "source": [
    "A.dot(X)==B"
   ]
  },
  {
   "cell_type": "markdown",
   "metadata": {
    "ExecuteTime": {
     "end_time": "2020-02-15T15:12:20.015593Z",
     "start_time": "2020-02-15T15:12:20.013588Z"
    }
   },
   "source": [
    "<b><i> X değişken , A ve B sabittir. A*X=B </b></i> "
   ]
  },
  {
   "cell_type": "markdown",
   "metadata": {},
   "source": [
    "<b> Örnek Olarak : </b>  "
   ]
  },
  {
   "cell_type": "code",
   "execution_count": 2,
   "metadata": {
    "ExecuteTime": {
     "end_time": "2020-02-22T07:50:25.459974Z",
     "start_time": "2020-02-22T07:50:25.444347Z"
    },
    "pycharm": {
     "is_executing": false
    }
   },
   "outputs": [],
   "source": [
    "A=np.array([[1,2],[2,-1]])\n",
    "B=np.array([[5],[0]])"
   ]
  },
  {
   "cell_type": "code",
   "execution_count": 3,
   "metadata": {
    "ExecuteTime": {
     "end_time": "2020-02-22T07:50:26.291110Z",
     "start_time": "2020-02-22T07:50:26.283098Z"
    },
    "pycharm": {
     "is_executing": false
    }
   },
   "outputs": [
    {
     "data": {
      "text/plain": [
       "array([[ 1,  2],\n",
       "       [ 2, -1]])"
      ]
     },
     "execution_count": 3,
     "metadata": {},
     "output_type": "execute_result"
    }
   ],
   "source": [
    "A"
   ]
  },
  {
   "cell_type": "code",
   "execution_count": 4,
   "metadata": {
    "ExecuteTime": {
     "end_time": "2020-02-22T07:50:32.383062Z",
     "start_time": "2020-02-22T07:50:32.378075Z"
    },
    "pycharm": {
     "is_executing": false
    }
   },
   "outputs": [
    {
     "data": {
      "text/plain": [
       "array([[5],\n",
       "       [0]])"
      ]
     },
     "execution_count": 4,
     "metadata": {},
     "output_type": "execute_result"
    }
   ],
   "source": [
    "B"
   ]
  },
  {
   "cell_type": "code",
   "execution_count": 5,
   "metadata": {
    "ExecuteTime": {
     "end_time": "2020-02-22T07:50:37.176245Z",
     "start_time": "2020-02-22T07:50:37.172735Z"
    },
    "pycharm": {
     "is_executing": false
    }
   },
   "outputs": [],
   "source": [
    "X=np.array([[1],[2]])"
   ]
  },
  {
   "cell_type": "code",
   "execution_count": 6,
   "metadata": {
    "ExecuteTime": {
     "end_time": "2020-02-22T07:50:49.095813Z",
     "start_time": "2020-02-22T07:50:49.080554Z"
    },
    "pycharm": {
     "is_executing": false
    }
   },
   "outputs": [
    {
     "data": {
      "text/plain": [
       "array([[ True],\n",
       "       [ True]])"
      ]
     },
     "execution_count": 6,
     "metadata": {},
     "output_type": "execute_result"
    }
   ],
   "source": [
    "A.dot(X)==B"
   ]
  },
  {
   "cell_type": "code",
   "execution_count": 7,
   "metadata": {
    "ExecuteTime": {
     "end_time": "2020-02-22T07:50:53.415107Z",
     "start_time": "2020-02-22T07:50:53.411285Z"
    },
    "pycharm": {
     "is_executing": false
    }
   },
   "outputs": [
    {
     "data": {
      "text/plain": [
       "array([[ 1,  2],\n",
       "       [ 2, -1]])"
      ]
     },
     "execution_count": 7,
     "metadata": {},
     "output_type": "execute_result"
    }
   ],
   "source": [
    "A"
   ]
  },
  {
   "cell_type": "code",
   "execution_count": null,
   "metadata": {
    "ExecuteTime": {
     "end_time": "2020-02-15T15:29:11.100576Z",
     "start_time": "2020-02-15T15:29:11.097604Z"
    },
    "pycharm": {
     "is_executing": false
    }
   },
   "outputs": [],
   "source": [
    "B"
   ]
  },
  {
   "cell_type": "code",
   "execution_count": 8,
   "metadata": {
    "ExecuteTime": {
     "end_time": "2020-02-22T07:51:27.719006Z",
     "start_time": "2020-02-22T07:51:27.713972Z"
    },
    "pycharm": {
     "is_executing": false
    }
   },
   "outputs": [
    {
     "data": {
      "text/plain": [
       "array([[ 1,  2,  5],\n",
       "       [ 2, -1,  0]])"
      ]
     },
     "execution_count": 8,
     "metadata": {},
     "output_type": "execute_result"
    }
   ],
   "source": [
    "# A|b\n",
    "np.concatenate((A,B), axis=1)"
   ]
  },
  {
   "cell_type": "code",
   "execution_count": 9,
   "metadata": {
    "ExecuteTime": {
     "end_time": "2020-02-22T07:51:28.577755Z",
     "start_time": "2020-02-22T07:51:28.572742Z"
    },
    "pycharm": {
     "is_executing": false
    }
   },
   "outputs": [
    {
     "data": {
      "text/plain": [
       "array([[ 1, -1,  4],\n",
       "       [ 2,  1,  6],\n",
       "       [ 1,  3,  8]])"
      ]
     },
     "execution_count": 9,
     "metadata": {},
     "output_type": "execute_result"
    }
   ],
   "source": [
    "# Problem \n",
    "\n",
    "A=np.array([[1,-1],[2,1],[1,3]])\n",
    "B=np.array([[4],[6],[8]])\n",
    "\n",
    "np.concatenate((A,B), axis=1)"
   ]
  },
  {
   "cell_type": "markdown",
   "metadata": {},
   "source": [
    "# Gauss-Jordan Metodu ile Lineer Denklem Çözümü"
   ]
  },
  {
   "cell_type": "code",
   "execution_count": null,
   "metadata": {
    "ExecuteTime": {
     "end_time": "2020-02-15T15:34:23.873456Z",
     "start_time": "2020-02-15T15:34:23.870493Z"
    },
    "pycharm": {
     "is_executing": false
    }
   },
   "outputs": [],
   "source": [
    "# Durum 1 : Sistemin çözümü yoktur.\n",
    "# Durum 2 : Sistemin tek bir çözümü vardır.\n",
    "# Durum 3 : Sistemin sonsuz çözümü vardır."
   ]
  },
  {
   "cell_type": "markdown",
   "metadata": {},
   "source": [
    "## Satır Operasyonları (ERO)"
   ]
  },
  {
   "cell_type": "code",
   "execution_count": 137,
   "metadata": {
    "ExecuteTime": {
     "end_time": "2020-02-15T15:37:08.219379Z",
     "start_time": "2020-02-15T15:37:08.216906Z"
    },
    "pycharm": {
     "is_executing": false
    }
   },
   "outputs": [],
   "source": [
    "# ERO 1  : herhangi bir satırı bir sabit ile çarpmak \n",
    "A=np.array([[11,-1],[12,1],[1,37]])"
   ]
  },
  {
   "cell_type": "code",
   "execution_count": 138,
   "metadata": {
    "ExecuteTime": {
     "end_time": "2020-02-15T15:37:11.289471Z",
     "start_time": "2020-02-15T15:37:11.286436Z"
    },
    "pycharm": {
     "is_executing": false
    }
   },
   "outputs": [
    {
     "data": {
      "text/plain": [
       "array([[11, -1],\n",
       "       [12,  1],\n",
       "       [ 1, 37]])"
      ]
     },
     "execution_count": 138,
     "metadata": {},
     "output_type": "execute_result"
    }
   ],
   "source": [
    "A"
   ]
  },
  {
   "cell_type": "code",
   "execution_count": 139,
   "metadata": {
    "ExecuteTime": {
     "end_time": "2020-02-15T15:37:13.388500Z",
     "start_time": "2020-02-15T15:37:13.385497Z"
    },
    "pycharm": {
     "is_executing": false
    }
   },
   "outputs": [],
   "source": [
    "A[0]=A[0]*33"
   ]
  },
  {
   "cell_type": "code",
   "execution_count": 140,
   "metadata": {
    "ExecuteTime": {
     "end_time": "2020-02-15T15:37:14.029403Z",
     "start_time": "2020-02-15T15:37:14.025391Z"
    },
    "pycharm": {
     "is_executing": false
    }
   },
   "outputs": [
    {
     "data": {
      "text/plain": [
       "array([[363, -33],\n",
       "       [ 12,   1],\n",
       "       [  1,  37]])"
      ]
     },
     "execution_count": 140,
     "metadata": {},
     "output_type": "execute_result"
    }
   ],
   "source": [
    "A"
   ]
  },
  {
   "cell_type": "code",
   "execution_count": 151,
   "metadata": {
    "pycharm": {
     "is_executing": false,
     "name": "#%%\n"
    }
   },
   "outputs": [
    {
     "data": {
      "text/plain": [
       "array([[11, -1],\n",
       "       [12,  1],\n",
       "       [56, 32]])"
      ]
     },
     "execution_count": 151,
     "metadata": {},
     "output_type": "execute_result"
    }
   ],
   "source": [
    "# ERO 2  : herhangi  diğer satıra eklemek\n",
    "A=np.array([[11,-1],[12,1],[1,37]])\n",
    "A[2]=A[2]+A[0]*5\n",
    "A"
   ]
  },
  {
   "cell_type": "code",
   "execution_count": 153,
   "metadata": {
    "lines_to_next_cell": 2,
    "pycharm": {
     "is_executing": false,
     "name": "#%%\n"
    }
   },
   "outputs": [
    {
     "data": {
      "text/plain": [
       "array([[ 1, 37],\n",
       "       [12,  1],\n",
       "       [11, -1]])"
      ]
     },
     "execution_count": 153,
     "metadata": {},
     "output_type": "execute_result"
    }
   ],
   "source": [
    "# ERO 3 : İki satırın yerlerini değiştirmek \n",
    "A=np.array([[11,-1],[12,1],[1,37]])\n",
    "Geçici_Değişken=A[0].copy() # .copy() yapmazsak aynı yere kaydediyor.\n",
    "A[0]=A[2]\n",
    "A[2]=Geçici_Değişken\n",
    "A\n"
   ]
  },
  {
   "cell_type": "code",
   "execution_count": 10,
   "metadata": {
    "ExecuteTime": {
     "end_time": "2020-02-22T07:59:26.665437Z",
     "start_time": "2020-02-22T07:59:26.660425Z"
    }
   },
   "outputs": [
    {
     "data": {
      "text/plain": [
       "array([[ 1, 37],\n",
       "       [12,  1],\n",
       "       [ 1, 37]])"
      ]
     },
     "execution_count": 10,
     "metadata": {},
     "output_type": "execute_result"
    }
   ],
   "source": [
    "A=np.array([[11,-1],[12,1],[1,37]])\n",
    "Geçici_Değişken=A[0] # .copy() yapmazsak aynı yere kaydediyor.\n",
    "A[0]=A[2]\n",
    "A[2]=Geçici_Değişken\n",
    "A"
   ]
  },
  {
   "cell_type": "code",
   "execution_count": null,
   "metadata": {},
   "outputs": [],
   "source": []
  },
  {
   "cell_type": "code",
   "execution_count": null,
   "metadata": {},
   "outputs": [],
   "source": []
  },
  {
   "cell_type": "code",
   "execution_count": 175,
   "metadata": {
    "lines_to_next_cell": 2,
    "pycharm": {
     "is_executing": false,
     "name": "#%%\n"
    }
   },
   "outputs": [
    {
     "data": {
      "text/plain": [
       "array([[1., 1., 2.],\n",
       "       [2., 4., 7.]])"
      ]
     },
     "execution_count": 175,
     "metadata": {},
     "output_type": "execute_result"
    }
   ],
   "source": [
    "# x1+x2 = 2  ve 2x1 + 4x2 =7 denklemini bu öğrendiklerimiz ile çözelim.\n",
    "\n",
    "A=np.array([[1,1,2],[2,4,7.0]],float)\n",
    "A\n",
    "\n"
   ]
  },
  {
   "cell_type": "code",
   "execution_count": 176,
   "metadata": {
    "pycharm": {
     "is_executing": false,
     "name": "#%%\n"
    }
   },
   "outputs": [
    {
     "data": {
      "text/plain": [
       "array([[1. , 1. , 2. ],\n",
       "       [1. , 2. , 3.5]])"
      ]
     },
     "execution_count": 176,
     "metadata": {},
     "output_type": "execute_result"
    }
   ],
   "source": [
    "A[1]=A[1]/2  # ERO1\n",
    "A"
   ]
  },
  {
   "cell_type": "code",
   "execution_count": 177,
   "metadata": {
    "lines_to_next_cell": 2,
    "pycharm": {
     "is_executing": false,
     "name": "#%%\n"
    }
   },
   "outputs": [
    {
     "data": {
      "text/plain": [
       "array([[1. , 1. , 2. ],\n",
       "       [0. , 1. , 1.5]])"
      ]
     },
     "execution_count": 177,
     "metadata": {},
     "output_type": "execute_result"
    }
   ],
   "source": [
    "A[1]=A[1]-A[0]  # ERO2\n",
    "A\n"
   ]
  },
  {
   "cell_type": "code",
   "execution_count": 178,
   "metadata": {
    "lines_to_next_cell": 2,
    "pycharm": {
     "is_executing": false,
     "name": "#%%\n"
    }
   },
   "outputs": [
    {
     "data": {
      "text/plain": [
       "array([[1. , 0. , 0.5],\n",
       "       [0. , 1. , 1.5]])"
      ]
     },
     "execution_count": 178,
     "metadata": {},
     "output_type": "execute_result"
    }
   ],
   "source": [
    "A[0]=A[0]-A[1]  # ERO2\n",
    "A"
   ]
  },
  {
   "cell_type": "code",
   "execution_count": 182,
   "metadata": {
    "pycharm": {
     "is_executing": false,
     "name": "#%%\n"
    }
   },
   "outputs": [
    {
     "name": "stdout",
     "output_type": "stream",
     "text": [
      "x1 : 0.5 ve x2: 1.5\n"
     ]
    }
   ],
   "source": [
    "[x1,x2]=A[:,2]\n",
    "print(\"x1 : {x1} ve x2: {x2}\".format(x1=x1,x2=x2))\n",
    "\n",
    "\n"
   ]
  },
  {
   "cell_type": "markdown",
   "metadata": {},
   "source": [
    "## Gauss Jordan İle Çözüm "
   ]
  },
  {
   "cell_type": "code",
   "execution_count": 11,
   "metadata": {
    "ExecuteTime": {
     "end_time": "2020-02-22T08:07:16.481070Z",
     "start_time": "2020-02-22T08:07:16.476031Z"
    },
    "lines_to_next_cell": 2,
    "pycharm": {
     "is_executing": false,
     "name": "#%%\n"
    }
   },
   "outputs": [
    {
     "data": {
      "text/plain": [
       "array([[ 2.,  2.,  1.,  9.],\n",
       "       [ 2., -1.,  2.,  6.],\n",
       "       [ 1., -1.,  2.,  5.]])"
      ]
     },
     "execution_count": 11,
     "metadata": {},
     "output_type": "execute_result"
    }
   ],
   "source": [
    "A=np.array([[2,2,1],[2,-1,2],[1,-1,2]],float) # Katsayı\n",
    "b=np.array([[9],[6],[5]],float) # y \n",
    "\n",
    "Ab=np.concatenate((A,b),axis=1) # matrisleri birleştirdik\n",
    "\n",
    "Ab \n"
   ]
  },
  {
   "cell_type": "code",
   "execution_count": 12,
   "metadata": {
    "ExecuteTime": {
     "end_time": "2020-02-22T08:07:19.303960Z",
     "start_time": "2020-02-22T08:07:19.297933Z"
    },
    "lines_to_next_cell": 2
   },
   "outputs": [
    {
     "data": {
      "text/plain": [
       "array([[ 1. ,  1. ,  0.5,  4.5],\n",
       "       [ 2. , -1. ,  2. ,  6. ],\n",
       "       [ 1. , -1. ,  2. ,  5. ]])"
      ]
     },
     "execution_count": 12,
     "metadata": {},
     "output_type": "execute_result"
    }
   ],
   "source": [
    "Ab1=Ab.copy() # ilk işlem olarak birinci satırın ilk elemanı 1 olacak şekilde ERO işlemi yaptık\n",
    "Ab1[0]=Ab1[0]/2\n",
    "Ab1"
   ]
  },
  {
   "cell_type": "code",
   "execution_count": 16,
   "metadata": {
    "ExecuteTime": {
     "end_time": "2020-02-22T08:12:13.909088Z",
     "start_time": "2020-02-22T08:12:13.904575Z"
    },
    "pycharm": {
     "is_executing": false,
     "name": "#%%\n"
    }
   },
   "outputs": [
    {
     "data": {
      "text/plain": [
       "array([[ 1. ,  1. ,  0.5,  4.5],\n",
       "       [ 0. , -3. ,  1. , -3. ],\n",
       "       [ 1. , -1. ,  2. ,  5. ]])"
      ]
     },
     "execution_count": 16,
     "metadata": {},
     "output_type": "execute_result"
    }
   ],
   "source": [
    "Ab2=Ab1.copy() # Sonrasında 2 ve 3. satırların ilk sütünlarını 0 olacak şekilde ERO işlemleri yapıyoruz.\n",
    "Ab2[1]=Ab2[1]-Ab1[1][0]*Ab1[0]\n",
    "Ab2"
   ]
  },
  {
   "cell_type": "code",
   "execution_count": 17,
   "metadata": {
    "ExecuteTime": {
     "end_time": "2020-02-22T08:13:39.625453Z",
     "start_time": "2020-02-22T08:13:39.620439Z"
    },
    "lines_to_next_cell": 2,
    "pycharm": {
     "is_executing": false,
     "name": "#%%\n"
    }
   },
   "outputs": [
    {
     "data": {
      "text/plain": [
       "array([[ 1. ,  1. ,  0.5,  4.5],\n",
       "       [ 0. , -3. ,  1. , -3. ],\n",
       "       [ 0. , -2. ,  1.5,  0.5]])"
      ]
     },
     "execution_count": 17,
     "metadata": {},
     "output_type": "execute_result"
    }
   ],
   "source": [
    "Ab3=Ab2.copy()\n",
    "Ab3[2]=Ab2[2]-Ab2[2][0]*Ab2[0]\n",
    "\n",
    "Ab3"
   ]
  },
  {
   "cell_type": "code",
   "execution_count": 18,
   "metadata": {
    "ExecuteTime": {
     "end_time": "2020-02-22T08:15:22.728742Z",
     "start_time": "2020-02-22T08:15:22.723773Z"
    },
    "pycharm": {
     "is_executing": false,
     "name": "#%%\n"
    }
   },
   "outputs": [
    {
     "data": {
      "text/plain": [
       "array([[ 1.        ,  0.        ,  0.83333333,  3.5       ],\n",
       "       [-0.        ,  1.        , -0.33333333,  1.        ],\n",
       "       [ 0.        ,  0.        ,  0.83333333,  2.5       ]])"
      ]
     },
     "execution_count": 18,
     "metadata": {},
     "output_type": "execute_result"
    }
   ],
   "source": [
    "Ab3[1]=Ab3[1]*(-1/3) # Yukarıda birinci satır için yaptığımız işlemleri 2. ve 3 satırlar için de yapıyoruz.\n",
    "\n",
    "Ab3[0]=Ab3[0]-Ab3[1]\n",
    "\n",
    "Ab3[2]=Ab3[2]+2*Ab3[1]\n",
    "Ab3"
   ]
  },
  {
   "cell_type": "code",
   "execution_count": 19,
   "metadata": {
    "ExecuteTime": {
     "end_time": "2020-02-22T08:19:48.424369Z",
     "start_time": "2020-02-22T08:19:48.421370Z"
    },
    "lines_to_end_of_cell_marker": 2,
    "pycharm": {
     "is_executing": false,
     "name": "#%%\n"
    }
   },
   "outputs": [],
   "source": [
    "Ab4=Ab3.copy()\n",
    "\n",
    "Ab4[2]=Ab4[2]*(6/5)\n",
    "\n",
    "Ab4[0]=Ab4[0]-Ab4[2]*(5/6)\n",
    "\n",
    "Ab4[1]=Ab4[1]+Ab4[2]*(1/3)"
   ]
  },
  {
   "cell_type": "code",
   "execution_count": 20,
   "metadata": {
    "ExecuteTime": {
     "end_time": "2020-02-22T08:19:51.153650Z",
     "start_time": "2020-02-22T08:19:51.149638Z"
    }
   },
   "outputs": [
    {
     "data": {
      "text/plain": [
       "array([[ 1.,  0., -0.,  1.],\n",
       "       [ 0.,  1.,  0.,  2.],\n",
       "       [ 0.,  0.,  1.,  3.]])"
      ]
     },
     "execution_count": 20,
     "metadata": {},
     "output_type": "execute_result"
    }
   ],
   "source": [
    "np.round(Ab4,6) "
   ]
  },
  {
   "cell_type": "code",
   "execution_count": 21,
   "metadata": {
    "ExecuteTime": {
     "end_time": "2020-02-22T08:20:00.841580Z",
     "start_time": "2020-02-22T08:20:00.838602Z"
    }
   },
   "outputs": [],
   "source": [
    "[x1,x2,x3]=Ab4[:,3]"
   ]
  },
  {
   "cell_type": "code",
   "execution_count": 22,
   "metadata": {
    "ExecuteTime": {
     "end_time": "2020-02-22T08:20:02.285099Z",
     "start_time": "2020-02-22T08:20:02.281122Z"
    }
   },
   "outputs": [
    {
     "name": "stdout",
     "output_type": "stream",
     "text": [
      "x1 : 1.0 , x2: 2.0 ve x3: 3.0 olarak bulunmuştur.\n"
     ]
    }
   ],
   "source": [
    "print(\"x1 : {x1} , x2: {x2} ve x3: {x3} olarak bulunmuştur.\".format(x1=x1,x2=x2,x3=x3))"
   ]
  },
  {
   "cell_type": "code",
   "execution_count": 16,
   "metadata": {
    "ExecuteTime": {
     "end_time": "2020-02-18T15:53:13.457961Z",
     "start_time": "2020-02-18T15:53:13.442147Z"
    }
   },
   "outputs": [],
   "source": [
    "## Çözümsüz veya Sonsuz Çözümlü Denklemler"
   ]
  },
  {
   "cell_type": "code",
   "execution_count": 23,
   "metadata": {
    "ExecuteTime": {
     "end_time": "2020-02-22T08:22:47.766181Z",
     "start_time": "2020-02-22T08:22:47.763195Z"
    }
   },
   "outputs": [],
   "source": [
    "# Örnek 6\n",
    "A=np.array([[1,2],[2,4]]);b=np.array([[3],[4]])\n",
    "Ab=np.concatenate((A,b),axis=1)"
   ]
  },
  {
   "cell_type": "code",
   "execution_count": 24,
   "metadata": {
    "ExecuteTime": {
     "end_time": "2020-02-22T08:22:48.663332Z",
     "start_time": "2020-02-22T08:22:48.658299Z"
    }
   },
   "outputs": [
    {
     "data": {
      "text/plain": [
       "array([[1, 2, 3],\n",
       "       [2, 4, 4]])"
      ]
     },
     "execution_count": 24,
     "metadata": {},
     "output_type": "execute_result"
    }
   ],
   "source": [
    "Ab"
   ]
  },
  {
   "cell_type": "code",
   "execution_count": 25,
   "metadata": {
    "ExecuteTime": {
     "end_time": "2020-02-22T08:23:03.094327Z",
     "start_time": "2020-02-22T08:23:03.091320Z"
    }
   },
   "outputs": [],
   "source": [
    "Ab[1]=Ab[1]-2*Ab[0]"
   ]
  },
  {
   "cell_type": "code",
   "execution_count": 26,
   "metadata": {
    "ExecuteTime": {
     "end_time": "2020-02-22T08:23:03.497159Z",
     "start_time": "2020-02-22T08:23:03.493149Z"
    }
   },
   "outputs": [
    {
     "data": {
      "text/plain": [
       "array([[ 1,  2,  3],\n",
       "       [ 0,  0, -2]])"
      ]
     },
     "execution_count": 26,
     "metadata": {},
     "output_type": "execute_result"
    }
   ],
   "source": [
    "Ab"
   ]
  },
  {
   "cell_type": "code",
   "execution_count": 22,
   "metadata": {
    "ExecuteTime": {
     "end_time": "2020-02-18T15:57:14.177835Z",
     "start_time": "2020-02-18T15:57:14.174838Z"
    }
   },
   "outputs": [
    {
     "data": {
      "text/plain": [
       "array([ 0,  0, -2])"
      ]
     },
     "execution_count": 22,
     "metadata": {},
     "output_type": "execute_result"
    }
   ],
   "source": [
    "Ab[1] # x1 ve x2 ye ne verirsek verelim sonuç -2 olmaz. Bu yüzden ÇÖZÜMSÜZDÜR."
   ]
  },
  {
   "cell_type": "code",
   "execution_count": 23,
   "metadata": {
    "ExecuteTime": {
     "end_time": "2020-02-18T15:58:09.449968Z",
     "start_time": "2020-02-18T15:58:09.446960Z"
    }
   },
   "outputs": [],
   "source": [
    "# Eğer A nın bir satırı tamamen 0 oluyor ve buna karşılık b nin o satıra ait değeri 0 olmuyorsa bu sistemin çözümü yoktur."
   ]
  },
  {
   "cell_type": "code",
   "execution_count": 24,
   "metadata": {
    "ExecuteTime": {
     "end_time": "2020-02-18T15:58:36.094295Z",
     "start_time": "2020-02-18T15:58:36.091333Z"
    },
    "lines_to_next_cell": 0
   },
   "outputs": [],
   "source": [
    "# Örnek 7"
   ]
  },
  {
   "cell_type": "code",
   "execution_count": 34,
   "metadata": {
    "ExecuteTime": {
     "end_time": "2020-02-22T10:13:14.685062Z",
     "start_time": "2020-02-22T10:13:14.669391Z"
    },
    "lines_to_next_cell": 2
   },
   "outputs": [],
   "source": [
    "A=np.array([[1,1,0],[0,1,1],[1,2,1]]);b=np.array([[1],[3],[4]]);\n",
    "Ab=np.concatenate((A,b),axis=1)"
   ]
  },
  {
   "cell_type": "code",
   "execution_count": 5,
   "metadata": {
    "ExecuteTime": {
     "end_time": "2020-02-18T19:15:23.917733Z",
     "start_time": "2020-02-18T19:15:23.909719Z"
    }
   },
   "outputs": [],
   "source": [
    "Ab[2]=Ab[2]-Ab[0]"
   ]
  },
  {
   "cell_type": "code",
   "execution_count": 6,
   "metadata": {
    "ExecuteTime": {
     "end_time": "2020-02-18T19:15:26.783575Z",
     "start_time": "2020-02-18T19:15:26.771557Z"
    }
   },
   "outputs": [
    {
     "data": {
      "text/plain": [
       "array([[1, 1, 0, 1],\n",
       "       [0, 1, 1, 3],\n",
       "       [0, 1, 1, 3]])"
      ]
     },
     "execution_count": 6,
     "metadata": {},
     "output_type": "execute_result"
    }
   ],
   "source": [
    "Ab"
   ]
  },
  {
   "cell_type": "code",
   "execution_count": 7,
   "metadata": {
    "ExecuteTime": {
     "end_time": "2020-02-18T19:15:51.636803Z",
     "start_time": "2020-02-18T19:15:51.632789Z"
    }
   },
   "outputs": [],
   "source": [
    "Ab[0]=Ab[0]-Ab[1]"
   ]
  },
  {
   "cell_type": "code",
   "execution_count": 8,
   "metadata": {
    "ExecuteTime": {
     "end_time": "2020-02-18T19:16:09.706166Z",
     "start_time": "2020-02-18T19:16:09.702160Z"
    }
   },
   "outputs": [],
   "source": [
    "Ab[2]=Ab[2]-Ab[1]"
   ]
  },
  {
   "cell_type": "code",
   "execution_count": 9,
   "metadata": {
    "ExecuteTime": {
     "end_time": "2020-02-18T19:16:11.298636Z",
     "start_time": "2020-02-18T19:16:11.290587Z"
    },
    "scrolled": true
   },
   "outputs": [
    {
     "data": {
      "text/plain": [
       "array([[ 1,  0, -1, -2],\n",
       "       [ 0,  1,  1,  3],\n",
       "       [ 0,  0,  0,  0]])"
      ]
     },
     "execution_count": 9,
     "metadata": {},
     "output_type": "execute_result"
    }
   ],
   "source": [
    "Ab"
   ]
  },
  {
   "cell_type": "code",
   "execution_count": 114,
   "metadata": {
    "ExecuteTime": {
     "end_time": "2020-02-22T10:57:47.520852Z",
     "start_time": "2020-02-22T10:57:47.508830Z"
    }
   },
   "outputs": [
    {
     "data": {
      "text/plain": [
       "[0, 1, 2, 3, 4]"
      ]
     },
     "execution_count": 114,
     "metadata": {},
     "output_type": "execute_result"
    }
   ],
   "source": [
    "[i for i in range(5)]"
   ]
  },
  {
   "cell_type": "code",
   "execution_count": 110,
   "metadata": {
    "ExecuteTime": {
     "end_time": "2020-02-22T10:53:50.183512Z",
     "start_time": "2020-02-22T10:53:50.171454Z"
    },
    "lines_to_next_cell": 0
   },
   "outputs": [],
   "source": [
    "# Gauss Jordan Metodu \n",
    "\n",
    "def GaussJordan(A,b):\n",
    "    \"\"\" \n",
    "    Gauss Jordan methodu ile satır işlemleri yapıp, değişkenleri \n",
    "    hesaplar.Öncelikle katsayı matrisi ile sonuç matrisi birleştirilir.\n",
    "    İlk olarak köşegen elemanın 0'a eşitliği kontrol edilir.\n",
    "    Daha sonrasında ona ait sütündaki diğer elemanlar 0 olacak \n",
    "    şekilde satır işlemleri yapılır. Bütün satırların üzerinden \n",
    "    bu yöntemle geçilir. \n",
    "    \n",
    "    \"\"\"\n",
    "    \n",
    "    # Adım 1 : A|b matrisini oluştur. \n",
    "    \n",
    "    Ab=np.concatenate((A,b),axis=1)\n",
    "    satır_sayısı=Ab.shape[0]\n",
    "    sutun_sayısı=Ab.shape[1]\n",
    "    \n",
    "    for i in range(satır_sayısı):         \n",
    "        if Ab[i][i]==0:\n",
    "            Geçici=Ab[i].copy()\n",
    "            satır_indisleri=[a for a in range(i,satır_sayısı) if Ab[a][i]!=0]\n",
    "            if satır_indisleri:\n",
    "                Ab[i]=Ab[satır_indisleri[0]].copy()\n",
    "                Ab[satır_indisleri[0]]=Geçici\n",
    "            else:\n",
    "                print(str(i)+\". satırından sonra işlem yapılamamaktadır\")\n",
    "                return Ab\n",
    "        Ab[i]=Ab[i]/Ab[i][i]    \n",
    "        for s in range(satır_sayısı): \n",
    "            if i==s:\n",
    "                pass\n",
    "            else:\n",
    "                Ab[s]=Ab[s]-Ab[i]*Ab[s][i]\n",
    "\n",
    "    return Ab"
   ]
  },
  {
   "cell_type": "code",
   "execution_count": 113,
   "metadata": {
    "ExecuteTime": {
     "end_time": "2020-02-22T10:54:01.740159Z",
     "start_time": "2020-02-22T10:54:01.722650Z"
    },
    "scrolled": true
   },
   "outputs": [
    {
     "name": "stdout",
     "output_type": "stream",
     "text": [
      "3. satırından sonra işlem yapılamamaktadır\n"
     ]
    },
    {
     "data": {
      "text/plain": [
       "array([[ 1.,  0.,  0.,  1.,  1.],\n",
       "       [ 0.,  1.,  0.,  2.,  1.],\n",
       "       [ 0.,  0.,  1.,  3., -1.],\n",
       "       [ 0.,  0.,  0.,  0.,  0.],\n",
       "       [ 0.,  0.,  0.,  0.,  2.]])"
      ]
     },
     "execution_count": 113,
     "metadata": {},
     "output_type": "execute_result"
    }
   ],
   "source": [
    "## Durum 1 \n",
    "\n",
    "A=np.array([[1,0,0,1],[0,1,0,2],[0,0,1,3],[0,0,0,0],[0,0,0,0]],float)\n",
    "b=np.array([[1],[1],[-1],[0],[2]],float)\n",
    "\n",
    "GaussJordan(A,b)"
   ]
  },
  {
   "cell_type": "code",
   "execution_count": 123,
   "metadata": {
    "ExecuteTime": {
     "end_time": "2020-02-22T11:01:32.004778Z",
     "start_time": "2020-02-22T11:01:31.992751Z"
    },
    "lines_to_next_cell": 2
   },
   "outputs": [
    {
     "name": "stdout",
     "output_type": "stream",
     "text": [
      "[[ 2.  2.  1.  9.]\n",
      " [ 2. -1.  2.  6.]\n",
      " [ 1. -1.  2.  5.]]\n"
     ]
    },
    {
     "data": {
      "text/plain": [
       "array([[1., 0., 0., 1.],\n",
       "       [0., 1., 0., 2.],\n",
       "       [0., 0., 1., 3.]])"
      ]
     },
     "execution_count": 123,
     "metadata": {},
     "output_type": "execute_result"
    }
   ],
   "source": [
    "# Durum 2\n",
    "\n",
    "A=np.array([[2,2, 1],[2,-1,2],[1,-1,2]],float)\n",
    "b=np.array([[9],[6],[5]],float)\n",
    "print(np.concatenate((A,b),axis=1))\n",
    "GaussJordan(A,b)"
   ]
  },
  {
   "cell_type": "code",
   "execution_count": 124,
   "metadata": {
    "ExecuteTime": {
     "end_time": "2020-02-22T11:03:12.358414Z",
     "start_time": "2020-02-22T11:03:12.350402Z"
    },
    "lines_to_end_of_cell_marker": 2
   },
   "outputs": [
    {
     "name": "stdout",
     "output_type": "stream",
     "text": [
      "[[1. 0. 0. 1. 1. 3.]\n",
      " [0. 1. 0. 2. 0. 2.]\n",
      " [0. 0. 1. 0. 1. 1.]\n",
      " [0. 0. 0. 0. 0. 0.]]\n",
      "3. satırından sonra işlem yapılamamaktadır\n"
     ]
    },
    {
     "data": {
      "text/plain": [
       "array([[1., 0., 0., 1., 1., 3.],\n",
       "       [0., 1., 0., 2., 0., 2.],\n",
       "       [0., 0., 1., 0., 1., 1.],\n",
       "       [0., 0., 0., 0., 0., 0.]])"
      ]
     },
     "execution_count": 124,
     "metadata": {},
     "output_type": "execute_result"
    }
   ],
   "source": [
    "# Durum 3 \n",
    "A=np.array([[1,0,0,1,1],[0,1,0,2,0],[0,0,1,0,1],[0,0,0,0,0]],float)\n",
    "b=np.array([[3],[2],[1],[0]],float)\n",
    "print(np.concatenate((A,b),axis=1))\n",
    "GaussJordan(A,b)"
   ]
  },
  {
   "cell_type": "code",
   "execution_count": 55,
   "metadata": {
    "ExecuteTime": {
     "end_time": "2020-02-22T10:18:18.623937Z",
     "start_time": "2020-02-22T10:18:18.620930Z"
    }
   },
   "outputs": [],
   "source": [
    "A=np.array([[0,1,1],[0,2,5],[0,35,1]],float)\n",
    "b=np.array([[3],[4],[5]],float)"
   ]
  },
  {
   "cell_type": "code",
   "execution_count": 56,
   "metadata": {
    "ExecuteTime": {
     "end_time": "2020-02-22T10:18:22.732549Z",
     "start_time": "2020-02-22T10:18:22.729537Z"
    }
   },
   "outputs": [
    {
     "name": "stdout",
     "output_type": "stream",
     "text": [
      "3 bilinmeyenli doğrusal denklem sistemi oluşturulmuştur.\n"
     ]
    }
   ],
   "source": [
    "a=DoğrusalDenklem(A,b)"
   ]
  },
  {
   "cell_type": "code",
   "execution_count": 57,
   "metadata": {
    "ExecuteTime": {
     "end_time": "2020-02-22T10:18:24.423958Z",
     "start_time": "2020-02-22T10:18:24.419944Z"
    }
   },
   "outputs": [
    {
     "data": {
      "text/plain": [
       "array([[0., 0., 0., 0.],\n",
       "       [0., 0., 0., 0.],\n",
       "       [0., 1., 1., 3.]])"
      ]
     },
     "execution_count": 57,
     "metadata": {},
     "output_type": "execute_result"
    }
   ],
   "source": [
    "a.GaussJordan()"
   ]
  },
  {
   "cell_type": "code",
   "execution_count": null,
   "metadata": {},
   "outputs": [],
   "source": []
  },
  {
   "cell_type": "code",
   "execution_count": 12,
   "metadata": {
    "ExecuteTime": {
     "end_time": "2020-03-08T12:37:24.525436Z",
     "start_time": "2020-03-08T12:37:24.511868Z"
    },
    "code_folding": [],
    "lines_to_next_cell": 0
   },
   "outputs": [],
   "source": [
    "class DoğrusalDenklem():\n",
    "    \n",
    "    def __init__(self,A,b):\n",
    "        self.denklem=np.concatenate((A,b),axis=1)\n",
    "        self.satır_sayısı=self.denklem.shape[0]\n",
    "        self.sütün_sayısı=self.denklem.shape[1]\n",
    "        print(\"{n} bilinmeyenli doğrusal denklem sistemi oluşturulmuştur.\".format(n=A.shape[1],Ab=self.denklem))\n",
    "    \n",
    "    def __str__(self):\n",
    "        return \"Denklem sistemi ----> \\n {Ab}\".format(Ab=self.denklem)\n",
    "    \n",
    "    def __len__(self):\n",
    "        return self.denklem.shape[0]\n",
    "\n",
    "    def __del__(self):\n",
    "        return  \"Doğrusal denklem silinmiştir.\" \n",
    "    \n",
    "    def GaussJordan(self):\n",
    "        \"\"\" \n",
    "        Gauss Jordan methodu ile satır işlemleri yapıp, değişkenleri \n",
    "        hesaplar.Öncelikle katsayı matrisi ile sonuç matrisi birleştirilir.\n",
    "        İlk olarak köşegen elemanın 0'a eşitliği kontrol edilir.\n",
    "        Daha sonrasında ona ait sütündaki diğer elemanlar 0 olacak \n",
    "        şekilde satır işlemleri yapılır. Bütün satırların üzerinden \n",
    "        bu yöntemle geçilir. \n",
    "\n",
    "        \"\"\"\n",
    "\n",
    "        # Adım 1 : A|b matrisini oluştur. \n",
    "\n",
    "        Ab=self.denklem.copy()\n",
    "        satır_sayısı=Ab.shape[0]\n",
    "        sutun_sayısı=Ab.shape[1]\n",
    "\n",
    "        for i in range(satır_sayısı):         \n",
    "            if Ab[i][i]==0:\n",
    "                Geçici=Ab[i].copy()\n",
    "                satır_indisleri=[a for a in range(i,satır_sayısı) if Ab[a][i]!=0]\n",
    "                if satır_indisleri:\n",
    "                    Ab[i]=Ab[satır_indisleri[0]].copy()\n",
    "                    Ab[satır_indisleri[0]]=Geçici\n",
    "                else:\n",
    "                    print(str(i)+\". satırından sonra işlem yapılamamaktadır\")\n",
    "                    return Ab\n",
    "            Ab[i]=Ab[i]/Ab[i][i]    \n",
    "            for s in range(satır_sayısı): \n",
    "                if i==s:\n",
    "                    pass\n",
    "                else:\n",
    "                    Ab[s]=Ab[s]-Ab[i]*Ab[s][i]\n",
    "\n",
    "        return Ab\n",
    "\n",
    "    def çözüm_durumu(self):\n",
    "        çözüm=self.GaussJordan()\n",
    "        satır_sayısı=self.satır_sayısı\n",
    "        sutun_sayısı= self.sütün_sayısı\n",
    "        tekÇözüm=False\n",
    "        \n",
    "        for i in range(satır_sayısı):      \n",
    "            if all(çözüm[i,:sutun_sayısı-1]==0) and çözüm[i,sutun_sayısı-1]!=0:\n",
    "                print(\"Denklem Kümesi Çözümsüzdür.\")\n",
    "                return \"çözümsüz\"  \n",
    "        \n",
    "        if satır_sayısı==(sutun_sayısı-1):\n",
    "            i=0\n",
    "            while i<satır_sayısı and çözüm[i][i]==1:\n",
    "                i+=1\n",
    "\n",
    "            if i==satır_sayısı:\n",
    "                tekÇözüm=True\n",
    "                print(\"Denklem Kümesinin Tek Çözümü mevcuttur.\")\n",
    "                return \"tek\"\n",
    "        else:\n",
    "            print(\"Denklem Kümesinin Sonsuz Çözümü mevcuttur.\")\n",
    "            return \"sonsuz\"\n",
    "        \n",
    "    def rank_sayar(self):\n",
    "        Ab=self.GaussJordan()\n",
    "        say=0\n",
    "        satır_sayısı=Ab.shape[0]\n",
    "        for i in range(satır_sayısı):\n",
    "               if Ab[i][i]==1 and Ab[:,i].sum()==1:\n",
    "                    say+=1\n",
    "        return say\n",
    "    \n",
    "    def doğrusal_bağımsız(self):\n",
    "        Ab=self.GaussJordan()\n",
    "        rank=self.rank_sayar()\n",
    "        m=Ab.shape[0]\n",
    "        if m==rank:\n",
    "            return True\n",
    "        elif m>rank:\n",
    "            return False\n",
    "        else:\n",
    "            return \"Error\""
   ]
  },
  {
   "cell_type": "code",
   "execution_count": 187,
   "metadata": {
    "ExecuteTime": {
     "end_time": "2020-02-22T12:14:28.868371Z",
     "start_time": "2020-02-22T12:14:28.860353Z"
    }
   },
   "outputs": [
    {
     "data": {
      "text/plain": [
       "array([ True, False,  True])"
      ]
     },
     "execution_count": 187,
     "metadata": {},
     "output_type": "execute_result"
    }
   ],
   "source": []
  },
  {
   "cell_type": "code",
   "execution_count": 189,
   "metadata": {
    "ExecuteTime": {
     "end_time": "2020-02-22T12:14:38.518561Z",
     "start_time": "2020-02-22T12:14:38.506552Z"
    }
   },
   "outputs": [
    {
     "data": {
      "text/plain": [
       "False"
      ]
     },
     "execution_count": 189,
     "metadata": {},
     "output_type": "execute_result"
    }
   ],
   "source": []
  },
  {
   "cell_type": "code",
   "execution_count": null,
   "metadata": {
    "lines_to_next_cell": 2
   },
   "outputs": [],
   "source": []
  },
  {
   "cell_type": "markdown",
   "metadata": {
    "ExecuteTime": {
     "end_time": "2020-02-19T17:14:51.057641Z",
     "start_time": "2020-02-19T17:14:51.054624Z"
    }
   },
   "source": [
    "##  Ana Değişkenler ve Doğrusal Denklemlerde Çözümleri "
   ]
  },
  {
   "cell_type": "markdown",
   "metadata": {
    "ExecuteTime": {
     "end_time": "2020-02-19T17:14:51.622026Z",
     "start_time": "2020-02-19T17:14:51.618015Z"
    }
   },
   "source": [
    "<i> Doğrusal denklem sistemlerini çözdükten sonra eğer bir satırda sadece bir sütünda 1 katsayısı var ve diğer sütünların katsayıları 0 ise bu değişkene <b> esas değişken (BV) </b>  denir.   </i>  <i> Aksi durumdaki değişkenler <b>  esas olmayan  (NBV)</b>  değişkenlerdir  .   </i>"
   ]
  },
  {
   "cell_type": "raw",
   "metadata": {
    "ExecuteTime": {
     "end_time": "2020-02-19T18:37:41.900378Z",
     "start_time": "2020-02-19T18:37:41.894394Z"
    },
    "lines_to_next_cell": 0
   },
   "source": [
    "def çözüm_durumu(örnek_denklem_çözümü):\n",
    "        çözümsüz=False\n",
    "        sonsuz_çözüm=False\n",
    "        tek_çözüm=0\n",
    "        tekÇözüm=False\n",
    "        for i in range(satır):\n",
    "            if sum(örnek_denklem_çözümü[i,:sütün-1])==0 and örnek_denklem_çözümü[i,sütün-1]!=0:\n",
    "                çözümsüz=True\n",
    "                print(\"Denklem Kümesi Çözümsüzdür.\")\n",
    "                return \"çözümsüz\"\n",
    "              \n",
    "        for i in range(satır):    \n",
    "            if sum(örnek_denklem_çözümü[i,:sütün-1])==1:\n",
    "                tek_çözüm+=1\n",
    "                if tek_çözüm==satır:\n",
    "                    print(\"Denklem Kümesinin Tek Çözümü mevcuttur.\")\n",
    "                    tekÇözüm=True\n",
    "                    return \"tek\"\n",
    "\n",
    "        for i in range(satır):\n",
    "            if sum(örnek_denklem_çözümü[i,:sütün])==0:\n",
    "                sonsuz_çözüm=True\n",
    "                print(\"Denklem Kümesinin Sonsuz Çözümü mevcuttur.\")\n",
    "                return \"sonsuz\"\n",
    "            elif tekÇözüm==False:\n",
    "                print(\"Denklem Kümesinin Sonsuz Çözümü mevcuttur.\")\n",
    "                return \"sonsuz\""
   ]
  },
  {
   "cell_type": "code",
   "execution_count": null,
   "metadata": {
    "lines_to_next_cell": 2
   },
   "outputs": [],
   "source": []
  },
  {
   "cell_type": "code",
   "execution_count": 151,
   "metadata": {
    "ExecuteTime": {
     "end_time": "2020-02-22T11:51:49.583420Z",
     "start_time": "2020-02-22T11:51:49.575409Z"
    }
   },
   "outputs": [],
   "source": [
    "## Durum 1 \n",
    "\n",
    "A=np.array([[1,0,0,1],[0,1,0,2],[0,0,1,3],[0,0,0,0],[0,0,0,0]],float)\n",
    "b=np.array([[1],[1],[-1],[0],[2]],float)"
   ]
  },
  {
   "cell_type": "code",
   "execution_count": 152,
   "metadata": {
    "ExecuteTime": {
     "end_time": "2020-02-22T11:51:50.901640Z",
     "start_time": "2020-02-22T11:51:50.897629Z"
    }
   },
   "outputs": [
    {
     "name": "stdout",
     "output_type": "stream",
     "text": [
      "4 bilinmeyenli doğrusal denklem sistemi oluşturulmuştur.\n"
     ]
    }
   ],
   "source": [
    "örnek_denklem_1=DoğrusalDenklem(A,b)"
   ]
  },
  {
   "cell_type": "code",
   "execution_count": 153,
   "metadata": {
    "ExecuteTime": {
     "end_time": "2020-02-22T11:51:52.054378Z",
     "start_time": "2020-02-22T11:51:52.046322Z"
    }
   },
   "outputs": [
    {
     "data": {
      "text/plain": [
       "array([[ 1.,  0.,  0.,  1.,  1.],\n",
       "       [ 0.,  1.,  0.,  2.,  1.],\n",
       "       [ 0.,  0.,  1.,  3., -1.],\n",
       "       [ 0.,  0.,  0.,  0.,  0.],\n",
       "       [ 0.,  0.,  0.,  0.,  2.]])"
      ]
     },
     "execution_count": 153,
     "metadata": {},
     "output_type": "execute_result"
    }
   ],
   "source": [
    "örnek_denklem_1.denklem"
   ]
  },
  {
   "cell_type": "code",
   "execution_count": 154,
   "metadata": {
    "ExecuteTime": {
     "end_time": "2020-02-22T11:51:54.796218Z",
     "start_time": "2020-02-22T11:51:54.780197Z"
    }
   },
   "outputs": [
    {
     "name": "stdout",
     "output_type": "stream",
     "text": [
      "3. satırından sonra işlem yapılamamaktadır\n"
     ]
    },
    {
     "data": {
      "text/plain": [
       "array([[ 1.,  0.,  0.,  1.,  1.],\n",
       "       [ 0.,  1.,  0.,  2.,  1.],\n",
       "       [ 0.,  0.,  1.,  3., -1.],\n",
       "       [ 0.,  0.,  0.,  0.,  0.],\n",
       "       [ 0.,  0.,  0.,  0.,  2.]])"
      ]
     },
     "execution_count": 154,
     "metadata": {},
     "output_type": "execute_result"
    }
   ],
   "source": [
    "örnek_denklem_1.GaussJordan()"
   ]
  },
  {
   "cell_type": "code",
   "execution_count": 155,
   "metadata": {
    "ExecuteTime": {
     "end_time": "2020-02-22T11:51:57.206518Z",
     "start_time": "2020-02-22T11:51:57.194543Z"
    }
   },
   "outputs": [
    {
     "name": "stdout",
     "output_type": "stream",
     "text": [
      "3. satırından sonra işlem yapılamamaktadır\n",
      "Denklem Kümesi Çözümsüzdür.\n"
     ]
    }
   ],
   "source": [
    "sonuç=örnek_denklem_1.çözüm_durumu()"
   ]
  },
  {
   "cell_type": "code",
   "execution_count": 156,
   "metadata": {
    "ExecuteTime": {
     "end_time": "2020-02-22T11:52:05.818706Z",
     "start_time": "2020-02-22T11:52:05.814662Z"
    }
   },
   "outputs": [
    {
     "name": "stdout",
     "output_type": "stream",
     "text": [
      "çözümsüz\n"
     ]
    }
   ],
   "source": [
    "print(sonuç)"
   ]
  },
  {
   "cell_type": "code",
   "execution_count": 157,
   "metadata": {
    "ExecuteTime": {
     "end_time": "2020-02-22T11:52:55.467215Z",
     "start_time": "2020-02-22T11:52:55.455197Z"
    },
    "lines_to_next_cell": 2
   },
   "outputs": [
    {
     "name": "stdout",
     "output_type": "stream",
     "text": [
      "3. satırından sonra işlem yapılamamaktadır\n"
     ]
    },
    {
     "data": {
      "text/plain": [
       "array([[ 1.,  0.,  0.,  1.,  1.],\n",
       "       [ 0.,  1.,  0.,  2.,  1.],\n",
       "       [ 0.,  0.,  1.,  3., -1.],\n",
       "       [ 0.,  0.,  0.,  0.,  0.],\n",
       "       [ 0.,  0.,  0.,  0.,  2.]])"
      ]
     },
     "execution_count": 157,
     "metadata": {},
     "output_type": "execute_result"
    }
   ],
   "source": [
    "# Güncellenmiş Gauss Jordan\n",
    "GaussJordan(A,b)"
   ]
  },
  {
   "cell_type": "code",
   "execution_count": 158,
   "metadata": {
    "ExecuteTime": {
     "end_time": "2020-02-22T11:52:57.874727Z",
     "start_time": "2020-02-22T11:52:57.870720Z"
    }
   },
   "outputs": [],
   "source": [
    "# Durum 2\n",
    "\n",
    "A=np.array([[2,2, 1],[2,-1,2],[1,-1,2]],float)\n",
    "b=np.array([[9],[6],[5]],float)\n"
   ]
  },
  {
   "cell_type": "code",
   "execution_count": 159,
   "metadata": {
    "ExecuteTime": {
     "end_time": "2020-02-22T11:52:59.443199Z",
     "start_time": "2020-02-22T11:52:59.437637Z"
    }
   },
   "outputs": [
    {
     "name": "stdout",
     "output_type": "stream",
     "text": [
      "3 bilinmeyenli doğrusal denklem sistemi oluşturulmuştur.\n"
     ]
    }
   ],
   "source": [
    "örnek_denklem_2=DoğrusalDenklem(A,b)"
   ]
  },
  {
   "cell_type": "code",
   "execution_count": 160,
   "metadata": {
    "ExecuteTime": {
     "end_time": "2020-02-22T11:53:02.447331Z",
     "start_time": "2020-02-22T11:53:02.441342Z"
    }
   },
   "outputs": [
    {
     "data": {
      "text/plain": [
       "array([[1., 0., 0., 1.],\n",
       "       [0., 1., 0., 2.],\n",
       "       [0., 0., 1., 3.]])"
      ]
     },
     "execution_count": 160,
     "metadata": {},
     "output_type": "execute_result"
    }
   ],
   "source": [
    "örnek_denklem_2.GaussJordan()"
   ]
  },
  {
   "cell_type": "code",
   "execution_count": 161,
   "metadata": {
    "ExecuteTime": {
     "end_time": "2020-02-22T11:53:07.064891Z",
     "start_time": "2020-02-22T11:53:07.060749Z"
    }
   },
   "outputs": [
    {
     "name": "stdout",
     "output_type": "stream",
     "text": [
      "Denklem Kümesinin Tek Çözümü mevcuttur.\n"
     ]
    }
   ],
   "source": [
    "sonuç=örnek_denklem_2.çözüm_durumu();"
   ]
  },
  {
   "cell_type": "code",
   "execution_count": 162,
   "metadata": {
    "ExecuteTime": {
     "end_time": "2020-02-22T11:53:08.966437Z",
     "start_time": "2020-02-22T11:53:08.960415Z"
    }
   },
   "outputs": [
    {
     "name": "stdout",
     "output_type": "stream",
     "text": [
      "tek\n"
     ]
    }
   ],
   "source": [
    "print(sonuç)"
   ]
  },
  {
   "cell_type": "code",
   "execution_count": 163,
   "metadata": {
    "ExecuteTime": {
     "end_time": "2020-02-22T11:53:12.505732Z",
     "start_time": "2020-02-22T11:53:12.497678Z"
    },
    "lines_to_next_cell": 2
   },
   "outputs": [],
   "source": [
    "# Durum 3 \n",
    "A=np.array([[1,0,0,1,1],[0,1,0,2,0],[0,0,1,0,1],[0,0,0,0,0]],float)\n",
    "b=np.array([[3],[2],[1],[0]],float)"
   ]
  },
  {
   "cell_type": "code",
   "execution_count": 164,
   "metadata": {
    "ExecuteTime": {
     "end_time": "2020-02-22T11:53:14.327358Z",
     "start_time": "2020-02-22T11:53:14.319313Z"
    }
   },
   "outputs": [
    {
     "name": "stdout",
     "output_type": "stream",
     "text": [
      "5 bilinmeyenli doğrusal denklem sistemi oluşturulmuştur.\n"
     ]
    }
   ],
   "source": [
    "örnek_denklem_3=DoğrusalDenklem(A,b)"
   ]
  },
  {
   "cell_type": "code",
   "execution_count": 165,
   "metadata": {
    "ExecuteTime": {
     "end_time": "2020-02-22T11:53:17.476584Z",
     "start_time": "2020-02-22T11:53:17.456164Z"
    }
   },
   "outputs": [
    {
     "data": {
      "text/plain": [
       "array([[1., 0., 0., 1., 1., 3.],\n",
       "       [0., 1., 0., 2., 0., 2.],\n",
       "       [0., 0., 1., 0., 1., 1.],\n",
       "       [0., 0., 0., 0., 0., 0.]])"
      ]
     },
     "execution_count": 165,
     "metadata": {},
     "output_type": "execute_result"
    }
   ],
   "source": [
    "örnek_denklem_3.denklem"
   ]
  },
  {
   "cell_type": "code",
   "execution_count": 166,
   "metadata": {
    "ExecuteTime": {
     "end_time": "2020-02-22T11:53:20.795434Z",
     "start_time": "2020-02-22T11:53:20.783406Z"
    }
   },
   "outputs": [
    {
     "name": "stdout",
     "output_type": "stream",
     "text": [
      "3. satırından sonra işlem yapılamamaktadır\n"
     ]
    },
    {
     "data": {
      "text/plain": [
       "array([[1., 0., 0., 1., 1., 3.],\n",
       "       [0., 1., 0., 2., 0., 2.],\n",
       "       [0., 0., 1., 0., 1., 1.],\n",
       "       [0., 0., 0., 0., 0., 0.]])"
      ]
     },
     "execution_count": 166,
     "metadata": {},
     "output_type": "execute_result"
    }
   ],
   "source": [
    "örnek_denklem_3.GaussJordan()"
   ]
  },
  {
   "cell_type": "code",
   "execution_count": 167,
   "metadata": {
    "ExecuteTime": {
     "end_time": "2020-02-22T11:53:24.485993Z",
     "start_time": "2020-02-22T11:53:24.481428Z"
    }
   },
   "outputs": [
    {
     "name": "stdout",
     "output_type": "stream",
     "text": [
      "3. satırından sonra işlem yapılamamaktadır\n",
      "Denklem Kümesinin Sonsuz Çözümü mevcuttur.\n"
     ]
    }
   ],
   "source": [
    "sonuç=örnek_denklem_3.çözüm_durumu()"
   ]
  },
  {
   "cell_type": "code",
   "execution_count": 168,
   "metadata": {
    "ExecuteTime": {
     "end_time": "2020-02-22T11:53:31.042502Z",
     "start_time": "2020-02-22T11:53:31.034485Z"
    }
   },
   "outputs": [
    {
     "data": {
      "text/plain": [
       "'sonsuz'"
      ]
     },
     "execution_count": 168,
     "metadata": {},
     "output_type": "execute_result"
    }
   ],
   "source": [
    "sonuç"
   ]
  },
  {
   "cell_type": "markdown",
   "metadata": {},
   "source": [
    "##  Problemler \n",
    "\n",
    "\n"
   ]
  },
  {
   "cell_type": "code",
   "execution_count": 194,
   "metadata": {
    "ExecuteTime": {
     "end_time": "2020-02-22T12:16:57.246724Z",
     "start_time": "2020-02-22T12:16:57.239135Z"
    }
   },
   "outputs": [],
   "source": [
    "def problem_çözer(A,b):\n",
    "    denklem=DoğrusalDenklem(A,b)\n",
    "    print(\"Çözüm: \\n\",denklem.GaussJordan(),\"\\n\")\n",
    "    print(\"Çözüm durumu : \",denklem.çözüm_durumu(),\"\\n\")"
   ]
  },
  {
   "cell_type": "code",
   "execution_count": 195,
   "metadata": {
    "ExecuteTime": {
     "end_time": "2020-02-22T12:16:57.744138Z",
     "start_time": "2020-02-22T12:16:57.736114Z"
    }
   },
   "outputs": [
    {
     "name": "stdout",
     "output_type": "stream",
     "text": [
      "4 bilinmeyenli doğrusal denklem sistemi oluşturulmuştur.\n",
      "2. satırından sonra işlem yapılamamaktadır\n",
      "Çözüm: \n",
      " [[ 1.  0. -1.  1. -1.]\n",
      " [ 0.  1.  1.  0.  4.]\n",
      " [ 0.  0.  0.  0.  1.]] \n",
      "\n",
      "2. satırından sonra işlem yapılamamaktadır\n",
      "Denklem Kümesi Çözümsüzdür.\n",
      "Çözüm durumu :  çözümsüz \n",
      "\n"
     ]
    }
   ],
   "source": [
    "# 1 \n",
    "A=np.array([[1,1,0,1],[0,1,1,0],[1,2,1,1]],float)\n",
    "b=np.array([[3],[4],[8]],float)\n",
    "problem_çözer(A,b)"
   ]
  },
  {
   "cell_type": "code",
   "execution_count": 196,
   "metadata": {
    "ExecuteTime": {
     "end_time": "2020-02-22T12:16:59.637442Z",
     "start_time": "2020-02-22T12:16:59.629420Z"
    }
   },
   "outputs": [
    {
     "name": "stdout",
     "output_type": "stream",
     "text": [
      "3 bilinmeyenli doğrusal denklem sistemi oluşturulmuştur.\n",
      "Çözüm: \n",
      " [[ 1.  0.  2.  2.]\n",
      " [ 0.  1. -1.  2.]] \n",
      "\n",
      "Denklem Kümesinin Sonsuz Çözümü mevcuttur.\n",
      "Çözüm durumu :  sonsuz \n",
      "\n"
     ]
    }
   ],
   "source": [
    "# 2 \n",
    "A=np.array([[1,1,1],[1,2,0]],float)\n",
    "b=np.array([[4],[6]],float)\n",
    "problem_çözer(A,b)"
   ]
  },
  {
   "cell_type": "code",
   "execution_count": 197,
   "metadata": {
    "ExecuteTime": {
     "end_time": "2020-02-22T12:23:40.357777Z",
     "start_time": "2020-02-22T12:23:40.349764Z"
    }
   },
   "outputs": [
    {
     "name": "stdout",
     "output_type": "stream",
     "text": [
      "2 bilinmeyenli doğrusal denklem sistemi oluşturulmuştur.\n",
      "2. satırından sonra işlem yapılamamaktadır\n",
      "Çözüm: \n",
      " [[ 1.  0.  2.]\n",
      " [-0.  1. -1.]\n",
      " [ 0.  0.  0.]] \n",
      "\n",
      "2. satırından sonra işlem yapılamamaktadır\n",
      "Denklem Kümesinin Sonsuz Çözümü mevcuttur.\n",
      "Çözüm durumu :  sonsuz \n",
      "\n"
     ]
    }
   ],
   "source": [
    "# 3 \n",
    "A=np.array([[1,1],[2,1],[3,2]],float)\n",
    "b=np.array([[1],[3],[4]],float)\n",
    "problem_çözer(A,b)"
   ]
  },
  {
   "cell_type": "code",
   "execution_count": 198,
   "metadata": {
    "ExecuteTime": {
     "end_time": "2020-02-22T12:24:11.531463Z",
     "start_time": "2020-02-22T12:24:11.521969Z"
    }
   },
   "outputs": [
    {
     "name": "stdout",
     "output_type": "stream",
     "text": [
      "4 bilinmeyenli doğrusal denklem sistemi oluşturulmuştur.\n",
      "Çözüm: \n",
      " [[ 1.          0.          0.66666667  0.33333333  3.33333333]\n",
      " [ 0.          1.          0.33333333 -0.33333333  0.66666667]] \n",
      "\n",
      "Denklem Kümesinin Sonsuz Çözümü mevcuttur.\n",
      "Çözüm durumu :  sonsuz \n",
      "\n"
     ]
    }
   ],
   "source": [
    "# 4 \n",
    "A=np.array([[2,-1,1,1],[1,1,1,0]],float)\n",
    "b=np.array([[6],[4]],float)\n",
    "problem_çözer(A,b)"
   ]
  },
  {
   "cell_type": "code",
   "execution_count": 199,
   "metadata": {
    "ExecuteTime": {
     "end_time": "2020-02-22T12:24:28.880222Z",
     "start_time": "2020-02-22T12:24:28.872207Z"
    }
   },
   "outputs": [
    {
     "name": "stdout",
     "output_type": "stream",
     "text": [
      "4 bilinmeyenli doğrusal denklem sistemi oluşturulmuştur.\n",
      "3. satırından sonra işlem yapılamamaktadır\n",
      "Çözüm: \n",
      " [[1.  0.  0.  1.  5. ]\n",
      " [0.  1.  0.  2.  5. ]\n",
      " [0.  0.  1.  0.5 1. ]\n",
      " [0.  0.  0.  0.  1. ]] \n",
      "\n",
      "3. satırından sonra işlem yapılamamaktadır\n",
      "Denklem Kümesi Çözümsüzdür.\n",
      "Çözüm durumu :  çözümsüz \n",
      "\n"
     ]
    }
   ],
   "source": [
    "# 5 \n",
    "A=np.array([[1,0,0,1],[0,1,0,2],[0,0,1,.5],[0,0,2,1]],float)\n",
    "b=np.array([[5],[5],[1],[3]],float)\n",
    "problem_çözer(A,b)"
   ]
  },
  {
   "cell_type": "code",
   "execution_count": 200,
   "metadata": {
    "ExecuteTime": {
     "end_time": "2020-02-22T12:24:40.361958Z",
     "start_time": "2020-02-22T12:24:40.352930Z"
    }
   },
   "outputs": [
    {
     "name": "stdout",
     "output_type": "stream",
     "text": [
      "3 bilinmeyenli doğrusal denklem sistemi oluşturulmuştur.\n",
      "Çözüm: \n",
      " [[ 1.  0.  0.  1.]\n",
      " [ 0.  1.  0.  1.]\n",
      " [-0. -0.  1.  1.]] \n",
      "\n",
      "Denklem Kümesinin Tek Çözümü mevcuttur.\n",
      "Çözüm durumu :  tek \n",
      "\n"
     ]
    }
   ],
   "source": [
    "# 6\n",
    "A=np.array([[0,2,2 ],[1,2,1 ],[0,1,-1 ]],float)\n",
    "b=np.array([[4],[4],[0]],float)\n",
    "problem_çözer(A,b)"
   ]
  },
  {
   "cell_type": "code",
   "execution_count": 201,
   "metadata": {
    "ExecuteTime": {
     "end_time": "2020-02-22T12:24:52.093048Z",
     "start_time": "2020-02-22T12:24:52.083062Z"
    }
   },
   "outputs": [
    {
     "name": "stdout",
     "output_type": "stream",
     "text": [
      "3 bilinmeyenli doğrusal denklem sistemi oluşturulmuştur.\n",
      "Çözüm: \n",
      " [[1. 0. 0. 1.]\n",
      " [0. 1. 0. 1.]\n",
      " [0. 0. 1. 2.]] \n",
      "\n",
      "Denklem Kümesinin Tek Çözümü mevcuttur.\n",
      "Çözüm durumu :  tek \n",
      "\n"
     ]
    }
   ],
   "source": [
    "# 7\n",
    "A=np.array([[1,1,0 ],[0,-1,2 ],[0,1,1 ]],float)\n",
    "b=np.array([[2],[3],[3]],float)\n",
    "problem_çözer(A,b)"
   ]
  },
  {
   "cell_type": "code",
   "execution_count": 203,
   "metadata": {
    "ExecuteTime": {
     "end_time": "2020-02-22T12:25:08.362226Z",
     "start_time": "2020-02-22T12:25:08.354214Z"
    }
   },
   "outputs": [
    {
     "name": "stdout",
     "output_type": "stream",
     "text": [
      "4 bilinmeyenli doğrusal denklem sistemi oluşturulmuştur.\n",
      "2. satırından sonra işlem yapılamamaktadır\n",
      "Çözüm: \n",
      " [[ 1.  0. -1. -1. -1.]\n",
      " [ 0.  1.  2.  1.  2.]\n",
      " [ 0.  0.  0.  1.  3.]] \n",
      "\n",
      "2. satırından sonra işlem yapılamamaktadır\n",
      "Denklem Kümesinin Sonsuz Çözümü mevcuttur.\n",
      "Çözüm durumu :  sonsuz \n",
      "\n"
     ]
    }
   ],
   "source": [
    "# 8\n",
    "A=np.array([[1,1,1 ,0],[0,1,2,1 ],[0,0,0,1 ]],float)\n",
    "b=np.array([[1],[2],[3]],float)\n",
    "problem_çözer(A,b)"
   ]
  },
  {
   "cell_type": "code",
   "execution_count": 209,
   "metadata": {
    "ExecuteTime": {
     "end_time": "2020-02-22T12:26:07.095413Z",
     "start_time": "2020-02-22T12:26:07.074013Z"
    }
   },
   "outputs": [
    {
     "name": "stdout",
     "output_type": "stream",
     "text": [
      "4 bilinmeyenli doğrusal denklem sistemi oluşturulmuştur.\n",
      "2. satırından sonra işlem yapılamamaktadır\n",
      "Çözüm: \n",
      " [[ 1.  0. -1. -1. -1.]\n",
      " [ 0.  1.  2.  1.  2.]\n",
      " [ 0.  0.  0.  1.  3.]] \n",
      "\n",
      "2. satırından sonra işlem yapılamamaktadır\n",
      "Denklem Kümesinin Sonsuz Çözümü mevcuttur.\n",
      "Çözüm durumu :  sonsuz \n",
      "\n"
     ]
    }
   ],
   "source": [
    "# 9 \n",
    "\n",
    "A=np.array([[1,1,1 ,0],[0,1,2,1 ],[0,0,0,1 ]],float)\n",
    "b=np.array([[1],[2],[3]],float)\n",
    "problem_çözer(A,b)\n",
    "değişken_sayısı=A.shape[1]"
   ]
  },
  {
   "cell_type": "code",
   "execution_count": 205,
   "metadata": {
    "ExecuteTime": {
     "end_time": "2020-02-22T12:25:23.044863Z",
     "start_time": "2020-02-22T12:25:23.036811Z"
    }
   },
   "outputs": [],
   "source": [
    "bulunabilecek_değişken_sayısı=b.shape[0]"
   ]
  },
  {
   "cell_type": "code",
   "execution_count": 206,
   "metadata": {
    "ExecuteTime": {
     "end_time": "2020-02-22T12:25:46.656891Z",
     "start_time": "2020-02-22T12:25:46.648818Z"
    }
   },
   "outputs": [
    {
     "data": {
      "text/plain": [
       "3"
      ]
     },
     "execution_count": 206,
     "metadata": {},
     "output_type": "execute_result"
    }
   ],
   "source": [
    "bulunabilecek_değişken_sayısı"
   ]
  },
  {
   "cell_type": "code",
   "execution_count": 207,
   "metadata": {
    "ExecuteTime": {
     "end_time": "2020-02-22T12:25:48.143973Z",
     "start_time": "2020-02-22T12:25:48.131954Z"
    }
   },
   "outputs": [
    {
     "data": {
      "text/plain": [
       "4"
      ]
     },
     "execution_count": 207,
     "metadata": {},
     "output_type": "execute_result"
    }
   ],
   "source": [
    "değişken_sayısı"
   ]
  },
  {
   "cell_type": "code",
   "execution_count": 208,
   "metadata": {
    "ExecuteTime": {
     "end_time": "2020-02-22T12:25:51.790756Z",
     "start_time": "2020-02-22T12:25:51.781172Z"
    }
   },
   "outputs": [
    {
     "name": "stdout",
     "output_type": "stream",
     "text": [
      "Tek bir çözüm olma şansı mevcut değildir.\n"
     ]
    }
   ],
   "source": [
    "if bulunabilecek_değişken_sayısı>değişken_sayısı:\n",
    "    print(\"Tek bir çözüm olma şansı mevcuttur.\")\n",
    "else:\n",
    "    print(\"Tek bir çözüm olma şansı mevcut değildir.\")"
   ]
  },
  {
   "cell_type": "markdown",
   "metadata": {
    "ExecuteTime": {
     "end_time": "2020-02-22T15:13:57.818294Z",
     "start_time": "2020-02-22T15:13:57.815321Z"
    }
   },
   "source": [
    "# Doğrusal Bağımsızlık ve Bağımlılık "
   ]
  },
  {
   "cell_type": "markdown",
   "metadata": {},
   "source": [
    "Bu bölümde doğrusal bağımlı/bağımsız doğrular , matrislerin kertesi(rankı) üzerine çalışacağız. Matrislerin tersi üzerine yapılacak çalışmalar da bu konular önemli olmaktadır."
   ]
  },
  {
   "cell_type": "code",
   "execution_count": 2,
   "metadata": {
    "ExecuteTime": {
     "end_time": "2020-03-08T09:05:59.593456Z",
     "start_time": "2020-03-08T09:05:59.591113Z"
    }
   },
   "outputs": [],
   "source": [
    "# V={v1,v2,v3,......,vk} vektörler kümesi (aynı uzunluğa sahip)"
   ]
  },
  {
   "cell_type": "markdown",
   "metadata": {},
   "source": [
    "<b> Doğrusal kombinasyonda c1*v1+c2*v2+......+ck*vk rastgele sayılardır. </b>"
   ]
  },
  {
   "cell_type": "code",
   "execution_count": 10,
   "metadata": {
    "ExecuteTime": {
     "end_time": "2020-03-08T09:12:22.969775Z",
     "start_time": "2020-03-08T09:12:22.965765Z"
    }
   },
   "outputs": [],
   "source": [
    "v1=np.array([1,2]);v2=np.array([2,1])"
   ]
  },
  {
   "cell_type": "code",
   "execution_count": 11,
   "metadata": {
    "ExecuteTime": {
     "end_time": "2020-03-08T09:12:23.228108Z",
     "start_time": "2020-03-08T09:12:23.224097Z"
    }
   },
   "outputs": [],
   "source": [
    "V=np.array([v1,v2])"
   ]
  },
  {
   "cell_type": "code",
   "execution_count": 14,
   "metadata": {
    "ExecuteTime": {
     "end_time": "2020-03-08T09:13:15.685914Z",
     "start_time": "2020-03-08T09:13:15.681904Z"
    }
   },
   "outputs": [
    {
     "data": {
      "text/plain": [
       "array([ True,  True])"
      ]
     },
     "execution_count": 14,
     "metadata": {},
     "output_type": "execute_result"
    }
   ],
   "source": [
    "2*v1-v2==2*V[0]-V[1]  #1"
   ]
  },
  {
   "cell_type": "code",
   "execution_count": 15,
   "metadata": {
    "ExecuteTime": {
     "end_time": "2020-03-08T09:13:21.503710Z",
     "start_time": "2020-03-08T09:13:21.499681Z"
    }
   },
   "outputs": [
    {
     "data": {
      "text/plain": [
       "array([ True,  True])"
      ]
     },
     "execution_count": 15,
     "metadata": {},
     "output_type": "execute_result"
    }
   ],
   "source": [
    "2*V[0]-V[1]==np.array([0,3]) #1"
   ]
  },
  {
   "cell_type": "code",
   "execution_count": 16,
   "metadata": {
    "ExecuteTime": {
     "end_time": "2020-03-08T09:14:43.071653Z",
     "start_time": "2020-03-08T09:14:43.066673Z"
    }
   },
   "outputs": [
    {
     "data": {
      "text/plain": [
       "array([ True,  True])"
      ]
     },
     "execution_count": 16,
     "metadata": {},
     "output_type": "execute_result"
    }
   ],
   "source": [
    "np.array([1,2])+3*np.array([2,1])== 1*V[0]+3*V[1]  #2"
   ]
  },
  {
   "cell_type": "markdown",
   "metadata": {},
   "source": [
    "<br><i> * m boyutlu V vektör kümesindeki vektörlerin sıradan doğrusal kombinasyonu 0'a eşitse <b>doğrusal bağımsız </b> dır. </i>"
   ]
  },
  {
   "cell_type": "markdown",
   "metadata": {
    "ExecuteTime": {
     "end_time": "2020-03-08T09:23:16.988771Z",
     "start_time": "2020-03-08T09:23:16.985393Z"
    }
   },
   "source": [
    "<br><i> * m boyutlu V vektör kümesindeki vektörlerin sıradan olmayan doğrusal kombinasyonun toplamı 0'a eşitse <b>doğrusal bağımlı</b> dır </i>"
   ]
  },
  {
   "cell_type": "code",
   "execution_count": 55,
   "metadata": {
    "ExecuteTime": {
     "end_time": "2020-03-08T09:52:38.336825Z",
     "start_time": "2020-03-08T09:52:38.333843Z"
    }
   },
   "outputs": [],
   "source": [
    "# Örnek 8 \n",
    "\n",
    "V=np.array([[0,0],[1,0],[0,1]])"
   ]
  },
  {
   "cell_type": "code",
   "execution_count": 56,
   "metadata": {
    "ExecuteTime": {
     "end_time": "2020-03-08T09:52:38.705225Z",
     "start_time": "2020-03-08T09:52:38.700262Z"
    }
   },
   "outputs": [
    {
     "data": {
      "text/plain": [
       "True"
      ]
     },
     "execution_count": 56,
     "metadata": {},
     "output_type": "execute_result"
    }
   ],
   "source": [
    "c1=1;\n",
    "c1!=0"
   ]
  },
  {
   "cell_type": "code",
   "execution_count": 57,
   "metadata": {
    "ExecuteTime": {
     "end_time": "2020-03-08T09:52:39.215716Z",
     "start_time": "2020-03-08T09:52:39.208698Z"
    }
   },
   "outputs": [
    {
     "data": {
      "text/plain": [
       "array([ True,  True])"
      ]
     },
     "execution_count": 57,
     "metadata": {},
     "output_type": "execute_result"
    }
   ],
   "source": [
    "(c1*V[0]+0*V[1]+0*V[2])==np.array([0,0]) ## Doğrusal bağımlıdır."
   ]
  },
  {
   "cell_type": "code",
   "execution_count": 38,
   "metadata": {
    "ExecuteTime": {
     "end_time": "2020-03-08T09:45:14.072947Z",
     "start_time": "2020-03-08T09:45:14.067934Z"
    }
   },
   "outputs": [
    {
     "name": "stdout",
     "output_type": "stream",
     "text": [
      "Doğrusal bağımlı: [ True  True]\n"
     ]
    }
   ],
   "source": [
    "# Örnek 9\n",
    "\n",
    "V=np.array([[1,0],[0,1]])\n",
    "\n",
    "c1=0;c2=0\n",
    "if c1==0 and c2==0:\n",
    "    \n",
    "    print(\"Doğrusal bağımlı:\",c1*V[0]+c2*V[1]==np.array([0,0])) \n",
    "\n",
    "    \n",
    "# Sadece c1=0 ve c2=0 için geçerlidir. Aksi halde doğruluğu sağlayamamaktadırlar. "
   ]
  },
  {
   "cell_type": "code",
   "execution_count": 54,
   "metadata": {
    "ExecuteTime": {
     "end_time": "2020-03-08T09:50:23.227074Z",
     "start_time": "2020-03-08T09:50:23.222148Z"
    },
    "lines_to_end_of_cell_marker": 2
   },
   "outputs": [
    {
     "name": "stdout",
     "output_type": "stream",
     "text": [
      "Doğrusal bağımlı: [ True  True]\n"
     ]
    }
   ],
   "source": [
    "# Örnek 10\n",
    "\n",
    "V=np.array([[1,2],[2,4]])\n",
    "\n",
    "c1=2;c2=-1\n",
    "\n",
    "print(\"Doğrusal bağımlı:\",(c1*V[0]+c2*V[1])==np.array([0,0])) "
   ]
  },
  {
   "cell_type": "code",
   "execution_count": 48,
   "metadata": {
    "ExecuteTime": {
     "end_time": "2020-03-08T09:49:04.752830Z",
     "start_time": "2020-03-08T09:49:04.327495Z"
    }
   },
   "outputs": [
    {
     "name": "stdout",
     "output_type": "stream",
     "text": [
      "Doğrusal bağımlı: c1=-100 ve c2=50\n",
      "Doğrusal bağımlı: c1=-98 ve c2=49\n",
      "Doğrusal bağımlı: c1=-96 ve c2=48\n",
      "Doğrusal bağımlı: c1=-94 ve c2=47\n",
      "Doğrusal bağımlı: c1=-92 ve c2=46\n",
      "Doğrusal bağımlı: c1=-90 ve c2=45\n",
      "Doğrusal bağımlı: c1=-88 ve c2=44\n",
      "Doğrusal bağımlı: c1=-86 ve c2=43\n",
      "Doğrusal bağımlı: c1=-84 ve c2=42\n",
      "Doğrusal bağımlı: c1=-82 ve c2=41\n",
      "Doğrusal bağımlı: c1=-80 ve c2=40\n",
      "Doğrusal bağımlı: c1=-78 ve c2=39\n",
      "Doğrusal bağımlı: c1=-76 ve c2=38\n",
      "Doğrusal bağımlı: c1=-74 ve c2=37\n",
      "Doğrusal bağımlı: c1=-72 ve c2=36\n",
      "Doğrusal bağımlı: c1=-70 ve c2=35\n",
      "Doğrusal bağımlı: c1=-68 ve c2=34\n",
      "Doğrusal bağımlı: c1=-66 ve c2=33\n",
      "Doğrusal bağımlı: c1=-64 ve c2=32\n",
      "Doğrusal bağımlı: c1=-62 ve c2=31\n",
      "Doğrusal bağımlı: c1=-60 ve c2=30\n",
      "Doğrusal bağımlı: c1=-58 ve c2=29\n",
      "Doğrusal bağımlı: c1=-56 ve c2=28\n",
      "Doğrusal bağımlı: c1=-54 ve c2=27\n",
      "Doğrusal bağımlı: c1=-52 ve c2=26\n",
      "Doğrusal bağımlı: c1=-50 ve c2=25\n",
      "Doğrusal bağımlı: c1=-48 ve c2=24\n",
      "Doğrusal bağımlı: c1=-46 ve c2=23\n",
      "Doğrusal bağımlı: c1=-44 ve c2=22\n",
      "Doğrusal bağımlı: c1=-42 ve c2=21\n",
      "Doğrusal bağımlı: c1=-40 ve c2=20\n",
      "Doğrusal bağımlı: c1=-38 ve c2=19\n",
      "Doğrusal bağımlı: c1=-36 ve c2=18\n",
      "Doğrusal bağımlı: c1=-34 ve c2=17\n",
      "Doğrusal bağımlı: c1=-32 ve c2=16\n",
      "Doğrusal bağımlı: c1=-30 ve c2=15\n",
      "Doğrusal bağımlı: c1=-28 ve c2=14\n",
      "Doğrusal bağımlı: c1=-26 ve c2=13\n",
      "Doğrusal bağımlı: c1=-24 ve c2=12\n",
      "Doğrusal bağımlı: c1=-22 ve c2=11\n",
      "Doğrusal bağımlı: c1=-20 ve c2=10\n",
      "Doğrusal bağımlı: c1=-18 ve c2=9\n",
      "Doğrusal bağımlı: c1=-16 ve c2=8\n",
      "Doğrusal bağımlı: c1=-14 ve c2=7\n",
      "Doğrusal bağımlı: c1=-12 ve c2=6\n",
      "Doğrusal bağımlı: c1=-10 ve c2=5\n",
      "Doğrusal bağımlı: c1=-8 ve c2=4\n",
      "Doğrusal bağımlı: c1=-6 ve c2=3\n",
      "Doğrusal bağımlı: c1=-4 ve c2=2\n",
      "Doğrusal bağımlı: c1=-2 ve c2=1\n",
      "Doğrusal bağımlı: c1=0 ve c2=0\n",
      "Doğrusal bağımlı: c1=2 ve c2=-1\n",
      "Doğrusal bağımlı: c1=4 ve c2=-2\n",
      "Doğrusal bağımlı: c1=6 ve c2=-3\n",
      "Doğrusal bağımlı: c1=8 ve c2=-4\n",
      "Doğrusal bağımlı: c1=10 ve c2=-5\n",
      "Doğrusal bağımlı: c1=12 ve c2=-6\n",
      "Doğrusal bağımlı: c1=14 ve c2=-7\n",
      "Doğrusal bağımlı: c1=16 ve c2=-8\n",
      "Doğrusal bağımlı: c1=18 ve c2=-9\n",
      "Doğrusal bağımlı: c1=20 ve c2=-10\n",
      "Doğrusal bağımlı: c1=22 ve c2=-11\n",
      "Doğrusal bağımlı: c1=24 ve c2=-12\n",
      "Doğrusal bağımlı: c1=26 ve c2=-13\n",
      "Doğrusal bağımlı: c1=28 ve c2=-14\n",
      "Doğrusal bağımlı: c1=30 ve c2=-15\n",
      "Doğrusal bağımlı: c1=32 ve c2=-16\n",
      "Doğrusal bağımlı: c1=34 ve c2=-17\n",
      "Doğrusal bağımlı: c1=36 ve c2=-18\n",
      "Doğrusal bağımlı: c1=38 ve c2=-19\n",
      "Doğrusal bağımlı: c1=40 ve c2=-20\n",
      "Doğrusal bağımlı: c1=42 ve c2=-21\n",
      "Doğrusal bağımlı: c1=44 ve c2=-22\n",
      "Doğrusal bağımlı: c1=46 ve c2=-23\n",
      "Doğrusal bağımlı: c1=48 ve c2=-24\n",
      "Doğrusal bağımlı: c1=50 ve c2=-25\n",
      "Doğrusal bağımlı: c1=52 ve c2=-26\n",
      "Doğrusal bağımlı: c1=54 ve c2=-27\n",
      "Doğrusal bağımlı: c1=56 ve c2=-28\n",
      "Doğrusal bağımlı: c1=58 ve c2=-29\n",
      "Doğrusal bağımlı: c1=60 ve c2=-30\n",
      "Doğrusal bağımlı: c1=62 ve c2=-31\n",
      "Doğrusal bağımlı: c1=64 ve c2=-32\n",
      "Doğrusal bağımlı: c1=66 ve c2=-33\n",
      "Doğrusal bağımlı: c1=68 ve c2=-34\n",
      "Doğrusal bağımlı: c1=70 ve c2=-35\n",
      "Doğrusal bağımlı: c1=72 ve c2=-36\n",
      "Doğrusal bağımlı: c1=74 ve c2=-37\n",
      "Doğrusal bağımlı: c1=76 ve c2=-38\n",
      "Doğrusal bağımlı: c1=78 ve c2=-39\n",
      "Doğrusal bağımlı: c1=80 ve c2=-40\n",
      "Doğrusal bağımlı: c1=82 ve c2=-41\n",
      "Doğrusal bağımlı: c1=84 ve c2=-42\n",
      "Doğrusal bağımlı: c1=86 ve c2=-43\n",
      "Doğrusal bağımlı: c1=88 ve c2=-44\n",
      "Doğrusal bağımlı: c1=90 ve c2=-45\n",
      "Doğrusal bağımlı: c1=92 ve c2=-46\n",
      "Doğrusal bağımlı: c1=94 ve c2=-47\n",
      "Doğrusal bağımlı: c1=96 ve c2=-48\n",
      "Doğrusal bağımlı: c1=98 ve c2=-49\n"
     ]
    }
   ],
   "source": [
    "V=np.array([[1,2],[2,4]])\n",
    "for i in range(-100,100):\n",
    "    c1=i\n",
    "    for j in range(-100,100):\n",
    "        c2=j\n",
    "        if ((c1*V[0]+c2*V[1])==np.array([0,0])).mean()==1:\n",
    "            print(\"Doğrusal bağımlı: c1={c1} ve c2={c2}\".format(c1=c1,c2=c2))"
   ]
  },
  {
   "cell_type": "code",
   "execution_count": 116,
   "metadata": {
    "ExecuteTime": {
     "end_time": "2020-03-08T10:26:54.501840Z",
     "start_time": "2020-03-08T10:26:54.385525Z"
    }
   },
   "outputs": [
    {
     "data": {
      "image/png": "[encoded data removed]",
      "text/plain": [
       "<Figure size 432x288 with 1 Axes>"
      ]
     },
     "metadata": {
      "needs_background": "light"
     },
     "output_type": "display_data"
    }
   ],
   "source": [
    "# Resim 7 \n",
    "\n",
    "# A\n",
    "# Doğrusal Bağımlı\n",
    "# Kırmızı  : v2\n",
    "# Mavi : v1\n",
    "\n",
    "v1=[1,1]\n",
    "v2=[2,2]\n",
    "plt.quiver([0, 0],[0, 0],  [1, 2], [1, 2],color=['b','r'], angles='xy',width=0.015,scale_units='xy', scale=1)\n",
    "plt.xlim(-3,3)\n",
    "plt.ylim(-3, 3)\n",
    "plt.grid(b=True, which='major') \n",
    "plt.show()"
   ]
  },
  {
   "cell_type": "code",
   "execution_count": 119,
   "metadata": {
    "ExecuteTime": {
     "end_time": "2020-03-08T10:27:23.675671Z",
     "start_time": "2020-03-08T10:27:23.574365Z"
    }
   },
   "outputs": [
    {
     "data": {
      "image/png": "[encoded data removed]",
      "text/plain": [
       "<Figure size 432x288 with 1 Axes>"
      ]
     },
     "metadata": {
      "needs_background": "light"
     },
     "output_type": "display_data"
    }
   ],
   "source": [
    "# B\n",
    "# Doğrusal Bağımsız\n",
    "# Kırmızı  : v2\n",
    "# Mavi : v1\n",
    "\n",
    "v1=[1,1]\n",
    "v2=[1,0]\n",
    "plt.quiver([0, 0],[0, 0],  [1, 1], [1,0],color=['r','b'], angles='xy',width=0.015, scale_units='xy', scale=1)\n",
    "plt.xlim(-1.5,1.5)\n",
    "plt.ylim(-1.5, 1.5)\n",
    "plt.grid(b=True, which='major') \n",
    "plt.show()"
   ]
  },
  {
   "cell_type": "markdown",
   "metadata": {},
   "source": [
    "## Matrisin Rankı"
   ]
  },
  {
   "cell_type": "markdown",
   "metadata": {
    "ExecuteTime": {
     "end_time": "2020-03-08T10:30:07.409920Z",
     "start_time": "2020-03-08T10:30:07.405910Z"
    }
   },
   "source": [
    "Gauss Jordan metodu bize vektör kümesinin doğrusal bağımlı ya da bağımsız olduğu bilgisini verebilir. "
   ]
  },
  {
   "cell_type": "markdown",
   "metadata": {},
   "source": [
    " A mXn lik bir matris ise, R={r1,r2,r3,.....,rm} 'den oluşan bir satırlar kümesi olarakta gösterilebilir. "
   ]
  },
  {
   "cell_type": "markdown",
   "metadata": {
    "ExecuteTime": {
     "end_time": "2020-03-08T10:32:41.931104Z",
     "start_time": "2020-03-08T10:32:41.926091Z"
    }
   },
   "source": [
    "<b> A matrisinin rankı R kümesinin en fazla doğrusal bağımsız olan vektör sayısıdır . </b>"
   ]
  },
  {
   "cell_type": "code",
   "execution_count": 128,
   "metadata": {
    "ExecuteTime": {
     "end_time": "2020-03-08T10:35:45.571260Z",
     "start_time": "2020-03-08T10:35:45.567233Z"
    }
   },
   "outputs": [
    {
     "data": {
      "text/plain": [
       "{'r1': array([0, 0]), 'r2': array([0, 0])}"
      ]
     },
     "execution_count": 128,
     "metadata": {},
     "output_type": "execute_result"
    }
   ],
   "source": [
    "# Örnek 11 \n",
    "\n",
    "A=np.array([[0,0],[0,0]])\n",
    "\n",
    "R={'r1':A[0],'r2':A[1]}\n",
    "\n",
    "R # Örnek 8 de olduğu gibi bağımsız olan bir alt küme seçme şansı bulunmamaktadır. "
   ]
  },
  {
   "cell_type": "code",
   "execution_count": 133,
   "metadata": {
    "ExecuteTime": {
     "end_time": "2020-03-08T10:40:51.852710Z",
     "start_time": "2020-03-08T10:40:51.847698Z"
    }
   },
   "outputs": [
    {
     "data": {
      "text/plain": [
       "array([ True,  True])"
      ]
     },
     "execution_count": 133,
     "metadata": {},
     "output_type": "execute_result"
    }
   ],
   "source": [
    "# Örnek 12\n",
    "\n",
    "A=np.array([[1,1],[2,2]])\n",
    "\n",
    "R={'r1':A[0],'r2':A[1]}\n",
    "\n",
    "R['r1']*2-R['r2']==0\n",
    "\n",
    "# Dolasıyla r1 ile r2 doğrusal olarak bağımlıdır. \n",
    "\n",
    "# Sonuç olarak sadece 1 adet vektör alabiliriz. A'nın rankı 1 dir."
   ]
  },
  {
   "cell_type": "code",
   "execution_count": 134,
   "metadata": {
    "ExecuteTime": {
     "end_time": "2020-03-08T10:40:52.103237Z",
     "start_time": "2020-03-08T10:40:52.098228Z"
    }
   },
   "outputs": [
    {
     "data": {
      "text/plain": [
       "array([ True,  True])"
      ]
     },
     "execution_count": 134,
     "metadata": {},
     "output_type": "execute_result"
    }
   ],
   "source": [
    "# Örnek 13\n",
    "\n",
    "A=np.array([[1,0],[0,1]])\n",
    "\n",
    "R={'r1':A[0],'r2':A[1]}\n",
    "\n",
    "R['r1']*2-R['r2']!=0\n",
    "\n",
    "# Dolasıyla r1 ile r2 doğrusal olarak bağımsızdır. \n",
    "\n",
    "# A'nın rankı 2 dir."
   ]
  },
  {
   "cell_type": "code",
   "execution_count": 143,
   "metadata": {
    "ExecuteTime": {
     "end_time": "2020-03-08T10:42:38.287401Z",
     "start_time": "2020-03-08T10:42:38.284393Z"
    }
   },
   "outputs": [
    {
     "name": "stdout",
     "output_type": "stream",
     "text": [
      "1 bilinmeyenli doğrusal denklem sistemi oluşturulmuştur.\n"
     ]
    }
   ],
   "source": [
    "Örnek13=DoğrusalDenklem(np.array([[1],[0]]),np.array([[0],[1]]))"
   ]
  },
  {
   "cell_type": "code",
   "execution_count": 146,
   "metadata": {
    "ExecuteTime": {
     "end_time": "2020-03-08T10:42:57.519234Z",
     "start_time": "2020-03-08T10:42:57.515221Z"
    }
   },
   "outputs": [
    {
     "data": {
      "text/plain": [
       "array([[1, 0],\n",
       "       [0, 1]])"
      ]
     },
     "execution_count": 146,
     "metadata": {},
     "output_type": "execute_result"
    }
   ],
   "source": [
    "Örnek13.denklem"
   ]
  },
  {
   "cell_type": "code",
   "execution_count": 147,
   "metadata": {
    "ExecuteTime": {
     "end_time": "2020-03-08T10:43:01.047680Z",
     "start_time": "2020-03-08T10:43:01.043677Z"
    }
   },
   "outputs": [
    {
     "data": {
      "text/plain": [
       "array([[1, 0],\n",
       "       [0, 1]])"
      ]
     },
     "execution_count": 147,
     "metadata": {},
     "output_type": "execute_result"
    }
   ],
   "source": [
    "Örnek13.GaussJordan()"
   ]
  },
  {
   "cell_type": "code",
   "execution_count": 154,
   "metadata": {
    "ExecuteTime": {
     "end_time": "2020-03-08T10:45:27.569562Z",
     "start_time": "2020-03-08T10:45:27.562813Z"
    }
   },
   "outputs": [
    {
     "name": "stdout",
     "output_type": "stream",
     "text": [
      "3 bilinmeyenli doğrusal denklem sistemi oluşturulmuştur.\n"
     ]
    },
    {
     "data": {
      "text/plain": [
       "array([[1., 0., 0.],\n",
       "       [0., 2., 1.],\n",
       "       [0., 2., 3.]])"
      ]
     },
     "execution_count": 154,
     "metadata": {},
     "output_type": "execute_result"
    }
   ],
   "source": [
    "# Örnek 14 Gauss Jordan ile Çözüm\n",
    "\n",
    "A=np.array([[1,0,0],[0,2,1],[0,2,3]])\n",
    "\n",
    "Örnek14=DoğrusalDenklem(A,np.array([[],[],[]]))\n",
    "\n",
    "Örnek14.denklem"
   ]
  },
  {
   "cell_type": "code",
   "execution_count": 155,
   "metadata": {
    "ExecuteTime": {
     "end_time": "2020-03-08T10:45:36.310939Z",
     "start_time": "2020-03-08T10:45:36.306395Z"
    }
   },
   "outputs": [
    {
     "data": {
      "text/plain": [
       "array([[1., 0., 0.],\n",
       "       [0., 1., 0.],\n",
       "       [0., 0., 1.]])"
      ]
     },
     "execution_count": 155,
     "metadata": {},
     "output_type": "execute_result"
    }
   ],
   "source": [
    "Örnek14.GaussJordan()"
   ]
  },
  {
   "cell_type": "code",
   "execution_count": 156,
   "metadata": {
    "ExecuteTime": {
     "end_time": "2020-03-08T10:46:19.834510Z",
     "start_time": "2020-03-08T10:46:19.832535Z"
    }
   },
   "outputs": [],
   "source": [
    "# Rank A = Rank -A = 3"
   ]
  },
  {
   "cell_type": "markdown",
   "metadata": {},
   "source": [
    "## Vektör Kümesinin Doğrusal Bağımsız Olduğunu Nasıl Söyleriz ? "
   ]
  },
  {
   "cell_type": "markdown",
   "metadata": {},
   "source": [
    "V={v1,v2,v3,......,vk} vektörler kümesinin her bir vi elamanı bir matrisin satırı olduğunu farz edersek ve m adet satırı varsa, \n",
    "eğer bu matrisin rankı m' e eşitse doğrusal bağımsız , m 'den küçün ise doğrusal bağımlıdır."
   ]
  },
  {
   "cell_type": "code",
   "execution_count": 158,
   "metadata": {
    "ExecuteTime": {
     "end_time": "2020-03-08T10:53:49.511317Z",
     "start_time": "2020-03-08T10:53:49.505300Z"
    }
   },
   "outputs": [
    {
     "name": "stdout",
     "output_type": "stream",
     "text": [
      "3 bilinmeyenli doğrusal denklem sistemi oluşturulmuştur.\n"
     ]
    },
    {
     "data": {
      "text/plain": [
       "array([[1., 0., 0.],\n",
       "       [0., 1., 0.],\n",
       "       [1., 1., 0.]])"
      ]
     },
     "execution_count": 158,
     "metadata": {},
     "output_type": "execute_result"
    }
   ],
   "source": [
    "# Örnek 15 Doğrusal Bağımlı Vektörler\n",
    "\n",
    "A=np.array([[1,0,0],[0,1,0],[1,1,0]])\n",
    "\n",
    "Örnek15=DoğrusalDenklem(A,np.array([[],[],[]]))\n",
    "\n",
    "Örnek15.denklem"
   ]
  },
  {
   "cell_type": "code",
   "execution_count": 159,
   "metadata": {
    "ExecuteTime": {
     "end_time": "2020-03-08T10:53:57.749083Z",
     "start_time": "2020-03-08T10:53:57.745106Z"
    }
   },
   "outputs": [
    {
     "name": "stdout",
     "output_type": "stream",
     "text": [
      "2. satırından sonra işlem yapılamamaktadır\n"
     ]
    },
    {
     "data": {
      "text/plain": [
       "array([[1., 0., 0.],\n",
       "       [0., 1., 0.],\n",
       "       [0., 0., 0.]])"
      ]
     },
     "execution_count": 159,
     "metadata": {},
     "output_type": "execute_result"
    }
   ],
   "source": [
    "Örnek15.GaussJordan()"
   ]
  },
  {
   "cell_type": "code",
   "execution_count": 160,
   "metadata": {
    "ExecuteTime": {
     "end_time": "2020-03-08T10:54:48.586220Z",
     "start_time": "2020-03-08T10:54:48.584105Z"
    }
   },
   "outputs": [],
   "source": [
    "# Rank A = 2 , m=3 , dolasıyla doğrusal olarak bağımlıdır."
   ]
  },
  {
   "cell_type": "markdown",
   "metadata": {},
   "source": [
    "## Problemler"
   ]
  },
  {
   "cell_type": "code",
   "execution_count": 170,
   "metadata": {
    "ExecuteTime": {
     "end_time": "2020-03-08T11:02:31.808429Z",
     "start_time": "2020-03-08T11:02:31.804512Z"
    }
   },
   "outputs": [
    {
     "name": "stdout",
     "output_type": "stream",
     "text": [
      "2. satırından sonra işlem yapılamamaktadır\n"
     ]
    }
   ],
   "source": [
    "z=Örnek15.GaussJordan()"
   ]
  },
  {
   "cell_type": "code",
   "execution_count": 201,
   "metadata": {
    "ExecuteTime": {
     "end_time": "2020-03-08T12:18:15.858279Z",
     "start_time": "2020-03-08T12:18:15.850298Z"
    }
   },
   "outputs": [
    {
     "name": "stdout",
     "output_type": "stream",
     "text": [
      "3 bilinmeyenli doğrusal denklem sistemi oluşturulmuştur.\n"
     ]
    }
   ],
   "source": [
    "# Soru 1 \n",
    "\n",
    "A=np.array([[1,0,1],[1,2,1],[2,2,2]])\n",
    "m=A.shape[0]\n",
    "n=A.shape[1]\n",
    "Empty=np.array([[]*n]*m) \n",
    "soru=DoğrusalDenklem(A,Empty)\n"
   ]
  },
  {
   "cell_type": "code",
   "execution_count": 202,
   "metadata": {
    "ExecuteTime": {
     "end_time": "2020-03-08T12:18:25.732038Z",
     "start_time": "2020-03-08T12:18:25.724031Z"
    }
   },
   "outputs": [
    {
     "name": "stdout",
     "output_type": "stream",
     "text": [
      "2. satırından sonra işlem yapılamamaktadır\n"
     ]
    },
    {
     "data": {
      "text/plain": [
       "False"
      ]
     },
     "execution_count": 202,
     "metadata": {},
     "output_type": "execute_result"
    }
   ],
   "source": [
    "soru.doğrusal_bağımsız()"
   ]
  },
  {
   "cell_type": "code",
   "execution_count": 190,
   "metadata": {
    "ExecuteTime": {
     "end_time": "2020-03-08T12:11:28.141896Z",
     "start_time": "2020-03-08T12:11:28.137891Z"
    }
   },
   "outputs": [],
   "source": [
    "def rank_sayar(Ab):\n",
    "    say=0\n",
    "    satır_sayısı=Ab.shape[0]\n",
    "    for i in range(satır_sayısı):\n",
    "           if Ab[i][i]==1 and Ab[:,i].sum()==1:\n",
    "                say+=1\n",
    "    return say"
   ]
  },
  {
   "cell_type": "code",
   "execution_count": 197,
   "metadata": {
    "ExecuteTime": {
     "end_time": "2020-03-08T12:14:02.960017Z",
     "start_time": "2020-03-08T12:14:02.952022Z"
    }
   },
   "outputs": [
    {
     "name": "stdout",
     "output_type": "stream",
     "text": [
      "2. satırından sonra işlem yapılamamaktadır\n"
     ]
    }
   ],
   "source": [
    "rank_sayısı=soru.rank_sayar()"
   ]
  },
  {
   "cell_type": "code",
   "execution_count": 199,
   "metadata": {
    "ExecuteTime": {
     "end_time": "2020-03-08T12:16:36.334718Z",
     "start_time": "2020-03-08T12:16:36.326741Z"
    }
   },
   "outputs": [],
   "source": [
    "def doğrusal_bağımsız(Ab):\n",
    "    rank=rank_sayar(Ab)\n",
    "    m=Ab.shape[0]\n",
    "    if m==rank:\n",
    "        return True\n",
    "    elif m>rank:\n",
    "        return False\n",
    "    else:\n",
    "        return \"Error\""
   ]
  },
  {
   "cell_type": "code",
   "execution_count": 203,
   "metadata": {
    "ExecuteTime": {
     "end_time": "2020-03-08T12:19:23.837558Z",
     "start_time": "2020-03-08T12:19:23.829547Z"
    }
   },
   "outputs": [
    {
     "name": "stdout",
     "output_type": "stream",
     "text": [
      "3 bilinmeyenli doğrusal denklem sistemi oluşturulmuştur.\n"
     ]
    },
    {
     "data": {
      "text/plain": [
       "True"
      ]
     },
     "execution_count": 203,
     "metadata": {},
     "output_type": "execute_result"
    }
   ],
   "source": [
    "# Soru 2 \n",
    "\n",
    "A=np.array([[2,1,0],[1,2,0],[3,3,1]])\n",
    "m=A.shape[0]\n",
    "n=A.shape[1]\n",
    "Empty=np.array([[]*n]*m) \n",
    "soru=DoğrusalDenklem(A,Empty)\n",
    "soru.doğrusal_bağımsız()"
   ]
  },
  {
   "cell_type": "code",
   "execution_count": 204,
   "metadata": {
    "ExecuteTime": {
     "end_time": "2020-03-08T12:19:33.436014Z",
     "start_time": "2020-03-08T12:19:33.427466Z"
    }
   },
   "outputs": [
    {
     "data": {
      "text/plain": [
       "array([[1., 0., 0.],\n",
       "       [0., 1., 0.],\n",
       "       [0., 0., 1.]])"
      ]
     },
     "execution_count": 204,
     "metadata": {},
     "output_type": "execute_result"
    }
   ],
   "source": [
    "soru.GaussJordan()"
   ]
  },
  {
   "cell_type": "code",
   "execution_count": 13,
   "metadata": {
    "ExecuteTime": {
     "end_time": "2020-03-08T12:37:33.526093Z",
     "start_time": "2020-03-08T12:37:33.522119Z"
    }
   },
   "outputs": [],
   "source": [
    "# Soru 3 \n",
    "A=np.array([[2,1],[1,2]])\n",
    "def soru_çözer(A):\n",
    "    m=A.shape[0]\n",
    "    n=A.shape[1]\n",
    "    Empty=np.array([[]*n]*m) \n",
    "    soru=DoğrusalDenklem(A,Empty)\n",
    "    print(\"Çözüm \\n\",soru.GaussJordan())\n",
    "    return print(\"Doğrusal bağımsız:\",soru.doğrusal_bağımsız())"
   ]
  },
  {
   "cell_type": "code",
   "execution_count": 14,
   "metadata": {
    "ExecuteTime": {
     "end_time": "2020-03-08T12:37:34.011066Z",
     "start_time": "2020-03-08T12:37:34.003081Z"
    }
   },
   "outputs": [
    {
     "name": "stdout",
     "output_type": "stream",
     "text": [
      "2 bilinmeyenli doğrusal denklem sistemi oluşturulmuştur.\n",
      "Çözüm \n",
      " [[1. 0.]\n",
      " [0. 1.]]\n",
      "Doğrusal bağımsız: True\n"
     ]
    }
   ],
   "source": [
    "soru_çözer(A)"
   ]
  },
  {
   "cell_type": "code",
   "execution_count": 15,
   "metadata": {
    "ExecuteTime": {
     "end_time": "2020-03-08T12:38:03.762396Z",
     "start_time": "2020-03-08T12:38:03.754385Z"
    },
    "lines_to_next_cell": 2
   },
   "outputs": [
    {
     "name": "stdout",
     "output_type": "stream",
     "text": [
      "2 bilinmeyenli doğrusal denklem sistemi oluşturulmuştur.\n",
      "1. satırından sonra işlem yapılamamaktadır\n",
      "Çözüm \n",
      " [[1. 0.]\n",
      " [0. 0.]]\n",
      "1. satırından sonra işlem yapılamamaktadır\n",
      "1. satırından sonra işlem yapılamamaktadır\n",
      "Doğrusal bağımsız: False\n"
     ]
    }
   ],
   "source": [
    "# Soru 4\n",
    "A=np.array([[2,0],[3,0]])\n",
    "soru_çözer(A)"
   ]
  },
  {
   "cell_type": "code",
   "execution_count": 17,
   "metadata": {
    "ExecuteTime": {
     "end_time": "2020-03-08T12:42:09.545744Z",
     "start_time": "2020-03-08T12:42:09.537763Z"
    }
   },
   "outputs": [
    {
     "name": "stdout",
     "output_type": "stream",
     "text": [
      "9 bilinmeyenli doğrusal denklem sistemi oluşturulmuştur.\n",
      "Çözüm \n",
      " [[1. 2. 3. 4. 5. 6. 7. 8. 9.]]\n",
      "Doğrusal bağımsız: True\n"
     ]
    }
   ],
   "source": [
    "# Soru 5\n",
    "A=np.array([[1,2,3,4,5,6,7,8,9]])\n",
    "soru_çözer(A)"
   ]
  },
  {
   "cell_type": "code",
   "execution_count": 18,
   "metadata": {
    "ExecuteTime": {
     "end_time": "2020-03-08T12:42:49.937162Z",
     "start_time": "2020-03-08T12:42:49.933110Z"
    }
   },
   "outputs": [
    {
     "name": "stdout",
     "output_type": "stream",
     "text": [
      "9 bilinmeyenli doğrusal denklem sistemi oluşturulmuştur.\n",
      "Çözüm \n",
      " [[1. 0. 0. 0. 2. 1. 1. 0. 1.]]\n",
      "Doğrusal bağımsız: True\n"
     ]
    }
   ],
   "source": [
    "# Soru 6\n",
    "A=np.array([[1,0,0,0,2,1,1,0,1]])\n",
    "soru_çözer(A)"
   ]
  },
  {
   "cell_type": "code",
   "execution_count": 63,
   "metadata": {
    "ExecuteTime": {
     "end_time": "2020-03-08T13:03:50.560474Z",
     "start_time": "2020-03-08T13:03:50.552458Z"
    }
   },
   "outputs": [],
   "source": [
    "# Soru 7  ÇÖZÜM DE SORUN VAR!\n",
    "\n",
    "A=np.array([[1,2,3],[0,1,0],[1,1,0]])  \n",
    "b=np.array([[1],[5],[9]])"
   ]
  },
  {
   "cell_type": "code",
   "execution_count": 64,
   "metadata": {
    "ExecuteTime": {
     "end_time": "2020-03-08T13:03:51.838112Z",
     "start_time": "2020-03-08T13:03:51.834087Z"
    }
   },
   "outputs": [
    {
     "name": "stdout",
     "output_type": "stream",
     "text": [
      "3 bilinmeyenli doğrusal denklem sistemi oluşturulmuştur.\n"
     ]
    }
   ],
   "source": [
    "soru7=DoğrusalDenklem(A,b)"
   ]
  },
  {
   "cell_type": "code",
   "execution_count": 65,
   "metadata": {
    "ExecuteTime": {
     "end_time": "2020-03-08T13:03:52.299883Z",
     "start_time": "2020-03-08T13:03:52.291874Z"
    }
   },
   "outputs": [
    {
     "data": {
      "text/plain": [
       "array([[1, 2, 3, 1],\n",
       "       [0, 1, 0, 5],\n",
       "       [1, 1, 0, 9]])"
      ]
     },
     "execution_count": 65,
     "metadata": {},
     "output_type": "execute_result"
    }
   ],
   "source": [
    "soru7.denklem"
   ]
  },
  {
   "cell_type": "code",
   "execution_count": 66,
   "metadata": {
    "ExecuteTime": {
     "end_time": "2020-03-08T13:03:56.121026Z",
     "start_time": "2020-03-08T13:03:56.117018Z"
    }
   },
   "outputs": [
    {
     "data": {
      "text/plain": [
       "array([[ 1,  0,  0,  3],\n",
       "       [ 0,  1,  0,  5],\n",
       "       [ 0,  0,  1, -4]])"
      ]
     },
     "execution_count": 66,
     "metadata": {},
     "output_type": "execute_result"
    }
   ],
   "source": [
    "soru7.GaussJordan()  "
   ]
  },
  {
   "cell_type": "code",
   "execution_count": 59,
   "metadata": {
    "ExecuteTime": {
     "end_time": "2020-03-08T12:53:34.745096Z",
     "start_time": "2020-03-08T12:53:34.741090Z"
    }
   },
   "outputs": [],
   "source": [
    "v0=A[:,0];v1=A[:,1];v2=A[:,2]\n",
    "v0.shape=(3,1)\n",
    "v1.shape=(3,1)\n",
    "v2.shape=(3,1)"
   ]
  },
  {
   "cell_type": "code",
   "execution_count": 70,
   "metadata": {
    "ExecuteTime": {
     "end_time": "2020-03-08T13:04:18.356415Z",
     "start_time": "2020-03-08T13:04:18.352409Z"
    }
   },
   "outputs": [],
   "source": [
    "c0=3;c1=5;c2=-4"
   ]
  },
  {
   "cell_type": "code",
   "execution_count": 71,
   "metadata": {
    "ExecuteTime": {
     "end_time": "2020-03-08T13:04:18.793854Z",
     "start_time": "2020-03-08T13:04:18.785844Z"
    }
   },
   "outputs": [
    {
     "data": {
      "text/plain": [
       "array([[ True],\n",
       "       [ True],\n",
       "       [False]])"
      ]
     },
     "execution_count": 71,
     "metadata": {},
     "output_type": "execute_result"
    }
   ],
   "source": [
    "c0*v0+c1*v1+c2*v2==b # ÇÖZÜM DE SORUN VAR."
   ]
  },
  {
   "cell_type": "code",
   "execution_count": null,
   "metadata": {},
   "outputs": [],
   "source": []
  }
 ],
 "metadata": {
  "jupytext": {
   "encoding": "# -*- coding: utf-8 -*-",
   "formats": "ipynb,py:light"
  },
  "kernelspec": {
   "display_name": "Python 3",
   "language": "python",
   "name": "python3"
  },
  "language_info": {
   "codemirror_mode": {
    "name": "ipython",
    "version": 3
   },
   "file_extension": ".py",
   "mimetype": "text/x-python",
   "name": "python",
   "nbconvert_exporter": "python",
   "pygments_lexer": "ipython3",
   "version": "3.7.6"
  },
  "pycharm": {
   "stem_cell": {
    "cell_type": "raw",
    "metadata": {
     "collapsed": false
    },
    "source": []
   }
  },
  "toc": {
   "base_numbering": 1,
   "nav_menu": {},
   "number_sections": true,
   "sideBar": true,
   "skip_h1_title": false,
   "title_cell": "Table of Contents",
   "title_sidebar": "Contents",
   "toc_cell": false,
   "toc_position": {
    "height": "calc(100% - 180px)",
    "left": "10px",
    "top": "150px",
    "width": "304.475px"
   },
   "toc_section_display": true,
   "toc_window_display": true
  },
  "varInspector": {
   "cols": {
    "lenName": 16,
    "lenType": 16,
    "lenVar": 40
   },
   "kernels_config": {
    "python": {
     "delete_cmd_postfix": "",
     "delete_cmd_prefix": "del ",
     "library": "var_list.py",
     "varRefreshCmd": "print(var_dic_list())"
    },
    "r": {
     "delete_cmd_postfix": ") ",
     "delete_cmd_prefix": "rm(",
     "library": "var_list.r",
     "varRefreshCmd": "cat(var_dic_list()) "
    }
   },
   "types_to_exclude": [
    "module",
    "function",
    "builtin_function_or_method",
    "instance",
    "_Feature"
   ],
   "window_display": false
  }
 },
 "nbformat": 4,
 "nbformat_minor": 2
}
