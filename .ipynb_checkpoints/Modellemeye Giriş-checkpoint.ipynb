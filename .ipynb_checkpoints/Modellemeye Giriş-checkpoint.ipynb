{
 "cells": [
  {
   "cell_type": "markdown",
   "metadata": {},
   "source": [
    "# Modellemeye Giriş"
   ]
  },
  {
   "cell_type": "markdown",
   "metadata": {},
   "source": [
    "Yöneylem araştırması 2. Dünya Savaşında İngilizler tarafından sorunları analiz edip çözmek içim geliştirilmiştir.\n",
    "\n",
    "Descriptive Model =  Açıklayıcı model\n",
    "\n",
    "Matematiksel model öncelikle problemi açıklamaya yardımcı olur.\n",
    "\n",
    "descriptive=istatistik,EDA\n",
    "Predictive= Machine learning, tahmin algoritmaları\n",
    "prescriptive=optimizasyon \n",
    "kullanılır.\n",
    "Hepsi bir bütün olarak kullanılır.  \n",
    "Öngürücü ya da optimize modellerde amaç fonksiyonu karar değişkenleri ve kısıtlar mevcut.\n",
    "Bu kısıtları machine learning kullanarak da bulabiliriz.\n",
    "\n"
   ]
  }
 ],
 "metadata": {
  "kernelspec": {
   "display_name": "Python 3",
   "language": "python",
   "name": "python3"
  },
  "language_info": {
   "codemirror_mode": {
    "name": "ipython",
    "version": 3
   },
   "file_extension": ".py",
   "mimetype": "text/x-python",
   "name": "python",
   "nbconvert_exporter": "python",
   "pygments_lexer": "ipython3",
   "version": "3.7.4"
  },
  "toc": {
   "base_numbering": 1,
   "nav_menu": {},
   "number_sections": true,
   "sideBar": true,
   "skip_h1_title": false,
   "title_cell": "Table of Contents",
   "title_sidebar": "Contents",
   "toc_cell": false,
   "toc_position": {},
   "toc_section_display": true,
   "toc_window_display": false
  },
  "varInspector": {
   "cols": {
    "lenName": 16,
    "lenType": 16,
    "lenVar": 40
   },
   "kernels_config": {
    "python": {
     "delete_cmd_postfix": "",
     "delete_cmd_prefix": "del ",
     "library": "var_list.py",
     "varRefreshCmd": "print(var_dic_list())"
    },
    "r": {
     "delete_cmd_postfix": ") ",
     "delete_cmd_prefix": "rm(",
     "library": "var_list.r",
     "varRefreshCmd": "cat(var_dic_list()) "
    }
   },
   "types_to_exclude": [
    "module",
    "function",
    "builtin_function_or_method",
    "instance",
    "_Feature"
   ],
   "window_display": false
  }
 },
 "nbformat": 4,
 "nbformat_minor": 2
}
